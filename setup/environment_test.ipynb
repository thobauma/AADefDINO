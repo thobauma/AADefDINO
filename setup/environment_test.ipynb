{
 "cells": [
  {
   "cell_type": "code",
   "execution_count": 2,
   "metadata": {},
   "outputs": [
    {
     "name": "stdout",
     "output_type": "stream",
     "text": [
      "Collecting environment information...\n",
      "PyTorch version: 1.7.1+cu110\n",
      "Is debug build: False\n",
      "CUDA used to build PyTorch: 11.0\n",
      "ROCM used to build PyTorch: N/A\n",
      "\n",
      "OS: CentOS Linux release 7.9.2009 (Core) (x86_64)\n",
      "GCC version: (GCC) 6.3.0\n",
      "Clang version: Could not collect\n",
      "CMake version: version 2.8.12.2\n",
      "Libc version: glibc-2.17\n",
      "\n",
      "Python version: 3.8.5 (default, Oct  6 2020, 10:04:29)  [GCC 6.3.0] (64-bit runtime)\n",
      "Python platform: Linux-3.10.0-1160.45.1.el7.x86_64-x86_64-with-glibc2.2.5\n",
      "Is CUDA available: True\n",
      "CUDA runtime version: 11.0.221\n",
      "GPU models and configuration: GPU 0: NVIDIA GeForce RTX 2080 Ti\n",
      "Nvidia driver version: 495.29.05\n",
      "cuDNN version: Could not collect\n",
      "HIP runtime version: N/A\n",
      "MIOpen runtime version: N/A\n",
      "\n",
      "Versions of relevant libraries:\n",
      "[pip3] numpy==1.19.2\n",
      "[pip3] numpy-groupies==0.9.14\n",
      "[pip3] numpydoc==1.1.0\n",
      "[pip3] torch==1.7.1+cu110\n",
      "[pip3] torch-cluster==1.5.8\n",
      "[pip3] torch-geometric==1.6.3\n",
      "[pip3] torch-scatter==2.0.5\n",
      "[pip3] torch-sparse==0.6.8\n",
      "[pip3] torch-spline-conv==1.2.0\n",
      "[pip3] torchattacks==3.2.3\n",
      "[pip3] torchaudio==0.7.2\n",
      "[pip3] torchvision==0.8.2+cu110\n",
      "[conda] Could not collect\n"
     ]
    }
   ],
   "source": [
    "!python collect_env.py"
   ]
  }
 ],
 "metadata": {
  "kernelspec": {
   "display_name": "Python 3",
   "language": "python",
   "name": "python3"
  },
  "language_info": {
   "codemirror_mode": {
    "name": "ipython",
    "version": 3
   },
   "file_extension": ".py",
   "mimetype": "text/x-python",
   "name": "python",
   "nbconvert_exporter": "python",
   "pygments_lexer": "ipython3",
   "version": "3.8.5"
  }
 },
 "nbformat": 4,
 "nbformat_minor": 4
}
