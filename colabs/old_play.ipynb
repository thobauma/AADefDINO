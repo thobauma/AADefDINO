{
 "cells": [
  {
   "cell_type": "markdown",
   "metadata": {},
   "source": [
    "# Install, Paths and Parameters"
   ]
  },
  {
   "cell_type": "code",
   "execution_count": 17,
   "metadata": {},
   "outputs": [],
   "source": [
    "import os\n",
    "from pathlib import Path\n",
    "import getpass\n",
    "import pandas as pd\n",
    "import numpy as np\n",
    "import json\n",
    "import torch\n",
    "from typing import List, Callable\n",
    "import random\n",
    "\n",
    "# seed\n",
    "SEED = 42\n",
    "random.seed(SEED)\n",
    "torch.manual_seed(SEED)\n",
    "np.random.seed(SEED)"
   ]
  },
  {
   "cell_type": "code",
   "execution_count": 19,
   "metadata": {},
   "outputs": [],
   "source": [
    "username = getpass.getuser()\n",
    "DATA_PATH = Path('cluster', 'scratch', username, 'dl_data')\n",
    "ORG_LABEL_PATH = Path(DATA_PATH, 'correct_labels.txt')\n",
    "ORIGINAL_IMAGES_PATH = Path(DATA_PATH,'ori_data','ImageNetClasses')"
   ]
  },
  {
   "cell_type": "code",
   "execution_count": 20,
   "metadata": {},
   "outputs": [],
   "source": [
    "def get_random_classes(number_of_classes: int = 50, min_rand_class: int = 0, max_rand_class: int = 999):\n",
    "  return np.random.randint(low=min_rand_class, high=max_rand_class, size=(number_of_classes,))\n",
    "\n",
    "def get_random_indexes(number_of_images: int = 50000, n_samples=1000):\n",
    "  return np.random.choice(50000, 1000, replace=False)\n",
    "\n",
    "INDEX_SUBSET = get_random_indexes()"
   ]
  },
  {
   "cell_type": "code",
   "execution_count": 9,
   "metadata": {},
   "outputs": [
    {
     "name": "stdout",
     "output_type": "stream",
     "text": [
      "Collecting environment information...\n",
      "PyTorch version: 1.7.1+cu110\n",
      "Is debug build: False\n",
      "CUDA used to build PyTorch: 11.0\n",
      "ROCM used to build PyTorch: N/A\n",
      "\n",
      "OS: CentOS Linux release 7.9.2009 (Core) (x86_64)\n",
      "GCC version: (GCC) 6.3.0\n",
      "Clang version: Could not collect\n",
      "CMake version: version 2.8.12.2\n",
      "Libc version: glibc-2.17\n",
      "\n",
      "Python version: 3.8.5 (default, Oct  6 2020, 10:04:29)  [GCC 6.3.0] (64-bit runtime)\n",
      "Python platform: Linux-3.10.0-1160.36.2.el7.x86_64-x86_64-with-glibc2.2.5\n",
      "Is CUDA available: True\n",
      "CUDA runtime version: 11.0.221\n",
      "GPU models and configuration: \n",
      "GPU 0: GeForce GTX 1080\n",
      "GPU 1: GeForce GTX 1080\n",
      "GPU 2: GeForce GTX 1080\n",
      "GPU 3: GeForce GTX 1080\n",
      "\n",
      "Nvidia driver version: 450.80.02\n",
      "cuDNN version: Could not collect\n",
      "HIP runtime version: N/A\n",
      "MIOpen runtime version: N/A\n",
      "\n",
      "Versions of relevant libraries:\n",
      "[pip3] numpy==1.19.2\n",
      "[pip3] numpy-groupies==0.9.14\n",
      "[pip3] numpydoc==1.1.0\n",
      "[pip3] torch==1.7.1+cu110\n",
      "[pip3] torch-cluster==1.5.8\n",
      "[pip3] torch-geometric==1.6.3\n",
      "[pip3] torch-scatter==2.0.5\n",
      "[pip3] torch-sparse==0.6.8\n",
      "[pip3] torch-spline-conv==1.2.0\n",
      "[pip3] torchaudio==0.7.2\n",
      "[pip3] torchvision==0.8.2+cu110\n",
      "[conda] Could not collect\n"
     ]
    }
   ],
   "source": [
    "!python ../setup/collect_env.py"
   ]
  },
  {
   "cell_type": "markdown",
   "metadata": {},
   "source": [
    "# Import DINO\n",
    "Official repo: https://github.com/facebookresearch/dino"
   ]
  },
  {
   "cell_type": "code",
   "execution_count": 10,
   "metadata": {},
   "outputs": [
    {
     "name": "stderr",
     "output_type": "stream",
     "text": [
      "Downloading: \"https://github.com/facebookresearch/dino/archive/main.zip\" to /cluster/home/thobauma/.cache/torch/hub/main.zip\n",
      "Downloading: \"https://dl.fbaipublicfiles.com/dino/dino_deitsmall8_pretrain/dino_deitsmall8_pretrain.pth\" to /cluster/home/thobauma/.cache/torch/hub/checkpoints/dino_deitsmall8_pretrain.pth\n"
     ]
    },
    {
     "data": {
      "application/vnd.jupyter.widget-view+json": {
       "model_id": "7bdb501848fa444795496b730642e438",
       "version_major": 2,
       "version_minor": 0
      },
      "text/plain": [
       "HBox(children=(HTML(value=''), FloatProgress(value=0.0, max=86728949.0), HTML(value='')))"
      ]
     },
     "metadata": {},
     "output_type": "display_data"
    },
    {
     "name": "stdout",
     "output_type": "stream",
     "text": [
      "\n"
     ]
    }
   ],
   "source": [
    "# Load pretrained weights from PyTorch\n",
    "device = 'cuda'\n",
    "vits16 = torch.hub.load('facebookresearch/dino:main', 'dino_vits8').to(device)"
   ]
  },
  {
   "cell_type": "code",
   "execution_count": 11,
   "metadata": {},
   "outputs": [],
   "source": [
    "# Hyperparameters\n",
    "N_LAST_BLOCKS = 4 # Took from official repo\n",
    "PATCH_SIZE=8"
   ]
  },
  {
   "cell_type": "code",
   "execution_count": 12,
   "metadata": {},
   "outputs": [
    {
     "name": "stderr",
     "output_type": "stream",
     "text": [
      "Downloading: \"https://dl.fbaipublicfiles.com/dino/dino_deitsmall8_pretrain/dino_deitsmall8_linearweights.pth\" to /cluster/home/thobauma/.cache/torch/hub/checkpoints/dino_deitsmall8_linearweights.pth\n"
     ]
    },
    {
     "data": {
      "application/vnd.jupyter.widget-view+json": {
       "model_id": "01895a59585c45be9d2e0d9a04e3320e",
       "version_major": 2,
       "version_minor": 0
      },
      "text/plain": [
       "HBox(children=(HTML(value=''), FloatProgress(value=0.0, max=12298259.0), HTML(value='')))"
      ]
     },
     "metadata": {},
     "output_type": "display_data"
    },
    {
     "name": "stdout",
     "output_type": "stream",
     "text": [
      "\n"
     ]
    },
    {
     "data": {
      "text/plain": [
       "<All keys matched successfully>"
      ]
     },
     "execution_count": 12,
     "metadata": {},
     "output_type": "execute_result"
    }
   ],
   "source": [
    "# Define and load pretrained weights for linear classifier on ImageNet\n",
    "from torch import nn\n",
    "class LinearClassifier(nn.Module):\n",
    "    \"\"\"Linear layer to train on top of frozen features\"\"\"\n",
    "    def __init__(self, dim, num_labels=1000):\n",
    "        super(LinearClassifier, self).__init__()\n",
    "        self.num_labels = num_labels\n",
    "        self.linear = nn.Linear(dim, num_labels) \n",
    "        self.linear.weight.data.normal_(mean=0.0, std=0.01)\n",
    "        self.linear.bias.data.zero_()\n",
    "\n",
    "    def forward(self, x):\n",
    "        # flatten\n",
    "        x = x.view(x.size(0), -1)\n",
    "\n",
    "        # linear layer\n",
    "        return self.linear(x)\n",
    "\n",
    "linear_classifier = LinearClassifier(vits16.embed_dim * N_LAST_BLOCKS, num_labels=1000)\n",
    "linear_classifier = linear_classifier.cuda()\n",
    "\n",
    "linear_state_dict = torch.hub.load_state_dict_from_url(url=\"https://dl.fbaipublicfiles.com/dino/\" + \"dino_deitsmall8_pretrain/dino_deitsmall8_linearweights.pth\")[\"state_dict\"]\n",
    "\n",
    "# Update state dict to avoid crash. Workaround.\n",
    "linear_state_dict['linear.weight'] = linear_state_dict.pop('module.linear.weight')\n",
    "linear_state_dict['linear.bias'] = linear_state_dict.pop('module.linear.bias')\n",
    "\n",
    "# Load pre-trained weights\n",
    "linear_classifier.load_state_dict(linear_state_dict, strict=True)"
   ]
  },
  {
   "cell_type": "markdown",
   "metadata": {},
   "source": [
    "# Load data"
   ]
  },
  {
   "cell_type": "code",
   "execution_count": null,
   "metadata": {},
   "outputs": [],
   "source": [
    "# Custom loader\n",
    "from torch.utils.data import Dataset\n",
    "from torchvision.io import read_image\n",
    "import traceback\n",
    "from PIL import Image\n",
    "\n",
    "class ImageDataset(Dataset):\n",
    "  def __init__(self, img_folder: str, file_name: str, transform: callable, class_subset: List[int] = None, index_subset: List[int] = None):\n",
    "    super().__init__()\n",
    "    self.transform=transform\n",
    "    self.img_folder=img_folder\n",
    "    self.data = self.create_df(file_name)\n",
    "    self.class_subset = class_subset\n",
    "    if self.class_subset is None:\n",
    "      if index_subset is not None:\n",
    "          self.data_subset = self.data.iloc[index_subset]\n",
    "      else:\n",
    "        self.data_subset = self.data\n",
    "    else:\n",
    "      self.data_subset = self.data[self.data['label'].isin(self.class_subset)] \n",
    "  \n",
    "  def create_df(self, file_name: str):\n",
    "    df = pd.read_csv(file_name, sep=\" \", header=None)\n",
    "    df.columns=['file', 'label']\n",
    "    return df\n",
    "    \n",
    "  def __len__(self):\n",
    "    return len(self.data_subset)\n",
    "  \n",
    "  def __getitem__(self, index):\n",
    "    img = Image.open(os.path.join(self.img_folder,self.data_subset['file'].iloc[index]))\n",
    "    img = img.convert('RGB')\n",
    "\n",
    "    img=self.transform(img)\n",
    "    target=self.data_subset['label'].iloc[index]\n",
    "\n",
    "    return img,target,self.data_subset['file'].iloc[index]\n"
   ]
  }
 ],
 "metadata": {
  "kernelspec": {
   "display_name": "Python 3",
   "language": "python",
   "name": "python3"
  },
  "language_info": {
   "codemirror_mode": {
    "name": "ipython",
    "version": 3
   },
   "file_extension": ".py",
   "mimetype": "text/x-python",
   "name": "python",
   "nbconvert_exporter": "python",
   "pygments_lexer": "ipython3",
   "version": "3.8.5"
  },
  "toc-autonumbering": false,
  "toc-showcode": false,
  "toc-showmarkdowntxt": false,
  "toc-showtags": true
 },
 "nbformat": 4,
 "nbformat_minor": 4
}
