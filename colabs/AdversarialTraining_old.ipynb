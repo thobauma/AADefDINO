{
 "cells": [
  {
   "cell_type": "markdown",
   "metadata": {
    "id": "lVYi_Zwu91it"
   },
   "source": [
    "# Install, Paths and Parameters"
   ]
  },
  {
   "cell_type": "code",
   "execution_count": 1,
   "metadata": {
    "colab": {
     "base_uri": "https://localhost:8080/"
    },
    "executionInfo": {
     "elapsed": 203495,
     "status": "ok",
     "timestamp": 1639643166824,
     "user": {
      "displayName": "Javier Rando",
      "photoUrl": "https://lh3.googleusercontent.com/a/default-user=s64",
      "userId": "06593485543899718786"
     },
     "user_tz": -60
    },
    "id": "H3qhJR_04HNn",
    "outputId": "95238118-1553-4ec1-af62-82160088d19d"
   },
   "outputs": [
    {
     "name": "stdout",
     "output_type": "stream",
     "text": [
      "Collecting torch==1.7.1\n",
      "  Downloading torch-1.7.1-cp37-cp37m-manylinux1_x86_64.whl (776.8 MB)\n",
      "\u001b[K     |████████████████████████████████| 776.8 MB 17 kB/s \n",
      "\u001b[?25hRequirement already satisfied: typing-extensions in /usr/local/lib/python3.7/dist-packages (from torch==1.7.1) (3.10.0.2)\n",
      "Requirement already satisfied: numpy in /usr/local/lib/python3.7/dist-packages (from torch==1.7.1) (1.19.5)\n",
      "Installing collected packages: torch\n",
      "  Attempting uninstall: torch\n",
      "    Found existing installation: torch 1.10.0+cu111\n",
      "    Uninstalling torch-1.10.0+cu111:\n",
      "      Successfully uninstalled torch-1.10.0+cu111\n",
      "\u001b[31mERROR: pip's dependency resolver does not currently take into account all the packages that are installed. This behaviour is the source of the following dependency conflicts.\n",
      "torchvision 0.11.1+cu111 requires torch==1.10.0, but you have torch 1.7.1 which is incompatible.\n",
      "torchtext 0.11.0 requires torch==1.10.0, but you have torch 1.7.1 which is incompatible.\n",
      "torchaudio 0.10.0+cu111 requires torch==1.10.0, but you have torch 1.7.1 which is incompatible.\u001b[0m\n",
      "Successfully installed torch-1.7.1\n",
      "Collecting torchvision==0.8.2\n",
      "  Downloading torchvision-0.8.2-cp37-cp37m-manylinux1_x86_64.whl (12.8 MB)\n",
      "\u001b[K     |████████████████████████████████| 12.8 MB 5.8 MB/s \n",
      "\u001b[?25hRequirement already satisfied: torch==1.7.1 in /usr/local/lib/python3.7/dist-packages (from torchvision==0.8.2) (1.7.1)\n",
      "Requirement already satisfied: numpy in /usr/local/lib/python3.7/dist-packages (from torchvision==0.8.2) (1.19.5)\n",
      "Requirement already satisfied: pillow>=4.1.1 in /usr/local/lib/python3.7/dist-packages (from torchvision==0.8.2) (7.1.2)\n",
      "Requirement already satisfied: typing-extensions in /usr/local/lib/python3.7/dist-packages (from torch==1.7.1->torchvision==0.8.2) (3.10.0.2)\n",
      "Installing collected packages: torchvision\n",
      "  Attempting uninstall: torchvision\n",
      "    Found existing installation: torchvision 0.11.1+cu111\n",
      "    Uninstalling torchvision-0.11.1+cu111:\n",
      "      Successfully uninstalled torchvision-0.11.1+cu111\n",
      "Successfully installed torchvision-0.8.2\n",
      "Collecting torchattacks\n",
      "  Downloading torchattacks-3.2.3-py3-none-any.whl (102 kB)\n",
      "\u001b[K     |████████████████████████████████| 102 kB 4.6 MB/s \n",
      "\u001b[?25hInstalling collected packages: torchattacks\n",
      "Successfully installed torchattacks-3.2.3\n"
     ]
    }
   ],
   "source": [
    "# Requirements. Need to restart after installation (it sucks, I am sorry haha)\n",
    "!pip install torch==1.7.1\n",
    "!pip install torchvision==0.8.2\n",
    "!pip install torchattacks"
   ]
  },
  {
   "cell_type": "code",
   "execution_count": 2,
   "metadata": {
    "colab": {
     "base_uri": "https://localhost:8080/"
    },
    "executionInfo": {
     "elapsed": 26886,
     "status": "ok",
     "timestamp": 1639643193692,
     "user": {
      "displayName": "Javier Rando",
      "photoUrl": "https://lh3.googleusercontent.com/a/default-user=s64",
      "userId": "06593485543899718786"
     },
     "user_tz": -60
    },
    "id": "wMiKhBahg23V",
    "outputId": "13f47821-3d85-48a7-b571-2235499d0c54"
   },
   "outputs": [
    {
     "name": "stdout",
     "output_type": "stream",
     "text": [
      "Mounted at /content/drive\n"
     ]
    }
   ],
   "source": [
    "from google.colab import drive\n",
    "drive.mount('/content/drive')"
   ]
  },
  {
   "cell_type": "code",
   "execution_count": 48,
   "metadata": {
    "executionInfo": {
     "elapsed": 287,
     "status": "ok",
     "timestamp": 1639648880619,
     "user": {
      "displayName": "Javier Rando",
      "photoUrl": "https://lh3.googleusercontent.com/a/default-user=s64",
      "userId": "06593485543899718786"
     },
     "user_tz": -60
    },
    "id": "RDBcKRbJYciA"
   },
   "outputs": [],
   "source": [
    "import os\n",
    "import pandas as pd\n",
    "import numpy as np\n",
    "import json\n",
    "import torch\n",
    "from typing import List, Callable\n",
    "import random\n",
    "\n",
    "from sklearn import preprocessing\n",
    "\n",
    "# seed\n",
    "SEED = 42\n",
    "random.seed(SEED)\n",
    "torch.manual_seed(SEED)\n",
    "np.random.seed(SEED)"
   ]
  },
  {
   "cell_type": "code",
   "execution_count": 4,
   "metadata": {
    "executionInfo": {
     "elapsed": 5,
     "status": "ok",
     "timestamp": 1639643195173,
     "user": {
      "displayName": "Javier Rando",
      "photoUrl": "https://lh3.googleusercontent.com/a/default-user=s64",
      "userId": "06593485543899718786"
     },
     "user_tz": -60
    },
    "id": "Jz2fe6PfYh_0"
   },
   "outputs": [],
   "source": [
    "# general path\n",
    "DRIVE_PATH = '/content/drive/MyDrive/'\n",
    "DL_PROJECT_PATH = os.path.join(DRIVE_PATH, 'DeepLearningProject')\n",
    "ADV_PATH = os.path.join(DL_PROJECT_PATH, 'AdversarialAttacks')\n",
    "\n",
    "# filenames and label path\n",
    "ORG_LABEL_PATH = os.path.join(ADV_PATH,'ori_data/correct_labels_cl.txt')\n",
    "\n",
    "# image paths\n",
    "ORIGINAL_IMAGES_PATH = os.path.join(ADV_PATH,'ori_data/ImageNetClasses/')"
   ]
  },
  {
   "cell_type": "code",
   "execution_count": 43,
   "metadata": {
    "executionInfo": {
     "elapsed": 288,
     "status": "ok",
     "timestamp": 1639648598414,
     "user": {
      "displayName": "Javier Rando",
      "photoUrl": "https://lh3.googleusercontent.com/a/default-user=s64",
      "userId": "06593485543899718786"
     },
     "user_tz": -60
    },
    "id": "yP4i522l-m7o"
   },
   "outputs": [],
   "source": [
    "def get_random_classes(number_of_classes: int = 50, min_rand_class: int = 0, max_rand_class: int = 999):\n",
    "  return np.random.randint(low=min_rand_class, high=max_rand_class, size=(number_of_classes,))\n",
    "\n",
    "def get_random_indexes(number_of_images: int = 50000, n_samples=1000):\n",
    "  return np.random.choice(50000, 1000, replace=False)\n",
    "\n",
    "\n",
    "NUM_CLASSES = 20\n",
    "RANDOM_CLASSES = get_random_classes(number_of_classes=NUM_CLASSES)"
   ]
  },
  {
   "cell_type": "markdown",
   "metadata": {
    "id": "Q6wDjrMNFIQO"
   },
   "source": [
    "# Import DINO\n",
    "Official repo: https://github.com/facebookresearch/dino"
   ]
  },
  {
   "cell_type": "code",
   "execution_count": 6,
   "metadata": {
    "colab": {
     "base_uri": "https://localhost:8080/",
     "height": 104,
     "referenced_widgets": [
      "20ad4fad73eb4b19bfea7b2ef37bbb51",
      "f7acd84013c94b7db3dabe8a08064668",
      "0d64dc3eff0d4abaa5f7de0dbf55a960",
      "6c6f15897abb4ac78f3816edf7fd9086",
      "108f4362f4054bc7b55564d7cf25afb0",
      "5a27dd5b65e54a35be692da4ecdb4f5e",
      "47d240059e8242208dc2c9a251905bed",
      "42aad5e2cdc54adc967bea416e980e62",
      "6de84002075640c486386e79281b62e3",
      "36e6d0e5233c40e9a2aabbea50f95b70",
      "3298f5af8c9645f3bac95795b8a1c933"
     ]
    },
    "executionInfo": {
     "elapsed": 8712,
     "status": "ok",
     "timestamp": 1639643346240,
     "user": {
      "displayName": "Javier Rando",
      "photoUrl": "https://lh3.googleusercontent.com/a/default-user=s64",
      "userId": "06593485543899718786"
     },
     "user_tz": -60
    },
    "id": "F14gzRs4vaU9",
    "outputId": "e5629872-bc45-4072-bbf3-b917e4085ea8"
   },
   "outputs": [
    {
     "name": "stderr",
     "output_type": "stream",
     "text": [
      "Downloading: \"https://github.com/facebookresearch/dino/archive/main.zip\" to /root/.cache/torch/hub/main.zip\n",
      "Downloading: \"https://dl.fbaipublicfiles.com/dino/dino_deitsmall8_pretrain/dino_deitsmall8_pretrain.pth\" to /root/.cache/torch/hub/checkpoints/dino_deitsmall8_pretrain.pth\n"
     ]
    },
    {
     "data": {
      "application/vnd.jupyter.widget-view+json": {
       "model_id": "20ad4fad73eb4b19bfea7b2ef37bbb51",
       "version_major": 2,
       "version_minor": 0
      },
      "text/plain": [
       "  0%|          | 0.00/82.7M [00:00<?, ?B/s]"
      ]
     },
     "metadata": {},
     "output_type": "display_data"
    }
   ],
   "source": [
    "# Load pretrained weights from PyTorch\n",
    "device = 'cuda'\n",
    "vits16 = torch.hub.load('facebookresearch/dino:main', 'dino_vits8').to(device)"
   ]
  },
  {
   "cell_type": "code",
   "execution_count": 45,
   "metadata": {
    "executionInfo": {
     "elapsed": 5,
     "status": "ok",
     "timestamp": 1639648829096,
     "user": {
      "displayName": "Javier Rando",
      "photoUrl": "https://lh3.googleusercontent.com/a/default-user=s64",
      "userId": "06593485543899718786"
     },
     "user_tz": -60
    },
    "id": "9TRurWCDFsr3"
   },
   "outputs": [],
   "source": [
    "# Hyperparameters\n",
    "N_LAST_BLOCKS = 4 # Took from official repo\n",
    "PATCH_SIZE=8"
   ]
  },
  {
   "cell_type": "code",
   "execution_count": 46,
   "metadata": {
    "executionInfo": {
     "elapsed": 244,
     "status": "ok",
     "timestamp": 1639648839970,
     "user": {
      "displayName": "Javier Rando",
      "photoUrl": "https://lh3.googleusercontent.com/a/default-user=s64",
      "userId": "06593485543899718786"
     },
     "user_tz": -60
    },
    "id": "7mNTPKGX1AOY"
   },
   "outputs": [],
   "source": [
    "# Define and load pretrained weights for linear classifier on ImageNet\n",
    "from torch import nn\n",
    "class LinearClassifier(nn.Module):\n",
    "    \"\"\"Linear layer to train on top of frozen features\"\"\"\n",
    "    def __init__(self, dim, num_labels=1000):\n",
    "        super(LinearClassifier, self).__init__()\n",
    "        self.num_labels = num_labels\n",
    "        self.linear = nn.Linear(dim, num_labels) \n",
    "        self.linear.weight.data.normal_(mean=0.0, std=0.01)\n",
    "        self.linear.bias.data.zero_()\n",
    "\n",
    "    def forward(self, x):\n",
    "        # flatten\n",
    "        x = x.view(x.size(0), -1)\n",
    "\n",
    "        # linear layer\n",
    "        return self.linear(x)\n",
    "\n",
    "linear_classifier = LinearClassifier(vits16.embed_dim * N_LAST_BLOCKS, num_labels=NUM_CLASSES)\n",
    "linear_classifier = linear_classifier.cuda()"
   ]
  },
  {
   "cell_type": "markdown",
   "metadata": {
    "id": "BoZjtdI3HGQU"
   },
   "source": [
    "# Load data"
   ]
  },
  {
   "cell_type": "code",
   "execution_count": 55,
   "metadata": {
    "executionInfo": {
     "elapsed": 408,
     "status": "ok",
     "timestamp": 1639649051966,
     "user": {
      "displayName": "Javier Rando",
      "photoUrl": "https://lh3.googleusercontent.com/a/default-user=s64",
      "userId": "06593485543899718786"
     },
     "user_tz": -60
    },
    "id": "zuyk3ebWU-Cc"
   },
   "outputs": [],
   "source": [
    "# Custom loader\n",
    "from torch.utils.data import Dataset\n",
    "from torchvision.io import read_image\n",
    "import traceback\n",
    "from PIL import Image\n",
    "\n",
    "# MAP CLASSES TO [0, NUM_CLASSES]\n",
    "le = preprocessing.LabelEncoder()\n",
    "le.fit([i for i in RANDOM_CLASSES])\n",
    "\n",
    "class ImageDataset(Dataset):\n",
    "  def __init__(self, img_folder: str, file_name: str, transform: callable, class_subset: List[int] = None, index_subset: List[int] = None):\n",
    "    super().__init__()\n",
    "    self.transform=transform\n",
    "    self.img_folder=img_folder\n",
    "    self.data = self.create_df(file_name)\n",
    "    self.class_subset = class_subset\n",
    "    if self.class_subset is None:\n",
    "      self.data_subset = self.data\n",
    "    else:\n",
    "      self.data_subset = self.data[self.data['label'].isin(self.class_subset)]\n",
    "\n",
    "    self.data_subset['label'] = le.transform(self.data_subset['label'])\n",
    "  \n",
    "  def create_df(self, file_name: str):\n",
    "    df = pd.read_csv(file_name, sep=\" \", header=None)\n",
    "    df.columns=['file', 'label']\n",
    "    return df\n",
    "    \n",
    "  def __len__(self):\n",
    "    return len(self.data_subset)\n",
    "  \n",
    "  def __getitem__(self, index):\n",
    "    img = Image.open(os.path.join(self.img_folder,self.data_subset['file'].iloc[index]))\n",
    "    img = img.convert('RGB')\n",
    "\n",
    "    img=self.transform(img)\n",
    "    target=self.data_subset['label'].iloc[index]\n",
    "\n",
    "    return img,target,self.data_subset['file'].iloc[index]\n"
   ]
  },
  {
   "cell_type": "code",
   "execution_count": 56,
   "metadata": {
    "colab": {
     "base_uri": "https://localhost:8080/"
    },
    "executionInfo": {
     "elapsed": 5,
     "status": "ok",
     "timestamp": 1639649052943,
     "user": {
      "displayName": "Javier Rando",
      "photoUrl": "https://lh3.googleusercontent.com/a/default-user=s64",
      "userId": "06593485543899718786"
     },
     "user_tz": -60
    },
    "id": "4AqLkfGWj8f1",
    "outputId": "81abe91f-39f9-4383-bd0f-61359e6aa8e9"
   },
   "outputs": [
    {
     "name": "stderr",
     "output_type": "stream",
     "text": [
      "/usr/local/lib/python3.7/dist-packages/ipykernel_launcher.py:23: SettingWithCopyWarning: \n",
      "A value is trying to be set on a copy of a slice from a DataFrame.\n",
      "Try using .loc[row_indexer,col_indexer] = value instead\n",
      "\n",
      "See the caveats in the documentation: https://pandas.pydata.org/pandas-docs/stable/user_guide/indexing.html#returning-a-view-versus-a-copy\n"
     ]
    }
   ],
   "source": [
    "from torchvision import transforms as pth_transforms\n",
    "\n",
    "BATCH_SIZE = 8\n",
    "\n",
    "# Create loader\n",
    "# Taken from official repo: https://github.com/facebookresearch/dino/blob/main/eval_linear.py\n",
    "loader_transform = pth_transforms.Compose([\n",
    "    pth_transforms.Resize(256, interpolation=3),\n",
    "    pth_transforms.CenterCrop(224),\n",
    "    pth_transforms.ToTensor()\n",
    "])\n",
    "\n",
    "dataset = ImageDataset(img_folder = ORIGINAL_IMAGES_PATH,\n",
    "                           file_name = ORG_LABEL_PATH,\n",
    "                           transform=loader_transform,\n",
    "                           class_subset=RANDOM_CLASSES)\n",
    "\n",
    "train_set, val_set = torch.utils.data.random_split(dataset, [800, 200])\n",
    "\n",
    "train_loader = torch.utils.data.DataLoader(\n",
    "    train_set,\n",
    "    batch_size=BATCH_SIZE,\n",
    "    num_workers=1,\n",
    "    pin_memory=True,\n",
    ")\n",
    "\n",
    "test_loader = torch.utils.data.DataLoader(\n",
    "    val_set,\n",
    "    batch_size=BATCH_SIZE,\n",
    "    num_workers=1,\n",
    "    pin_memory=True,\n",
    ")"
   ]
  },
  {
   "cell_type": "code",
   "execution_count": 57,
   "metadata": {
    "colab": {
     "base_uri": "https://localhost:8080/"
    },
    "executionInfo": {
     "elapsed": 479,
     "status": "ok",
     "timestamp": 1639649061150,
     "user": {
      "displayName": "Javier Rando",
      "photoUrl": "https://lh3.googleusercontent.com/a/default-user=s64",
      "userId": "06593485543899718786"
     },
     "user_tz": -60
    },
    "id": "2kETL113vduT",
    "outputId": "bb0c4977-508c-4d3f-c9bd-9bf6c24701d9"
   },
   "outputs": [
    {
     "data": {
      "text/plain": [
       "8"
      ]
     },
     "execution_count": 57,
     "metadata": {},
     "output_type": "execute_result"
    }
   ],
   "source": [
    "BATCH_SIZE"
   ]
  },
  {
   "cell_type": "code",
   "execution_count": 58,
   "metadata": {
    "executionInfo": {
     "elapsed": 2,
     "status": "ok",
     "timestamp": 1639649061650,
     "user": {
      "displayName": "Javier Rando",
      "photoUrl": "https://lh3.googleusercontent.com/a/default-user=s64",
      "userId": "06593485543899718786"
     },
     "user_tz": -60
    },
    "id": "scekPa9ur6bX"
   },
   "outputs": [],
   "source": [
    "class ViTModel(torch.nn.Module):\n",
    "    def __init__(self, vits16, linear_layer):\n",
    "        \"\"\"\n",
    "        In the constructor we instantiate two nn.Linear modules and assign them as\n",
    "        member variables.\n",
    "        \"\"\"\n",
    "        super(ViTModel, self).__init__()\n",
    "        self.vits16=vits16\n",
    "        self.linear_layer=linear_layer\n",
    "        self.transform = transform = pth_transforms.Compose([\n",
    "            pth_transforms.Normalize((0.485, 0.456, 0.406), (0.229, 0.224, 0.225)),\n",
    "        ])\n",
    "        \n",
    "        self.vits16.eval()\n",
    "\n",
    "    def forward(self, x, grad=True):\n",
    "        \"\"\"\n",
    "        In the forward function we accept a Tensor of input data and we must return\n",
    "        a Tensor of output data. We can use Modules defined in the constructor as\n",
    "        well as arbitrary operators on Tensors.\n",
    "        \"\"\"\n",
    "        if grad is False:\n",
    "          with torch.no_grad():\n",
    "            x = self.transform(x)\n",
    "            \n",
    "            # forward\n",
    "            intermediate_output = self.vits16.get_intermediate_layers(x, 4)\n",
    "            output = torch.cat([x[:, 0] for x in intermediate_output], dim=-1)\n",
    "            output = linear_classifier(output)\n",
    "            return output\n",
    "        else:\n",
    "          x = self.transform(x)\n",
    "            \n",
    "          # forward\n",
    "          intermediate_output = self.vits16.get_intermediate_layers(x, 4)\n",
    "          output = torch.cat([x[:, 0] for x in intermediate_output], dim=-1)\n",
    "          output = linear_classifier(output)\n",
    "          return output"
   ]
  },
  {
   "cell_type": "code",
   "execution_count": 59,
   "metadata": {
    "executionInfo": {
     "elapsed": 2,
     "status": "ok",
     "timestamp": 1639649065194,
     "user": {
      "displayName": "Javier Rando",
      "photoUrl": "https://lh3.googleusercontent.com/a/default-user=s64",
      "userId": "06593485543899718786"
     },
     "user_tz": -60
    },
    "id": "EcjYgFPZr8kI"
   },
   "outputs": [],
   "source": [
    "model = ViTModel(vits16, linear_classifier)"
   ]
  },
  {
   "cell_type": "markdown",
   "metadata": {
    "id": "dAFKqXULsBrx"
   },
   "source": [
    "# Adversarial training"
   ]
  },
  {
   "cell_type": "code",
   "execution_count": 60,
   "metadata": {
    "executionInfo": {
     "elapsed": 3,
     "status": "ok",
     "timestamp": 1639649066570,
     "user": {
      "displayName": "Javier Rando",
      "photoUrl": "https://lh3.googleusercontent.com/a/default-user=s64",
      "userId": "06593485543899718786"
     },
     "user_tz": -60
    },
    "id": "6mavCwpgr-tP"
   },
   "outputs": [],
   "source": [
    "# Define attack used for adversarial training\n",
    "import torchattacks\n",
    "from torchattacks import *\n",
    "import torch.optim as optim\n",
    "\n",
    "train_attack = PGD(model, eps=0.3, alpha=0.1, steps=12)"
   ]
  },
  {
   "cell_type": "code",
   "execution_count": 61,
   "metadata": {
    "executionInfo": {
     "elapsed": 253,
     "status": "ok",
     "timestamp": 1639649069503,
     "user": {
      "displayName": "Javier Rando",
      "photoUrl": "https://lh3.googleusercontent.com/a/default-user=s64",
      "userId": "06593485543899718786"
     },
     "user_tz": -60
    },
    "id": "sFkkfmVlhR8y"
   },
   "outputs": [],
   "source": [
    "# Training configuration\n",
    "NUM_EPOCHS = 5\n",
    "model.linear_layer.train()\n",
    "loss = nn.CrossEntropyLoss()\n",
    "optimizer = optim.Adam(model.linear_layer.parameters(), lr=0.001)"
   ]
  },
  {
   "cell_type": "code",
   "execution_count": null,
   "metadata": {
    "colab": {
     "base_uri": "https://localhost:8080/"
    },
    "id": "QS2LALWFgn0c",
    "outputId": "9f346254-ff40-48f9-bdeb-a1cf95221803"
   },
   "outputs": [
    {
     "name": "stdout",
     "output_type": "stream",
     "text": [
      "Epoch [1/5], batch [1/100], Loss: 23.26812171936035\n",
      "Clean accuracy [9/200] = 0.044999998062849045\n",
      "Adversarial accuracy [0/200] = 0.0\n",
      "\n",
      "Epoch [1/5], batch [26/100], Loss: 12.628471374511719\n",
      "Clean accuracy [35/200] = 0.17499999701976776\n",
      "Adversarial accuracy [0/200] = 0.0\n",
      "\n",
      "Epoch [1/5], batch [51/100], Loss: 8.215069770812988\n",
      "Clean accuracy [48/200] = 0.23999999463558197\n",
      "Adversarial accuracy [0/200] = 0.0\n",
      "\n",
      "Epoch [1/5], batch [76/100], Loss: 7.8168745040893555\n",
      "Clean accuracy [37/200] = 0.1850000023841858\n",
      "Adversarial accuracy [0/200] = 0.0\n",
      "\n",
      "Epoch [2/5], batch [1/100], Loss: 8.419961929321289\n",
      "Clean accuracy [36/200] = 0.17999999225139618\n",
      "Adversarial accuracy [0/200] = 0.0\n",
      "\n",
      "Epoch [2/5], batch [26/100], Loss: 8.056096076965332\n"
     ]
    }
   ],
   "source": [
    "import tqdm\n",
    "\n",
    "for epoch in range(NUM_EPOCHS):\n",
    "    \n",
    "    for i, (batch_images, batch_labels, _) in enumerate(train_loader):\n",
    "        \n",
    "        X = train_attack(batch_images, batch_labels).cuda()\n",
    "        Y = batch_labels.cuda()\n",
    "\n",
    "        predictions = model(X)\n",
    "        cost = loss(predictions, Y)\n",
    "\n",
    "        optimizer.zero_grad()\n",
    "        cost.backward()\n",
    "        optimizer.step()\n",
    "\n",
    "        if i%25 == 0:\n",
    "          print(f'Epoch [{epoch+1}/{NUM_EPOCHS}], batch [{i+1}/{len(train_loader)}], Loss: {cost.item()}')\n",
    "\n",
    "          # Test accuracy for clean samples\n",
    "          correct_clean = 0\n",
    "          correct_adv = 0\n",
    "\n",
    "          for j, (imgs, labels, _) in enumerate(test_loader):\n",
    "            imgs = imgs.to(device)\n",
    "            labels = labels.to(device)\n",
    "            predictions = model(imgs, False)\n",
    "            correct_clean += torch.sum(torch.eq(predictions.argmax(1), labels))\n",
    "\n",
    "            adv_samples = train_attack(imgs, labels).cuda()\n",
    "            predictions = model(adv_samples, False)\n",
    "            correct_adv += torch.sum(torch.eq(predictions.argmax(1), labels))\n",
    "\n",
    "          del imgs\n",
    "          del labels\n",
    "          del adv_samples\n",
    "\n",
    "          print(f\"Clean accuracy [{correct_clean}/{len(val_set)}] = {correct_clean/len(val_set)}\")\n",
    "          print(f\"Adversarial accuracy [{correct_adv}/{len(val_set)}] = {correct_adv/len(val_set)}\\n\")"
   ]
  },
  {
   "cell_type": "code",
   "execution_count": null,
   "metadata": {
    "id": "cJiBSwHBYHaT"
   },
   "outputs": [],
   "source": []
  }
 ],
 "metadata": {
  "accelerator": "GPU",
  "colab": {
   "collapsed_sections": [],
   "name": "AdversarialTraining.ipynb",
   "provenance": []
  },
  "kernelspec": {
   "display_name": "Python 3",
   "language": "python",
   "name": "python3"
  },
  "language_info": {
   "codemirror_mode": {
    "name": "ipython",
    "version": 3
   },
   "file_extension": ".py",
   "mimetype": "text/x-python",
   "name": "python",
   "nbconvert_exporter": "python",
   "pygments_lexer": "ipython3",
   "version": "3.8.5"
  },
  "widgets": {
   "application/vnd.jupyter.widget-state+json": {
    "0d64dc3eff0d4abaa5f7de0dbf55a960": {
     "model_module": "@jupyter-widgets/controls",
     "model_module_version": "1.5.0",
     "model_name": "HTMLModel",
     "state": {
      "_dom_classes": [],
      "_model_module": "@jupyter-widgets/controls",
      "_model_module_version": "1.5.0",
      "_model_name": "HTMLModel",
      "_view_count": null,
      "_view_module": "@jupyter-widgets/controls",
      "_view_module_version": "1.5.0",
      "_view_name": "HTMLView",
      "description": "",
      "description_tooltip": null,
      "layout": "IPY_MODEL_47d240059e8242208dc2c9a251905bed",
      "placeholder": "​",
      "style": "IPY_MODEL_5a27dd5b65e54a35be692da4ecdb4f5e",
      "value": "100%"
     }
    },
    "108f4362f4054bc7b55564d7cf25afb0": {
     "model_module": "@jupyter-widgets/controls",
     "model_module_version": "1.5.0",
     "model_name": "HTMLModel",
     "state": {
      "_dom_classes": [],
      "_model_module": "@jupyter-widgets/controls",
      "_model_module_version": "1.5.0",
      "_model_name": "HTMLModel",
      "_view_count": null,
      "_view_module": "@jupyter-widgets/controls",
      "_view_module_version": "1.5.0",
      "_view_name": "HTMLView",
      "description": "",
      "description_tooltip": null,
      "layout": "IPY_MODEL_3298f5af8c9645f3bac95795b8a1c933",
      "placeholder": "​",
      "style": "IPY_MODEL_36e6d0e5233c40e9a2aabbea50f95b70",
      "value": " 82.7M/82.7M [00:02&lt;00:00, 38.3MB/s]"
     }
    },
    "20ad4fad73eb4b19bfea7b2ef37bbb51": {
     "model_module": "@jupyter-widgets/controls",
     "model_module_version": "1.5.0",
     "model_name": "HBoxModel",
     "state": {
      "_dom_classes": [],
      "_model_module": "@jupyter-widgets/controls",
      "_model_module_version": "1.5.0",
      "_model_name": "HBoxModel",
      "_view_count": null,
      "_view_module": "@jupyter-widgets/controls",
      "_view_module_version": "1.5.0",
      "_view_name": "HBoxView",
      "box_style": "",
      "children": [
       "IPY_MODEL_0d64dc3eff0d4abaa5f7de0dbf55a960",
       "IPY_MODEL_6c6f15897abb4ac78f3816edf7fd9086",
       "IPY_MODEL_108f4362f4054bc7b55564d7cf25afb0"
      ],
      "layout": "IPY_MODEL_f7acd84013c94b7db3dabe8a08064668"
     }
    },
    "3298f5af8c9645f3bac95795b8a1c933": {
     "model_module": "@jupyter-widgets/base",
     "model_module_version": "1.2.0",
     "model_name": "LayoutModel",
     "state": {
      "_model_module": "@jupyter-widgets/base",
      "_model_module_version": "1.2.0",
      "_model_name": "LayoutModel",
      "_view_count": null,
      "_view_module": "@jupyter-widgets/base",
      "_view_module_version": "1.2.0",
      "_view_name": "LayoutView",
      "align_content": null,
      "align_items": null,
      "align_self": null,
      "border": null,
      "bottom": null,
      "display": null,
      "flex": null,
      "flex_flow": null,
      "grid_area": null,
      "grid_auto_columns": null,
      "grid_auto_flow": null,
      "grid_auto_rows": null,
      "grid_column": null,
      "grid_gap": null,
      "grid_row": null,
      "grid_template_areas": null,
      "grid_template_columns": null,
      "grid_template_rows": null,
      "height": null,
      "justify_content": null,
      "justify_items": null,
      "left": null,
      "margin": null,
      "max_height": null,
      "max_width": null,
      "min_height": null,
      "min_width": null,
      "object_fit": null,
      "object_position": null,
      "order": null,
      "overflow": null,
      "overflow_x": null,
      "overflow_y": null,
      "padding": null,
      "right": null,
      "top": null,
      "visibility": null,
      "width": null
     }
    },
    "36e6d0e5233c40e9a2aabbea50f95b70": {
     "model_module": "@jupyter-widgets/controls",
     "model_module_version": "1.5.0",
     "model_name": "DescriptionStyleModel",
     "state": {
      "_model_module": "@jupyter-widgets/controls",
      "_model_module_version": "1.5.0",
      "_model_name": "DescriptionStyleModel",
      "_view_count": null,
      "_view_module": "@jupyter-widgets/base",
      "_view_module_version": "1.2.0",
      "_view_name": "StyleView",
      "description_width": ""
     }
    },
    "42aad5e2cdc54adc967bea416e980e62": {
     "model_module": "@jupyter-widgets/controls",
     "model_module_version": "1.5.0",
     "model_name": "ProgressStyleModel",
     "state": {
      "_model_module": "@jupyter-widgets/controls",
      "_model_module_version": "1.5.0",
      "_model_name": "ProgressStyleModel",
      "_view_count": null,
      "_view_module": "@jupyter-widgets/base",
      "_view_module_version": "1.2.0",
      "_view_name": "StyleView",
      "bar_color": null,
      "description_width": ""
     }
    },
    "47d240059e8242208dc2c9a251905bed": {
     "model_module": "@jupyter-widgets/base",
     "model_module_version": "1.2.0",
     "model_name": "LayoutModel",
     "state": {
      "_model_module": "@jupyter-widgets/base",
      "_model_module_version": "1.2.0",
      "_model_name": "LayoutModel",
      "_view_count": null,
      "_view_module": "@jupyter-widgets/base",
      "_view_module_version": "1.2.0",
      "_view_name": "LayoutView",
      "align_content": null,
      "align_items": null,
      "align_self": null,
      "border": null,
      "bottom": null,
      "display": null,
      "flex": null,
      "flex_flow": null,
      "grid_area": null,
      "grid_auto_columns": null,
      "grid_auto_flow": null,
      "grid_auto_rows": null,
      "grid_column": null,
      "grid_gap": null,
      "grid_row": null,
      "grid_template_areas": null,
      "grid_template_columns": null,
      "grid_template_rows": null,
      "height": null,
      "justify_content": null,
      "justify_items": null,
      "left": null,
      "margin": null,
      "max_height": null,
      "max_width": null,
      "min_height": null,
      "min_width": null,
      "object_fit": null,
      "object_position": null,
      "order": null,
      "overflow": null,
      "overflow_x": null,
      "overflow_y": null,
      "padding": null,
      "right": null,
      "top": null,
      "visibility": null,
      "width": null
     }
    },
    "5a27dd5b65e54a35be692da4ecdb4f5e": {
     "model_module": "@jupyter-widgets/controls",
     "model_module_version": "1.5.0",
     "model_name": "DescriptionStyleModel",
     "state": {
      "_model_module": "@jupyter-widgets/controls",
      "_model_module_version": "1.5.0",
      "_model_name": "DescriptionStyleModel",
      "_view_count": null,
      "_view_module": "@jupyter-widgets/base",
      "_view_module_version": "1.2.0",
      "_view_name": "StyleView",
      "description_width": ""
     }
    },
    "6c6f15897abb4ac78f3816edf7fd9086": {
     "model_module": "@jupyter-widgets/controls",
     "model_module_version": "1.5.0",
     "model_name": "FloatProgressModel",
     "state": {
      "_dom_classes": [],
      "_model_module": "@jupyter-widgets/controls",
      "_model_module_version": "1.5.0",
      "_model_name": "FloatProgressModel",
      "_view_count": null,
      "_view_module": "@jupyter-widgets/controls",
      "_view_module_version": "1.5.0",
      "_view_name": "ProgressView",
      "bar_style": "success",
      "description": "",
      "description_tooltip": null,
      "layout": "IPY_MODEL_6de84002075640c486386e79281b62e3",
      "max": 86728949,
      "min": 0,
      "orientation": "horizontal",
      "style": "IPY_MODEL_42aad5e2cdc54adc967bea416e980e62",
      "value": 86728949
     }
    },
    "6de84002075640c486386e79281b62e3": {
     "model_module": "@jupyter-widgets/base",
     "model_module_version": "1.2.0",
     "model_name": "LayoutModel",
     "state": {
      "_model_module": "@jupyter-widgets/base",
      "_model_module_version": "1.2.0",
      "_model_name": "LayoutModel",
      "_view_count": null,
      "_view_module": "@jupyter-widgets/base",
      "_view_module_version": "1.2.0",
      "_view_name": "LayoutView",
      "align_content": null,
      "align_items": null,
      "align_self": null,
      "border": null,
      "bottom": null,
      "display": null,
      "flex": null,
      "flex_flow": null,
      "grid_area": null,
      "grid_auto_columns": null,
      "grid_auto_flow": null,
      "grid_auto_rows": null,
      "grid_column": null,
      "grid_gap": null,
      "grid_row": null,
      "grid_template_areas": null,
      "grid_template_columns": null,
      "grid_template_rows": null,
      "height": null,
      "justify_content": null,
      "justify_items": null,
      "left": null,
      "margin": null,
      "max_height": null,
      "max_width": null,
      "min_height": null,
      "min_width": null,
      "object_fit": null,
      "object_position": null,
      "order": null,
      "overflow": null,
      "overflow_x": null,
      "overflow_y": null,
      "padding": null,
      "right": null,
      "top": null,
      "visibility": null,
      "width": null
     }
    },
    "f7acd84013c94b7db3dabe8a08064668": {
     "model_module": "@jupyter-widgets/base",
     "model_module_version": "1.2.0",
     "model_name": "LayoutModel",
     "state": {
      "_model_module": "@jupyter-widgets/base",
      "_model_module_version": "1.2.0",
      "_model_name": "LayoutModel",
      "_view_count": null,
      "_view_module": "@jupyter-widgets/base",
      "_view_module_version": "1.2.0",
      "_view_name": "LayoutView",
      "align_content": null,
      "align_items": null,
      "align_self": null,
      "border": null,
      "bottom": null,
      "display": null,
      "flex": null,
      "flex_flow": null,
      "grid_area": null,
      "grid_auto_columns": null,
      "grid_auto_flow": null,
      "grid_auto_rows": null,
      "grid_column": null,
      "grid_gap": null,
      "grid_row": null,
      "grid_template_areas": null,
      "grid_template_columns": null,
      "grid_template_rows": null,
      "height": null,
      "justify_content": null,
      "justify_items": null,
      "left": null,
      "margin": null,
      "max_height": null,
      "max_width": null,
      "min_height": null,
      "min_width": null,
      "object_fit": null,
      "object_position": null,
      "order": null,
      "overflow": null,
      "overflow_x": null,
      "overflow_y": null,
      "padding": null,
      "right": null,
      "top": null,
      "visibility": null,
      "width": null
     }
    }
   }
  }
 },
 "nbformat": 4,
 "nbformat_minor": 4
}
