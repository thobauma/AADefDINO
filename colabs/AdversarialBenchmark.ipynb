{
 "cells": [
  {
   "cell_type": "markdown",
   "metadata": {},
   "source": [
    "# Install, Paths and Parameters"
   ]
  },
  {
   "cell_type": "code",
   "execution_count": 1,
   "metadata": {},
   "outputs": [],
   "source": [
    "import os\n",
    "from pathlib import Path\n",
    "import getpass\n",
    "import numpy as np\n",
    "import time\n",
    "import torch\n",
    "import torchattacks\n",
    "from torchattacks import *\n",
    "from tqdm import tqdm\n",
    "import random\n",
    "import sys\n",
    "\n",
    "# allow imports when running script from within project dir\n",
    "[sys.path.append(i) for i in ['.', '..']]\n",
    "\n",
    "# garbage collection from previous runs\n",
    "import gc\n",
    "gc.collect()\n",
    "torch.cuda.empty_cache()\n",
    "\n",
    "# local\n",
    "from src.helpers.helpers import get_random_indexes, get_random_classes\n",
    "from src.model.dino import get_dino\n",
    "from src.model.data import create_loader\n",
    "\n",
    "# seed\n",
    "SEED = 42\n",
    "random.seed(SEED)\n",
    "gc.collect()\n",
    "torch.manual_seed(SEED)\n",
    "np.random.seed(SEED)"
   ]
  },
  {
   "cell_type": "code",
   "execution_count": 7,
   "metadata": {},
   "outputs": [],
   "source": [
    "username = getpass.getuser()\n",
    "DATA_PATH = Path('/','cluster', 'scratch', username, 'dl_data')\n",
    "ORG_LABEL_PATH = Path(DATA_PATH, 'correct_labels.txt')\n",
    "ORIGINAL_IMAGES_PATH = Path(DATA_PATH,'ori_data','ImageNetClasses')\n",
    "\n",
    "INDEX_SUBSET = get_random_indexes()\n",
    "\n",
    "BATCH_SIZE = 1\n",
    "\n",
    "DEVICE = 'cuda'"
   ]
  },
  {
   "cell_type": "code",
   "execution_count": 8,
   "metadata": {},
   "outputs": [],
   "source": [
    "#!python ../setup/collect_env.py"
   ]
  },
  {
   "cell_type": "markdown",
   "metadata": {},
   "source": [
    "# Import DINO\n",
    "Official repo: https://github.com/facebookresearch/dino"
   ]
  },
  {
   "cell_type": "code",
   "execution_count": 9,
   "metadata": {},
   "outputs": [
    {
     "name": "stderr",
     "output_type": "stream",
     "text": [
      "Using cache found in /cluster/home/thobauma/.cache/torch/hub/facebookresearch_dino_main\n"
     ]
    }
   ],
   "source": [
    "model = get_dino(DEVICE)"
   ]
  },
  {
   "cell_type": "markdown",
   "metadata": {},
   "source": [
    "# Load data"
   ]
  },
  {
   "cell_type": "code",
   "execution_count": 10,
   "metadata": {},
   "outputs": [],
   "source": [
    "org_loader = create_loader(ORIGINAL_IMAGES_PATH, ORG_LABEL_PATH, INDEX_SUBSET, BATCH_SIZE)"
   ]
  },
  {
   "cell_type": "markdown",
   "metadata": {},
   "source": [
    "# Attack model"
   ]
  },
  {
   "cell_type": "code",
   "execution_count": 11,
   "metadata": {},
   "outputs": [],
   "source": [
    "attacks = [\n",
    "    FGSM(model, eps=0.062),\n",
    "    CW(model, c=50, lr=0.00155, steps=30)\n",
    "]"
   ]
  },
  {
   "cell_type": "code",
   "execution_count": 12,
   "metadata": {},
   "outputs": [
    {
     "name": "stderr",
     "output_type": "stream",
     "text": [
      "  0%|          | 0/1000 [00:00<?, ?it/s]"
     ]
    },
    {
     "name": "stdout",
     "output_type": "stream",
     "text": [
      "----------------------------------------------------------------------\n",
      "FGSM(model_name=ViTModel, device=cuda:0, eps=0.062, attack_mode=default, return_type=float)\n"
     ]
    },
    {
     "name": "stderr",
     "output_type": "stream",
     "text": [
      "100%|██████████| 1000/1000 [02:18<00:00,  7.21it/s]\n",
      "  0%|          | 0/1000 [00:00<?, ?it/s]"
     ]
    },
    {
     "name": "stdout",
     "output_type": "stream",
     "text": [
      "Total elapsed time (sec): 0.10\n",
      "Accuracy against attack: 1.00 %\n",
      "Clean accuracy: 78.80 %\n",
      "----------------------------------------------------------------------\n",
      "CW(model_name=ViTModel, device=cuda:0, c=50, kappa=0, steps=30, lr=0.00155, attack_mode=default, return_type=float)\n"
     ]
    },
    {
     "name": "stderr",
     "output_type": "stream",
     "text": [
      "100%|██████████| 1000/1000 [08:52<00:00,  1.88it/s]"
     ]
    },
    {
     "name": "stdout",
     "output_type": "stream",
     "text": [
      "Total elapsed time (sec): 0.78\n",
      "Accuracy against attack: 0.00 %\n",
      "Clean accuracy: 78.80 %\n"
     ]
    },
    {
     "name": "stderr",
     "output_type": "stream",
     "text": [
      "\n"
     ]
    }
   ],
   "source": [
    "\n",
    "for atk in attacks:\n",
    "    \n",
    "    print(\"-\"*70)\n",
    "    print(atk)\n",
    "    \n",
    "    correct = 0\n",
    "    clean_correct = 0\n",
    "    total = 0\n",
    "    \n",
    "    for images, labels, _ in tqdm(org_loader):\n",
    "        \n",
    "        start = time.time()\n",
    "\n",
    "        cuda_images = images.to(DEVICE)\n",
    "        clean_outputs = model(cuda_images, False)\n",
    "        del cuda_images\n",
    "\n",
    "        adv_images = atk(images, labels)\n",
    "        labels = labels.to(DEVICE)\n",
    "        outputs = model(adv_images)\n",
    "\n",
    "        _, pre = torch.max(outputs.data, 1)\n",
    "        _, pre_clean = torch.max(clean_outputs.data, 1)\n",
    "\n",
    "        total += len(labels.flatten())\n",
    "        correct += (pre == labels).sum()\n",
    "        clean_correct += (pre_clean == labels).sum()\n",
    "\n",
    "        del images\n",
    "        del labels\n",
    "        torch.cuda.empty_cache()\n",
    "\n",
    "    print('Total elapsed time (sec): %.2f' % (time.time() - start))\n",
    "    print('Accuracy against attack: %.2f %%' % (100 * float(correct) / total))\n",
    "    print('Clean accuracy: %.2f %%' % (100 * float(clean_correct) / total))"
   ]
  },
  {
   "cell_type": "code",
   "execution_count": 6,
   "metadata": {},
   "outputs": [
    {
     "name": "stdout",
     "output_type": "stream",
     "text": [
      "Fri Dec 17 16:59:28 2021       \n",
      "+-----------------------------------------------------------------------------+\n",
      "| NVIDIA-SMI 450.80.02    Driver Version: 450.80.02    CUDA Version: 11.0     |\n",
      "|-------------------------------+----------------------+----------------------+\n",
      "| GPU  Name        Persistence-M| Bus-Id        Disp.A | Volatile Uncorr. ECC |\n",
      "| Fan  Temp  Perf  Pwr:Usage/Cap|         Memory-Usage | GPU-Util  Compute M. |\n",
      "|                               |                      |               MIG M. |\n",
      "|===============================+======================+======================|\n",
      "|   0  GeForce GTX 1080    Off  | 00000000:04:00.0 Off |                  N/A |\n",
      "| 27%   29C    P8     5W / 180W |      2MiB /  8119MiB |      0%   E. Process |\n",
      "|                               |                      |                  N/A |\n",
      "+-------------------------------+----------------------+----------------------+\n",
      "|   1  GeForce GTX 1080    Off  | 00000000:0D:00.0 Off |                  N/A |\n",
      "| 27%   31C    P2    36W / 180W |    791MiB /  8119MiB |      0%   E. Process |\n",
      "|                               |                      |                  N/A |\n",
      "+-------------------------------+----------------------+----------------------+\n",
      "|   2  GeForce GTX 1080    Off  | 00000000:0E:00.0 Off |                  N/A |\n",
      "| 28%   31C    P8     5W / 180W |      2MiB /  8119MiB |      0%   E. Process |\n",
      "|                               |                      |                  N/A |\n",
      "+-------------------------------+----------------------+----------------------+\n",
      "|   3  GeForce GTX 1080    Off  | 00000000:0F:00.0 Off |                  N/A |\n",
      "| 27%   31C    P8     5W / 180W |      2MiB /  8119MiB |      0%   E. Process |\n",
      "|                               |                      |                  N/A |\n",
      "+-------------------------------+----------------------+----------------------+\n",
      "                                                                               \n",
      "+-----------------------------------------------------------------------------+\n",
      "| Processes:                                                                  |\n",
      "|  GPU   GI   CI        PID   Type   Process name                  GPU Memory |\n",
      "|        ID   ID                                                   Usage      |\n",
      "|=============================================================================|\n",
      "|    1   N/A  N/A     37683      C   ....8.5/x86_64/bin/python3.8      789MiB |\n",
      "+-----------------------------------------------------------------------------+\n"
     ]
    }
   ],
   "source": [
    "!nvidia-smi"
   ]
  },
  {
   "cell_type": "code",
   "execution_count": 5,
   "metadata": {},
   "outputs": [
    {
     "name": "stdout",
     "output_type": "stream",
     "text": [
      "|===========================================================================|\n",
      "|                  PyTorch CUDA memory summary, device ID 0                 |\n",
      "|---------------------------------------------------------------------------|\n",
      "|            CUDA OOMs: 0            |        cudaMalloc retries: 0         |\n",
      "|===========================================================================|\n",
      "|        Metric         | Cur Usage  | Peak Usage | Tot Alloc  | Tot Freed  |\n",
      "|---------------------------------------------------------------------------|\n",
      "| Allocated memory      |   90948 KB |  102956 KB |  102956 KB |   12008 KB |\n",
      "|       from large pool |   83504 KB |   95504 KB |   95504 KB |   12000 KB |\n",
      "|       from small pool |    7444 KB |    7452 KB |    7452 KB |       8 KB |\n",
      "|---------------------------------------------------------------------------|\n",
      "| Active memory         |   90948 KB |  102956 KB |  102956 KB |   12008 KB |\n",
      "|       from large pool |   83504 KB |   95504 KB |   95504 KB |   12000 KB |\n",
      "|       from small pool |    7444 KB |    7452 KB |    7452 KB |       8 KB |\n",
      "|---------------------------------------------------------------------------|\n",
      "| GPU reserved memory   |  112640 KB |  112640 KB |  112640 KB |       0 B  |\n",
      "|       from large pool |  102400 KB |  102400 KB |  102400 KB |       0 B  |\n",
      "|       from small pool |   10240 KB |   10240 KB |   10240 KB |       0 B  |\n",
      "|---------------------------------------------------------------------------|\n",
      "| Non-releasable memory |   21692 KB |   25708 KB |  109144 KB |   87452 KB |\n",
      "|       from large pool |   18896 KB |   23168 KB |  101488 KB |   82592 KB |\n",
      "|       from small pool |    2796 KB |    2816 KB |    7656 KB |    4860 KB |\n",
      "|---------------------------------------------------------------------------|\n",
      "| Allocations           |     152    |     156    |     156    |       4    |\n",
      "|       from large pool |      38    |      40    |      40    |       2    |\n",
      "|       from small pool |     114    |     116    |     116    |       2    |\n",
      "|---------------------------------------------------------------------------|\n",
      "| Active allocs         |     152    |     156    |     156    |       4    |\n",
      "|       from large pool |      38    |      40    |      40    |       2    |\n",
      "|       from small pool |     114    |     116    |     116    |       2    |\n",
      "|---------------------------------------------------------------------------|\n",
      "| GPU reserved segments |      10    |      10    |      10    |       0    |\n",
      "|       from large pool |       5    |       5    |       5    |       0    |\n",
      "|       from small pool |       5    |       5    |       5    |       0    |\n",
      "|---------------------------------------------------------------------------|\n",
      "| Non-releasable allocs |       9    |       9    |      10    |       1    |\n",
      "|       from large pool |       4    |       4    |       5    |       1    |\n",
      "|       from small pool |       5    |       5    |       5    |       0    |\n",
      "|===========================================================================|\n",
      "\n"
     ]
    }
   ],
   "source": [
    "print(torch.cuda.memory_summary(device=None, abbreviated=False))"
   ]
  },
  {
   "cell_type": "code",
   "execution_count": null,
   "metadata": {},
   "outputs": [],
   "source": []
  }
 ],
 "metadata": {
  "kernelspec": {
   "display_name": "Python 3",
   "language": "python",
   "name": "python3"
  },
  "language_info": {
   "codemirror_mode": {
    "name": "ipython",
    "version": 3
   },
   "file_extension": ".py",
   "mimetype": "text/x-python",
   "name": "python",
   "nbconvert_exporter": "python",
   "pygments_lexer": "ipython3",
   "version": "3.8.5"
  },
  "toc-autonumbering": false,
  "toc-showcode": false,
  "toc-showmarkdowntxt": false,
  "toc-showtags": true
 },
 "nbformat": 4,
 "nbformat_minor": 4
}
