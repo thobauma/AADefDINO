{
 "cells": [
  {
   "cell_type": "markdown",
   "metadata": {},
   "source": [
    "# Install, Paths and Parameters"
   ]
  },
  {
   "cell_type": "code",
   "execution_count": null,
   "metadata": {},
   "outputs": [],
   "source": [
    "import os\n",
    "from pathlib import Path\n",
    "import getpass\n",
    "import numpy as np\n",
    "import time\n",
    "import torch\n",
    "import torchattacks\n",
    "from torchattacks import *\n",
    "from tqdm import tqdm\n",
    "import random\n",
    "import sys\n",
    "\n",
    "# allow imports when running script from within project dir\n",
    "[sys.path.append(i) for i in ['.', '..']]\n",
    "\n",
    "# garbage collection from previous runs\n",
    "import gc\n",
    "gc.collect()\n",
    "torch.cuda.empty_cache()\n",
    "\n",
    "# local\n",
    "from src.helpers.helpers import get_random_indexes, get_random_classes\n",
    "from src.model.dino import get_dino\n",
    "from src.model.data import create_loader\n",
    "\n",
    "# seed\n",
    "SEED = 42\n",
    "random.seed(SEED)\n",
    "gc.collect()\n",
    "torch.manual_seed(SEED)\n",
    "np.random.seed(SEED)"
   ]
  },
  {
   "cell_type": "code",
   "execution_count": null,
   "metadata": {},
   "outputs": [],
   "source": [
    "username = getpass.getuser()\n",
    "DATA_PATH = Path('/','cluster', 'scratch', username, 'dl_data')\n",
    "ORG_LABEL_PATH = Path(DATA_PATH, 'correct_labels.txt')\n",
    "ORIGINAL_IMAGES_PATH = Path(DATA_PATH,'ori_data','ImageNetClasses')\n",
    "\n",
    "INDEX_SUBSET = get_random_indexes()\n",
    "\n",
    "BATCH_SIZE = 1\n",
    "\n",
    "DEVICE = 'cuda'"
   ]
  },
  {
   "cell_type": "code",
   "execution_count": null,
   "metadata": {},
   "outputs": [],
   "source": [
    "#!python ../setup/collect_env.py"
   ]
  },
  {
   "cell_type": "markdown",
   "metadata": {},
   "source": [
    "# Import DINO\n",
    "Official repo: https://github.com/facebookresearch/dino"
   ]
  },
  {
   "cell_type": "code",
   "execution_count": null,
   "metadata": {},
   "outputs": [],
   "source": [
    "model = get_dino(DEVICE)"
   ]
  },
  {
   "cell_type": "markdown",
   "metadata": {},
   "source": [
    "# Load data"
   ]
  },
  {
   "cell_type": "code",
   "execution_count": null,
   "metadata": {},
   "outputs": [],
   "source": [
    "org_loader = create_loader(ORIGINAL_IMAGES_PATH, ORG_LABEL_PATH, INDEX_SUBSET, BATCH_SIZE)"
   ]
  },
  {
   "cell_type": "markdown",
   "metadata": {},
   "source": [
    "# Adversarial training"
   ]
  },
  {
   "cell_type": "code",
   "execution_count": null,
   "metadata": {},
   "outputs": [],
   "source": [
    "import torch.optim as optim\n",
    "\n",
    "train_attack = PGD(model, eps=0.3, alpha=0.1, steps=12)"
   ]
  },
  {
   "cell_type": "code",
   "execution_count": null,
   "metadata": {},
   "outputs": [],
   "source": [
    "# Training configuration\n",
    "NUM_EPOCHS = 5\n",
    "model.linear_layer.train()\n",
    "loss = nn.CrossEntropyLoss()\n",
    "optimizer = optim.Adam(model.linear_layer.parameters(), lr=0.001)"
   ]
  },
  {
   "cell_type": "code",
   "execution_count": null,
   "metadata": {},
   "outputs": [],
   "source": [
    "for epoch in range(NUM_EPOCHS):\n",
    "    \n",
    "    for i, (batch_images, batch_labels, _) in enumerate(train_loader):\n",
    "        \n",
    "        X = train_attack(batch_images, batch_labels).cuda()\n",
    "        Y = batch_labels.cuda()\n",
    "\n",
    "        predictions = model(X)\n",
    "        cost = loss(predictions, Y)\n",
    "\n",
    "        optimizer.zero_grad()\n",
    "        cost.backward()\n",
    "        optimizer.step()\n",
    "\n",
    "        if i%25 == 0:\n",
    "          print(f'Epoch [{epoch+1}/{NUM_EPOCHS}], batch [{i+1}/{len(train_loader)}], Loss: {cost.item()}')\n",
    "\n",
    "          # Test accuracy for clean samples\n",
    "          correct_clean = 0\n",
    "          correct_adv = 0\n",
    "\n",
    "          for j, (imgs, labels, _) in enumerate(test_loader):\n",
    "            imgs = imgs.to(device)\n",
    "            labels = labels.to(device)\n",
    "            predictions = model(imgs, False)\n",
    "            correct_clean += torch.sum(torch.eq(predictions.argmax(1), labels))\n",
    "\n",
    "            adv_samples = train_attack(imgs, labels).cuda()\n",
    "            predictions = model(adv_samples, False)\n",
    "            correct_adv += torch.sum(torch.eq(predictions.argmax(1), labels))\n",
    "\n",
    "          del imgs\n",
    "          del labels\n",
    "          del adv_samples\n",
    "\n",
    "          print(f\"Clean accuracy [{correct_clean}/{len(val_set)}] = {correct_clean/len(val_set)}\")\n",
    "          print(f\"Adversarial accuracy [{correct_adv}/{len(val_set)}] = {correct_adv/len(val_set)}\\n\")"
   ]
  }
 ],
 "metadata": {
  "kernelspec": {
   "display_name": "Python 3",
   "language": "python",
   "name": "python3"
  },
  "language_info": {
   "codemirror_mode": {
    "name": "ipython",
    "version": 3
   },
   "file_extension": ".py",
   "mimetype": "text/x-python",
   "name": "python",
   "nbconvert_exporter": "python",
   "pygments_lexer": "ipython3",
   "version": "3.8.5"
  },
  "toc-autonumbering": false,
  "toc-showcode": false,
  "toc-showmarkdowntxt": false,
  "toc-showtags": true
 },
 "nbformat": 4,
 "nbformat_minor": 4
}
