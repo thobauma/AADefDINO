{
 "cells": [
  {
   "cell_type": "markdown",
   "metadata": {},
   "source": [
    "# Visualize adversarial training metrics"
   ]
  },
  {
   "cell_type": "markdown",
   "metadata": {},
   "source": [
    "### Read and parse logs"
   ]
  },
  {
   "cell_type": "code",
   "execution_count": 1,
   "metadata": {},
   "outputs": [],
   "source": [
    "from pathlib import Path\n",
    "import os\n",
    "import json\n",
    "import pandas as pd\n",
    "\n",
    "DATA_PATH = Path('..', 'data_dir')\n",
    "MAX_PATH = DATA_PATH\n",
    "LOGS_PATH = Path(MAX_PATH, 'logs', 'report')"
   ]
  },
  {
   "cell_type": "code",
   "execution_count": 2,
   "metadata": {},
   "outputs": [
    {
     "data": {
      "text/plain": [
       "PosixPath('/cluster/scratch/mmathys/dl_data/logs/report')"
      ]
     },
     "execution_count": 2,
     "metadata": {},
     "output_type": "execute_result"
    }
   ],
   "source": [
    "LOGS_PATH"
   ]
  },
  {
   "cell_type": "code",
   "execution_count": 3,
   "metadata": {},
   "outputs": [],
   "source": [
    "def read_log_file(path):\n",
    "    # reading the data from the file\n",
    "    with open(path) as f:\n",
    "        data = f.read()\n",
    "        \n",
    "    content = []\n",
    "    \n",
    "    for line in data.split('\\n'):\n",
    "        if len(line):\n",
    "            content.append(json.loads(line))\n",
    "    \n",
    "    return content"
   ]
  },
  {
   "cell_type": "code",
   "execution_count": 4,
   "metadata": {},
   "outputs": [],
   "source": [
    "logs = {}"
   ]
  },
  {
   "cell_type": "code",
   "execution_count": 5,
   "metadata": {},
   "outputs": [],
   "source": [
    "for p in os.listdir(LOGS_PATH):\n",
    "    \n",
    "    if os.path.isdir(Path(LOGS_PATH, p)):\n",
    "        logs[p] = read_log_file(Path(LOGS_PATH, p, 'log.txt'))\n",
    "        "
   ]
  },
  {
   "cell_type": "code",
   "execution_count": 6,
   "metadata": {},
   "outputs": [
    {
     "data": {
      "text/plain": [
       "dict_keys(['007', '1', '01', '03', '001', '3', '003'])"
      ]
     },
     "execution_count": 6,
     "metadata": {},
     "output_type": "execute_result"
    }
   ],
   "source": [
    "logs.keys()"
   ]
  },
  {
   "cell_type": "code",
   "execution_count": 14,
   "metadata": {},
   "outputs": [],
   "source": [
    "# Prepare data\n",
    "x_values = []\n",
    "clean_acc1_values = []\n",
    "adv_acc1_values = []\n",
    "test_adv_loss_values = []\n",
    "test_clean_loss_values = []\n",
    "\n",
    "for l in logs:\n",
    "    x_values.append(float('0.'+l))\n",
    "\n",
    "    clean_acc1_values.append(logs[l][2]['test_acc1'])\n",
    "    adv_acc1_values.append(logs[l][2]['test_adv_acc1'])\n",
    "    \n",
    "    test_adv_loss_values.append(logs[l][2]['test_adv_loss'])\n",
    "    test_clean_loss_values.append(logs[l][2]['test_loss'])"
   ]
  },
  {
   "cell_type": "code",
   "execution_count": 15,
   "metadata": {},
   "outputs": [],
   "source": [
    "df = pd.DataFrame({'x': x_values, \n",
    "                   'clean_acc1_values': clean_acc1_values, \n",
    "                   'adv_acc1_values': adv_acc1_values,\n",
    "                   'test_clean_loss_values': test_clean_loss_values, \n",
    "                   'test_adv_loss_values': test_adv_loss_values})"
   ]
  },
  {
   "cell_type": "code",
   "execution_count": 16,
   "metadata": {},
   "outputs": [
    {
     "data": {
      "text/html": [
       "<div>\n",
       "<style scoped>\n",
       "    .dataframe tbody tr th:only-of-type {\n",
       "        vertical-align: middle;\n",
       "    }\n",
       "\n",
       "    .dataframe tbody tr th {\n",
       "        vertical-align: top;\n",
       "    }\n",
       "\n",
       "    .dataframe thead th {\n",
       "        text-align: right;\n",
       "    }\n",
       "</style>\n",
       "<table border=\"1\" class=\"dataframe\">\n",
       "  <thead>\n",
       "    <tr style=\"text-align: right;\">\n",
       "      <th></th>\n",
       "      <th>x</th>\n",
       "      <th>clean_acc1_values</th>\n",
       "      <th>adv_acc1_values</th>\n",
       "      <th>test_clean_loss_values</th>\n",
       "      <th>test_adv_loss_values</th>\n",
       "    </tr>\n",
       "  </thead>\n",
       "  <tbody>\n",
       "    <tr>\n",
       "      <th>0</th>\n",
       "      <td>0.007</td>\n",
       "      <td>94.8</td>\n",
       "      <td>46.8</td>\n",
       "      <td>0.792750</td>\n",
       "      <td>1.655914</td>\n",
       "    </tr>\n",
       "    <tr>\n",
       "      <th>1</th>\n",
       "      <td>0.100</td>\n",
       "      <td>32.6</td>\n",
       "      <td>0.0</td>\n",
       "      <td>2.281929</td>\n",
       "      <td>2.382762</td>\n",
       "    </tr>\n",
       "    <tr>\n",
       "      <th>2</th>\n",
       "      <td>0.010</td>\n",
       "      <td>95.8</td>\n",
       "      <td>50.8</td>\n",
       "      <td>0.619019</td>\n",
       "      <td>1.520914</td>\n",
       "    </tr>\n",
       "    <tr>\n",
       "      <th>3</th>\n",
       "      <td>0.030</td>\n",
       "      <td>83.0</td>\n",
       "      <td>3.0</td>\n",
       "      <td>2.147088</td>\n",
       "      <td>2.381864</td>\n",
       "    </tr>\n",
       "    <tr>\n",
       "      <th>4</th>\n",
       "      <td>0.001</td>\n",
       "      <td>98.8</td>\n",
       "      <td>95.0</td>\n",
       "      <td>0.079399</td>\n",
       "      <td>0.171170</td>\n",
       "    </tr>\n",
       "    <tr>\n",
       "      <th>5</th>\n",
       "      <td>0.300</td>\n",
       "      <td>22.8</td>\n",
       "      <td>0.0</td>\n",
       "      <td>2.290954</td>\n",
       "      <td>2.371296</td>\n",
       "    </tr>\n",
       "    <tr>\n",
       "      <th>6</th>\n",
       "      <td>0.003</td>\n",
       "      <td>98.0</td>\n",
       "      <td>87.4</td>\n",
       "      <td>0.119738</td>\n",
       "      <td>0.419471</td>\n",
       "    </tr>\n",
       "  </tbody>\n",
       "</table>\n",
       "</div>"
      ],
      "text/plain": [
       "       x  clean_acc1_values  adv_acc1_values  test_clean_loss_values  \\\n",
       "0  0.007               94.8             46.8                0.792750   \n",
       "1  0.100               32.6              0.0                2.281929   \n",
       "2  0.010               95.8             50.8                0.619019   \n",
       "3  0.030               83.0              3.0                2.147088   \n",
       "4  0.001               98.8             95.0                0.079399   \n",
       "5  0.300               22.8              0.0                2.290954   \n",
       "6  0.003               98.0             87.4                0.119738   \n",
       "\n",
       "   test_adv_loss_values  \n",
       "0              1.655914  \n",
       "1              2.382762  \n",
       "2              1.520914  \n",
       "3              2.381864  \n",
       "4              0.171170  \n",
       "5              2.371296  \n",
       "6              0.419471  "
      ]
     },
     "execution_count": 16,
     "metadata": {},
     "output_type": "execute_result"
    }
   ],
   "source": [
    "df"
   ]
  },
  {
   "cell_type": "code",
   "execution_count": 17,
   "metadata": {},
   "outputs": [
    {
     "data": {
      "text/html": [
       "<div>\n",
       "<style scoped>\n",
       "    .dataframe tbody tr th:only-of-type {\n",
       "        vertical-align: middle;\n",
       "    }\n",
       "\n",
       "    .dataframe tbody tr th {\n",
       "        vertical-align: top;\n",
       "    }\n",
       "\n",
       "    .dataframe thead th {\n",
       "        text-align: right;\n",
       "    }\n",
       "</style>\n",
       "<table border=\"1\" class=\"dataframe\">\n",
       "  <thead>\n",
       "    <tr style=\"text-align: right;\">\n",
       "      <th></th>\n",
       "      <th>x</th>\n",
       "      <th>clean_acc1_values</th>\n",
       "      <th>adv_acc1_values</th>\n",
       "      <th>test_clean_loss_values</th>\n",
       "      <th>test_adv_loss_values</th>\n",
       "    </tr>\n",
       "  </thead>\n",
       "  <tbody>\n",
       "    <tr>\n",
       "      <th>4</th>\n",
       "      <td>0.001</td>\n",
       "      <td>98.8</td>\n",
       "      <td>95.0</td>\n",
       "      <td>0.079399</td>\n",
       "      <td>0.171170</td>\n",
       "    </tr>\n",
       "    <tr>\n",
       "      <th>6</th>\n",
       "      <td>0.003</td>\n",
       "      <td>98.0</td>\n",
       "      <td>87.4</td>\n",
       "      <td>0.119738</td>\n",
       "      <td>0.419471</td>\n",
       "    </tr>\n",
       "    <tr>\n",
       "      <th>0</th>\n",
       "      <td>0.007</td>\n",
       "      <td>94.8</td>\n",
       "      <td>46.8</td>\n",
       "      <td>0.792750</td>\n",
       "      <td>1.655914</td>\n",
       "    </tr>\n",
       "    <tr>\n",
       "      <th>2</th>\n",
       "      <td>0.010</td>\n",
       "      <td>95.8</td>\n",
       "      <td>50.8</td>\n",
       "      <td>0.619019</td>\n",
       "      <td>1.520914</td>\n",
       "    </tr>\n",
       "    <tr>\n",
       "      <th>3</th>\n",
       "      <td>0.030</td>\n",
       "      <td>83.0</td>\n",
       "      <td>3.0</td>\n",
       "      <td>2.147088</td>\n",
       "      <td>2.381864</td>\n",
       "    </tr>\n",
       "    <tr>\n",
       "      <th>1</th>\n",
       "      <td>0.100</td>\n",
       "      <td>32.6</td>\n",
       "      <td>0.0</td>\n",
       "      <td>2.281929</td>\n",
       "      <td>2.382762</td>\n",
       "    </tr>\n",
       "    <tr>\n",
       "      <th>5</th>\n",
       "      <td>0.300</td>\n",
       "      <td>22.8</td>\n",
       "      <td>0.0</td>\n",
       "      <td>2.290954</td>\n",
       "      <td>2.371296</td>\n",
       "    </tr>\n",
       "  </tbody>\n",
       "</table>\n",
       "</div>"
      ],
      "text/plain": [
       "       x  clean_acc1_values  adv_acc1_values  test_clean_loss_values  \\\n",
       "4  0.001               98.8             95.0                0.079399   \n",
       "6  0.003               98.0             87.4                0.119738   \n",
       "0  0.007               94.8             46.8                0.792750   \n",
       "2  0.010               95.8             50.8                0.619019   \n",
       "3  0.030               83.0              3.0                2.147088   \n",
       "1  0.100               32.6              0.0                2.281929   \n",
       "5  0.300               22.8              0.0                2.290954   \n",
       "\n",
       "   test_adv_loss_values  \n",
       "4              0.171170  \n",
       "6              0.419471  \n",
       "0              1.655914  \n",
       "2              1.520914  \n",
       "3              2.381864  \n",
       "1              2.382762  \n",
       "5              2.371296  "
      ]
     },
     "execution_count": 17,
     "metadata": {},
     "output_type": "execute_result"
    }
   ],
   "source": [
    "df = df.sort_values(by=['x'])\n",
    "df"
   ]
  },
  {
   "cell_type": "markdown",
   "metadata": {},
   "source": [
    "### Plotting"
   ]
  },
  {
   "cell_type": "code",
   "execution_count": 37,
   "metadata": {},
   "outputs": [
    {
     "data": {
      "text/html": [
       "\n",
       "    <div class=\"bk-root\">\n",
       "        <a href=\"https://bokeh.org\" target=\"_blank\" class=\"bk-logo bk-logo-small bk-logo-notebook\"></a>\n",
       "        <span id=\"4248\">Loading BokehJS ...</span>\n",
       "    </div>"
      ]
     },
     "metadata": {},
     "output_type": "display_data"
    },
    {
     "data": {
      "application/javascript": "\n(function(root) {\n  function now() {\n    return new Date();\n  }\n\n  var force = true;\n\n  if (typeof root._bokeh_onload_callbacks === \"undefined\" || force === true) {\n    root._bokeh_onload_callbacks = [];\n    root._bokeh_is_loading = undefined;\n  }\n\n  var JS_MIME_TYPE = 'application/javascript';\n  var HTML_MIME_TYPE = 'text/html';\n  var EXEC_MIME_TYPE = 'application/vnd.bokehjs_exec.v0+json';\n  var CLASS_NAME = 'output_bokeh rendered_html';\n\n  /**\n   * Render data to the DOM node\n   */\n  function render(props, node) {\n    var script = document.createElement(\"script\");\n    node.appendChild(script);\n  }\n\n  /**\n   * Handle when an output is cleared or removed\n   */\n  function handleClearOutput(event, handle) {\n    var cell = handle.cell;\n\n    var id = cell.output_area._bokeh_element_id;\n    var server_id = cell.output_area._bokeh_server_id;\n    // Clean up Bokeh references\n    if (id != null && id in Bokeh.index) {\n      Bokeh.index[id].model.document.clear();\n      delete Bokeh.index[id];\n    }\n\n    if (server_id !== undefined) {\n      // Clean up Bokeh references\n      var cmd = \"from bokeh.io.state import curstate; print(curstate().uuid_to_server['\" + server_id + \"'].get_sessions()[0].document.roots[0]._id)\";\n      cell.notebook.kernel.execute(cmd, {\n        iopub: {\n          output: function(msg) {\n            var id = msg.content.text.trim();\n            if (id in Bokeh.index) {\n              Bokeh.index[id].model.document.clear();\n              delete Bokeh.index[id];\n            }\n          }\n        }\n      });\n      // Destroy server and session\n      var cmd = \"import bokeh.io.notebook as ion; ion.destroy_server('\" + server_id + \"')\";\n      cell.notebook.kernel.execute(cmd);\n    }\n  }\n\n  /**\n   * Handle when a new output is added\n   */\n  function handleAddOutput(event, handle) {\n    var output_area = handle.output_area;\n    var output = handle.output;\n\n    // limit handleAddOutput to display_data with EXEC_MIME_TYPE content only\n    if ((output.output_type != \"display_data\") || (!output.data.hasOwnProperty(EXEC_MIME_TYPE))) {\n      return\n    }\n\n    var toinsert = output_area.element.find(\".\" + CLASS_NAME.split(' ')[0]);\n\n    if (output.metadata[EXEC_MIME_TYPE][\"id\"] !== undefined) {\n      toinsert[toinsert.length - 1].firstChild.textContent = output.data[JS_MIME_TYPE];\n      // store reference to embed id on output_area\n      output_area._bokeh_element_id = output.metadata[EXEC_MIME_TYPE][\"id\"];\n    }\n    if (output.metadata[EXEC_MIME_TYPE][\"server_id\"] !== undefined) {\n      var bk_div = document.createElement(\"div\");\n      bk_div.innerHTML = output.data[HTML_MIME_TYPE];\n      var script_attrs = bk_div.children[0].attributes;\n      for (var i = 0; i < script_attrs.length; i++) {\n        toinsert[toinsert.length - 1].firstChild.setAttribute(script_attrs[i].name, script_attrs[i].value);\n        toinsert[toinsert.length - 1].firstChild.textContent = bk_div.children[0].textContent\n      }\n      // store reference to server id on output_area\n      output_area._bokeh_server_id = output.metadata[EXEC_MIME_TYPE][\"server_id\"];\n    }\n  }\n\n  function register_renderer(events, OutputArea) {\n\n    function append_mime(data, metadata, element) {\n      // create a DOM node to render to\n      var toinsert = this.create_output_subarea(\n        metadata,\n        CLASS_NAME,\n        EXEC_MIME_TYPE\n      );\n      this.keyboard_manager.register_events(toinsert);\n      // Render to node\n      var props = {data: data, metadata: metadata[EXEC_MIME_TYPE]};\n      render(props, toinsert[toinsert.length - 1]);\n      element.append(toinsert);\n      return toinsert\n    }\n\n    /* Handle when an output is cleared or removed */\n    events.on('clear_output.CodeCell', handleClearOutput);\n    events.on('delete.Cell', handleClearOutput);\n\n    /* Handle when a new output is added */\n    events.on('output_added.OutputArea', handleAddOutput);\n\n    /**\n     * Register the mime type and append_mime function with output_area\n     */\n    OutputArea.prototype.register_mime_type(EXEC_MIME_TYPE, append_mime, {\n      /* Is output safe? */\n      safe: true,\n      /* Index of renderer in `output_area.display_order` */\n      index: 0\n    });\n  }\n\n  // register the mime type if in Jupyter Notebook environment and previously unregistered\n  if (root.Jupyter !== undefined) {\n    var events = require('base/js/events');\n    var OutputArea = require('notebook/js/outputarea').OutputArea;\n\n    if (OutputArea.prototype.mime_types().indexOf(EXEC_MIME_TYPE) == -1) {\n      register_renderer(events, OutputArea);\n    }\n  }\n\n  \n  if (typeof (root._bokeh_timeout) === \"undefined\" || force === true) {\n    root._bokeh_timeout = Date.now() + 5000;\n    root._bokeh_failed_load = false;\n  }\n\n  var NB_LOAD_WARNING = {'data': {'text/html':\n     \"<div style='background-color: #fdd'>\\n\"+\n     \"<p>\\n\"+\n     \"BokehJS does not appear to have successfully loaded. If loading BokehJS from CDN, this \\n\"+\n     \"may be due to a slow or bad network connection. Possible fixes:\\n\"+\n     \"</p>\\n\"+\n     \"<ul>\\n\"+\n     \"<li>re-rerun `output_notebook()` to attempt to load from CDN again, or</li>\\n\"+\n     \"<li>use INLINE resources instead, as so:</li>\\n\"+\n     \"</ul>\\n\"+\n     \"<code>\\n\"+\n     \"from bokeh.resources import INLINE\\n\"+\n     \"output_notebook(resources=INLINE)\\n\"+\n     \"</code>\\n\"+\n     \"</div>\"}};\n\n  function display_loaded() {\n    var el = document.getElementById(\"4248\");\n    if (el != null) {\n      el.textContent = \"BokehJS is loading...\";\n    }\n    if (root.Bokeh !== undefined) {\n      if (el != null) {\n        el.textContent = \"BokehJS \" + root.Bokeh.version + \" successfully loaded.\";\n      }\n    } else if (Date.now() < root._bokeh_timeout) {\n      setTimeout(display_loaded, 100)\n    }\n  }\n\n\n  function run_callbacks() {\n    try {\n      root._bokeh_onload_callbacks.forEach(function(callback) {\n        if (callback != null)\n          callback();\n      });\n    } finally {\n      delete root._bokeh_onload_callbacks\n    }\n    console.debug(\"Bokeh: all callbacks have finished\");\n  }\n\n  function load_libs(css_urls, js_urls, callback) {\n    if (css_urls == null) css_urls = [];\n    if (js_urls == null) js_urls = [];\n\n    root._bokeh_onload_callbacks.push(callback);\n    if (root._bokeh_is_loading > 0) {\n      console.debug(\"Bokeh: BokehJS is being loaded, scheduling callback at\", now());\n      return null;\n    }\n    if (js_urls == null || js_urls.length === 0) {\n      run_callbacks();\n      return null;\n    }\n    console.debug(\"Bokeh: BokehJS not loaded, scheduling load and callback at\", now());\n    root._bokeh_is_loading = css_urls.length + js_urls.length;\n\n    function on_load() {\n      root._bokeh_is_loading--;\n      if (root._bokeh_is_loading === 0) {\n        console.debug(\"Bokeh: all BokehJS libraries/stylesheets loaded\");\n        run_callbacks()\n      }\n    }\n\n    function on_error() {\n      console.error(\"failed to load \" + url);\n    }\n\n    for (var i = 0; i < css_urls.length; i++) {\n      var url = css_urls[i];\n      const element = document.createElement(\"link\");\n      element.onload = on_load;\n      element.onerror = on_error;\n      element.rel = \"stylesheet\";\n      element.type = \"text/css\";\n      element.href = url;\n      console.debug(\"Bokeh: injecting link tag for BokehJS stylesheet: \", url);\n      document.body.appendChild(element);\n    }\n\n    const hashes = {\"https://cdn.bokeh.org/bokeh/release/bokeh-2.2.1.min.js\": \"qkRvDQVAIfzsJo40iRBbxt6sttt0hv4lh74DG7OK4MCHv4C5oohXYoHUM5W11uqS\", \"https://cdn.bokeh.org/bokeh/release/bokeh-widgets-2.2.1.min.js\": \"Sb7Mr06a9TNlet/GEBeKaf5xH3eb6AlCzwjtU82wNPyDrnfoiVl26qnvlKjmcAd+\", \"https://cdn.bokeh.org/bokeh/release/bokeh-tables-2.2.1.min.js\": \"HaJ15vgfmcfRtB4c4YBOI4f1MUujukqInOWVqZJZZGK7Q+ivud0OKGSTn/Vm2iso\"};\n\n    for (var i = 0; i < js_urls.length; i++) {\n      var url = js_urls[i];\n      var element = document.createElement('script');\n      element.onload = on_load;\n      element.onerror = on_error;\n      element.async = false;\n      element.src = url;\n      if (url in hashes) {\n        element.crossOrigin = \"anonymous\";\n        element.integrity = \"sha384-\" + hashes[url];\n      }\n      console.debug(\"Bokeh: injecting script tag for BokehJS library: \", url);\n      document.head.appendChild(element);\n    }\n  };\n\n  function inject_raw_css(css) {\n    const element = document.createElement(\"style\");\n    element.appendChild(document.createTextNode(css));\n    document.body.appendChild(element);\n  }\n\n  \n  var js_urls = [\"https://cdn.bokeh.org/bokeh/release/bokeh-2.2.1.min.js\", \"https://cdn.bokeh.org/bokeh/release/bokeh-widgets-2.2.1.min.js\", \"https://cdn.bokeh.org/bokeh/release/bokeh-tables-2.2.1.min.js\"];\n  var css_urls = [];\n  \n\n  var inline_js = [\n    function(Bokeh) {\n      Bokeh.set_log_level(\"info\");\n    },\n    function(Bokeh) {\n    \n    \n    }\n  ];\n\n  function run_inline_js() {\n    \n    if (root.Bokeh !== undefined || force === true) {\n      \n    for (var i = 0; i < inline_js.length; i++) {\n      inline_js[i].call(root, root.Bokeh);\n    }\n    if (force === true) {\n        display_loaded();\n      }} else if (Date.now() < root._bokeh_timeout) {\n      setTimeout(run_inline_js, 100);\n    } else if (!root._bokeh_failed_load) {\n      console.log(\"Bokeh: BokehJS failed to load within specified timeout.\");\n      root._bokeh_failed_load = true;\n    } else if (force !== true) {\n      var cell = $(document.getElementById(\"4248\")).parents('.cell').data().cell;\n      cell.output_area.append_execute_result(NB_LOAD_WARNING)\n    }\n\n  }\n\n  if (root._bokeh_is_loading === 0) {\n    console.debug(\"Bokeh: BokehJS loaded, going straight to plotting\");\n    run_inline_js();\n  } else {\n    load_libs(css_urls, js_urls, function() {\n      console.debug(\"Bokeh: BokehJS plotting callback run at\", now());\n      run_inline_js();\n    });\n  }\n}(window));",
      "application/vnd.bokehjs_load.v0+json": ""
     },
     "metadata": {},
     "output_type": "display_data"
    }
   ],
   "source": [
    "from bokeh.plotting import figure, show, output_notebook\n",
    "from bokeh.models import HoverTool, ColumnDataSource, CategoricalColorMapper, Legend\n",
    "from bokeh.palettes import Spectral10, Category10\n",
    "import pandas as pd\n",
    "from io import BytesIO\n",
    "from PIL import Image\n",
    "import base64\n",
    "from bokeh.models import NumeralTickFormatter\n",
    "from bokeh.models import BasicTickFormatter\n",
    "\n",
    "output_notebook()"
   ]
  },
  {
   "cell_type": "code",
   "execution_count": 40,
   "metadata": {},
   "outputs": [
    {
     "data": {
      "text/html": [
       "\n",
       "\n",
       "\n",
       "\n",
       "\n",
       "\n",
       "  <div class=\"bk-root\" id=\"9af5266a-b0f3-4ea2-82b5-4d0ed5d336c1\" data-root-id=\"4906\"></div>\n"
      ]
     },
     "metadata": {},
     "output_type": "display_data"
    },
    {
     "data": {
      "application/javascript": "(function(root) {\n  function embed_document(root) {\n    \n  var docs_json = {\"0a49d09e-098a-4c2f-8dc6-11966597d894\":{\"roots\":{\"references\":[{\"attributes\":{\"below\":[{\"id\":\"4915\"}],\"center\":[{\"id\":\"4918\"},{\"id\":\"4922\"},{\"id\":\"4951\"}],\"left\":[{\"id\":\"4919\"}],\"plot_height\":300,\"renderers\":[{\"id\":\"4940\"},{\"id\":\"4956\"},{\"id\":\"4961\"},{\"id\":\"4980\"}],\"title\":{\"id\":\"4943\"},\"toolbar\":{\"id\":\"4930\"},\"x_range\":{\"id\":\"4907\"},\"x_scale\":{\"id\":\"4911\"},\"y_range\":{\"id\":\"4909\"},\"y_scale\":{\"id\":\"4913\"}},\"id\":\"4906\",\"subtype\":\"Figure\",\"type\":\"Plot\"},{\"attributes\":{},\"id\":\"4924\",\"type\":\"WheelZoomTool\"},{\"attributes\":{},\"id\":\"4950\",\"type\":\"Selection\"},{\"attributes\":{},\"id\":\"4972\",\"type\":\"UnionRenderers\"},{\"attributes\":{},\"id\":\"5188\",\"type\":\"Selection\"},{\"attributes\":{},\"id\":\"4973\",\"type\":\"Selection\"},{\"attributes\":{\"axis\":{\"id\":\"4919\"},\"dimension\":1,\"ticker\":null},\"id\":\"4922\",\"type\":\"Grid\"},{\"attributes\":{\"line_alpha\":0.1,\"line_color\":\"#1f77b4\",\"line_width\":2,\"x\":{\"field\":\"x\"},\"y\":{\"field\":\"y\"}},\"id\":\"4939\",\"type\":\"Line\"},{\"attributes\":{\"text\":\"\"},\"id\":\"4943\",\"type\":\"Title\"},{\"attributes\":{\"source\":{\"id\":\"4937\"}},\"id\":\"4941\",\"type\":\"CDSView\"},{\"attributes\":{},\"id\":\"4945\",\"type\":\"BasicTickFormatter\"},{\"attributes\":{\"line_color\":\"#1f77b4\",\"line_width\":2,\"x\":{\"field\":\"x\"},\"y\":{\"field\":\"y\"}},\"id\":\"4938\",\"type\":\"Line\"},{\"attributes\":{},\"id\":\"5187\",\"type\":\"UnionRenderers\"},{\"attributes\":{\"label\":{\"value\":\"Clean accuracy\"},\"renderers\":[{\"id\":\"4940\"}]},\"id\":\"4952\",\"type\":\"LegendItem\"},{\"attributes\":{},\"id\":\"4974\",\"type\":\"UnionRenderers\"},{\"attributes\":{\"data_source\":{\"id\":\"4958\"},\"glyph\":{\"id\":\"4959\"},\"hover_glyph\":null,\"muted_glyph\":null,\"nonselection_glyph\":{\"id\":\"4960\"},\"selection_glyph\":null,\"view\":{\"id\":\"4962\"}},\"id\":\"4961\",\"type\":\"GlyphRenderer\"},{\"attributes\":{},\"id\":\"4975\",\"type\":\"Selection\"},{\"attributes\":{\"items\":[{\"id\":\"4952\"},{\"id\":\"4976\"}]},\"id\":\"4951\",\"type\":\"Legend\"},{\"attributes\":{\"source\":{\"id\":\"4953\"}},\"id\":\"4957\",\"type\":\"CDSView\"},{\"attributes\":{\"fill_alpha\":{\"value\":0.1},\"fill_color\":{\"value\":\"white\"},\"line_alpha\":{\"value\":0.1},\"line_color\":{\"value\":\"#1f77b4\"},\"x\":{\"field\":\"x\"},\"y\":{\"field\":\"y\"}},\"id\":\"4955\",\"type\":\"Circle\"},{\"attributes\":{\"data\":{\"x\":{\"__ndarray__\":\"/Knx0k1iUD/6fmq8dJNoP3npJjEIrHw/exSuR+F6hD+4HoXrUbieP5qZmZmZmbk/MzMzMzMz0z8=\",\"dtype\":\"float64\",\"order\":\"little\",\"shape\":[7]},\"y\":{\"__ndarray__\":\"AAAAAADAV0CamZmZmdlVQGZmZmZmZkdAZmZmZmZmSUAAAAAAAAAIQAAAAAAAAAAAAAAAAAAAAAA=\",\"dtype\":\"float64\",\"order\":\"little\",\"shape\":[7]}},\"selected\":{\"id\":\"4975\"},\"selection_policy\":{\"id\":\"4974\"}},\"id\":\"4958\",\"type\":\"ColumnDataSource\"},{\"attributes\":{\"data\":{\"x\":{\"__ndarray__\":\"/Knx0k1iUD/6fmq8dJNoP3npJjEIrHw/exSuR+F6hD+4HoXrUbieP5qZmZmZmbk/MzMzMzMz0z8=\",\"dtype\":\"float64\",\"order\":\"little\",\"shape\":[7]},\"y\":{\"__ndarray__\":\"MzMzMzOzWEAAAAAAAIBYQDMzMzMzs1dAMzMzMzPzV0AAAAAAAMBUQM3MzMzMTEBAzczMzMzMNkA=\",\"dtype\":\"float64\",\"order\":\"little\",\"shape\":[7]}},\"selected\":{\"id\":\"4973\"},\"selection_policy\":{\"id\":\"4972\"}},\"id\":\"4953\",\"type\":\"ColumnDataSource\"},{\"attributes\":{},\"id\":\"4949\",\"type\":\"UnionRenderers\"},{\"attributes\":{\"bottom_units\":\"screen\",\"fill_alpha\":0.5,\"fill_color\":\"lightgrey\",\"left_units\":\"screen\",\"level\":\"overlay\",\"line_alpha\":1.0,\"line_color\":\"black\",\"line_dash\":[4,4],\"line_width\":2,\"right_units\":\"screen\",\"top_units\":\"screen\"},\"id\":\"4929\",\"type\":\"BoxAnnotation\"},{\"attributes\":{\"fill_color\":{\"value\":\"white\"},\"line_color\":{\"value\":\"#ff7f0e\"},\"x\":{\"field\":\"x\"},\"y\":{\"field\":\"y\"}},\"id\":\"4978\",\"type\":\"Circle\"},{\"attributes\":{\"line_color\":\"#ff7f0e\",\"line_width\":2,\"x\":{\"field\":\"x\"},\"y\":{\"field\":\"y\"}},\"id\":\"4959\",\"type\":\"Line\"},{\"attributes\":{\"data_source\":{\"id\":\"4953\"},\"glyph\":{\"id\":\"4954\"},\"hover_glyph\":null,\"muted_glyph\":null,\"nonselection_glyph\":{\"id\":\"4955\"},\"selection_glyph\":null,\"view\":{\"id\":\"4957\"}},\"id\":\"4956\",\"type\":\"GlyphRenderer\"},{\"attributes\":{\"fill_color\":{\"value\":\"white\"},\"line_color\":{\"value\":\"#1f77b4\"},\"x\":{\"field\":\"x\"},\"y\":{\"field\":\"y\"}},\"id\":\"4954\",\"type\":\"Circle\"},{\"attributes\":{\"data\":{\"x\":{\"__ndarray__\":\"/Knx0k1iUD/6fmq8dJNoP3npJjEIrHw/exSuR+F6hD+4HoXrUbieP5qZmZmZmbk/MzMzMzMz0z8=\",\"dtype\":\"float64\",\"order\":\"little\",\"shape\":[7]},\"y\":{\"__ndarray__\":\"AAAAAADAV0CamZmZmdlVQGZmZmZmZkdAZmZmZmZmSUAAAAAAAAAIQAAAAAAAAAAAAAAAAAAAAAA=\",\"dtype\":\"float64\",\"order\":\"little\",\"shape\":[7]}},\"selected\":{\"id\":\"5188\"},\"selection_policy\":{\"id\":\"5187\"}},\"id\":\"4977\",\"type\":\"ColumnDataSource\"},{\"attributes\":{},\"id\":\"4920\",\"type\":\"BasicTicker\"},{\"attributes\":{},\"id\":\"4909\",\"type\":\"DataRange1d\"},{\"attributes\":{\"source\":{\"id\":\"4958\"}},\"id\":\"4962\",\"type\":\"CDSView\"},{\"attributes\":{},\"id\":\"4907\",\"type\":\"DataRange1d\"},{\"attributes\":{\"line_alpha\":0.1,\"line_color\":\"#ff7f0e\",\"line_width\":2,\"x\":{\"field\":\"x\"},\"y\":{\"field\":\"y\"}},\"id\":\"4960\",\"type\":\"Line\"},{\"attributes\":{\"source\":{\"id\":\"4977\"}},\"id\":\"4981\",\"type\":\"CDSView\"},{\"attributes\":{\"label\":{\"value\":\"Adversarial accuracy\"},\"renderers\":[{\"id\":\"4961\"}]},\"id\":\"4976\",\"type\":\"LegendItem\"},{\"attributes\":{\"fill_alpha\":{\"value\":0.1},\"fill_color\":{\"value\":\"white\"},\"line_alpha\":{\"value\":0.1},\"line_color\":{\"value\":\"#ff7f0e\"},\"x\":{\"field\":\"x\"},\"y\":{\"field\":\"y\"}},\"id\":\"4979\",\"type\":\"Circle\"},{\"attributes\":{},\"id\":\"4913\",\"type\":\"LinearScale\"},{\"attributes\":{},\"id\":\"4923\",\"type\":\"PanTool\"},{\"attributes\":{},\"id\":\"4911\",\"type\":\"LogScale\"},{\"attributes\":{\"data_source\":{\"id\":\"4977\"},\"glyph\":{\"id\":\"4978\"},\"hover_glyph\":null,\"muted_glyph\":null,\"nonselection_glyph\":{\"id\":\"4979\"},\"selection_glyph\":null,\"view\":{\"id\":\"4981\"}},\"id\":\"4980\",\"type\":\"GlyphRenderer\"},{\"attributes\":{\"axis_label\":\"\\u03f5\",\"axis_label_text_font_style\":\"normal\",\"formatter\":{\"id\":\"4984\"},\"ticker\":{\"id\":\"4982\"}},\"id\":\"4915\",\"type\":\"LogAxis\"},{\"attributes\":{\"axis_label\":\"Top-1 Accuracy\",\"formatter\":{\"id\":\"4945\"},\"ticker\":{\"id\":\"4920\"}},\"id\":\"4919\",\"type\":\"LinearAxis\"},{\"attributes\":{\"data\":{\"x\":{\"__ndarray__\":\"/Knx0k1iUD/6fmq8dJNoP3npJjEIrHw/exSuR+F6hD+4HoXrUbieP5qZmZmZmbk/MzMzMzMz0z8=\",\"dtype\":\"float64\",\"order\":\"little\",\"shape\":[7]},\"y\":{\"__ndarray__\":\"MzMzMzOzWEAAAAAAAIBYQDMzMzMzs1dAMzMzMzPzV0AAAAAAAMBUQM3MzMzMTEBAzczMzMzMNkA=\",\"dtype\":\"float64\",\"order\":\"little\",\"shape\":[7]}},\"selected\":{\"id\":\"4950\"},\"selection_policy\":{\"id\":\"4949\"}},\"id\":\"4937\",\"type\":\"ColumnDataSource\"},{\"attributes\":{\"use_scientific\":false},\"id\":\"4984\",\"type\":\"BasicTickFormatter\"},{\"attributes\":{\"axis\":{\"id\":\"4915\"},\"ticker\":null},\"id\":\"4918\",\"type\":\"Grid\"},{\"attributes\":{\"ticks\":[0.001,0.003,0.007,0.01,0.03,0.1,0.3]},\"id\":\"4982\",\"type\":\"FixedTicker\"},{\"attributes\":{},\"id\":\"4926\",\"type\":\"SaveTool\"},{\"attributes\":{\"active_drag\":\"auto\",\"active_inspect\":\"auto\",\"active_multi\":null,\"active_scroll\":\"auto\",\"active_tap\":\"auto\",\"tools\":[{\"id\":\"4923\"},{\"id\":\"4924\"},{\"id\":\"4925\"},{\"id\":\"4926\"},{\"id\":\"4927\"},{\"id\":\"4928\"}]},\"id\":\"4930\",\"type\":\"Toolbar\"},{\"attributes\":{\"overlay\":{\"id\":\"4929\"}},\"id\":\"4925\",\"type\":\"BoxZoomTool\"},{\"attributes\":{},\"id\":\"4927\",\"type\":\"ResetTool\"},{\"attributes\":{\"data_source\":{\"id\":\"4937\"},\"glyph\":{\"id\":\"4938\"},\"hover_glyph\":null,\"muted_glyph\":null,\"nonselection_glyph\":{\"id\":\"4939\"},\"selection_glyph\":null,\"view\":{\"id\":\"4941\"}},\"id\":\"4940\",\"type\":\"GlyphRenderer\"},{\"attributes\":{},\"id\":\"4928\",\"type\":\"HelpTool\"}],\"root_ids\":[\"4906\"]},\"title\":\"Bokeh Application\",\"version\":\"2.2.1\"}};\n  var render_items = [{\"docid\":\"0a49d09e-098a-4c2f-8dc6-11966597d894\",\"root_ids\":[\"4906\"],\"roots\":{\"4906\":\"9af5266a-b0f3-4ea2-82b5-4d0ed5d336c1\"}}];\n  root.Bokeh.embed.embed_items_notebook(docs_json, render_items);\n\n  }\n  if (root.Bokeh !== undefined) {\n    embed_document(root);\n  } else {\n    var attempts = 0;\n    var timer = setInterval(function(root) {\n      if (root.Bokeh !== undefined) {\n        clearInterval(timer);\n        embed_document(root);\n      } else {\n        attempts++;\n        if (attempts > 100) {\n          clearInterval(timer);\n          console.log(\"Bokeh: ERROR: Unable to run BokehJS code because BokehJS library is missing\");\n        }\n      }\n    }, 10, root)\n  }\n})(window);",
      "application/vnd.bokehjs_exec.v0+json": ""
     },
     "metadata": {
      "application/vnd.bokehjs_exec.v0+json": {
       "id": "4906"
      }
     },
     "output_type": "display_data"
    }
   ],
   "source": [
    "p = figure(width=600, height=300, x_axis_type=\"log\") \n",
    "\n",
    "# Clean top-1 accuracy\n",
    "p.line(df.x, df.clean_acc1_values, line_width=2, color='#1f77b4', legend_label='Clean accuracy')\n",
    "p.circle(df.x, df.clean_acc1_values, fill_color=\"white\", size=4)\n",
    "\n",
    "# Adversarial top-1 accuracy\n",
    "p.line(df.x, df.adv_acc1_values, line_width=2, color='#ff7f0e', legend_label='Adversarial accuracy')\n",
    "p.circle(df.x, df.adv_acc1_values, color='#ff7f0e', fill_color=\"white\", size=4)\n",
    "\n",
    "# Axes\n",
    "p.xaxis.axis_label = \"ϵ\"\n",
    "p.xaxis.axis_label_text_font_style = \"normal\"\n",
    "p.xaxis.ticker = list(df.x)\n",
    "p.xaxis.formatter = BasicTickFormatter(use_scientific=False)\n",
    "#p.xaxis.formatter.use_scientific = False\n",
    "\n",
    "p.yaxis.axis_label = \"Top-1 Accuracy\"\n",
    "p.yaxis.axis_label_text_font_style = \"italic\"\n",
    "\n",
    "\n",
    "show(p);"
   ]
  },
  {
   "cell_type": "code",
   "execution_count": null,
   "metadata": {},
   "outputs": [],
   "source": []
  }
 ],
 "metadata": {
  "kernelspec": {
   "display_name": "Python 3",
   "language": "python",
   "name": "python3"
  },
  "language_info": {
   "codemirror_mode": {
    "name": "ipython",
    "version": 3
   },
   "file_extension": ".py",
   "mimetype": "text/x-python",
   "name": "python",
   "nbconvert_exporter": "python",
   "pygments_lexer": "ipython3",
   "version": "3.8.5"
  }
 },
 "nbformat": 4,
 "nbformat_minor": 4
}
