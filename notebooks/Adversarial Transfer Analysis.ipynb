{
 "cells": [
  {
   "cell_type": "markdown",
   "metadata": {},
   "source": [
    "# Adversarial Benchmarking across models\n",
    "\n",
    "This notebook includes the code to benchmark supervised and unsupervised ViTs against different adversarial attacks."
   ]
  },
  {
   "cell_type": "markdown",
   "metadata": {},
   "source": [
    "#### Install, Paths and Parameters"
   ]
  },
  {
   "cell_type": "code",
   "execution_count": null,
   "metadata": {},
   "outputs": [],
   "source": [
    "import os\n",
    "from pathlib import Path\n",
    "import getpass\n",
    "import numpy as np\n",
    "import time\n",
    "import torch\n",
    "from torch import nn\n",
    "from tqdm import tqdm\n",
    "import random\n",
    "import sys\n",
    "from torch.utils.data import DataLoader\n",
    "\n",
    "# allow imports when running script from within project dir\n",
    "[sys.path.append(i) for i in ['.', '..']]\n",
    "\n",
    "# local\n",
    "from src.helpers.helpers import get_random_indexes, get_random_classes\n",
    "from src.model.dino_model import get_dino, ViTWrapper\n",
    "from src.model.train import validate_network\n",
    "from src.model.data import *\n",
    "\n",
    "# Custom imports\n",
    "import torchattacks\n",
    "from torchattacks import *\n",
    "import torch.optim as optim\n",
    "from torchvision import transforms as pth_transforms\n",
    "\n",
    "# seed\n",
    "SEED = 42\n",
    "random.seed(SEED)\n",
    "torch.manual_seed(SEED)\n",
    "np.random.seed(SEED)\n",
    "\n",
    "username = getpass.getuser()\n",
    "DATA_PATH = Path('/cluster/scratch/thobauma/data/ori/')\n",
    "\n",
    "ORI_PATH = Path(DATA_PATH, 'validation')\n",
    "ORI_LABEL_PATH = Path(ORI_PATH,'labels.csv')\n",
    "ORI_IMAGES_PATH = Path(ORI_PATH,'images')"
   ]
  },
  {
   "cell_type": "code",
   "execution_count": 2,
   "metadata": {},
   "outputs": [],
   "source": [
    "INDEX_SUBSET = get_random_indexes(n_samples=3000) # Randomly sample data\n",
    "\n",
    "BATCH_SIZE = 30\n",
    "NUM_WORKERS= 0\n",
    "PIN_MEMORY=True\n",
    "\n",
    "DEVICE = 'cuda'"
   ]
  },
  {
   "cell_type": "code",
   "execution_count": 3,
   "metadata": {},
   "outputs": [
    {
     "data": {
      "text/plain": [
       "3000"
      ]
     },
     "execution_count": 3,
     "metadata": {},
     "output_type": "execute_result"
    }
   ],
   "source": [
    "len(INDEX_SUBSET)"
   ]
  },
  {
   "cell_type": "markdown",
   "metadata": {},
   "source": [
    "## Load data"
   ]
  },
  {
   "cell_type": "code",
   "execution_count": 4,
   "metadata": {},
   "outputs": [],
   "source": [
    "dataset = AdvTrainingImageDataset(ORI_IMAGES_PATH, ORI_LABEL_PATH, ORIGINAL_TRANSFORM, index_subset=INDEX_SUBSET, return_reduced=False)\n",
    "loader = DataLoader(dataset, batch_size=50, pin_memory=True, shuffle=True)"
   ]
  },
  {
   "cell_type": "markdown",
   "metadata": {
    "tags": []
   },
   "source": [
    "# Evaluate DINO ViT"
   ]
  },
  {
   "cell_type": "markdown",
   "metadata": {},
   "source": [
    "#### Load model"
   ]
  },
  {
   "cell_type": "code",
   "execution_count": 5,
   "metadata": {},
   "outputs": [],
   "source": [
    "def get_dino_small():\n",
    "    model_small, linear_classifier_small = get_dino(model_name='vit_small', patch_size=16, n_last_blocks=4, avgpool_patchtokens=False, device='cpu')\n",
    "    dino_small = ViTWrapper(model_small, linear_classifier_small, device='cpu', n_last_blocks=4, avgpool_patchtokens=False)\n",
    "    return dino_small\n",
    "\n",
    "def get_dino_base():\n",
    "    model_base, linear_classifier_base = get_dino(model_name='vit_base', patch_size=16, n_last_blocks=1, avgpool_patchtokens=True, device='cpu')\n",
    "    dino_base = ViTWrapper(model_base, linear_classifier_base, device='cpu', n_last_blocks=1, avgpool_patchtokens=True)\n",
    "    return dino_base"
   ]
  },
  {
   "cell_type": "markdown",
   "metadata": {},
   "source": [
    "#### Wrap models"
   ]
  },
  {
   "cell_type": "code",
   "execution_count": 6,
   "metadata": {},
   "outputs": [
    {
     "name": "stdout",
     "output_type": "stream",
     "text": [
      "Please use the `--pretrained_weights` argument to indicate the path of the checkpoint to evaluate.\n",
      "Since no pretrained weights have been provided, we load the reference pretrained DINO weights.\n",
      "Model vit_base built.\n",
      "Embed dim 1536\n",
      "We load the reference pretrained linear weights from dino_vitbase16_pretrain/dino_vitbase16_linearweights.pth.\n",
      "Please use the `--pretrained_weights` argument to indicate the path of the checkpoint to evaluate.\n",
      "Since no pretrained weights have been provided, we load the reference pretrained DINO weights.\n",
      "Model vit_small built.\n",
      "Embed dim 1536\n",
      "We load the reference pretrained linear weights from dino_deitsmall16_pretrain/dino_deitsmall16_linearweights.pth.\n"
     ]
    }
   ],
   "source": [
    "#### DINO ViT/B-16\n",
    "dino_base = get_dino_base()\n",
    "\n",
    "#### DINO ViT/S-16\n",
    "dino_small = get_dino_small()"
   ]
  },
  {
   "cell_type": "markdown",
   "metadata": {
    "tags": []
   },
   "source": [
    "#### Compute clean accuracy"
   ]
  },
  {
   "cell_type": "code",
   "execution_count": 29,
   "metadata": {},
   "outputs": [],
   "source": [
    "def evaluate_dino(model_wrap, loader):\n",
    "    clean_correct = 0\n",
    "    total = len(loader.dataset)\n",
    "    start = time.time()\n",
    "    model_wrap.cuda()\n",
    "\n",
    "    with torch.no_grad():\n",
    "        for images, labels, _ in tqdm(loader):\n",
    "\n",
    "            cuda_images = images.to(DEVICE)\n",
    "            clean_outputs = model_wrap(cuda_images)\n",
    "            labels = labels.to(DEVICE)\n",
    "\n",
    "            _, pre_clean = torch.max(clean_outputs.data, 1)\n",
    "\n",
    "            clean_correct += (pre_clean == labels).sum()\n",
    "\n",
    "    print('Total elapsed time (sec): %.2f' % (time.time() - start))\n",
    "    print('Clean accuracy: %.2f %%' % (100 * float(clean_correct) / total))\n",
    "    model_wrap.cpu()\n",
    "    return clean_correct"
   ]
  },
  {
   "cell_type": "code",
   "execution_count": 32,
   "metadata": {},
   "outputs": [
    {
     "name": "stderr",
     "output_type": "stream",
     "text": [
      "100%|██████████| 60/60 [00:31<00:00,  1.90it/s]"
     ]
    },
    {
     "name": "stdout",
     "output_type": "stream",
     "text": [
      "Total elapsed time (sec): 31.52\n",
      "Clean accuracy: 78.47 %\n"
     ]
    },
    {
     "name": "stderr",
     "output_type": "stream",
     "text": [
      "\n"
     ]
    }
   ],
   "source": [
    "evaluate_dino(dino_small, loader)"
   ]
  },
  {
   "cell_type": "code",
   "execution_count": 33,
   "metadata": {},
   "outputs": [
    {
     "name": "stderr",
     "output_type": "stream",
     "text": [
      "100%|██████████| 60/60 [00:39<00:00,  1.51it/s]"
     ]
    },
    {
     "name": "stdout",
     "output_type": "stream",
     "text": [
      "Total elapsed time (sec): 39.91\n",
      "Clean accuracy: 78.87 %\n"
     ]
    },
    {
     "name": "stderr",
     "output_type": "stream",
     "text": [
      "\n"
     ]
    }
   ],
   "source": [
    "evaluate_dino(dino_base, loader)"
   ]
  },
  {
   "cell_type": "code",
   "execution_count": 34,
   "metadata": {},
   "outputs": [],
   "source": [
    "torch.cuda.empty_cache()"
   ]
  },
  {
   "cell_type": "markdown",
   "metadata": {},
   "source": [
    "# Evaluate supervised ViT"
   ]
  },
  {
   "cell_type": "markdown",
   "metadata": {},
   "source": [
    "#### Load model\n",
    "\n",
    "We use pretrained model from: https://github.com/lukemelas/PyTorch-Pretrained-ViT"
   ]
  },
  {
   "cell_type": "code",
   "execution_count": 7,
   "metadata": {},
   "outputs": [],
   "source": [
    "from PIL import Image\n",
    "import torch\n",
    "from torchvision import transforms\n",
    "from pytorch_pretrained_vit import ViT\n",
    "\n",
    "class CustomViT(ViT):\n",
    "    def __init__(self):\n",
    "        super().__init__('B_16_imagenet1k', pretrained=True)\n",
    "        self.transform = transforms.Compose([\n",
    "    transforms.Normalize(0.5, 0.5),\n",
    "])\n",
    "        \n",
    "    def __call__(self, x):\n",
    "        x = self.transform(x)\n",
    "        return self.forward(x)"
   ]
  },
  {
   "cell_type": "code",
   "execution_count": 8,
   "metadata": {},
   "outputs": [],
   "source": [
    "def get_supervised_vit():\n",
    "    sup_vit = CustomViT().to('cpu').eval()\n",
    "    return sup_vit"
   ]
  },
  {
   "cell_type": "markdown",
   "metadata": {},
   "source": [
    "#### Load data"
   ]
  },
  {
   "cell_type": "code",
   "execution_count": 9,
   "metadata": {},
   "outputs": [],
   "source": [
    "sup_dataset = AdvTrainingImageDataset(ORI_IMAGES_PATH, ORI_LABEL_PATH, transforms.Compose([\n",
    "    transforms.Resize((384, 384)), \n",
    "    transforms.ToTensor(),\n",
    "]), index_subset=INDEX_SUBSET, return_reduced=False)\n",
    "sup_loader = DataLoader(sup_dataset, batch_size=10, pin_memory=True, shuffle=True)"
   ]
  },
  {
   "cell_type": "markdown",
   "metadata": {
    "tags": []
   },
   "source": [
    "#### Compute clean accuracy"
   ]
  },
  {
   "cell_type": "code",
   "execution_count": 28,
   "metadata": {},
   "outputs": [],
   "source": [
    "def evaluate_supervised_vit(sup_vit, loader):\n",
    "    sup_vit.cuda()\n",
    "    clean_correct = 0\n",
    "    total = len(loader.dataset)\n",
    "    start = time.time()\n",
    "\n",
    "    with torch.no_grad():\n",
    "        for images, labels, _ in tqdm(loader):\n",
    "\n",
    "            cuda_images = images.to(DEVICE)\n",
    "            clean_outputs = sup_vit(cuda_images)\n",
    "            labels = labels.to(DEVICE)\n",
    "\n",
    "            _, pre_clean = torch.max(clean_outputs.data, 1)\n",
    "\n",
    "            clean_correct += (pre_clean == labels).sum()\n",
    "\n",
    "    sup_vit.cpu()\n",
    "    print('Total elapsed time (sec): %.2f' % (time.time() - start))\n",
    "    print('Clean accuracy: %.2f %%' % (100 * float(clean_correct) / total))\n",
    "    return clean_correct"
   ]
  },
  {
   "cell_type": "code",
   "execution_count": null,
   "metadata": {},
   "outputs": [],
   "source": [
    "evaluate_supervised_vit(sup_vit, sup_loader)"
   ]
  },
  {
   "cell_type": "markdown",
   "metadata": {},
   "source": [
    "# Evaluate ResNet-50"
   ]
  },
  {
   "cell_type": "code",
   "execution_count": 11,
   "metadata": {},
   "outputs": [],
   "source": [
    "from torchvision.models.resnet import ResNet, Bottleneck\n",
    "\n",
    "class CustomResNet(ResNet):\n",
    "    def __init__(self, classifier=None):\n",
    "        super(CustomResNet, self).__init__(block=Bottleneck, layers=[3, 4, 6, 3])\n",
    "        self.load_state_dict(torch.load(\"/cluster/scratch/jrando/resnet/resnet.pth\"))\n",
    "        \n",
    "    def _forward_impl(self, x):\n",
    "        # Normalize\n",
    "        transform = pth_transforms.Normalize((0.485, 0.456, 0.406), (0.229, 0.224, 0.225))\n",
    "        x = transform(x)\n",
    "        \n",
    "        x = self.conv1(x)\n",
    "        x = self.bn1(x)\n",
    "        x = self.relu(x)\n",
    "        x = self.maxpool(x)\n",
    "\n",
    "        x = self.layer1(x)\n",
    "        x = self.layer2(x)\n",
    "        x = self.layer3(x)\n",
    "        x = self.layer4(x)\n",
    "\n",
    "        x = self.avgpool(x)\n",
    "        x = torch.flatten(x, 1)\n",
    "        x = self.fc(x)\n",
    "\n",
    "        return x"
   ]
  },
  {
   "cell_type": "code",
   "execution_count": 12,
   "metadata": {},
   "outputs": [],
   "source": [
    "def get_resnet():\n",
    "    return CustomResNet().cpu()"
   ]
  },
  {
   "cell_type": "code",
   "execution_count": 27,
   "metadata": {},
   "outputs": [],
   "source": [
    "def evaluate_resnet(resnet, loader):\n",
    "    resnet.cuda()\n",
    "    clean_correct = 0\n",
    "    total = len(loader.dataset)\n",
    "    start = time.time()\n",
    "\n",
    "    with torch.no_grad():\n",
    "        for images, labels, _ in tqdm(loader):\n",
    "            \n",
    "            cuda_images = images.to(DEVICE)\n",
    "            clean_outputs = resnet(cuda_images)\n",
    "            labels = labels.to(DEVICE)\n",
    "\n",
    "            _, pre_clean = torch.max(clean_outputs.data, 1)\n",
    "\n",
    "            clean_correct += (pre_clean == labels).sum()\n",
    "\n",
    "    resnet.cpu()\n",
    "    print('Total elapsed time (sec): %.2f' % (time.time() - start))\n",
    "    print('Clean accuracy: %.2f %%' % (100 * float(clean_correct) / total))\n",
    "    return clean_correct"
   ]
  },
  {
   "cell_type": "code",
   "execution_count": 25,
   "metadata": {},
   "outputs": [
    {
     "name": "stderr",
     "output_type": "stream",
     "text": [
      "100%|██████████| 60/60 [00:51<00:00,  1.17it/s]"
     ]
    },
    {
     "name": "stdout",
     "output_type": "stream",
     "text": [
      "Total elapsed time (sec): 51.16\n",
      "Clean accuracy: 75.43 %\n"
     ]
    },
    {
     "name": "stderr",
     "output_type": "stream",
     "text": [
      "\n"
     ]
    }
   ],
   "source": [
    "evaluate_resnet(resnet, loader)"
   ]
  },
  {
   "cell_type": "code",
   "execution_count": 17,
   "metadata": {},
   "outputs": [],
   "source": [
    "torch.cuda.empty_cache()"
   ]
  },
  {
   "cell_type": "markdown",
   "metadata": {},
   "source": [
    "# Attacks\n",
    "We use TorchAttack library. See: https://github.com/Harry24k/adversarial-attacks-pytorch"
   ]
  },
  {
   "cell_type": "markdown",
   "metadata": {},
   "source": [
    "#### Create attacks and test on every model"
   ]
  },
  {
   "cell_type": "code",
   "execution_count": null,
   "metadata": {},
   "outputs": [],
   "source": [
    "# delete models if created before\n",
    "del resnet\n",
    "del sup_vit\n",
    "del dino_small\n",
    "del dino_base"
   ]
  },
  {
   "cell_type": "code",
   "execution_count": 67,
   "metadata": {},
   "outputs": [],
   "source": [
    "model_mapping = {'dino_base': get_dino_base,\n",
    "                'dino_small': get_dino_small,\n",
    "                'resnet': get_resnet}"
   ]
  },
  {
   "cell_type": "code",
   "execution_count": 68,
   "metadata": {},
   "outputs": [],
   "source": [
    "def get_attack(model, eps=0.03, alpha=(0.03*2)/3, steps=3):\n",
    "    return  PGD(model, eps=eps, alpha=alpha, steps=steps)"
   ]
  },
  {
   "cell_type": "code",
   "execution_count": 69,
   "metadata": {},
   "outputs": [],
   "source": [
    "images_generated = {}\n",
    "labels_generated = {}"
   ]
  },
  {
   "cell_type": "code",
   "execution_count": 71,
   "metadata": {},
   "outputs": [
    {
     "name": "stdout",
     "output_type": "stream",
     "text": [
      "Please use the `--pretrained_weights` argument to indicate the path of the checkpoint to evaluate.\n",
      "Since no pretrained weights have been provided, we load the reference pretrained DINO weights.\n",
      "Model vit_base built.\n",
      "Embed dim 1536\n",
      "We load the reference pretrained linear weights from dino_vitbase16_pretrain/dino_vitbase16_linearweights.pth.\n"
     ]
    },
    {
     "name": "stderr",
     "output_type": "stream",
     "text": [
      "  0%|          | 0/60 [00:00<?, ?it/s]"
     ]
    },
    {
     "name": "stdout",
     "output_type": "stream",
     "text": [
      "----------------------------------------------------------------------\n",
      "dino_base PGD(model_name=ViTWrapper, device=cuda:0, eps=0.03, alpha=0.02, steps=3, random_start=True, attack_mode=default, return_type=float)\n"
     ]
    },
    {
     "name": "stderr",
     "output_type": "stream",
     "text": [
      "100%|██████████| 60/60 [02:28<00:00,  2.48s/it]\n",
      "  0%|          | 0/60 [00:00<?, ?it/s]"
     ]
    },
    {
     "name": "stdout",
     "output_type": "stream",
     "text": [
      "Please use the `--pretrained_weights` argument to indicate the path of the checkpoint to evaluate.\n",
      "Since no pretrained weights have been provided, we load the reference pretrained DINO weights.\n",
      "Model vit_small built.\n",
      "Embed dim 1536\n",
      "We load the reference pretrained linear weights from dino_deitsmall16_pretrain/dino_deitsmall16_linearweights.pth.\n",
      "----------------------------------------------------------------------\n",
      "dino_small PGD(model_name=ViTWrapper, device=cuda:0, eps=0.03, alpha=0.02, steps=3, random_start=True, attack_mode=default, return_type=float)\n"
     ]
    },
    {
     "name": "stderr",
     "output_type": "stream",
     "text": [
      "100%|██████████| 60/60 [01:16<00:00,  1.28s/it]\n",
      "  0%|          | 0/60 [00:00<?, ?it/s]"
     ]
    },
    {
     "name": "stdout",
     "output_type": "stream",
     "text": [
      "----------------------------------------------------------------------\n",
      "resnet PGD(model_name=CustomResNet, device=cuda:0, eps=0.03, alpha=0.02, steps=3, random_start=True, attack_mode=default, return_type=float)\n"
     ]
    },
    {
     "name": "stderr",
     "output_type": "stream",
     "text": [
      "100%|██████████| 60/60 [01:07<00:00,  1.13s/it]\n"
     ]
    }
   ],
   "source": [
    "for model_name in model_mapping.keys():\n",
    "    img_loader = sup_loader if model_name==\"sup_vit\" else loader\n",
    "    images_generated[model_name] = []\n",
    "    labels_generated[model_name] = []\n",
    "    model = model_mapping[model_name]().cuda()\n",
    "    atk = get_attack(model)\n",
    "    \n",
    "    print(\"-\"*70)\n",
    "    print(model_name, atk)\n",
    "\n",
    "    for images, labels, _ in tqdm(img_loader):\n",
    "\n",
    "        labels = labels.to(DEVICE)\n",
    "        adv_images = atk(images, labels)\n",
    "        images_generated[model_name].append(adv_images.cpu())\n",
    "        labels_generated[model_name].append(labels.cpu())\n",
    "\n",
    "        del images\n",
    "        del labels\n",
    "        del adv_images\n",
    "        torch.cuda.empty_cache()\n",
    "    \n",
    "    del model\n",
    "    del atk"
   ]
  },
  {
   "cell_type": "code",
   "execution_count": 72,
   "metadata": {},
   "outputs": [],
   "source": [
    "for k in images_generated:\n",
    "    images_generated[k] = torch.cat(images_generated[k], axis=0)\n",
    "    labels_generated[k] = torch.cat(labels_generated[k])"
   ]
  },
  {
   "cell_type": "code",
   "execution_count": 73,
   "metadata": {},
   "outputs": [
    {
     "data": {
      "text/plain": [
       "torch.Size([3000, 3, 224, 224])"
      ]
     },
     "execution_count": 73,
     "metadata": {},
     "output_type": "execute_result"
    }
   ],
   "source": [
    "images_concat['resnet'].shape"
   ]
  },
  {
   "cell_type": "markdown",
   "metadata": {},
   "source": [
    "# Forward evaluation on adversarial attacks"
   ]
  },
  {
   "cell_type": "code",
   "execution_count": 78,
   "metadata": {},
   "outputs": [],
   "source": [
    "class TensorDataset(torch.utils.data.Dataset):\n",
    "    def __init__(self, data, labels, transform=None):\n",
    "        super().__init__()\n",
    "        self.data = data\n",
    "        self.labels = labels\n",
    "    \n",
    "    def __len__(self):\n",
    "        return self.data.shape[0]\n",
    "    \n",
    "    def __getitem__(self, index):\n",
    "        return self.data[index, :, :, :], self.labels[index], \"\""
   ]
  },
  {
   "cell_type": "code",
   "execution_count": 75,
   "metadata": {},
   "outputs": [],
   "source": [
    "evaluation_mapping = {'dino_base': evaluate_dino,\n",
    "                'dino_small': evaluate_dino,\n",
    "                'resnet': evaluate_resnet,\n",
    "                'sup_vit': evaluate_supervised_vit}"
   ]
  },
  {
   "cell_type": "code",
   "execution_count": 76,
   "metadata": {},
   "outputs": [
    {
     "data": {
      "text/plain": [
       "tensor([[[[0.2680, 0.2920, 0.3202,  ..., 0.1516, 0.1431, 0.0916],\n",
       "          [0.3033, 0.2867, 0.2125,  ..., 0.1516, 0.1555, 0.1355],\n",
       "          [0.3084, 0.2414, 0.1567,  ..., 0.1116, 0.1355, 0.0955],\n",
       "          ...,\n",
       "          [0.4967, 0.3967, 0.3241,  ..., 0.6069, 0.6327, 0.6014],\n",
       "          [0.4888, 0.3390, 0.2688,  ..., 0.6535, 0.6175, 0.5975],\n",
       "          [0.3778, 0.3084, 0.1425,  ..., 0.6238, 0.6614, 0.6535]],\n",
       "\n",
       "         [[0.1151, 0.1443, 0.1908,  ..., 0.0610, 0.0502, 0.0292],\n",
       "          [0.1622, 0.1747, 0.1341,  ..., 0.0610, 0.0771, 0.0531],\n",
       "          [0.1790, 0.1116, 0.0292,  ..., 0.0410, 0.0571, 0.0131],\n",
       "          ...,\n",
       "          [0.0930, 0.0810, 0.0335,  ..., 0.6089, 0.6227, 0.6053],\n",
       "          [0.0967, 0.0331, 0.0283,  ..., 0.6575, 0.6214, 0.6214],\n",
       "          [0.0467, 0.0531, 0.0473,  ..., 0.6653, 0.6303, 0.6575]],\n",
       "\n",
       "         [[0.1625, 0.1943, 0.2104,  ..., 0.0223, 0.0171, 0.0171],\n",
       "          [0.2296, 0.2143, 0.1594,  ..., 0.0210, 0.0210, 0.0810],\n",
       "          [0.2025, 0.1392, 0.0849,  ..., 0.0410, 0.0410, 0.0434],\n",
       "          ...,\n",
       "          [0.0544, 0.0200, 0.0300,  ..., 0.7636, 0.7751, 0.7829],\n",
       "          [0.0214, 0.0000, 0.0139,  ..., 0.7660, 0.7190, 0.7390],\n",
       "          [0.0000, 0.0463, 0.0400,  ..., 0.7469, 0.7469, 0.7790]]],\n",
       "\n",
       "\n",
       "        [[[0.5429, 0.5269, 0.5650,  ..., 0.1959, 0.1900, 0.1924],\n",
       "          [0.5162, 0.5474, 0.5548,  ..., 0.2339, 0.1710, 0.1661],\n",
       "          [0.5443, 0.5229, 0.5269,  ..., 0.1947, 0.2061, 0.2261],\n",
       "          ...,\n",
       "          [0.3661, 0.3582, 0.4261,  ..., 0.3190, 0.3790, 0.3673],\n",
       "          [0.4182, 0.3782, 0.3782,  ..., 0.3725, 0.3229, 0.3473],\n",
       "          [0.3798, 0.3634, 0.3943,  ..., 0.3233, 0.3312, 0.3629]],\n",
       "\n",
       "         [[0.5120, 0.4880, 0.5280,  ..., 0.1103, 0.0798, 0.0798],\n",
       "          [0.5320, 0.5218, 0.5288,  ..., 0.1237, 0.1159, 0.0959],\n",
       "          [0.5240, 0.5076, 0.5116,  ..., 0.0798, 0.1159, 0.1359],\n",
       "          ...,\n",
       "          [0.2406, 0.2327, 0.2645,  ..., 0.2171, 0.2771, 0.2053],\n",
       "          [0.3045, 0.3045, 0.3004,  ..., 0.2731, 0.2810, 0.2653],\n",
       "          [0.3124, 0.3045, 0.2963,  ..., 0.2614, 0.2292, 0.2210]],\n",
       "\n",
       "         [[0.2021, 0.1512, 0.1555,  ..., 0.0653, 0.0692, 0.0092],\n",
       "          [0.0967, 0.1086, 0.1120,  ..., 0.0731, 0.0280, 0.0053],\n",
       "          [0.1198, 0.0821, 0.1156,  ..., 0.0292, 0.0453, 0.0653],\n",
       "          ...,\n",
       "          [0.1516, 0.1347, 0.1555,  ..., 0.1065, 0.1476, 0.0759],\n",
       "          [0.1555, 0.1516, 0.1116,  ..., 0.1396, 0.1116, 0.1359],\n",
       "          [0.1555, 0.1476, 0.1358,  ..., 0.1260, 0.0798, 0.1315]]],\n",
       "\n",
       "\n",
       "        [[[0.7739, 0.8100, 0.8135,  ..., 0.5475, 0.5320, 0.4793],\n",
       "          [0.8093, 0.8222, 0.7900,  ..., 0.5625, 0.5190, 0.4955],\n",
       "          [0.8688, 0.7939, 0.8100,  ..., 0.4837, 0.4641, 0.4602],\n",
       "          ...,\n",
       "          [0.5896, 0.8104, 0.7823,  ..., 0.6590, 0.6571, 0.6545],\n",
       "          [0.5869, 0.5743, 0.5112,  ..., 0.6810, 0.7023, 0.6994],\n",
       "          [0.4759, 0.4998, 0.5425,  ..., 0.6727, 0.7279, 0.7476]],\n",
       "\n",
       "         [[0.9151, 0.9285, 0.9033,  ..., 0.6414, 0.6810, 0.6688],\n",
       "          [0.8994, 0.9399, 0.9400,  ..., 0.7194, 0.7037, 0.6731],\n",
       "          [0.9629, 0.9233, 0.9433,  ..., 0.7084, 0.6092, 0.6214],\n",
       "          ...,\n",
       "          [0.6271, 0.7747, 0.7704,  ..., 0.8412, 0.8038, 0.7975],\n",
       "          [0.6261, 0.6253, 0.5861,  ..., 0.8261, 0.8423, 0.8445],\n",
       "          [0.5195, 0.5351, 0.5896,  ..., 0.8122, 0.8580, 0.8745]],\n",
       "\n",
       "         [[0.9151, 0.9033, 0.8916,  ..., 0.6253, 0.6535, 0.6493],\n",
       "          [0.8759, 0.8759, 0.8998,  ..., 0.6563, 0.6677, 0.6292],\n",
       "          [0.9116, 0.8869, 0.9002,  ..., 0.6692, 0.6339, 0.6004],\n",
       "          ...,\n",
       "          [0.6210, 0.7579, 0.7331,  ..., 0.8100, 0.7786, 0.7997],\n",
       "          [0.5747, 0.5896, 0.5978,  ..., 0.7699, 0.7975, 0.8208],\n",
       "          [0.5496, 0.5947, 0.6087,  ..., 0.7954, 0.8379, 0.8435]]],\n",
       "\n",
       "\n",
       "        ...,\n",
       "\n",
       "\n",
       "        [[[0.4692, 0.4492, 0.4492,  ..., 0.5163, 0.4963, 0.5002],\n",
       "          [0.4544, 0.4092, 0.4362,  ..., 0.4894, 0.4963, 0.4602],\n",
       "          [0.4692, 0.4692, 0.4628,  ..., 0.4563, 0.4563, 0.5202],\n",
       "          ...,\n",
       "          [0.3274, 0.3112, 0.3312,  ..., 0.3425, 0.3908, 0.3480],\n",
       "          [0.3276, 0.3276, 0.2955,  ..., 0.3865, 0.3269, 0.3504],\n",
       "          [0.2846, 0.3041, 0.2880,  ..., 0.3504, 0.3488, 0.4104]],\n",
       "\n",
       "         [[0.4776, 0.5163, 0.4934,  ..., 0.5476, 0.5476, 0.5516],\n",
       "          [0.4941, 0.4563, 0.4642,  ..., 0.5276, 0.5476, 0.5158],\n",
       "          [0.4924, 0.5163, 0.5163,  ..., 0.4876, 0.5076, 0.5116],\n",
       "          ...,\n",
       "          [0.3952, 0.4070, 0.4134,  ..., 0.4230, 0.4339, 0.4057],\n",
       "          [0.3943, 0.3582, 0.3622,  ..., 0.4096, 0.3900, 0.4257],\n",
       "          [0.3492, 0.3747, 0.3386,  ..., 0.3896, 0.3984, 0.4257]],\n",
       "\n",
       "         [[0.4606, 0.4660, 0.4606,  ..., 0.5155, 0.5295, 0.5594],\n",
       "          [0.4806, 0.4406, 0.4406,  ..., 0.5555, 0.5382, 0.5194],\n",
       "          [0.4406, 0.5006, 0.4406,  ..., 0.5355, 0.5324, 0.5194],\n",
       "          ...,\n",
       "          [0.3700, 0.3700, 0.3939,  ..., 0.4135, 0.3700, 0.4089],\n",
       "          [0.3943, 0.3989, 0.3622,  ..., 0.3903, 0.3713, 0.4029],\n",
       "          [0.3908, 0.3986, 0.3458,  ..., 0.3906, 0.3943, 0.3885]]],\n",
       "\n",
       "\n",
       "        [[[0.0096, 0.0000, 0.0175,  ..., 0.0200, 0.0300, 0.0200],\n",
       "          [0.0078, 0.0053, 0.0211,  ..., 0.0200, 0.0418, 0.0000],\n",
       "          [0.0178, 0.0000, 0.0457,  ..., 0.0216, 0.0492, 0.0457],\n",
       "          ...,\n",
       "          [0.0259, 0.0457, 0.0085,  ..., 0.8122, 0.7805, 0.8331],\n",
       "          [0.0653, 0.0271, 0.0092,  ..., 0.6967, 0.7124, 0.7094],\n",
       "          [0.0517, 0.0171, 0.0327,  ..., 0.6837, 0.7202, 0.6486]],\n",
       "\n",
       "         [[0.0053, 0.0175, 0.0000,  ..., 0.1006, 0.1163, 0.1073],\n",
       "          [0.0214, 0.0155, 0.0135,  ..., 0.1163, 0.1280, 0.0916],\n",
       "          [0.0000, 0.0000, 0.0000,  ..., 0.1163, 0.1080, 0.1306],\n",
       "          ...,\n",
       "          [0.0378, 0.0200, 0.0000,  ..., 0.6692, 0.6575, 0.7609],\n",
       "          [0.0339, 0.0200, 0.0000,  ..., 0.5437, 0.5625, 0.6025],\n",
       "          [0.0200, 0.0000, 0.0000,  ..., 0.5766, 0.5986, 0.5980]],\n",
       "\n",
       "         [[0.0000, 0.0000, 0.0100,  ..., 0.0418, 0.0339, 0.0000],\n",
       "          [0.0000, 0.0000, 0.0000,  ..., 0.0457, 0.0256, 0.0000],\n",
       "          [0.0139, 0.0000, 0.0000,  ..., 0.0200, 0.0200, 0.0200],\n",
       "          ...,\n",
       "          [0.0339, 0.0300, 0.0000,  ..., 0.2763, 0.3124, 0.4182],\n",
       "          [0.0339, 0.0200, 0.0000,  ..., 0.1978, 0.2927, 0.3009],\n",
       "          [0.0200, 0.0300, 0.0018,  ..., 0.2542, 0.3516, 0.3190]]],\n",
       "\n",
       "\n",
       "        [[[0.8065, 0.7543, 0.7778,  ..., 0.3869, 0.4135, 0.2798],\n",
       "          [0.6837, 0.8371, 0.8096,  ..., 0.2920, 0.4222, 0.2881],\n",
       "          [0.4292, 0.4998, 0.4838,  ..., 0.1505, 0.2375, 0.2453],\n",
       "          ...,\n",
       "          [0.2680, 0.2143, 0.2849,  ..., 0.4998, 0.4837, 0.5253],\n",
       "          [0.2171, 0.0806, 0.1241,  ..., 0.4759, 0.4798, 0.5237],\n",
       "          [0.1918, 0.0702, 0.1143,  ..., 0.4959, 0.5198, 0.4998]],\n",
       "\n",
       "         [[0.7359, 0.7433, 0.7568,  ..., 0.4238, 0.4371, 0.3469],\n",
       "          [0.5836, 0.8453, 0.8300,  ..., 0.3547, 0.4731, 0.3473],\n",
       "          [0.4026, 0.5194, 0.5080,  ..., 0.2614, 0.3041, 0.2845],\n",
       "          ...,\n",
       "          [0.2214, 0.1712, 0.2104,  ..., 0.2763, 0.2841, 0.3124],\n",
       "          [0.1661, 0.0967, 0.0606,  ..., 0.2563, 0.2610, 0.2963],\n",
       "          [0.1829, 0.0470, 0.0655,  ..., 0.2802, 0.2932, 0.3002]],\n",
       "\n",
       "         [[0.6735, 0.6684, 0.7259,  ..., 0.3685, 0.3978, 0.3025],\n",
       "          [0.4808, 0.7033, 0.7159,  ..., 0.2449, 0.3429, 0.2727],\n",
       "          [0.1800, 0.2641, 0.2577,  ..., 0.1633, 0.1782, 0.2025],\n",
       "          ...,\n",
       "          [0.1465, 0.1359, 0.1518,  ..., 0.2022, 0.1822, 0.1700],\n",
       "          [0.1229, 0.0171, 0.0327,  ..., 0.1622, 0.1800, 0.2300],\n",
       "          [0.1398, 0.0592, 0.0327,  ..., 0.2022, 0.2261, 0.1982]]]])"
      ]
     },
     "execution_count": 76,
     "metadata": {},
     "output_type": "execute_result"
    }
   ],
   "source": [
    "images_generated['resnet']"
   ]
  },
  {
   "cell_type": "code",
   "execution_count": 79,
   "metadata": {},
   "outputs": [
    {
     "name": "stdout",
     "output_type": "stream",
     "text": [
      "Please use the `--pretrained_weights` argument to indicate the path of the checkpoint to evaluate.\n",
      "Since no pretrained weights have been provided, we load the reference pretrained DINO weights.\n",
      "Model vit_base built.\n",
      "Embed dim 1536\n"
     ]
    },
    {
     "name": "stderr",
     "output_type": "stream",
     "text": [
      "  0%|          | 0/60 [00:00<?, ?it/s]"
     ]
    },
    {
     "name": "stdout",
     "output_type": "stream",
     "text": [
      "We load the reference pretrained linear weights from dino_vitbase16_pretrain/dino_vitbase16_linearweights.pth.\n"
     ]
    },
    {
     "name": "stderr",
     "output_type": "stream",
     "text": [
      "100%|██████████| 60/60 [00:15<00:00,  3.95it/s]\n",
      "  0%|          | 0/60 [00:00<?, ?it/s]"
     ]
    },
    {
     "name": "stdout",
     "output_type": "stream",
     "text": [
      "Total elapsed time (sec): 15.18\n",
      "Clean accuracy: 0.00 %\n"
     ]
    },
    {
     "name": "stderr",
     "output_type": "stream",
     "text": [
      "100%|██████████| 60/60 [00:15<00:00,  3.90it/s]\n",
      "  0%|          | 0/60 [00:00<?, ?it/s]"
     ]
    },
    {
     "name": "stdout",
     "output_type": "stream",
     "text": [
      "Total elapsed time (sec): 15.45\n",
      "Clean accuracy: 12.30 %\n"
     ]
    },
    {
     "name": "stderr",
     "output_type": "stream",
     "text": [
      "100%|██████████| 60/60 [00:15<00:00,  3.85it/s]\n"
     ]
    },
    {
     "name": "stdout",
     "output_type": "stream",
     "text": [
      "Total elapsed time (sec): 15.63\n",
      "Clean accuracy: 70.13 %\n"
     ]
    },
    {
     "name": "stderr",
     "output_type": "stream",
     "text": [
      "  0%|          | 0/60 [00:00<?, ?it/s]"
     ]
    },
    {
     "name": "stdout",
     "output_type": "stream",
     "text": [
      "Please use the `--pretrained_weights` argument to indicate the path of the checkpoint to evaluate.\n",
      "Since no pretrained weights have been provided, we load the reference pretrained DINO weights.\n",
      "Model vit_small built.\n",
      "Embed dim 1536\n",
      "We load the reference pretrained linear weights from dino_deitsmall16_pretrain/dino_deitsmall16_linearweights.pth.\n"
     ]
    },
    {
     "name": "stderr",
     "output_type": "stream",
     "text": [
      "100%|██████████| 60/60 [00:06<00:00,  9.20it/s]\n",
      "  2%|▏         | 1/60 [00:00<00:06,  9.48it/s]"
     ]
    },
    {
     "name": "stdout",
     "output_type": "stream",
     "text": [
      "Total elapsed time (sec): 6.53\n",
      "Clean accuracy: 5.30 %\n"
     ]
    },
    {
     "name": "stderr",
     "output_type": "stream",
     "text": [
      "100%|██████████| 60/60 [00:06<00:00,  9.20it/s]\n",
      "  2%|▏         | 1/60 [00:00<00:06,  9.78it/s]"
     ]
    },
    {
     "name": "stdout",
     "output_type": "stream",
     "text": [
      "Total elapsed time (sec): 6.55\n",
      "Clean accuracy: 0.00 %\n"
     ]
    },
    {
     "name": "stderr",
     "output_type": "stream",
     "text": [
      "100%|██████████| 60/60 [00:06<00:00,  9.39it/s]\n"
     ]
    },
    {
     "name": "stdout",
     "output_type": "stream",
     "text": [
      "Total elapsed time (sec): 6.41\n",
      "Clean accuracy: 67.13 %\n"
     ]
    },
    {
     "name": "stderr",
     "output_type": "stream",
     "text": [
      "100%|██████████| 60/60 [00:04<00:00, 13.24it/s]\n",
      "  3%|▎         | 2/60 [00:00<00:04, 13.43it/s]"
     ]
    },
    {
     "name": "stdout",
     "output_type": "stream",
     "text": [
      "Total elapsed time (sec): 4.57\n",
      "Clean accuracy: 47.40 %\n"
     ]
    },
    {
     "name": "stderr",
     "output_type": "stream",
     "text": [
      "100%|██████████| 60/60 [00:04<00:00, 13.31it/s]\n",
      "  3%|▎         | 2/60 [00:00<00:04, 13.24it/s]"
     ]
    },
    {
     "name": "stdout",
     "output_type": "stream",
     "text": [
      "Total elapsed time (sec): 4.54\n",
      "Clean accuracy: 51.00 %\n"
     ]
    },
    {
     "name": "stderr",
     "output_type": "stream",
     "text": [
      "100%|██████████| 60/60 [00:04<00:00, 13.32it/s]"
     ]
    },
    {
     "name": "stdout",
     "output_type": "stream",
     "text": [
      "Total elapsed time (sec): 4.54\n",
      "Clean accuracy: 0.23 %\n"
     ]
    },
    {
     "name": "stderr",
     "output_type": "stream",
     "text": [
      "\n"
     ]
    }
   ],
   "source": [
    "results = {}\n",
    "\n",
    "for model_name in model_mapping:\n",
    "    model = model_mapping[model_name]().cuda()\n",
    "    results[model_name] = {}\n",
    "    \n",
    "    for attack in images_generated:\n",
    "        dataset = TensorDataset(images_generated[attack], labels_generated[attack])\n",
    "        dataloader = DataLoader(dataset, batch_size=10 if model_name==\"sup_vit\" else 50, pin_memory=True)\n",
    "            \n",
    "        with torch.no_grad():\n",
    "            results[model_name][attack] = evaluation_mapping[model_name](model, dataloader)"
   ]
  },
  {
   "cell_type": "code",
   "execution_count": 80,
   "metadata": {},
   "outputs": [
    {
     "data": {
      "text/plain": [
       "{'dino_base': {'dino_base': tensor(0, device='cuda:0'),\n",
       "  'dino_small': tensor(369, device='cuda:0'),\n",
       "  'resnet': tensor(2104, device='cuda:0')},\n",
       " 'dino_small': {'dino_base': tensor(159, device='cuda:0'),\n",
       "  'dino_small': tensor(0, device='cuda:0'),\n",
       "  'resnet': tensor(2014, device='cuda:0')},\n",
       " 'resnet': {'dino_base': tensor(1422, device='cuda:0'),\n",
       "  'dino_small': tensor(1530, device='cuda:0'),\n",
       "  'resnet': tensor(7, device='cuda:0')}}"
      ]
     },
     "execution_count": 80,
     "metadata": {},
     "output_type": "execute_result"
    }
   ],
   "source": [
    "results"
   ]
  },
  {
   "cell_type": "code",
   "execution_count": 83,
   "metadata": {},
   "outputs": [],
   "source": [
    "results_map = {}\n",
    "for i in results:\n",
    "    results_map[i] = {}\n",
    "    for j in results[i]:\n",
    "        results_map[i][j] = (results[i][j]/3000).item()"
   ]
  },
  {
   "cell_type": "code",
   "execution_count": 84,
   "metadata": {},
   "outputs": [
    {
     "data": {
      "text/plain": [
       "{'dino_base': {'dino_base': 0.0,\n",
       "  'dino_small': 0.12299999594688416,\n",
       "  'resnet': 0.7013333439826965},\n",
       " 'dino_small': {'dino_base': 0.05299999937415123,\n",
       "  'dino_small': 0.0,\n",
       "  'resnet': 0.6713333129882812},\n",
       " 'resnet': {'dino_base': 0.4740000069141388,\n",
       "  'dino_small': 0.5099999904632568,\n",
       "  'resnet': 0.0023333332501351833}}"
      ]
     },
     "execution_count": 84,
     "metadata": {},
     "output_type": "execute_result"
    }
   ],
   "source": [
    "results_map"
   ]
  }
 ],
 "metadata": {
  "kernelspec": {
   "display_name": "Python 3",
   "language": "python",
   "name": "python3"
  },
  "language_info": {
   "codemirror_mode": {
    "name": "ipython",
    "version": 3
   },
   "file_extension": ".py",
   "mimetype": "text/x-python",
   "name": "python",
   "nbconvert_exporter": "python",
   "pygments_lexer": "ipython3",
   "version": "3.8.5"
  },
  "toc-autonumbering": false,
  "toc-showcode": false,
  "toc-showmarkdowntxt": false,
  "toc-showtags": true
 },
 "nbformat": 4,
 "nbformat_minor": 4
}
