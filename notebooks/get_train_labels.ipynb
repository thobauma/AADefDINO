{
 "cells": [
  {
   "cell_type": "code",
   "execution_count": 7,
   "metadata": {},
   "outputs": [],
   "source": [
    "import scipy.io\n",
    "from pathlib import Path\n",
    "from typing import Optional\n",
    "DATA_PATH = Path('/cluster/scratch/thobauma/data')\n",
    "LOG_PATH = Path(DATA_PATH, 'logs')\n",
    "\n",
    "ORI_PATH = Path(DATA_PATH, 'ori')\n",
    "\n",
    "ORI_LABEL_PATH = Path(ORI_PATH,'/validation/labels.csv')\n",
    "ORI_IMAGES_PATH = Path(ORI_PATH,'validation','images')"
   ]
  },
  {
   "cell_type": "code",
   "execution_count": 2,
   "metadata": {},
   "outputs": [],
   "source": [
    "import warnings\n",
    "from contextlib import contextmanager\n",
    "import os\n",
    "import pandas as pd\n",
    "import shutil\n",
    "import tempfile\n",
    "from typing import Any, Dict, List, Iterator, Optional, Tuple\n",
    "import torch\n",
    "from torchvision.datasets.utils import check_integrity, extract_archive, verify_str_arg\n",
    "ARCHIVE_META = {\n",
    "    'train': ('ILSVRC2012_img_train.tar', '1d675b47d978889d74fa0da5fadfb00e'),\n",
    "    'val': ('ILSVRC2012_img_val.tar', '29b22e2961454d5413ddabcf34fc5622'),\n",
    "    'devkit': ('ILSVRC2012_devkit_t12.tar.gz', 'fa75699e90414af021442c21a62c3abf')\n",
    "}\n",
    "META_FILE = \"meta.bin\"\n"
   ]
  },
  {
   "cell_type": "code",
   "execution_count": 3,
   "metadata": {},
   "outputs": [],
   "source": [
    "\n",
    "def _verify_archive(root: str, file: str, md5: str) -> None:\n",
    "    if not check_integrity(os.path.join(root, file), md5):\n",
    "        msg = (\"The archive {} is not present in the root directory or is corrupted. \"\n",
    "               \"You need to download it externally and place it in {}.\")\n",
    "        raise RuntimeError(msg.format(file, root))\n",
    "def parse_devkit_archive(root: str, file: Optional[str] = None) -> None:\n",
    "    \"\"\"Parse the devkit archive of the ImageNet2012 classification dataset and save\n",
    "    the meta information in a binary file.\n",
    "\n",
    "    Args:\n",
    "        root (str): Root directory containing the devkit archive\n",
    "        file (str, optional): Name of devkit archive. Defaults to\n",
    "            'ILSVRC2012_devkit_t12.tar.gz'\n",
    "    \"\"\"\n",
    "    import scipy.io as sio\n",
    "\n",
    "    def parse_meta_mat(devkit_root: str) -> Tuple[Dict[int, str], Dict[str, str]]:\n",
    "        metafile = os.path.join(devkit_root, \"data\", \"meta.mat\")\n",
    "        meta = sio.loadmat(metafile, squeeze_me=True)['synsets']\n",
    "        nums_children = list(zip(*meta))[4]\n",
    "        meta = [meta[idx] for idx, num_children in enumerate(nums_children)\n",
    "                if num_children == 0]\n",
    "        idcs, wnids, classes = list(zip(*meta))[:3]\n",
    "        classes = [tuple(clss.split(', ')) for clss in classes]\n",
    "        idx_to_wnid = {idx: wnid for idx, wnid in zip(idcs, wnids)}\n",
    "        wnid_to_classes = {wnid: clss for wnid, clss in zip(wnids, classes)}\n",
    "        return idx_to_wnid, wnid_to_classes\n",
    "\n",
    "    def parse_val_groundtruth_txt(devkit_root: str) -> List[int]:\n",
    "        file = os.path.join(devkit_root, \"data\",\n",
    "                            \"ILSVRC2012_validation_ground_truth.txt\")\n",
    "        with open(file, 'r') as txtfh:\n",
    "            val_idcs = txtfh.readlines()\n",
    "        return [int(val_idx) for val_idx in val_idcs]\n",
    "\n",
    "    @contextmanager\n",
    "    def get_tmp_dir() -> Iterator[str]:\n",
    "        tmp_dir = tempfile.mkdtemp()\n",
    "        try:\n",
    "            yield tmp_dir\n",
    "        finally:\n",
    "            shutil.rmtree(tmp_dir)\n",
    "\n",
    "    archive_meta = ARCHIVE_META[\"devkit\"]\n",
    "    if file is None:\n",
    "        file = archive_meta[0]\n",
    "    md5 = archive_meta[1]\n",
    "\n",
    "    _verify_archive(root, file, md5)\n",
    "\n",
    "    with get_tmp_dir() as tmp_dir:\n",
    "        extract_archive(os.path.join(root, file), tmp_dir)\n",
    "\n",
    "        devkit_root = os.path.join(tmp_dir, \"ILSVRC2012_devkit_t12\")\n",
    "        idx_to_wnid, wnid_to_classes = parse_meta_mat(devkit_root)\n",
    "        val_idcs = parse_val_groundtruth_txt(devkit_root)\n",
    "        val_wnids = [idx_to_wnid[idx] for idx in val_idcs]\n",
    "\n",
    "        torch.save((wnid_to_classes, val_wnids), os.path.join(root, META_FILE))"
   ]
  },
  {
   "cell_type": "code",
   "execution_count": 4,
   "metadata": {},
   "outputs": [],
   "source": [
    "import scipy.io as sio\n",
    "def parse_meta_mat(devkit_root: str) -> Tuple[Dict[int, str], Dict[str, str]]:\n",
    "        metafile = os.path.join(devkit_root, \"data\", \"meta.mat\")\n",
    "        meta = sio.loadmat(metafile, squeeze_me=True)['synsets']\n",
    "        nums_children = list(zip(*meta))[4]\n",
    "        meta = [meta[idx] for idx, num_children in enumerate(nums_children)\n",
    "                if num_children == 0]\n",
    "        idcs, wnids, classes = list(zip(*meta))[:3]\n",
    "        classes = [tuple(clss.split(', ')) for clss in classes]\n",
    "        idx_to_wnid = {idx: wnid for idx, wnid in zip(idcs, wnids)}\n",
    "        wnid_to_classes = {wnid: clss for wnid, clss in zip(wnids, classes)}\n",
    "        return idx_to_wnid, wnid_to_classes\n"
   ]
  },
  {
   "cell_type": "code",
   "execution_count": 10,
   "metadata": {},
   "outputs": [],
   "source": [
    "idx_to_wnid, wnid_to_classes = parse_meta_mat(Path(ORI_PATH/'ILSVRC2012_devkit_t12/'))"
   ]
  },
  {
   "cell_type": "code",
   "execution_count": 11,
   "metadata": {},
   "outputs": [],
   "source": [
    "idx_to_wnid_map = idx_to_wnid.items()"
   ]
  },
  {
   "cell_type": "code",
   "execution_count": 12,
   "metadata": {},
   "outputs": [],
   "source": [
    "label_wnid_map = pd.DataFrame(idx_to_wnid_map, columns=['label', 'wnid'])"
   ]
  },
  {
   "cell_type": "code",
   "execution_count": 13,
   "metadata": {},
   "outputs": [],
   "source": [
    "files=[f.name for f in ORI_IMAGES_PATH.glob('*.JPEG')]"
   ]
  },
  {
   "cell_type": "code",
   "execution_count": 14,
   "metadata": {},
   "outputs": [],
   "source": [
    "train = pd.DataFrame(files, columns=['files'])\n",
    "label_wnid_map = pd.DataFrame(idx_to_wnid_map, columns=['label', 'wnid'])\n",
    "label_wnid_map['label'] = label_wnid_map['label'].astype(int)\n",
    "train['wnid'] = train['files'].str.split('_').str[0]"
   ]
  },
  {
   "cell_type": "code",
   "execution_count": 15,
   "metadata": {},
   "outputs": [],
   "source": [
    "tt = pd.merge(train, label_wnid_map, how='left', on='wnid')"
   ]
  },
  {
   "cell_type": "code",
   "execution_count": 16,
   "metadata": {},
   "outputs": [],
   "source": [
    "tt = tt.drop(columns=['wnid'])"
   ]
  },
  {
   "cell_type": "code",
   "execution_count": 17,
   "metadata": {},
   "outputs": [
    {
     "data": {
      "text/html": [
       "<div>\n",
       "<style scoped>\n",
       "    .dataframe tbody tr th:only-of-type {\n",
       "        vertical-align: middle;\n",
       "    }\n",
       "\n",
       "    .dataframe tbody tr th {\n",
       "        vertical-align: top;\n",
       "    }\n",
       "\n",
       "    .dataframe thead th {\n",
       "        text-align: right;\n",
       "    }\n",
       "</style>\n",
       "<table border=\"1\" class=\"dataframe\">\n",
       "  <thead>\n",
       "    <tr style=\"text-align: right;\">\n",
       "      <th></th>\n",
       "      <th>files</th>\n",
       "      <th>label</th>\n",
       "    </tr>\n",
       "  </thead>\n",
       "  <tbody>\n",
       "    <tr>\n",
       "      <th>0</th>\n",
       "      <td>ILSVRC2012_val_00021341.JPEG</td>\n",
       "      <td>NaN</td>\n",
       "    </tr>\n",
       "    <tr>\n",
       "      <th>1</th>\n",
       "      <td>ILSVRC2012_val_00005377.JPEG</td>\n",
       "      <td>NaN</td>\n",
       "    </tr>\n",
       "    <tr>\n",
       "      <th>2</th>\n",
       "      <td>ILSVRC2012_val_00046054.JPEG</td>\n",
       "      <td>NaN</td>\n",
       "    </tr>\n",
       "    <tr>\n",
       "      <th>3</th>\n",
       "      <td>ILSVRC2012_val_00021859.JPEG</td>\n",
       "      <td>NaN</td>\n",
       "    </tr>\n",
       "    <tr>\n",
       "      <th>4</th>\n",
       "      <td>ILSVRC2012_val_00005613.JPEG</td>\n",
       "      <td>NaN</td>\n",
       "    </tr>\n",
       "    <tr>\n",
       "      <th>...</th>\n",
       "      <td>...</td>\n",
       "      <td>...</td>\n",
       "    </tr>\n",
       "    <tr>\n",
       "      <th>49995</th>\n",
       "      <td>ILSVRC2012_val_00041808.JPEG</td>\n",
       "      <td>NaN</td>\n",
       "    </tr>\n",
       "    <tr>\n",
       "      <th>49996</th>\n",
       "      <td>ILSVRC2012_val_00004606.JPEG</td>\n",
       "      <td>NaN</td>\n",
       "    </tr>\n",
       "    <tr>\n",
       "      <th>49997</th>\n",
       "      <td>ILSVRC2012_val_00011187.JPEG</td>\n",
       "      <td>NaN</td>\n",
       "    </tr>\n",
       "    <tr>\n",
       "      <th>49998</th>\n",
       "      <td>ILSVRC2012_val_00047591.JPEG</td>\n",
       "      <td>NaN</td>\n",
       "    </tr>\n",
       "    <tr>\n",
       "      <th>49999</th>\n",
       "      <td>ILSVRC2012_val_00018479.JPEG</td>\n",
       "      <td>NaN</td>\n",
       "    </tr>\n",
       "  </tbody>\n",
       "</table>\n",
       "<p>50000 rows × 2 columns</p>\n",
       "</div>"
      ],
      "text/plain": [
       "                              files  label\n",
       "0      ILSVRC2012_val_00021341.JPEG    NaN\n",
       "1      ILSVRC2012_val_00005377.JPEG    NaN\n",
       "2      ILSVRC2012_val_00046054.JPEG    NaN\n",
       "3      ILSVRC2012_val_00021859.JPEG    NaN\n",
       "4      ILSVRC2012_val_00005613.JPEG    NaN\n",
       "...                             ...    ...\n",
       "49995  ILSVRC2012_val_00041808.JPEG    NaN\n",
       "49996  ILSVRC2012_val_00004606.JPEG    NaN\n",
       "49997  ILSVRC2012_val_00011187.JPEG    NaN\n",
       "49998  ILSVRC2012_val_00047591.JPEG    NaN\n",
       "49999  ILSVRC2012_val_00018479.JPEG    NaN\n",
       "\n",
       "[50000 rows x 2 columns]"
      ]
     },
     "execution_count": 17,
     "metadata": {},
     "output_type": "execute_result"
    }
   ],
   "source": [
    "tt"
   ]
  },
  {
   "cell_type": "code",
   "execution_count": 140,
   "metadata": {},
   "outputs": [],
   "source": [
    "tt.to_csv(Path(ORI_PATH, 'train', 'labels.csv'), sep=' ', index=False, header=False)"
   ]
  },
  {
   "cell_type": "code",
   "execution_count": null,
   "metadata": {},
   "outputs": [],
   "source": []
  }
 ],
 "metadata": {
  "kernelspec": {
   "display_name": "Python 3",
   "language": "python",
   "name": "python3"
  },
  "language_info": {
   "codemirror_mode": {
    "name": "ipython",
    "version": 3
   },
   "file_extension": ".py",
   "mimetype": "text/x-python",
   "name": "python",
   "nbconvert_exporter": "python",
   "pygments_lexer": "ipython3",
   "version": "3.8.5"
  }
 },
 "nbformat": 4,
 "nbformat_minor": 4
}
