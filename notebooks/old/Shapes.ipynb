{
 "cells": [
  {
   "cell_type": "markdown",
   "metadata": {
    "id": "UlS1mXY7pzIv"
   },
   "source": [
    "# TLDR\n",
    "\n",
    "## Attention\n",
    "\n",
    "Attention of last layer: `1, 6, T, T`\n",
    "\n",
    "- 6 heads\n",
    "- T * T self attention matrix where T = 1 + number of patches\n",
    "- the first token is the [CLS] token.\n",
    "\n",
    "## Layer shape (Classifier Input)\n",
    "\n",
    "Classifier Input: embedding of [CLS] token of n last layers, flattened (n*384)\n",
    "\n",
    "Shape of a single layer: `1, 785, 384`\n",
    "\n",
    "- 785 tokens: 1 [CLS] token + 784 patches\n",
    "- 384: embedding size\n",
    "  - 192 (3 * 8^2): positional embedding\n",
    "  - 192 (3 * 8^2): pixels of patch"
   ]
  },
  {
   "cell_type": "markdown",
   "metadata": {
    "id": "GmZahCdiqYpu"
   },
   "source": [
    "## Attention"
   ]
  },
  {
   "cell_type": "markdown",
   "metadata": {
    "id": "GqCvEVnGkZy4"
   },
   "source": [
    "- ViT (in contrast to NLP transformers) do not use decoders, only encoders with an MLP head.\n",
    "\n",
    "The raw self attention tensor has the following dimensions:\n",
    "```\n",
    "attentions.shape: [1, 6, T, T]\n",
    "```\n",
    "\n",
    "and for visualizing we took\n",
    "\n",
    "```\n",
    "attentions = attentions[0, :, 0, 1:]\n",
    "```\n",
    "\n",
    "Meaning: in ViT, the first token is the [CLS] token, the remaining T-1 tokens are the patches. The T*T matrix in the attentions tensor is the self-attention matrix (how related token t_i is related to token t_j).\n",
    "\n",
    "- => Given a head h, the vector `attentions[0, h, 0, 1:]` denotes the self attention of the patches with respect to the classification token\n",
    "- <=> denotes how related a patch is to the classification token\n",
    "- <=> how important the patch is for a correct classification.\n"
   ]
  },
  {
   "cell_type": "code",
   "execution_count": null,
   "metadata": {
    "id": "ABGDpqEJrlYe"
   },
   "outputs": [],
   "source": []
  }
 ],
 "metadata": {
  "colab": {
   "authorship_tag": "ABX9TyOTVbeiyXyIFp6VinlJvlsm",
   "name": "Shapes",
   "provenance": []
  },
  "kernelspec": {
   "display_name": "Python 3",
   "language": "python",
   "name": "python3"
  },
  "language_info": {
   "codemirror_mode": {
    "name": "ipython",
    "version": 3
   },
   "file_extension": ".py",
   "mimetype": "text/x-python",
   "name": "python",
   "nbconvert_exporter": "python",
   "pygments_lexer": "ipython3",
   "version": "3.8.5"
  }
 },
 "nbformat": 4,
 "nbformat_minor": 4
}
