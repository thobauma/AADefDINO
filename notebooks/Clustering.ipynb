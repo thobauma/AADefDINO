{
 "cells": [
  {
   "cell_type": "markdown",
   "metadata": {},
   "source": [
    "# Install, Paths and Parameters"
   ]
  },
  {
   "cell_type": "code",
   "execution_count": 1,
   "metadata": {},
   "outputs": [],
   "source": [
    "import os\n",
    "from pathlib import Path\n",
    "import getpass\n",
    "import numpy as np\n",
    "import time\n",
    "import torch\n",
    "from torch import nn\n",
    "from tqdm import tqdm\n",
    "import random\n",
    "import sys\n",
    "\n",
    "# allow imports when running script from within project dir\n",
    "[sys.path.append(i) for i in ['.', '..']]\n",
    "\n",
    "# local\n",
    "from src.helpers.helpers import get_random_indexes, get_random_classes\n",
    "from src.model.dino_model import get_dino, ViTWrapper\n",
    "from src.model.data import create_loader\n",
    "from src.model.eval import validate_network\n",
    "\n",
    "# seed\n",
    "SEED = 42\n",
    "random.seed(SEED)\n",
    "torch.manual_seed(SEED)\n",
    "np.random.seed(SEED)\n",
    "\n",
    "username = getpass.getuser()\n",
    "DATA_PATH = Path('/','cluster', 'scratch', 'thobauma', 'dl_data')\n",
    "\n",
    "ORI_PATH = Path(DATA_PATH, 'ori_data/validation')\n",
    "ORI_LABEL_PATH = Path(ORI_PATH,'correct_labels.txt')\n",
    "ORI_IMAGES_PATH = Path(ORI_PATH,'images')\n",
    "\n",
    "DN_PATH = Path(DATA_PATH, 'adversarial_data')\n",
    "DN_LABEL_PATH = Path(ORI_PATH,'correct_labels.txt')\n",
    "DN_IMAGES_PATH = Path(DN_PATH, 'pgd_03/validation/images/')"
   ]
  },
  {
   "cell_type": "code",
   "execution_count": 2,
   "metadata": {},
   "outputs": [],
   "source": [
    "# If CLASS_SUBSET is specified, INDEX_SUBSET will be ignored. Set CLASS_SUBSET=None if you want to use indexes.\n",
    "INDEX_SUBSET = get_random_indexes()\n",
    "CLASS_SUBSET = get_random_classes(number_of_classes=10, seed=1)\n",
    "\n",
    "BATCH_SIZE = 100\n",
    "\n",
    "DEVICE = 'cuda'"
   ]
  },
  {
   "cell_type": "code",
   "execution_count": 3,
   "metadata": {},
   "outputs": [
    {
     "data": {
      "text/plain": [
       "array([ 37, 235, 908,  72, 767, 905, 715, 645, 847, 960])"
      ]
     },
     "execution_count": 3,
     "metadata": {},
     "output_type": "execute_result"
    }
   ],
   "source": [
    "CLASS_SUBSET"
   ]
  },
  {
   "cell_type": "code",
   "execution_count": 4,
   "metadata": {},
   "outputs": [],
   "source": [
    "#!python $HOME/deeplearning/setup/collect_env.py"
   ]
  },
  {
   "cell_type": "markdown",
   "metadata": {},
   "source": [
    "# Import DINO\n",
    "Official repo: https://github.com/facebookresearch/dino"
   ]
  },
  {
   "cell_type": "code",
   "execution_count": 5,
   "metadata": {},
   "outputs": [
    {
     "name": "stdout",
     "output_type": "stream",
     "text": [
      "Please use the `--pretrained_weights` argument to indicate the path of the checkpoint to evaluate.\n",
      "Since no pretrained weights have been provided, we load the reference pretrained DINO weights.\n",
      "Model vit_small built.\n",
      "Embed dim 1536\n",
      "We load the reference pretrained linear weights from dino_deitsmall16_pretrain/dino_deitsmall16_linearweights.pth.\n"
     ]
    }
   ],
   "source": [
    "model, linear_classifier = get_dino()"
   ]
  },
  {
   "cell_type": "markdown",
   "metadata": {},
   "source": [
    "# Load data"
   ]
  },
  {
   "cell_type": "code",
   "execution_count": 6,
   "metadata": {},
   "outputs": [],
   "source": [
    "org_loader = create_loader(ORI_IMAGES_PATH, ORI_LABEL_PATH, INDEX_SUBSET, CLASS_SUBSET, BATCH_SIZE)"
   ]
  },
  {
   "cell_type": "code",
   "execution_count": 16,
   "metadata": {},
   "outputs": [],
   "source": [
    "from torchvision import transforms as pth_transforms\n",
    "\n",
    "loader_transform = pth_transforms.Compose([\n",
    "            pth_transforms.ToTensor()\n",
    "        ])"
   ]
  },
  {
   "cell_type": "code",
   "execution_count": 17,
   "metadata": {},
   "outputs": [],
   "source": [
    "adv_loader = create_loader(DN_IMAGES_PATH, DN_LABEL_PATH, INDEX_SUBSET, CLASS_SUBSET, BATCH_SIZE, transform = loader_transform)"
   ]
  },
  {
   "cell_type": "markdown",
   "metadata": {},
   "source": [
    "## Wrap model"
   ]
  },
  {
   "cell_type": "code",
   "execution_count": 8,
   "metadata": {},
   "outputs": [],
   "source": [
    "model_wrap = ViTWrapper(model, linear_classifier, DEVICE, n_last_blocks=4, avgpool_patchtokens=False)\n",
    "model_wrap= model_wrap.to(DEVICE)"
   ]
  },
  {
   "cell_type": "markdown",
   "metadata": {},
   "source": [
    "# Generate input to linear layer"
   ]
  },
  {
   "cell_type": "markdown",
   "metadata": {},
   "source": [
    "### Adversarial images"
   ]
  },
  {
   "cell_type": "code",
   "execution_count": 18,
   "metadata": {},
   "outputs": [
    {
     "name": "stderr",
     "output_type": "stream",
     "text": [
      "100%|██████████| 5/5 [00:04<00:00,  1.20it/s]\n"
     ]
    }
   ],
   "source": [
    "result = None\n",
    "img_labels = None\n",
    "imgs = None\n",
    "correct = 0\n",
    "\n",
    "with torch.no_grad():\n",
    "    for images, labels, names in tqdm(adv_loader):\n",
    "        x = images.to(DEVICE)\n",
    "        labels = labels.to(DEVICE)\n",
    "\n",
    "        # forward\n",
    "        intermediate_output = model_wrap.vits16.get_intermediate_layers(x, model_wrap.n_last_blocks)\n",
    "        output = torch.cat([x[:, 0] for x in intermediate_output], dim=-1)\n",
    "        if model_wrap.avgpool_patchtokens:\n",
    "            output = torch.cat((output.unsqueeze(-1), torch.mean(intermediate_output[-1][:, 1:], dim=1).unsqueeze(-1)), dim=-1)\n",
    "            output = output.reshape(output.shape[0], -1)\n",
    "        \n",
    "        if result is None:\n",
    "            result = output\n",
    "            img_labels = labels\n",
    "            imgs = images\n",
    "        else:\n",
    "            result = torch.cat([result, output], 0)\n",
    "            img_labels = torch.cat([img_labels, labels])\n",
    "            imgs = torch.cat([imgs, images], 0)\n",
    "        \n",
    "        outputs = model_wrap.linear_layer(output)\n",
    "\n",
    "        _, pre = torch.max(outputs.data, 1)\n",
    "\n",
    "        correct += (pre == labels).sum()"
   ]
  },
  {
   "cell_type": "code",
   "execution_count": 19,
   "metadata": {},
   "outputs": [
    {
     "data": {
      "text/plain": [
       "tensor(2, device='cuda:0')"
      ]
     },
     "execution_count": 19,
     "metadata": {},
     "output_type": "execute_result"
    }
   ],
   "source": [
    "correct"
   ]
  },
  {
   "cell_type": "markdown",
   "metadata": {},
   "source": [
    "### Original images"
   ]
  },
  {
   "cell_type": "code",
   "execution_count": 25,
   "metadata": {},
   "outputs": [
    {
     "name": "stderr",
     "output_type": "stream",
     "text": [
      "100%|██████████| 5/5 [00:05<00:00,  1.19s/it]\n"
     ]
    }
   ],
   "source": [
    "org_result = None\n",
    "org_img_labels = None\n",
    "correct = 0\n",
    "\n",
    "with torch.no_grad():\n",
    "    for images, labels in tqdm(org_loader):\n",
    "        x = images.to(DEVICE)\n",
    "        labels = labels.to(DEVICE)\n",
    "\n",
    "        # forward\n",
    "        intermediate_output = model_wrap.vits16.get_intermediate_layers(x, model_wrap.n_last_blocks)\n",
    "        output = torch.cat([x[:, 0] for x in intermediate_output], dim=-1)\n",
    "        if model_wrap.avgpool_patchtokens:\n",
    "            output = torch.cat((output.unsqueeze(-1), torch.mean(intermediate_output[-1][:, 1:], dim=1).unsqueeze(-1)), dim=-1)\n",
    "            output = output.reshape(output.shape[0], -1)\n",
    "        \n",
    "        if org_result is None:\n",
    "            org_result = output\n",
    "            org_img_labels = labels\n",
    "        else:\n",
    "            org_result = torch.cat([org_result, output], 0)\n",
    "            org_img_labels = torch.cat([org_img_labels, labels])\n",
    "            \n",
    "        outputs = model_wrap.linear_layer(output)\n",
    "\n",
    "        _, pre = torch.max(outputs.data, 1)\n",
    "\n",
    "        correct += (pre == labels).sum()"
   ]
  },
  {
   "cell_type": "code",
   "execution_count": 26,
   "metadata": {},
   "outputs": [
    {
     "data": {
      "text/plain": [
       "tensor(370, device='cuda:0')"
      ]
     },
     "execution_count": 26,
     "metadata": {},
     "output_type": "execute_result"
    }
   ],
   "source": [
    "correct"
   ]
  },
  {
   "cell_type": "code",
   "execution_count": 82,
   "metadata": {},
   "outputs": [],
   "source": [
    "# Map classes\n",
    "map_dict = {}\n",
    "inv_map_dict = {}\n",
    "labels = img_labels.numpy()\n",
    "i = 0\n",
    "\n",
    "for l in labels:\n",
    "    if l not in map_dict:\n",
    "        map_dict[l] = i\n",
    "        inv_map_dict[i] = l\n",
    "        i = i+1"
   ]
  },
  {
   "cell_type": "code",
   "execution_count": 83,
   "metadata": {},
   "outputs": [
    {
     "data": {
      "text/plain": [
       "{645: 0, 37: 1, 767: 2, 905: 3, 960: 4, 715: 5, 235: 6, 72: 7, 908: 8, 847: 9}"
      ]
     },
     "execution_count": 83,
     "metadata": {},
     "output_type": "execute_result"
    }
   ],
   "source": [
    "map_dict"
   ]
  },
  {
   "cell_type": "code",
   "execution_count": 84,
   "metadata": {},
   "outputs": [],
   "source": [
    "mapped_labels = [map_dict[i] for i in labels]\n",
    "org_mapped_labels = [map_dict[i] for i in org_img_labels.numpy()]"
   ]
  },
  {
   "cell_type": "markdown",
   "metadata": {},
   "source": [
    "# UMAP"
   ]
  },
  {
   "cell_type": "code",
   "execution_count": 69,
   "metadata": {},
   "outputs": [],
   "source": [
    "import umap\n",
    "import matplotlib.pyplot as plt"
   ]
  },
  {
   "cell_type": "code",
   "execution_count": 70,
   "metadata": {},
   "outputs": [],
   "source": [
    "reducer = umap.UMAP(random_state=SEED, n_neighbors = 250)"
   ]
  },
  {
   "cell_type": "code",
   "execution_count": 85,
   "metadata": {},
   "outputs": [],
   "source": [
    "combined = torch.cat([result, org_result], 0)\n",
    "combined_labels = mapped_labels+org_mapped_labels"
   ]
  },
  {
   "cell_type": "code",
   "execution_count": 72,
   "metadata": {},
   "outputs": [
    {
     "data": {
      "text/plain": [
       "UMAP(n_neighbors=250, random_state=42, tqdm_kwds={'bar_format': '{desc}: {percentage:3.0f}%| {bar} {n_fmt}/{total_fmt} [{elapsed}]', 'desc': 'Epochs completed', 'disable': True})"
      ]
     },
     "execution_count": 72,
     "metadata": {},
     "output_type": "execute_result"
    }
   ],
   "source": [
    "reducer.fit(combined.cpu().numpy())"
   ]
  },
  {
   "cell_type": "code",
   "execution_count": 73,
   "metadata": {},
   "outputs": [],
   "source": [
    "embedding = reducer.transform(combined.cpu().numpy())"
   ]
  },
  {
   "cell_type": "code",
   "execution_count": 86,
   "metadata": {},
   "outputs": [
    {
     "data": {
      "text/plain": [
       "<matplotlib.colorbar.Colorbar at 0x2b69330b64c0>"
      ]
     },
     "execution_count": 86,
     "metadata": {},
     "output_type": "execute_result"
    },
    {
     "data": {
      "image/png": "[encoded data removed]",
      "text/plain": [
       "<Figure size 720x576 with 2 Axes>"
      ]
     },
     "metadata": {
      "needs_background": "light"
     },
     "output_type": "display_data"
    }
   ],
   "source": [
    "plt.rcParams[\"figure.figsize\"] = (10,8)\n",
    "plt.scatter(embedding[:, 0], embedding[:, 1], c=combined_labels, cmap='Spectral', s=5)\n",
    "plt.gca().set_aspect('equal', 'datalim')\n",
    "plt.colorbar()"
   ]
  },
  {
   "cell_type": "code",
   "execution_count": 87,
   "metadata": {},
   "outputs": [
    {
     "data": {
      "text/html": [
       "\n",
       "    <div class=\"bk-root\">\n",
       "        <a href=\"https://bokeh.org\" target=\"_blank\" class=\"bk-logo bk-logo-small bk-logo-notebook\"></a>\n",
       "        <span id=\"7608\">Loading BokehJS ...</span>\n",
       "    </div>"
      ]
     },
     "metadata": {},
     "output_type": "display_data"
    },
    {
     "data": {
      "application/javascript": [
       "\n",
       "(function(root) {\n",
       "  function now() {\n",
       "    return new Date();\n",
       "  }\n",
       "\n",
       "  var force = true;\n",
       "\n",
       "  if (typeof root._bokeh_onload_callbacks === \"undefined\" || force === true) {\n",
       "    root._bokeh_onload_callbacks = [];\n",
       "    root._bokeh_is_loading = undefined;\n",
       "  }\n",
       "\n",
       "  var JS_MIME_TYPE = 'application/javascript';\n",
       "  var HTML_MIME_TYPE = 'text/html';\n",
       "  var EXEC_MIME_TYPE = 'application/vnd.bokehjs_exec.v0+json';\n",
       "  var CLASS_NAME = 'output_bokeh rendered_html';\n",
       "\n",
       "  /**\n",
       "   * Render data to the DOM node\n",
       "   */\n",
       "  function render(props, node) {\n",
       "    var script = document.createElement(\"script\");\n",
       "    node.appendChild(script);\n",
       "  }\n",
       "\n",
       "  /**\n",
       "   * Handle when an output is cleared or removed\n",
       "   */\n",
       "  function handleClearOutput(event, handle) {\n",
       "    var cell = handle.cell;\n",
       "\n",
       "    var id = cell.output_area._bokeh_element_id;\n",
       "    var server_id = cell.output_area._bokeh_server_id;\n",
       "    // Clean up Bokeh references\n",
       "    if (id != null && id in Bokeh.index) {\n",
       "      Bokeh.index[id].model.document.clear();\n",
       "      delete Bokeh.index[id];\n",
       "    }\n",
       "\n",
       "    if (server_id !== undefined) {\n",
       "      // Clean up Bokeh references\n",
       "      var cmd = \"from bokeh.io.state import curstate; print(curstate().uuid_to_server['\" + server_id + \"'].get_sessions()[0].document.roots[0]._id)\";\n",
       "      cell.notebook.kernel.execute(cmd, {\n",
       "        iopub: {\n",
       "          output: function(msg) {\n",
       "            var id = msg.content.text.trim();\n",
       "            if (id in Bokeh.index) {\n",
       "              Bokeh.index[id].model.document.clear();\n",
       "              delete Bokeh.index[id];\n",
       "            }\n",
       "          }\n",
       "        }\n",
       "      });\n",
       "      // Destroy server and session\n",
       "      var cmd = \"import bokeh.io.notebook as ion; ion.destroy_server('\" + server_id + \"')\";\n",
       "      cell.notebook.kernel.execute(cmd);\n",
       "    }\n",
       "  }\n",
       "\n",
       "  /**\n",
       "   * Handle when a new output is added\n",
       "   */\n",
       "  function handleAddOutput(event, handle) {\n",
       "    var output_area = handle.output_area;\n",
       "    var output = handle.output;\n",
       "\n",
       "    // limit handleAddOutput to display_data with EXEC_MIME_TYPE content only\n",
       "    if ((output.output_type != \"display_data\") || (!output.data.hasOwnProperty(EXEC_MIME_TYPE))) {\n",
       "      return\n",
       "    }\n",
       "\n",
       "    var toinsert = output_area.element.find(\".\" + CLASS_NAME.split(' ')[0]);\n",
       "\n",
       "    if (output.metadata[EXEC_MIME_TYPE][\"id\"] !== undefined) {\n",
       "      toinsert[toinsert.length - 1].firstChild.textContent = output.data[JS_MIME_TYPE];\n",
       "      // store reference to embed id on output_area\n",
       "      output_area._bokeh_element_id = output.metadata[EXEC_MIME_TYPE][\"id\"];\n",
       "    }\n",
       "    if (output.metadata[EXEC_MIME_TYPE][\"server_id\"] !== undefined) {\n",
       "      var bk_div = document.createElement(\"div\");\n",
       "      bk_div.innerHTML = output.data[HTML_MIME_TYPE];\n",
       "      var script_attrs = bk_div.children[0].attributes;\n",
       "      for (var i = 0; i < script_attrs.length; i++) {\n",
       "        toinsert[toinsert.length - 1].firstChild.setAttribute(script_attrs[i].name, script_attrs[i].value);\n",
       "        toinsert[toinsert.length - 1].firstChild.textContent = bk_div.children[0].textContent\n",
       "      }\n",
       "      // store reference to server id on output_area\n",
       "      output_area._bokeh_server_id = output.metadata[EXEC_MIME_TYPE][\"server_id\"];\n",
       "    }\n",
       "  }\n",
       "\n",
       "  function register_renderer(events, OutputArea) {\n",
       "\n",
       "    function append_mime(data, metadata, element) {\n",
       "      // create a DOM node to render to\n",
       "      var toinsert = this.create_output_subarea(\n",
       "        metadata,\n",
       "        CLASS_NAME,\n",
       "        EXEC_MIME_TYPE\n",
       "      );\n",
       "      this.keyboard_manager.register_events(toinsert);\n",
       "      // Render to node\n",
       "      var props = {data: data, metadata: metadata[EXEC_MIME_TYPE]};\n",
       "      render(props, toinsert[toinsert.length - 1]);\n",
       "      element.append(toinsert);\n",
       "      return toinsert\n",
       "    }\n",
       "\n",
       "    /* Handle when an output is cleared or removed */\n",
       "    events.on('clear_output.CodeCell', handleClearOutput);\n",
       "    events.on('delete.Cell', handleClearOutput);\n",
       "\n",
       "    /* Handle when a new output is added */\n",
       "    events.on('output_added.OutputArea', handleAddOutput);\n",
       "\n",
       "    /**\n",
       "     * Register the mime type and append_mime function with output_area\n",
       "     */\n",
       "    OutputArea.prototype.register_mime_type(EXEC_MIME_TYPE, append_mime, {\n",
       "      /* Is output safe? */\n",
       "      safe: true,\n",
       "      /* Index of renderer in `output_area.display_order` */\n",
       "      index: 0\n",
       "    });\n",
       "  }\n",
       "\n",
       "  // register the mime type if in Jupyter Notebook environment and previously unregistered\n",
       "  if (root.Jupyter !== undefined) {\n",
       "    var events = require('base/js/events');\n",
       "    var OutputArea = require('notebook/js/outputarea').OutputArea;\n",
       "\n",
       "    if (OutputArea.prototype.mime_types().indexOf(EXEC_MIME_TYPE) == -1) {\n",
       "      register_renderer(events, OutputArea);\n",
       "    }\n",
       "  }\n",
       "\n",
       "  \n",
       "  if (typeof (root._bokeh_timeout) === \"undefined\" || force === true) {\n",
       "    root._bokeh_timeout = Date.now() + 5000;\n",
       "    root._bokeh_failed_load = false;\n",
       "  }\n",
       "\n",
       "  var NB_LOAD_WARNING = {'data': {'text/html':\n",
       "     \"<div style='background-color: #fdd'>\\n\"+\n",
       "     \"<p>\\n\"+\n",
       "     \"BokehJS does not appear to have successfully loaded. If loading BokehJS from CDN, this \\n\"+\n",
       "     \"may be due to a slow or bad network connection. Possible fixes:\\n\"+\n",
       "     \"</p>\\n\"+\n",
       "     \"<ul>\\n\"+\n",
       "     \"<li>re-rerun `output_notebook()` to attempt to load from CDN again, or</li>\\n\"+\n",
       "     \"<li>use INLINE resources instead, as so:</li>\\n\"+\n",
       "     \"</ul>\\n\"+\n",
       "     \"<code>\\n\"+\n",
       "     \"from bokeh.resources import INLINE\\n\"+\n",
       "     \"output_notebook(resources=INLINE)\\n\"+\n",
       "     \"</code>\\n\"+\n",
       "     \"</div>\"}};\n",
       "\n",
       "  function display_loaded() {\n",
       "    var el = document.getElementById(\"7608\");\n",
       "    if (el != null) {\n",
       "      el.textContent = \"BokehJS is loading...\";\n",
       "    }\n",
       "    if (root.Bokeh !== undefined) {\n",
       "      if (el != null) {\n",
       "        el.textContent = \"BokehJS \" + root.Bokeh.version + \" successfully loaded.\";\n",
       "      }\n",
       "    } else if (Date.now() < root._bokeh_timeout) {\n",
       "      setTimeout(display_loaded, 100)\n",
       "    }\n",
       "  }\n",
       "\n",
       "\n",
       "  function run_callbacks() {\n",
       "    try {\n",
       "      root._bokeh_onload_callbacks.forEach(function(callback) {\n",
       "        if (callback != null)\n",
       "          callback();\n",
       "      });\n",
       "    } finally {\n",
       "      delete root._bokeh_onload_callbacks\n",
       "    }\n",
       "    console.debug(\"Bokeh: all callbacks have finished\");\n",
       "  }\n",
       "\n",
       "  function load_libs(css_urls, js_urls, callback) {\n",
       "    if (css_urls == null) css_urls = [];\n",
       "    if (js_urls == null) js_urls = [];\n",
       "\n",
       "    root._bokeh_onload_callbacks.push(callback);\n",
       "    if (root._bokeh_is_loading > 0) {\n",
       "      console.debug(\"Bokeh: BokehJS is being loaded, scheduling callback at\", now());\n",
       "      return null;\n",
       "    }\n",
       "    if (js_urls == null || js_urls.length === 0) {\n",
       "      run_callbacks();\n",
       "      return null;\n",
       "    }\n",
       "    console.debug(\"Bokeh: BokehJS not loaded, scheduling load and callback at\", now());\n",
       "    root._bokeh_is_loading = css_urls.length + js_urls.length;\n",
       "\n",
       "    function on_load() {\n",
       "      root._bokeh_is_loading--;\n",
       "      if (root._bokeh_is_loading === 0) {\n",
       "        console.debug(\"Bokeh: all BokehJS libraries/stylesheets loaded\");\n",
       "        run_callbacks()\n",
       "      }\n",
       "    }\n",
       "\n",
       "    function on_error() {\n",
       "      console.error(\"failed to load \" + url);\n",
       "    }\n",
       "\n",
       "    for (var i = 0; i < css_urls.length; i++) {\n",
       "      var url = css_urls[i];\n",
       "      const element = document.createElement(\"link\");\n",
       "      element.onload = on_load;\n",
       "      element.onerror = on_error;\n",
       "      element.rel = \"stylesheet\";\n",
       "      element.type = \"text/css\";\n",
       "      element.href = url;\n",
       "      console.debug(\"Bokeh: injecting link tag for BokehJS stylesheet: \", url);\n",
       "      document.body.appendChild(element);\n",
       "    }\n",
       "\n",
       "    const hashes = {\"https://cdn.bokeh.org/bokeh/release/bokeh-2.2.1.min.js\": \"qkRvDQVAIfzsJo40iRBbxt6sttt0hv4lh74DG7OK4MCHv4C5oohXYoHUM5W11uqS\", \"https://cdn.bokeh.org/bokeh/release/bokeh-widgets-2.2.1.min.js\": \"Sb7Mr06a9TNlet/GEBeKaf5xH3eb6AlCzwjtU82wNPyDrnfoiVl26qnvlKjmcAd+\", \"https://cdn.bokeh.org/bokeh/release/bokeh-tables-2.2.1.min.js\": \"HaJ15vgfmcfRtB4c4YBOI4f1MUujukqInOWVqZJZZGK7Q+ivud0OKGSTn/Vm2iso\"};\n",
       "\n",
       "    for (var i = 0; i < js_urls.length; i++) {\n",
       "      var url = js_urls[i];\n",
       "      var element = document.createElement('script');\n",
       "      element.onload = on_load;\n",
       "      element.onerror = on_error;\n",
       "      element.async = false;\n",
       "      element.src = url;\n",
       "      if (url in hashes) {\n",
       "        element.crossOrigin = \"anonymous\";\n",
       "        element.integrity = \"sha384-\" + hashes[url];\n",
       "      }\n",
       "      console.debug(\"Bokeh: injecting script tag for BokehJS library: \", url);\n",
       "      document.head.appendChild(element);\n",
       "    }\n",
       "  };\n",
       "\n",
       "  function inject_raw_css(css) {\n",
       "    const element = document.createElement(\"style\");\n",
       "    element.appendChild(document.createTextNode(css));\n",
       "    document.body.appendChild(element);\n",
       "  }\n",
       "\n",
       "  \n",
       "  var js_urls = [\"https://cdn.bokeh.org/bokeh/release/bokeh-2.2.1.min.js\", \"https://cdn.bokeh.org/bokeh/release/bokeh-widgets-2.2.1.min.js\", \"https://cdn.bokeh.org/bokeh/release/bokeh-tables-2.2.1.min.js\"];\n",
       "  var css_urls = [];\n",
       "  \n",
       "\n",
       "  var inline_js = [\n",
       "    function(Bokeh) {\n",
       "      Bokeh.set_log_level(\"info\");\n",
       "    },\n",
       "    function(Bokeh) {\n",
       "    \n",
       "    \n",
       "    }\n",
       "  ];\n",
       "\n",
       "  function run_inline_js() {\n",
       "    \n",
       "    if (root.Bokeh !== undefined || force === true) {\n",
       "      \n",
       "    for (var i = 0; i < inline_js.length; i++) {\n",
       "      inline_js[i].call(root, root.Bokeh);\n",
       "    }\n",
       "    if (force === true) {\n",
       "        display_loaded();\n",
       "      }} else if (Date.now() < root._bokeh_timeout) {\n",
       "      setTimeout(run_inline_js, 100);\n",
       "    } else if (!root._bokeh_failed_load) {\n",
       "      console.log(\"Bokeh: BokehJS failed to load within specified timeout.\");\n",
       "      root._bokeh_failed_load = true;\n",
       "    } else if (force !== true) {\n",
       "      var cell = $(document.getElementById(\"7608\")).parents('.cell').data().cell;\n",
       "      cell.output_area.append_execute_result(NB_LOAD_WARNING)\n",
       "    }\n",
       "\n",
       "  }\n",
       "\n",
       "  if (root._bokeh_is_loading === 0) {\n",
       "    console.debug(\"Bokeh: BokehJS loaded, going straight to plotting\");\n",
       "    run_inline_js();\n",
       "  } else {\n",
       "    load_libs(css_urls, js_urls, function() {\n",
       "      console.debug(\"Bokeh: BokehJS plotting callback run at\", now());\n",
       "      run_inline_js();\n",
       "    });\n",
       "  }\n",
       "}(window));"
      ],
      "application/vnd.bokehjs_load.v0+json": "\n(function(root) {\n  function now() {\n    return new Date();\n  }\n\n  var force = true;\n\n  if (typeof root._bokeh_onload_callbacks === \"undefined\" || force === true) {\n    root._bokeh_onload_callbacks = [];\n    root._bokeh_is_loading = undefined;\n  }\n\n  \n\n  \n  if (typeof (root._bokeh_timeout) === \"undefined\" || force === true) {\n    root._bokeh_timeout = Date.now() + 5000;\n    root._bokeh_failed_load = false;\n  }\n\n  var NB_LOAD_WARNING = {'data': {'text/html':\n     \"<div style='background-color: #fdd'>\\n\"+\n     \"<p>\\n\"+\n     \"BokehJS does not appear to have successfully loaded. If loading BokehJS from CDN, this \\n\"+\n     \"may be due to a slow or bad network connection. Possible fixes:\\n\"+\n     \"</p>\\n\"+\n     \"<ul>\\n\"+\n     \"<li>re-rerun `output_notebook()` to attempt to load from CDN again, or</li>\\n\"+\n     \"<li>use INLINE resources instead, as so:</li>\\n\"+\n     \"</ul>\\n\"+\n     \"<code>\\n\"+\n     \"from bokeh.resources import INLINE\\n\"+\n     \"output_notebook(resources=INLINE)\\n\"+\n     \"</code>\\n\"+\n     \"</div>\"}};\n\n  function display_loaded() {\n    var el = document.getElementById(\"7608\");\n    if (el != null) {\n      el.textContent = \"BokehJS is loading...\";\n    }\n    if (root.Bokeh !== undefined) {\n      if (el != null) {\n        el.textContent = \"BokehJS \" + root.Bokeh.version + \" successfully loaded.\";\n      }\n    } else if (Date.now() < root._bokeh_timeout) {\n      setTimeout(display_loaded, 100)\n    }\n  }\n\n\n  function run_callbacks() {\n    try {\n      root._bokeh_onload_callbacks.forEach(function(callback) {\n        if (callback != null)\n          callback();\n      });\n    } finally {\n      delete root._bokeh_onload_callbacks\n    }\n    console.debug(\"Bokeh: all callbacks have finished\");\n  }\n\n  function load_libs(css_urls, js_urls, callback) {\n    if (css_urls == null) css_urls = [];\n    if (js_urls == null) js_urls = [];\n\n    root._bokeh_onload_callbacks.push(callback);\n    if (root._bokeh_is_loading > 0) {\n      console.debug(\"Bokeh: BokehJS is being loaded, scheduling callback at\", now());\n      return null;\n    }\n    if (js_urls == null || js_urls.length === 0) {\n      run_callbacks();\n      return null;\n    }\n    console.debug(\"Bokeh: BokehJS not loaded, scheduling load and callback at\", now());\n    root._bokeh_is_loading = css_urls.length + js_urls.length;\n\n    function on_load() {\n      root._bokeh_is_loading--;\n      if (root._bokeh_is_loading === 0) {\n        console.debug(\"Bokeh: all BokehJS libraries/stylesheets loaded\");\n        run_callbacks()\n      }\n    }\n\n    function on_error() {\n      console.error(\"failed to load \" + url);\n    }\n\n    for (var i = 0; i < css_urls.length; i++) {\n      var url = css_urls[i];\n      const element = document.createElement(\"link\");\n      element.onload = on_load;\n      element.onerror = on_error;\n      element.rel = \"stylesheet\";\n      element.type = \"text/css\";\n      element.href = url;\n      console.debug(\"Bokeh: injecting link tag for BokehJS stylesheet: \", url);\n      document.body.appendChild(element);\n    }\n\n    const hashes = {\"https://cdn.bokeh.org/bokeh/release/bokeh-2.2.1.min.js\": \"qkRvDQVAIfzsJo40iRBbxt6sttt0hv4lh74DG7OK4MCHv4C5oohXYoHUM5W11uqS\", \"https://cdn.bokeh.org/bokeh/release/bokeh-widgets-2.2.1.min.js\": \"Sb7Mr06a9TNlet/GEBeKaf5xH3eb6AlCzwjtU82wNPyDrnfoiVl26qnvlKjmcAd+\", \"https://cdn.bokeh.org/bokeh/release/bokeh-tables-2.2.1.min.js\": \"HaJ15vgfmcfRtB4c4YBOI4f1MUujukqInOWVqZJZZGK7Q+ivud0OKGSTn/Vm2iso\"};\n\n    for (var i = 0; i < js_urls.length; i++) {\n      var url = js_urls[i];\n      var element = document.createElement('script');\n      element.onload = on_load;\n      element.onerror = on_error;\n      element.async = false;\n      element.src = url;\n      if (url in hashes) {\n        element.crossOrigin = \"anonymous\";\n        element.integrity = \"sha384-\" + hashes[url];\n      }\n      console.debug(\"Bokeh: injecting script tag for BokehJS library: \", url);\n      document.head.appendChild(element);\n    }\n  };\n\n  function inject_raw_css(css) {\n    const element = document.createElement(\"style\");\n    element.appendChild(document.createTextNode(css));\n    document.body.appendChild(element);\n  }\n\n  \n  var js_urls = [\"https://cdn.bokeh.org/bokeh/release/bokeh-2.2.1.min.js\", \"https://cdn.bokeh.org/bokeh/release/bokeh-widgets-2.2.1.min.js\", \"https://cdn.bokeh.org/bokeh/release/bokeh-tables-2.2.1.min.js\"];\n  var css_urls = [];\n  \n\n  var inline_js = [\n    function(Bokeh) {\n      Bokeh.set_log_level(\"info\");\n    },\n    function(Bokeh) {\n    \n    \n    }\n  ];\n\n  function run_inline_js() {\n    \n    if (root.Bokeh !== undefined || force === true) {\n      \n    for (var i = 0; i < inline_js.length; i++) {\n      inline_js[i].call(root, root.Bokeh);\n    }\n    if (force === true) {\n        display_loaded();\n      }} else if (Date.now() < root._bokeh_timeout) {\n      setTimeout(run_inline_js, 100);\n    } else if (!root._bokeh_failed_load) {\n      console.log(\"Bokeh: BokehJS failed to load within specified timeout.\");\n      root._bokeh_failed_load = true;\n    } else if (force !== true) {\n      var cell = $(document.getElementById(\"7608\")).parents('.cell').data().cell;\n      cell.output_area.append_execute_result(NB_LOAD_WARNING)\n    }\n\n  }\n\n  if (root._bokeh_is_loading === 0) {\n    console.debug(\"Bokeh: BokehJS loaded, going straight to plotting\");\n    run_inline_js();\n  } else {\n    load_libs(css_urls, js_urls, function() {\n      console.debug(\"Bokeh: BokehJS plotting callback run at\", now());\n      run_inline_js();\n    });\n  }\n}(window));"
     },
     "metadata": {},
     "output_type": "display_data"
    }
   ],
   "source": [
    "# Fancy plot\n",
    "from bokeh.plotting import figure, show, output_notebook\n",
    "from bokeh.models import HoverTool, ColumnDataSource, CategoricalColorMapper, Legend\n",
    "from bokeh.palettes import Spectral10, Category10\n",
    "import pandas as pd\n",
    "from io import BytesIO\n",
    "from PIL import Image\n",
    "import base64\n",
    "\n",
    "output_notebook()"
   ]
  },
  {
   "cell_type": "code",
   "execution_count": 90,
   "metadata": {},
   "outputs": [
    {
     "data": {
      "text/html": [
       "\n",
       "\n",
       "\n",
       "\n",
       "\n",
       "\n",
       "  <div class=\"bk-root\" id=\"bb995c50-4f06-4f7a-adb7-b52be4efecfb\" data-root-id=\"7611\"></div>\n"
      ]
     },
     "metadata": {},
     "output_type": "display_data"
    },
    {
     "data": {
      "application/javascript": [
       "(function(root) {\n",
       "  function embed_document(root) {\n",
       "    \n",
       "  var docs_json = {\"40f0d04b-ceaa-45fb-8cd5-7b2e8cee5cee\":{\"roots\":{\"references\":[{\"attributes\":{\"below\":[{\"id\":\"7622\"}],\"center\":[{\"id\":\"7625\"},{\"id\":\"7629\"}],\"left\":[{\"id\":\"7626\"}],\"outline_line_alpha\":0.8,\"outline_line_color\":\"gray\",\"outline_line_width\":2,\"plot_height\":400,\"renderers\":[{\"id\":\"7645\"}],\"right\":[{\"id\":\"7641\"}],\"title\":{\"id\":\"7612\"},\"toolbar\":{\"id\":\"7634\"},\"x_range\":{\"id\":\"7614\"},\"x_scale\":{\"id\":\"7618\"},\"y_range\":{\"id\":\"7616\"},\"y_scale\":{\"id\":\"7620\"}},\"id\":\"7611\",\"subtype\":\"Figure\",\"type\":\"Plot\"},{\"attributes\":{},\"id\":\"7627\",\"type\":\"BasicTicker\"},{\"attributes\":{},\"id\":\"7652\",\"type\":\"Selection\"},{\"attributes\":{},\"id\":\"7630\",\"type\":\"PanTool\"},{\"attributes\":{\"label\":{\"field\":\"true_label\"},\"renderers\":[{\"id\":\"7645\"}]},\"id\":\"7654\",\"type\":\"LegendItem\"},{\"attributes\":{},\"id\":\"7653\",\"type\":\"UnionRenderers\"},{\"attributes\":{\"source\":{\"id\":\"7609\"}},\"id\":\"7646\",\"type\":\"CDSView\"},{\"attributes\":{},\"id\":\"7616\",\"type\":\"DataRange1d\"},{\"attributes\":{\"text\":\"\"},\"id\":\"7612\",\"type\":\"Title\"},{\"attributes\":{},\"id\":\"7618\",\"type\":\"LinearScale\"},{\"attributes\":{},\"id\":\"7620\",\"type\":\"LinearScale\"},{\"attributes\":{\"data\":{\"index\":[0,1,2,3,4,5,6,7,8,9,10,11,12,13,14,15,16,17,18,19,20,21,22,23,24,25,26,27,28,29,30,31,32,33,34,35,36,37,38,39,40,41,42,43,44,45,46,47,48,49,50,51,52,53,54,55,56,57,58,59,60,61,62,63,64,65,66,67,68,69,70,71,72,73,74,75,76,77,78,79,80,81,82,83,84,85,86,87,88,89,90,91,92,93,94,95,96,97,98,99,100,101,102,103,104,105,106,107,108,109,110,111,112,113,114,115,116,117,118,119,120,121,122,123,124,125,126,127,128,129,130,131,132,133,134,135,136,137,138,139,140,141,142,143,144,145,146,147,148,149,150,151,152,153,154,155,156,157,158,159,160,161,162,163,164,165,166,167,168,169,170,171,172,173,174,175,176,177,178,179,180,181,182,183,184,185,186,187,188,189,190,191,192,193,194,195,196,197,198,199,200,201,202,203,204,205,206,207,208,209,210,211,212,213,214,215,216,217,218,219,220,221,222,223,224,225,226,227,228,229,230,231,232,233,234,235,236,237,238,239,240,241,242,243,244,245,246,247,248,249,250,251,252,253,254,255,256,257,258,259,260,261,262,263,264,265,266,267,268,269,270,271,272,273,274,275,276,277,278,279,280,281,282,283,284,285,286,287,288,289,290,291,292,293,294,295,296,297,298,299,300,301,302,303,304,305,306,307,308,309,310,311,312,313,314,315,316,317,318,319,320,321,322,323,324,325,326,327,328,329,330,331,332,333,334,335,336,337,338,339,340,341,342,343,344,345,346,347,348,349,350,351,352,353,354,355,356,357,358,359,360,361,362,363,364,365,366,367,368,369,370,371,372,373,374,375,376,377,378,379,380,381,382,383,384,385,386,387,388,389,390,391,392,393,394,395,396,397,398,399,400,401,402,403,404,405,406,407,408,409,410,411,412,413,414,415,416,417,418,419,420,421,422,423,424,425,426,427,428,429,430,431,432,433,434,435,436,437,438,439,440,441,442,443,444,445,446,447,448,449,450,451,452,453,454,455,456,457,458,459,460,461,462,463,464,465,466,467,468,469,470,471,472,473,474,475,476,477,478,479,480,481,482,483,484,485,486,487,488,489,490,491,492,493,494,495,496,497,498,499,500,501,502,503,504,505,506,507,508,509,510,511,512,513,514,515,516,517,518,519,520,521,522,523,524,525,526,527,528,529,530,531,532,533,534,535,536,537,538,539,540,541,542,543,544,545,546,547,548,549,550,551,552,553,554,555,556,557,558,559,560,561,562,563,564,565,566,567,568,569,570,571,572,573,574,575,576,577,578,579,580,581,582,583,584,585,586,587,588,589,590,591,592,593,594,595,596,597,598,599,600,601,602,603,604,605,606,607,608,609,610,611,612,613,614,615,616,617,618,619,620,621,622,623,624,625,626,627,628,629,630,631,632,633,634,635,636,637,638,639,640,641,642,643,644,645,646,647,648,649,650,651,652,653,654,655,656,657,658,659,660,661,662,663,664,665,666,667,668,669,670,671,672,673,674,675,676,677,678,679,680,681,682,683,684,685,686,687,688,689,690,691,692,693,694,695,696,697,698,699,700,701,702,703,704,705,706,707,708,709,710,711,712,713,714,715,716,717,718,719,720,721,722,723,724,725,726,727,728,729,730,731,732,733,734,735,736,737,738,739,740,741,742,743,744,745,746,747,748,749,750,751,752,753,754,755,756,757,758,759,760,761,762,763,764,765,766,767,768,769,770,771,772,773,774,775,776,777,778,779,780,781,782,783,784,785,786,787,788,789,790,791,792,793,794,795,796,797,798,799,800,801,802,803,804,805,806,807,808,809,810,811,812,813,814,815,816,817,818,819,820,821,822,823,824,825,826,827,828,829,830,831,832,833,834,835,836,837,838,839,840,841,842,843,844,845,846,847,848,849,850,851,852,853,854,855,856,857,858,859,860,861,862,863,864,865,866,867,868,869,870,871,872,873,874,875,876,877,878,879,880,881,882,883,884,885,886,887,888,889,890,891,892,893,894,895,896,897,898,899,900,901,902,903,904,905,906,907,908,909,910,911,912,913,914,915,916,917,918,919,920,921,922,923,924,925,926,927,928,929,930,931,932,933,934,935,936,937,938,939,940,941,942,943,944,945,946,947,948,949,950,951,952,953,954,955,956,957,958,959,960,961,962,963,964,965,966,967,968,969,970,971,972,973,974,975,976,977,978,979,980,981,982,983,984,985,986,987,988,989,990,991,992,993,994,995,996,997,998,999],\"label\":[\"0\",\"1\",\"2\",\"3\",\"4\",\"0\",\"5\",\"6\",\"7\",\"7\",\"4\",\"2\",\"5\",\"5\",\"0\",\"7\",\"2\",\"4\",\"7\",\"4\",\"1\",\"1\",\"6\",\"5\",\"4\",\"8\",\"2\",\"2\",\"5\",\"5\",\"6\",\"7\",\"9\",\"9\",\"9\",\"3\",\"1\",\"1\",\"2\",\"1\",\"1\",\"9\",\"8\",\"9\",\"3\",\"1\",\"5\",\"5\",\"4\",\"7\",\"1\",\"9\",\"1\",\"5\",\"1\",\"8\",\"4\",\"0\",\"2\",\"0\",\"7\",\"7\",\"7\",\"2\",\"9\",\"9\",\"6\",\"6\",\"6\",\"3\",\"1\",\"1\",\"4\",\"0\",\"5\",\"4\",\"5\",\"9\",\"6\",\"4\",\"5\",\"8\",\"8\",\"7\",\"9\",\"2\",\"2\",\"9\",\"0\",\"2\",\"1\",\"4\",\"8\",\"0\",\"2\",\"3\",\"2\",\"6\",\"4\",\"6\",\"2\",\"9\",\"8\",\"4\",\"4\",\"9\",\"7\",\"7\",\"8\",\"1\",\"6\",\"0\",\"7\",\"0\",\"6\",\"1\",\"3\",\"1\",\"5\",\"0\",\"5\",\"0\",\"3\",\"7\",\"5\",\"3\",\"3\",\"8\",\"3\",\"3\",\"1\",\"6\",\"7\",\"6\",\"5\",\"0\",\"5\",\"4\",\"1\",\"6\",\"0\",\"0\",\"0\",\"3\",\"2\",\"1\",\"8\",\"6\",\"0\",\"6\",\"8\",\"6\",\"5\",\"6\",\"0\",\"5\",\"4\",\"1\",\"3\",\"3\",\"6\",\"3\",\"0\",\"6\",\"4\",\"3\",\"0\",\"1\",\"2\",\"5\",\"3\",\"7\",\"9\",\"4\",\"2\",\"2\",\"3\",\"9\",\"2\",\"3\",\"3\",\"4\",\"0\",\"8\",\"7\",\"9\",\"9\",\"1\",\"4\",\"8\",\"4\",\"0\",\"0\",\"5\",\"8\",\"6\",\"0\",\"8\",\"5\",\"1\",\"8\",\"1\",\"5\",\"2\",\"5\",\"5\",\"1\",\"6\",\"1\",\"2\",\"8\",\"8\",\"8\",\"4\",\"8\",\"8\",\"7\",\"9\",\"3\",\"7\",\"7\",\"0\",\"3\",\"0\",\"2\",\"6\",\"2\",\"9\",\"6\",\"7\",\"6\",\"3\",\"8\",\"0\",\"5\",\"7\",\"2\",\"8\",\"3\",\"6\",\"3\",\"4\",\"2\",\"8\",\"2\",\"7\",\"3\",\"3\",\"0\",\"0\",\"8\",\"9\",\"9\",\"7\",\"2\",\"4\",\"8\",\"7\",\"7\",\"6\",\"8\",\"0\",\"7\",\"4\",\"2\",\"0\",\"3\",\"3\",\"5\",\"1\",\"7\",\"8\",\"7\",\"8\",\"4\",\"9\",\"0\",\"4\",\"8\",\"6\",\"9\",\"7\",\"5\",\"9\",\"2\",\"7\",\"0\",\"0\",\"8\",\"6\",\"0\",\"1\",\"4\",\"6\",\"1\",\"8\",\"7\",\"0\",\"3\",\"9\",\"5\",\"6\",\"7\",\"8\",\"8\",\"2\",\"3\",\"2\",\"3\",\"2\",\"6\",\"0\",\"3\",\"4\",\"9\",\"3\",\"1\",\"9\",\"9\",\"0\",\"1\",\"3\",\"4\",\"5\",\"6\",\"4\",\"3\",\"2\",\"6\",\"7\",\"9\",\"8\",\"8\",\"6\",\"1\",\"8\",\"8\",\"0\",\"6\",\"6\",\"6\",\"3\",\"2\",\"9\",\"2\",\"7\",\"4\",\"5\",\"6\",\"9\",\"8\",\"6\",\"4\",\"7\",\"9\",\"4\",\"1\",\"3\",\"5\",\"8\",\"7\",\"9\",\"4\",\"0\",\"6\",\"5\",\"5\",\"4\",\"0\",\"1\",\"1\",\"0\",\"2\",\"2\",\"7\",\"0\",\"0\",\"5\",\"7\",\"0\",\"2\",\"7\",\"3\",\"9\",\"7\",\"8\",\"8\",\"3\",\"9\",\"1\",\"8\",\"8\",\"2\",\"2\",\"2\",\"1\",\"5\",\"1\",\"1\",\"9\",\"1\",\"0\",\"4\",\"6\",\"1\",\"9\",\"5\",\"7\",\"0\",\"4\",\"4\",\"9\",\"5\",\"5\",\"3\",\"7\",\"2\",\"2\",\"5\",\"7\",\"1\",\"5\",\"9\",\"7\",\"1\",\"3\",\"3\",\"9\",\"4\",\"3\",\"5\",\"2\",\"2\",\"4\",\"9\",\"6\",\"9\",\"5\",\"7\",\"5\",\"6\",\"7\",\"4\",\"4\",\"8\",\"1\",\"3\",\"0\",\"9\",\"5\",\"4\",\"5\",\"3\",\"8\",\"0\",\"9\",\"4\",\"3\",\"8\",\"6\",\"2\",\"3\",\"5\",\"6\",\"1\",\"0\",\"3\",\"8\",\"1\",\"8\",\"9\",\"4\",\"6\",\"9\",\"6\",\"2\",\"7\",\"9\",\"4\",\"4\",\"3\",\"2\",\"7\",\"1\",\"5\",\"6\",\"1\",\"4\",\"9\",\"9\",\"7\",\"2\",\"8\",\"4\",\"6\",\"5\",\"9\",\"2\",\"1\",\"5\",\"0\",\"1\",\"2\",\"3\",\"4\",\"0\",\"5\",\"6\",\"7\",\"7\",\"4\",\"2\",\"5\",\"5\",\"0\",\"7\",\"2\",\"4\",\"7\",\"4\",\"1\",\"1\",\"6\",\"5\",\"4\",\"8\",\"2\",\"2\",\"5\",\"5\",\"6\",\"7\",\"9\",\"9\",\"9\",\"3\",\"1\",\"1\",\"2\",\"1\",\"1\",\"9\",\"8\",\"9\",\"3\",\"1\",\"5\",\"5\",\"4\",\"7\",\"1\",\"9\",\"1\",\"5\",\"1\",\"8\",\"4\",\"0\",\"2\",\"0\",\"7\",\"7\",\"7\",\"2\",\"9\",\"9\",\"6\",\"6\",\"6\",\"3\",\"1\",\"1\",\"4\",\"0\",\"5\",\"4\",\"5\",\"9\",\"6\",\"4\",\"5\",\"8\",\"8\",\"7\",\"9\",\"2\",\"2\",\"9\",\"0\",\"2\",\"1\",\"4\",\"8\",\"0\",\"2\",\"3\",\"2\",\"6\",\"4\",\"6\",\"2\",\"9\",\"8\",\"4\",\"4\",\"9\",\"7\",\"7\",\"8\",\"1\",\"6\",\"0\",\"7\",\"0\",\"6\",\"1\",\"3\",\"1\",\"5\",\"0\",\"5\",\"0\",\"3\",\"7\",\"5\",\"3\",\"3\",\"8\",\"3\",\"3\",\"1\",\"6\",\"7\",\"6\",\"5\",\"0\",\"5\",\"4\",\"1\",\"6\",\"0\",\"0\",\"0\",\"3\",\"2\",\"1\",\"8\",\"6\",\"0\",\"6\",\"8\",\"6\",\"5\",\"6\",\"0\",\"5\",\"4\",\"1\",\"3\",\"3\",\"6\",\"3\",\"0\",\"6\",\"4\",\"3\",\"0\",\"1\",\"2\",\"5\",\"3\",\"7\",\"9\",\"4\",\"2\",\"2\",\"3\",\"9\",\"2\",\"3\",\"3\",\"4\",\"0\",\"8\",\"7\",\"9\",\"9\",\"1\",\"4\",\"8\",\"4\",\"0\",\"0\",\"5\",\"8\",\"6\",\"0\",\"8\",\"5\",\"1\",\"8\",\"1\",\"5\",\"2\",\"5\",\"5\",\"1\",\"6\",\"1\",\"2\",\"8\",\"8\",\"8\",\"4\",\"8\",\"8\",\"7\",\"9\",\"3\",\"7\",\"7\",\"0\",\"3\",\"0\",\"2\",\"6\",\"2\",\"9\",\"6\",\"7\",\"6\",\"3\",\"8\",\"0\",\"5\",\"7\",\"2\",\"8\",\"3\",\"6\",\"3\",\"4\",\"2\",\"8\",\"2\",\"7\",\"3\",\"3\",\"0\",\"0\",\"8\",\"9\",\"9\",\"7\",\"2\",\"4\",\"8\",\"7\",\"7\",\"6\",\"8\",\"0\",\"7\",\"4\",\"2\",\"0\",\"3\",\"3\",\"5\",\"1\",\"7\",\"8\",\"7\",\"8\",\"4\",\"9\",\"0\",\"4\",\"8\",\"6\",\"9\",\"7\",\"5\",\"9\",\"2\",\"7\",\"0\",\"0\",\"8\",\"6\",\"0\",\"1\",\"4\",\"6\",\"1\",\"8\",\"7\",\"0\",\"3\",\"9\",\"5\",\"6\",\"7\",\"8\",\"8\",\"2\",\"3\",\"2\",\"3\",\"2\",\"6\",\"0\",\"3\",\"4\",\"9\",\"3\",\"1\",\"9\",\"9\",\"0\",\"1\",\"3\",\"4\",\"5\",\"6\",\"4\",\"3\",\"2\",\"6\",\"7\",\"9\",\"8\",\"8\",\"6\",\"1\",\"8\",\"8\",\"0\",\"6\",\"6\",\"6\",\"3\",\"2\",\"9\",\"2\",\"7\",\"4\",\"5\",\"6\",\"9\",\"8\",\"6\",\"4\",\"7\",\"9\",\"4\",\"1\",\"3\",\"5\",\"8\",\"7\",\"9\",\"4\",\"0\",\"6\",\"5\",\"5\",\"4\",\"0\",\"1\",\"1\",\"0\",\"2\",\"2\",\"7\",\"0\",\"0\",\"5\",\"7\",\"0\",\"2\",\"7\",\"3\",\"9\",\"7\",\"8\",\"8\",\"3\",\"9\",\"1\",\"8\",\"8\",\"2\",\"2\",\"2\",\"1\",\"5\",\"1\",\"1\",\"9\",\"1\",\"0\",\"4\",\"6\",\"1\",\"9\",\"5\",\"7\",\"0\",\"4\",\"4\",\"9\",\"5\",\"5\",\"3\",\"7\",\"2\",\"2\",\"5\",\"7\",\"1\",\"5\",\"9\",\"7\",\"1\",\"3\",\"3\",\"9\",\"4\",\"3\",\"5\",\"2\",\"2\",\"4\",\"9\",\"6\",\"9\",\"5\",\"7\",\"5\",\"6\",\"7\",\"4\",\"4\",\"8\",\"1\",\"3\",\"0\",\"9\",\"5\",\"4\",\"5\",\"3\",\"8\",\"0\",\"9\",\"4\",\"3\",\"8\",\"6\",\"2\",\"3\",\"5\",\"6\",\"1\",\"0\",\"3\",\"8\",\"1\",\"8\",\"9\",\"4\",\"6\",\"9\",\"6\",\"2\",\"7\",\"9\",\"4\",\"4\",\"3\",\"2\",\"7\",\"1\",\"5\",\"6\",\"1\",\"4\",\"9\",\"9\",\"7\",\"2\",\"8\",\"4\",\"6\",\"5\",\"9\",\"2\",\"1\",\"5\"],\"true_label\":[645,37,767,905,960,645,715,235,72,72,960,767,715,715,645,72,767,960,72,960,37,37,235,715,960,908,767,767,715,715,235,72,847,847,847,905,37,37,767,37,37,847,908,847,905,37,715,715,960,72,37,847,37,715,37,908,960,645,767,645,72,72,72,767,847,847,235,235,235,905,37,37,960,645,715,960,715,847,235,960,715,908,908,72,847,767,767,847,645,767,37,960,908,645,767,905,767,235,960,235,767,847,908,960,960,847,72,72,908,37,235,645,72,645,235,37,905,37,715,645,715,645,905,72,715,905,905,908,905,905,37,235,72,235,715,645,715,960,37,235,645,645,645,905,767,37,908,235,645,235,908,235,715,235,645,715,960,37,905,905,235,905,645,235,960,905,645,37,767,715,905,72,847,960,767,767,905,847,767,905,905,960,645,908,72,847,847,37,960,908,960,645,645,715,908,235,645,908,715,37,908,37,715,767,715,715,37,235,37,767,908,908,908,960,908,908,72,847,905,72,72,645,905,645,767,235,767,847,235,72,235,905,908,645,715,72,767,908,905,235,905,960,767,908,767,72,905,905,645,645,908,847,847,72,767,960,908,72,72,235,908,645,72,960,767,645,905,905,715,37,72,908,72,908,960,847,645,960,908,235,847,72,715,847,767,72,645,645,908,235,645,37,960,235,37,908,72,645,905,847,715,235,72,908,908,767,905,767,905,767,235,645,905,960,847,905,37,847,847,645,37,905,960,715,235,960,905,767,235,72,847,908,908,235,37,908,908,645,235,235,235,905,767,847,767,72,960,715,235,847,908,235,960,72,847,960,37,905,715,908,72,847,960,645,235,715,715,960,645,37,37,645,767,767,72,645,645,715,72,645,767,72,905,847,72,908,908,905,847,37,908,908,767,767,767,37,715,37,37,847,37,645,960,235,37,847,715,72,645,960,960,847,715,715,905,72,767,767,715,72,37,715,847,72,37,905,905,847,960,905,715,767,767,960,847,235,847,715,72,715,235,72,960,960,908,37,905,645,847,715,960,715,905,908,645,847,960,905,908,235,767,905,715,235,37,645,905,908,37,908,847,960,235,847,235,767,72,847,960,960,905,767,72,37,715,235,37,960,847,847,72,767,908,960,235,715,847,767,37,715,645,37,767,905,960,645,715,235,72,72,960,767,715,715,645,72,767,960,72,960,37,37,235,715,960,908,767,767,715,715,235,72,847,847,847,905,37,37,767,37,37,847,908,847,905,37,715,715,960,72,37,847,37,715,37,908,960,645,767,645,72,72,72,767,847,847,235,235,235,905,37,37,960,645,715,960,715,847,235,960,715,908,908,72,847,767,767,847,645,767,37,960,908,645,767,905,767,235,960,235,767,847,908,960,960,847,72,72,908,37,235,645,72,645,235,37,905,37,715,645,715,645,905,72,715,905,905,908,905,905,37,235,72,235,715,645,715,960,37,235,645,645,645,905,767,37,908,235,645,235,908,235,715,235,645,715,960,37,905,905,235,905,645,235,960,905,645,37,767,715,905,72,847,960,767,767,905,847,767,905,905,960,645,908,72,847,847,37,960,908,960,645,645,715,908,235,645,908,715,37,908,37,715,767,715,715,37,235,37,767,908,908,908,960,908,908,72,847,905,72,72,645,905,645,767,235,767,847,235,72,235,905,908,645,715,72,767,908,905,235,905,960,767,908,767,72,905,905,645,645,908,847,847,72,767,960,908,72,72,235,908,645,72,960,767,645,905,905,715,37,72,908,72,908,960,847,645,960,908,235,847,72,715,847,767,72,645,645,908,235,645,37,960,235,37,908,72,645,905,847,715,235,72,908,908,767,905,767,905,767,235,645,905,960,847,905,37,847,847,645,37,905,960,715,235,960,905,767,235,72,847,908,908,235,37,908,908,645,235,235,235,905,767,847,767,72,960,715,235,847,908,235,960,72,847,960,37,905,715,908,72,847,960,645,235,715,715,960,645,37,37,645,767,767,72,645,645,715,72,645,767,72,905,847,72,908,908,905,847,37,908,908,767,767,767,37,715,37,37,847,37,645,960,235,37,847,715,72,645,960,960,847,715,715,905,72,767,767,715,72,37,715,847,72,37,905,905,847,960,905,715,767,767,960,847,235,847,715,72,715,235,72,960,960,908,37,905,645,847,715,960,715,905,908,645,847,960,905,908,235,767,905,715,235,37,645,905,908,37,908,847,960,235,847,235,767,72,847,960,960,905,767,72,37,715,235,37,960,847,847,72,767,908,960,235,715,847,767,37,715],\"x\":{\"__ndarray__\":\"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\",\"dtype\":\"float32\",\"order\":\"little\",\"shape\":[1000]},\"y\":{\"__ndarray__\":\"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\",\"dtype\":\"float32\",\"order\":\"little\",\"shape\":[1000]}},\"selected\":{\"id\":\"7652\"},\"selection_policy\":{\"id\":\"7653\"}},\"id\":\"7609\",\"type\":\"ColumnDataSource\"},{\"attributes\":{\"formatter\":{\"id\":\"7651\"},\"ticker\":{\"id\":\"7627\"},\"visible\":false},\"id\":\"7626\",\"type\":\"LinearAxis\"},{\"attributes\":{},\"id\":\"7649\",\"type\":\"BasicTickFormatter\"},{\"attributes\":{},\"id\":\"7614\",\"type\":\"DataRange1d\"},{\"attributes\":{},\"id\":\"7632\",\"type\":\"ResetTool\"},{\"attributes\":{\"callback\":null,\"tooltips\":\"\\n<div>\\n    <div>\\n        <span style='font-size: 16px; color: #224499'>Digit:</span>\\n        <span style='font-size: 18px'>@label</span>\\n    </div>\\n</div>\\n\"},\"id\":\"7639\",\"type\":\"HoverTool\"},{\"attributes\":{\"axis\":{\"id\":\"7626\"},\"dimension\":1,\"ticker\":null,\"visible\":false},\"id\":\"7629\",\"type\":\"Grid\"},{\"attributes\":{\"formatter\":{\"id\":\"7649\"},\"ticker\":{\"id\":\"7623\"},\"visible\":false},\"id\":\"7622\",\"type\":\"LinearAxis\"},{\"attributes\":{},\"id\":\"7651\",\"type\":\"BasicTickFormatter\"},{\"attributes\":{\"data_source\":{\"id\":\"7609\"},\"glyph\":{\"id\":\"7643\"},\"hover_glyph\":null,\"muted_glyph\":null,\"nonselection_glyph\":{\"id\":\"7644\"},\"selection_glyph\":null,\"view\":{\"id\":\"7646\"}},\"id\":\"7645\",\"type\":\"GlyphRenderer\"},{\"attributes\":{},\"id\":\"7631\",\"type\":\"WheelZoomTool\"},{\"attributes\":{},\"id\":\"7633\",\"type\":\"SaveTool\"},{\"attributes\":{\"items\":[{\"id\":\"7654\"}],\"location\":\"center\",\"title\":\"True class\",\"title_text_font_size\":\"14px\",\"title_text_font_style\":\"bold\"},\"id\":\"7641\",\"type\":\"Legend\"},{\"attributes\":{\"factors\":[\"9\",\"8\",\"7\",\"6\",\"5\",\"4\",\"3\",\"2\",\"1\",\"0\"],\"palette\":[\"#1f77b4\",\"#ff7f0e\",\"#2ca02c\",\"#d62728\",\"#9467bd\",\"#8c564b\",\"#e377c2\",\"#7f7f7f\",\"#bcbd22\",\"#17becf\"]},\"id\":\"7610\",\"type\":\"CategoricalColorMapper\"},{\"attributes\":{\"fill_alpha\":{\"value\":0.1},\"fill_color\":{\"field\":\"label\",\"transform\":{\"id\":\"7610\"}},\"line_alpha\":{\"value\":0.1},\"line_color\":{\"field\":\"label\",\"transform\":{\"id\":\"7610\"}},\"size\":{\"units\":\"screen\",\"value\":6},\"x\":{\"field\":\"x\"},\"y\":{\"field\":\"y\"}},\"id\":\"7644\",\"type\":\"Circle\"},{\"attributes\":{\"fill_alpha\":{\"value\":0.6},\"fill_color\":{\"field\":\"label\",\"transform\":{\"id\":\"7610\"}},\"line_alpha\":{\"value\":0.6},\"line_color\":{\"field\":\"label\",\"transform\":{\"id\":\"7610\"}},\"size\":{\"units\":\"screen\",\"value\":6},\"x\":{\"field\":\"x\"},\"y\":{\"field\":\"y\"}},\"id\":\"7643\",\"type\":\"Circle\"},{\"attributes\":{\"axis\":{\"id\":\"7622\"},\"ticker\":null,\"visible\":false},\"id\":\"7625\",\"type\":\"Grid\"},{\"attributes\":{},\"id\":\"7623\",\"type\":\"BasicTicker\"},{\"attributes\":{\"active_drag\":\"auto\",\"active_inspect\":\"auto\",\"active_multi\":null,\"active_scroll\":\"auto\",\"active_tap\":\"auto\",\"tools\":[{\"id\":\"7630\"},{\"id\":\"7631\"},{\"id\":\"7632\"},{\"id\":\"7633\"},{\"id\":\"7639\"}]},\"id\":\"7634\",\"type\":\"Toolbar\"}],\"root_ids\":[\"7611\"]},\"title\":\"Bokeh Application\",\"version\":\"2.2.1\"}};\n",
       "  var render_items = [{\"docid\":\"40f0d04b-ceaa-45fb-8cd5-7b2e8cee5cee\",\"root_ids\":[\"7611\"],\"roots\":{\"7611\":\"bb995c50-4f06-4f7a-adb7-b52be4efecfb\"}}];\n",
       "  root.Bokeh.embed.embed_items_notebook(docs_json, render_items);\n",
       "\n",
       "  }\n",
       "  if (root.Bokeh !== undefined) {\n",
       "    embed_document(root);\n",
       "  } else {\n",
       "    var attempts = 0;\n",
       "    var timer = setInterval(function(root) {\n",
       "      if (root.Bokeh !== undefined) {\n",
       "        clearInterval(timer);\n",
       "        embed_document(root);\n",
       "      } else {\n",
       "        attempts++;\n",
       "        if (attempts > 100) {\n",
       "          clearInterval(timer);\n",
       "          console.log(\"Bokeh: ERROR: Unable to run BokehJS code because BokehJS library is missing\");\n",
       "        }\n",
       "      }\n",
       "    }, 10, root)\n",
       "  }\n",
       "})(window);"
      ],
      "application/vnd.bokehjs_exec.v0+json": ""
     },
     "metadata": {
      "application/vnd.bokehjs_exec.v0+json": {
       "id": "7611"
      }
     },
     "output_type": "display_data"
    }
   ],
   "source": [
    "df = pd.DataFrame(embedding, columns=('x', 'y'))\n",
    "df['label'] = [str(x) for x in combined_labels]\n",
    "#df = pd.read_csv('df.csv', index_col=0)\n",
    "df['label'] = [str(x) for x in df.label]\n",
    "df['true_label'] = df['label'].values\n",
    "df['true_label'] = df['true_label'].astype(int).replace(inv_map_dict)\n",
    "\n",
    "datasource = ColumnDataSource(df)\n",
    "color_mapping = CategoricalColorMapper(factors=[str(9 - x) for x in [i for i in range(10)]],\n",
    "                                       palette=Category10[10])\n",
    "\n",
    "plot_figure = figure(\n",
    "    title='',\n",
    "    plot_width=600,\n",
    "    plot_height=400,\n",
    "    tools=('pan, wheel_zoom, reset, save')\n",
    ")\n",
    "\n",
    "plot_figure.add_tools(HoverTool(tooltips=\"\"\"\n",
    "<div>\n",
    "    <div>\n",
    "        <span style='font-size: 16px; color: #224499'>Label:</span>\n",
    "        <span style='font-size: 18px'>@true_label</span>\n",
    "    </div>\n",
    "</div>\n",
    "\"\"\"))\n",
    "\n",
    "plot_figure.add_layout(Legend(), 'right')\n",
    "\n",
    "plot_figure.circle(\n",
    "    'x',\n",
    "    'y',\n",
    "    source=datasource,\n",
    "    color=dict(field='label', transform=color_mapping),\n",
    "    line_alpha=0.6,\n",
    "    fill_alpha=0.6,\n",
    "    size=6,\n",
    "    legend_field='true_label'\n",
    ")\n",
    "\n",
    "plot_figure.xaxis.visible = False\n",
    "plot_figure.xgrid.visible = False\n",
    "plot_figure.yaxis.visible = False\n",
    "plot_figure.ygrid.visible = False\n",
    "\n",
    "plot_figure.outline_line_width = 2\n",
    "plot_figure.outline_line_alpha = 0.8\n",
    "plot_figure.outline_line_color = \"gray\"\n",
    "\n",
    "plot_figure.legend.location = \"center\"\n",
    "plot_figure.legend.title = 'True class'\n",
    "plot_figure.legend.title_text_font_style = \"bold\"\n",
    "plot_figure.legend.title_text_font_size = \"14px\"\n",
    "\n",
    "show(plot_figure)"
   ]
  }
 ],
 "metadata": {
  "kernelspec": {
   "display_name": "Python 3",
   "language": "python",
   "name": "python3"
  },
  "language_info": {
   "codemirror_mode": {
    "name": "ipython",
    "version": 3
   },
   "file_extension": ".py",
   "mimetype": "text/x-python",
   "name": "python",
   "nbconvert_exporter": "python",
   "pygments_lexer": "ipython3",
   "version": "3.8.5"
  },
  "toc-autonumbering": false,
  "toc-showcode": false,
  "toc-showmarkdowntxt": false,
  "toc-showtags": true
 },
 "nbformat": 4,
 "nbformat_minor": 4
}
