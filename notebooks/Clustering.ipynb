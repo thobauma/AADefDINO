{
 "cells": [
  {
   "cell_type": "markdown",
   "metadata": {},
   "source": [
    "# Install, Paths and Parameters"
   ]
  },
  {
   "cell_type": "code",
   "execution_count": 1,
   "metadata": {},
   "outputs": [],
   "source": [
    "import os\n",
    "from pathlib import Path\n",
    "import getpass\n",
    "import numpy as np\n",
    "import time\n",
    "import torch\n",
    "from torch import nn\n",
    "from tqdm import tqdm\n",
    "import random\n",
    "import sys\n",
    "\n",
    "# allow imports when running script from within project dir\n",
    "[sys.path.append(i) for i in ['.', '..']]\n",
    "\n",
    "# local\n",
    "from src.helpers.helpers import get_random_indexes, get_random_classes\n",
    "from src.model.dino_model import get_dino, ViTWrapper\n",
    "from src.model.data import *\n",
    "\n",
    "# seed\n",
    "SEED = 42\n",
    "random.seed(SEED)\n",
    "torch.manual_seed(SEED)\n",
    "np.random.seed(SEED)\n",
    "\n",
    "username = getpass.getuser()\n",
    "DATA_PATH = Path('/','cluster', 'scratch', 'thobauma', 'dl_data')\n",
    "\n",
    "ORI_PATH = Path(DATA_PATH, 'ori_data/validation')\n",
    "ORI_LABEL_PATH = Path(ORI_PATH,'correct_labels.txt')\n",
    "ORI_IMAGES_PATH = Path(ORI_PATH,'images')\n",
    "\n",
    "PGD_PATH = Path(DATA_PATH, 'adversarial_data')\n",
    "PGD_LABEL_PATH = Path(ORI_PATH,'correct_labels.txt')\n",
    "PGD_IMAGES_PATH = Path(PGD_PATH, 'pgd_03/validation/images/')\n",
    "\n",
    "DN_PATH = Path(DATA_PATH, 'damageNet')\n",
    "DN_LABEL_PATH = Path(DN_PATH, 'val_damagenet.txt')\n",
    "DN_IMAGES_PATH = Path(DN_PATH, 'images')"
   ]
  },
  {
   "cell_type": "code",
   "execution_count": 2,
   "metadata": {},
   "outputs": [],
   "source": [
    "# If CLASS_SUBSET is specified, INDEX_SUBSET will be ignored. Set CLASS_SUBSET=None if you want to use indexes.\n",
    "INDEX_SUBSET = get_random_indexes(n_samples=300)\n",
    "CLASS_SUBSET = get_random_classes(number_of_classes=3, seed=1)\n",
    "\n",
    "BATCH_SIZE = 100\n",
    "\n",
    "DEVICE = 'cuda'"
   ]
  },
  {
   "cell_type": "code",
   "execution_count": 3,
   "metadata": {},
   "outputs": [
    {
     "data": {
      "text/plain": [
       "array([ 37, 235, 908])"
      ]
     },
     "execution_count": 3,
     "metadata": {},
     "output_type": "execute_result"
    }
   ],
   "source": [
    "CLASS_SUBSET"
   ]
  },
  {
   "cell_type": "code",
   "execution_count": 74,
   "metadata": {},
   "outputs": [],
   "source": [
    "#!python $HOME/deeplearning/setup/collect_env.py"
   ]
  },
  {
   "cell_type": "markdown",
   "metadata": {},
   "source": [
    "# Import DINO\n",
    "Official repo: https://github.com/facebookresearch/dino"
   ]
  },
  {
   "cell_type": "code",
   "execution_count": 4,
   "metadata": {},
   "outputs": [
    {
     "name": "stdout",
     "output_type": "stream",
     "text": [
      "Please use the `--pretrained_weights` argument to indicate the path of the checkpoint to evaluate.\n",
      "Since no pretrained weights have been provided, we load the reference pretrained DINO weights.\n",
      "Model vit_small built.\n",
      "Embed dim 1536\n",
      "We load the reference pretrained linear weights from dino_deitsmall16_pretrain/dino_deitsmall16_linearweights.pth.\n"
     ]
    }
   ],
   "source": [
    "model, linear_classifier = get_dino()"
   ]
  },
  {
   "cell_type": "markdown",
   "metadata": {},
   "source": [
    "# Load data"
   ]
  },
  {
   "cell_type": "code",
   "execution_count": 5,
   "metadata": {},
   "outputs": [],
   "source": [
    "org_loader = create_loader(ORI_IMAGES_PATH, ORI_LABEL_PATH, INDEX_SUBSET, CLASS_SUBSET, BATCH_SIZE, transform=NO_NORM_TRANSFORM)"
   ]
  },
  {
   "cell_type": "code",
   "execution_count": 6,
   "metadata": {},
   "outputs": [],
   "source": [
    "adv_loader = create_loader(PGD_IMAGES_PATH, PGD_LABEL_PATH, INDEX_SUBSET, CLASS_SUBSET, BATCH_SIZE, transform=TO_TENSOR_TRANSFORM)"
   ]
  },
  {
   "cell_type": "markdown",
   "metadata": {},
   "source": [
    "## Wrap model"
   ]
  },
  {
   "cell_type": "code",
   "execution_count": 7,
   "metadata": {},
   "outputs": [],
   "source": [
    "model_wrap = ViTWrapper(model, linear_classifier, DEVICE, n_last_blocks=4, avgpool_patchtokens=False)\n",
    "model_wrap= model_wrap.to(DEVICE)"
   ]
  },
  {
   "cell_type": "markdown",
   "metadata": {},
   "source": [
    "# Generate input to linear layer"
   ]
  },
  {
   "cell_type": "markdown",
   "metadata": {},
   "source": [
    "### Adversarial images"
   ]
  },
  {
   "cell_type": "code",
   "execution_count": 8,
   "metadata": {},
   "outputs": [
    {
     "name": "stderr",
     "output_type": "stream",
     "text": [
      "100%|██████████| 2/2 [00:04<00:00,  2.49s/it]\n"
     ]
    }
   ],
   "source": [
    "result = None\n",
    "img_labels = None\n",
    "imgs = None\n",
    "correct = 0\n",
    "\n",
    "with torch.no_grad():\n",
    "    for images, labels, _ in tqdm(adv_loader):\n",
    "        x = images.to(DEVICE)\n",
    "        labels = labels.to(DEVICE)\n",
    "\n",
    "        # forward\n",
    "        intermediate_output = model_wrap.vits16.get_intermediate_layers(x, model_wrap.n_last_blocks)\n",
    "        output = torch.cat([x[:, 0] for x in intermediate_output], dim=-1)\n",
    "        if model_wrap.avgpool_patchtokens:\n",
    "            output = torch.cat((output.unsqueeze(-1), torch.mean(intermediate_output[-1][:, 1:], dim=1).unsqueeze(-1)), dim=-1)\n",
    "            output = output.reshape(output.shape[0], -1)\n",
    "        \n",
    "        if result is None:\n",
    "            result = output\n",
    "            img_labels = labels\n",
    "            imgs = images\n",
    "        else:\n",
    "            result = torch.cat([result, output], 0)\n",
    "            img_labels = torch.cat([img_labels, labels])\n",
    "            imgs = torch.cat([imgs, images], 0)\n",
    "        \n",
    "        outputs = model_wrap.linear_layer(output)\n",
    "\n",
    "        _, pre = torch.max(outputs.data, 1)\n",
    "\n",
    "        correct += (pre == labels).sum()"
   ]
  },
  {
   "cell_type": "code",
   "execution_count": 9,
   "metadata": {},
   "outputs": [
    {
     "data": {
      "text/plain": [
       "tensor(1, device='cuda:0')"
      ]
     },
     "execution_count": 9,
     "metadata": {},
     "output_type": "execute_result"
    }
   ],
   "source": [
    "correct"
   ]
  },
  {
   "cell_type": "markdown",
   "metadata": {},
   "source": [
    "### Original images"
   ]
  },
  {
   "cell_type": "code",
   "execution_count": 10,
   "metadata": {},
   "outputs": [
    {
     "name": "stderr",
     "output_type": "stream",
     "text": [
      "100%|██████████| 2/2 [00:05<00:00,  2.89s/it]\n"
     ]
    }
   ],
   "source": [
    "org_result = None\n",
    "org_img_labels = None\n",
    "correct = 0\n",
    "\n",
    "with torch.no_grad():\n",
    "    for images, labels, _ in tqdm(org_loader):\n",
    "        x = images.to(DEVICE)\n",
    "        labels = labels.to(DEVICE)\n",
    "\n",
    "        # forward\n",
    "        intermediate_output = model_wrap.vits16.get_intermediate_layers(x, model_wrap.n_last_blocks)\n",
    "        output = torch.cat([x[:, 0] for x in intermediate_output], dim=-1)\n",
    "        if model_wrap.avgpool_patchtokens:\n",
    "            output = torch.cat((output.unsqueeze(-1), torch.mean(intermediate_output[-1][:, 1:], dim=1).unsqueeze(-1)), dim=-1)\n",
    "            output = output.reshape(output.shape[0], -1)\n",
    "        \n",
    "        if org_result is None:\n",
    "            org_result = output\n",
    "            org_img_labels = labels\n",
    "        else:\n",
    "            org_result = torch.cat([org_result, output], 0)\n",
    "            org_img_labels = torch.cat([org_img_labels, labels])\n",
    "            \n",
    "        outputs = model_wrap.linear_layer(output)\n",
    "\n",
    "        _, pre = torch.max(outputs.data, 1)\n",
    "\n",
    "        correct += (pre == labels).sum()"
   ]
  },
  {
   "cell_type": "code",
   "execution_count": 11,
   "metadata": {},
   "outputs": [
    {
     "data": {
      "text/plain": [
       "tensor(104, device='cuda:0')"
      ]
     },
     "execution_count": 11,
     "metadata": {},
     "output_type": "execute_result"
    }
   ],
   "source": [
    "correct"
   ]
  },
  {
   "cell_type": "code",
   "execution_count": 12,
   "metadata": {},
   "outputs": [],
   "source": [
    "# Map classes\n",
    "map_dict = {}\n",
    "inv_map_dict = {}\n",
    "labels = img_labels.cpu().numpy()\n",
    "i = 0\n",
    "\n",
    "for l in labels:\n",
    "    if l not in map_dict:\n",
    "        map_dict[l] = i\n",
    "        inv_map_dict[i] = l\n",
    "        i = i+1"
   ]
  },
  {
   "cell_type": "code",
   "execution_count": 23,
   "metadata": {},
   "outputs": [],
   "source": [
    "mapped_labels = [map_dict[i]+3 for i in labels]\n",
    "org_mapped_labels = [map_dict[i] for i in org_img_labels.cpu().numpy()]"
   ]
  },
  {
   "cell_type": "markdown",
   "metadata": {},
   "source": [
    "# UMAP"
   ]
  },
  {
   "cell_type": "code",
   "execution_count": 15,
   "metadata": {},
   "outputs": [],
   "source": [
    "import umap\n",
    "import matplotlib.pyplot as plt"
   ]
  },
  {
   "cell_type": "markdown",
   "metadata": {},
   "source": [
    "## Adversarial only"
   ]
  },
  {
   "cell_type": "code",
   "execution_count": 28,
   "metadata": {},
   "outputs": [],
   "source": [
    "reducer_adv = umap.UMAP(random_state=SEED, n_neighbors = 250)"
   ]
  },
  {
   "cell_type": "code",
   "execution_count": 29,
   "metadata": {},
   "outputs": [
    {
     "data": {
      "text/plain": [
       "UMAP(n_neighbors=250, random_state=42, tqdm_kwds={'bar_format': '{desc}: {percentage:3.0f}%| {bar} {n_fmt}/{total_fmt} [{elapsed}]', 'desc': 'Epochs completed', 'disable': True})"
      ]
     },
     "execution_count": 29,
     "metadata": {},
     "output_type": "execute_result"
    }
   ],
   "source": [
    "reducer_adv.fit(result.cpu().numpy())"
   ]
  },
  {
   "cell_type": "code",
   "execution_count": 32,
   "metadata": {},
   "outputs": [],
   "source": [
    "embedding_adv = reducer_adv.transform(result.cpu().numpy())"
   ]
  },
  {
   "cell_type": "code",
   "execution_count": 35,
   "metadata": {},
   "outputs": [
    {
     "data": {
      "text/plain": [
       "<matplotlib.colorbar.Colorbar at 0x2b5c773046d0>"
      ]
     },
     "execution_count": 35,
     "metadata": {},
     "output_type": "execute_result"
    },
    {
     "data": {
      "image/png": "[encoded data removed]",
      "text/plain": [
       "<Figure size 720x576 with 2 Axes>"
      ]
     },
     "metadata": {
      "needs_background": "light"
     },
     "output_type": "display_data"
    }
   ],
   "source": [
    "plt.rcParams[\"figure.figsize\"] = (10,8)\n",
    "plt.scatter(embedding_adv[:, 0], embedding_adv[:, 1], c=mapped_labels, cmap='Spectral', s=5)\n",
    "plt.gca().set_aspect('equal', 'datalim')\n",
    "plt.colorbar()"
   ]
  },
  {
   "cell_type": "code",
   "execution_count": 36,
   "metadata": {},
   "outputs": [
    {
     "data": {
      "text/html": [
       "\n",
       "    <div class=\"bk-root\">\n",
       "        <a href=\"https://bokeh.org\" target=\"_blank\" class=\"bk-logo bk-logo-small bk-logo-notebook\"></a>\n",
       "        <span id=\"1090\">Loading BokehJS ...</span>\n",
       "    </div>"
      ]
     },
     "metadata": {},
     "output_type": "display_data"
    },
    {
     "data": {
      "application/javascript": [
       "\n",
       "(function(root) {\n",
       "  function now() {\n",
       "    return new Date();\n",
       "  }\n",
       "\n",
       "  var force = true;\n",
       "\n",
       "  if (typeof root._bokeh_onload_callbacks === \"undefined\" || force === true) {\n",
       "    root._bokeh_onload_callbacks = [];\n",
       "    root._bokeh_is_loading = undefined;\n",
       "  }\n",
       "\n",
       "  var JS_MIME_TYPE = 'application/javascript';\n",
       "  var HTML_MIME_TYPE = 'text/html';\n",
       "  var EXEC_MIME_TYPE = 'application/vnd.bokehjs_exec.v0+json';\n",
       "  var CLASS_NAME = 'output_bokeh rendered_html';\n",
       "\n",
       "  /**\n",
       "   * Render data to the DOM node\n",
       "   */\n",
       "  function render(props, node) {\n",
       "    var script = document.createElement(\"script\");\n",
       "    node.appendChild(script);\n",
       "  }\n",
       "\n",
       "  /**\n",
       "   * Handle when an output is cleared or removed\n",
       "   */\n",
       "  function handleClearOutput(event, handle) {\n",
       "    var cell = handle.cell;\n",
       "\n",
       "    var id = cell.output_area._bokeh_element_id;\n",
       "    var server_id = cell.output_area._bokeh_server_id;\n",
       "    // Clean up Bokeh references\n",
       "    if (id != null && id in Bokeh.index) {\n",
       "      Bokeh.index[id].model.document.clear();\n",
       "      delete Bokeh.index[id];\n",
       "    }\n",
       "\n",
       "    if (server_id !== undefined) {\n",
       "      // Clean up Bokeh references\n",
       "      var cmd = \"from bokeh.io.state import curstate; print(curstate().uuid_to_server['\" + server_id + \"'].get_sessions()[0].document.roots[0]._id)\";\n",
       "      cell.notebook.kernel.execute(cmd, {\n",
       "        iopub: {\n",
       "          output: function(msg) {\n",
       "            var id = msg.content.text.trim();\n",
       "            if (id in Bokeh.index) {\n",
       "              Bokeh.index[id].model.document.clear();\n",
       "              delete Bokeh.index[id];\n",
       "            }\n",
       "          }\n",
       "        }\n",
       "      });\n",
       "      // Destroy server and session\n",
       "      var cmd = \"import bokeh.io.notebook as ion; ion.destroy_server('\" + server_id + \"')\";\n",
       "      cell.notebook.kernel.execute(cmd);\n",
       "    }\n",
       "  }\n",
       "\n",
       "  /**\n",
       "   * Handle when a new output is added\n",
       "   */\n",
       "  function handleAddOutput(event, handle) {\n",
       "    var output_area = handle.output_area;\n",
       "    var output = handle.output;\n",
       "\n",
       "    // limit handleAddOutput to display_data with EXEC_MIME_TYPE content only\n",
       "    if ((output.output_type != \"display_data\") || (!output.data.hasOwnProperty(EXEC_MIME_TYPE))) {\n",
       "      return\n",
       "    }\n",
       "\n",
       "    var toinsert = output_area.element.find(\".\" + CLASS_NAME.split(' ')[0]);\n",
       "\n",
       "    if (output.metadata[EXEC_MIME_TYPE][\"id\"] !== undefined) {\n",
       "      toinsert[toinsert.length - 1].firstChild.textContent = output.data[JS_MIME_TYPE];\n",
       "      // store reference to embed id on output_area\n",
       "      output_area._bokeh_element_id = output.metadata[EXEC_MIME_TYPE][\"id\"];\n",
       "    }\n",
       "    if (output.metadata[EXEC_MIME_TYPE][\"server_id\"] !== undefined) {\n",
       "      var bk_div = document.createElement(\"div\");\n",
       "      bk_div.innerHTML = output.data[HTML_MIME_TYPE];\n",
       "      var script_attrs = bk_div.children[0].attributes;\n",
       "      for (var i = 0; i < script_attrs.length; i++) {\n",
       "        toinsert[toinsert.length - 1].firstChild.setAttribute(script_attrs[i].name, script_attrs[i].value);\n",
       "        toinsert[toinsert.length - 1].firstChild.textContent = bk_div.children[0].textContent\n",
       "      }\n",
       "      // store reference to server id on output_area\n",
       "      output_area._bokeh_server_id = output.metadata[EXEC_MIME_TYPE][\"server_id\"];\n",
       "    }\n",
       "  }\n",
       "\n",
       "  function register_renderer(events, OutputArea) {\n",
       "\n",
       "    function append_mime(data, metadata, element) {\n",
       "      // create a DOM node to render to\n",
       "      var toinsert = this.create_output_subarea(\n",
       "        metadata,\n",
       "        CLASS_NAME,\n",
       "        EXEC_MIME_TYPE\n",
       "      );\n",
       "      this.keyboard_manager.register_events(toinsert);\n",
       "      // Render to node\n",
       "      var props = {data: data, metadata: metadata[EXEC_MIME_TYPE]};\n",
       "      render(props, toinsert[toinsert.length - 1]);\n",
       "      element.append(toinsert);\n",
       "      return toinsert\n",
       "    }\n",
       "\n",
       "    /* Handle when an output is cleared or removed */\n",
       "    events.on('clear_output.CodeCell', handleClearOutput);\n",
       "    events.on('delete.Cell', handleClearOutput);\n",
       "\n",
       "    /* Handle when a new output is added */\n",
       "    events.on('output_added.OutputArea', handleAddOutput);\n",
       "\n",
       "    /**\n",
       "     * Register the mime type and append_mime function with output_area\n",
       "     */\n",
       "    OutputArea.prototype.register_mime_type(EXEC_MIME_TYPE, append_mime, {\n",
       "      /* Is output safe? */\n",
       "      safe: true,\n",
       "      /* Index of renderer in `output_area.display_order` */\n",
       "      index: 0\n",
       "    });\n",
       "  }\n",
       "\n",
       "  // register the mime type if in Jupyter Notebook environment and previously unregistered\n",
       "  if (root.Jupyter !== undefined) {\n",
       "    var events = require('base/js/events');\n",
       "    var OutputArea = require('notebook/js/outputarea').OutputArea;\n",
       "\n",
       "    if (OutputArea.prototype.mime_types().indexOf(EXEC_MIME_TYPE) == -1) {\n",
       "      register_renderer(events, OutputArea);\n",
       "    }\n",
       "  }\n",
       "\n",
       "  \n",
       "  if (typeof (root._bokeh_timeout) === \"undefined\" || force === true) {\n",
       "    root._bokeh_timeout = Date.now() + 5000;\n",
       "    root._bokeh_failed_load = false;\n",
       "  }\n",
       "\n",
       "  var NB_LOAD_WARNING = {'data': {'text/html':\n",
       "     \"<div style='background-color: #fdd'>\\n\"+\n",
       "     \"<p>\\n\"+\n",
       "     \"BokehJS does not appear to have successfully loaded. If loading BokehJS from CDN, this \\n\"+\n",
       "     \"may be due to a slow or bad network connection. Possible fixes:\\n\"+\n",
       "     \"</p>\\n\"+\n",
       "     \"<ul>\\n\"+\n",
       "     \"<li>re-rerun `output_notebook()` to attempt to load from CDN again, or</li>\\n\"+\n",
       "     \"<li>use INLINE resources instead, as so:</li>\\n\"+\n",
       "     \"</ul>\\n\"+\n",
       "     \"<code>\\n\"+\n",
       "     \"from bokeh.resources import INLINE\\n\"+\n",
       "     \"output_notebook(resources=INLINE)\\n\"+\n",
       "     \"</code>\\n\"+\n",
       "     \"</div>\"}};\n",
       "\n",
       "  function display_loaded() {\n",
       "    var el = document.getElementById(\"1090\");\n",
       "    if (el != null) {\n",
       "      el.textContent = \"BokehJS is loading...\";\n",
       "    }\n",
       "    if (root.Bokeh !== undefined) {\n",
       "      if (el != null) {\n",
       "        el.textContent = \"BokehJS \" + root.Bokeh.version + \" successfully loaded.\";\n",
       "      }\n",
       "    } else if (Date.now() < root._bokeh_timeout) {\n",
       "      setTimeout(display_loaded, 100)\n",
       "    }\n",
       "  }\n",
       "\n",
       "\n",
       "  function run_callbacks() {\n",
       "    try {\n",
       "      root._bokeh_onload_callbacks.forEach(function(callback) {\n",
       "        if (callback != null)\n",
       "          callback();\n",
       "      });\n",
       "    } finally {\n",
       "      delete root._bokeh_onload_callbacks\n",
       "    }\n",
       "    console.debug(\"Bokeh: all callbacks have finished\");\n",
       "  }\n",
       "\n",
       "  function load_libs(css_urls, js_urls, callback) {\n",
       "    if (css_urls == null) css_urls = [];\n",
       "    if (js_urls == null) js_urls = [];\n",
       "\n",
       "    root._bokeh_onload_callbacks.push(callback);\n",
       "    if (root._bokeh_is_loading > 0) {\n",
       "      console.debug(\"Bokeh: BokehJS is being loaded, scheduling callback at\", now());\n",
       "      return null;\n",
       "    }\n",
       "    if (js_urls == null || js_urls.length === 0) {\n",
       "      run_callbacks();\n",
       "      return null;\n",
       "    }\n",
       "    console.debug(\"Bokeh: BokehJS not loaded, scheduling load and callback at\", now());\n",
       "    root._bokeh_is_loading = css_urls.length + js_urls.length;\n",
       "\n",
       "    function on_load() {\n",
       "      root._bokeh_is_loading--;\n",
       "      if (root._bokeh_is_loading === 0) {\n",
       "        console.debug(\"Bokeh: all BokehJS libraries/stylesheets loaded\");\n",
       "        run_callbacks()\n",
       "      }\n",
       "    }\n",
       "\n",
       "    function on_error() {\n",
       "      console.error(\"failed to load \" + url);\n",
       "    }\n",
       "\n",
       "    for (var i = 0; i < css_urls.length; i++) {\n",
       "      var url = css_urls[i];\n",
       "      const element = document.createElement(\"link\");\n",
       "      element.onload = on_load;\n",
       "      element.onerror = on_error;\n",
       "      element.rel = \"stylesheet\";\n",
       "      element.type = \"text/css\";\n",
       "      element.href = url;\n",
       "      console.debug(\"Bokeh: injecting link tag for BokehJS stylesheet: \", url);\n",
       "      document.body.appendChild(element);\n",
       "    }\n",
       "\n",
       "    const hashes = {\"https://cdn.bokeh.org/bokeh/release/bokeh-2.2.1.min.js\": \"qkRvDQVAIfzsJo40iRBbxt6sttt0hv4lh74DG7OK4MCHv4C5oohXYoHUM5W11uqS\", \"https://cdn.bokeh.org/bokeh/release/bokeh-widgets-2.2.1.min.js\": \"Sb7Mr06a9TNlet/GEBeKaf5xH3eb6AlCzwjtU82wNPyDrnfoiVl26qnvlKjmcAd+\", \"https://cdn.bokeh.org/bokeh/release/bokeh-tables-2.2.1.min.js\": \"HaJ15vgfmcfRtB4c4YBOI4f1MUujukqInOWVqZJZZGK7Q+ivud0OKGSTn/Vm2iso\"};\n",
       "\n",
       "    for (var i = 0; i < js_urls.length; i++) {\n",
       "      var url = js_urls[i];\n",
       "      var element = document.createElement('script');\n",
       "      element.onload = on_load;\n",
       "      element.onerror = on_error;\n",
       "      element.async = false;\n",
       "      element.src = url;\n",
       "      if (url in hashes) {\n",
       "        element.crossOrigin = \"anonymous\";\n",
       "        element.integrity = \"sha384-\" + hashes[url];\n",
       "      }\n",
       "      console.debug(\"Bokeh: injecting script tag for BokehJS library: \", url);\n",
       "      document.head.appendChild(element);\n",
       "    }\n",
       "  };\n",
       "\n",
       "  function inject_raw_css(css) {\n",
       "    const element = document.createElement(\"style\");\n",
       "    element.appendChild(document.createTextNode(css));\n",
       "    document.body.appendChild(element);\n",
       "  }\n",
       "\n",
       "  \n",
       "  var js_urls = [\"https://cdn.bokeh.org/bokeh/release/bokeh-2.2.1.min.js\", \"https://cdn.bokeh.org/bokeh/release/bokeh-widgets-2.2.1.min.js\", \"https://cdn.bokeh.org/bokeh/release/bokeh-tables-2.2.1.min.js\"];\n",
       "  var css_urls = [];\n",
       "  \n",
       "\n",
       "  var inline_js = [\n",
       "    function(Bokeh) {\n",
       "      Bokeh.set_log_level(\"info\");\n",
       "    },\n",
       "    function(Bokeh) {\n",
       "    \n",
       "    \n",
       "    }\n",
       "  ];\n",
       "\n",
       "  function run_inline_js() {\n",
       "    \n",
       "    if (root.Bokeh !== undefined || force === true) {\n",
       "      \n",
       "    for (var i = 0; i < inline_js.length; i++) {\n",
       "      inline_js[i].call(root, root.Bokeh);\n",
       "    }\n",
       "    if (force === true) {\n",
       "        display_loaded();\n",
       "      }} else if (Date.now() < root._bokeh_timeout) {\n",
       "      setTimeout(run_inline_js, 100);\n",
       "    } else if (!root._bokeh_failed_load) {\n",
       "      console.log(\"Bokeh: BokehJS failed to load within specified timeout.\");\n",
       "      root._bokeh_failed_load = true;\n",
       "    } else if (force !== true) {\n",
       "      var cell = $(document.getElementById(\"1090\")).parents('.cell').data().cell;\n",
       "      cell.output_area.append_execute_result(NB_LOAD_WARNING)\n",
       "    }\n",
       "\n",
       "  }\n",
       "\n",
       "  if (root._bokeh_is_loading === 0) {\n",
       "    console.debug(\"Bokeh: BokehJS loaded, going straight to plotting\");\n",
       "    run_inline_js();\n",
       "  } else {\n",
       "    load_libs(css_urls, js_urls, function() {\n",
       "      console.debug(\"Bokeh: BokehJS plotting callback run at\", now());\n",
       "      run_inline_js();\n",
       "    });\n",
       "  }\n",
       "}(window));"
      ],
      "application/vnd.bokehjs_load.v0+json": "\n(function(root) {\n  function now() {\n    return new Date();\n  }\n\n  var force = true;\n\n  if (typeof root._bokeh_onload_callbacks === \"undefined\" || force === true) {\n    root._bokeh_onload_callbacks = [];\n    root._bokeh_is_loading = undefined;\n  }\n\n  \n\n  \n  if (typeof (root._bokeh_timeout) === \"undefined\" || force === true) {\n    root._bokeh_timeout = Date.now() + 5000;\n    root._bokeh_failed_load = false;\n  }\n\n  var NB_LOAD_WARNING = {'data': {'text/html':\n     \"<div style='background-color: #fdd'>\\n\"+\n     \"<p>\\n\"+\n     \"BokehJS does not appear to have successfully loaded. If loading BokehJS from CDN, this \\n\"+\n     \"may be due to a slow or bad network connection. Possible fixes:\\n\"+\n     \"</p>\\n\"+\n     \"<ul>\\n\"+\n     \"<li>re-rerun `output_notebook()` to attempt to load from CDN again, or</li>\\n\"+\n     \"<li>use INLINE resources instead, as so:</li>\\n\"+\n     \"</ul>\\n\"+\n     \"<code>\\n\"+\n     \"from bokeh.resources import INLINE\\n\"+\n     \"output_notebook(resources=INLINE)\\n\"+\n     \"</code>\\n\"+\n     \"</div>\"}};\n\n  function display_loaded() {\n    var el = document.getElementById(\"1090\");\n    if (el != null) {\n      el.textContent = \"BokehJS is loading...\";\n    }\n    if (root.Bokeh !== undefined) {\n      if (el != null) {\n        el.textContent = \"BokehJS \" + root.Bokeh.version + \" successfully loaded.\";\n      }\n    } else if (Date.now() < root._bokeh_timeout) {\n      setTimeout(display_loaded, 100)\n    }\n  }\n\n\n  function run_callbacks() {\n    try {\n      root._bokeh_onload_callbacks.forEach(function(callback) {\n        if (callback != null)\n          callback();\n      });\n    } finally {\n      delete root._bokeh_onload_callbacks\n    }\n    console.debug(\"Bokeh: all callbacks have finished\");\n  }\n\n  function load_libs(css_urls, js_urls, callback) {\n    if (css_urls == null) css_urls = [];\n    if (js_urls == null) js_urls = [];\n\n    root._bokeh_onload_callbacks.push(callback);\n    if (root._bokeh_is_loading > 0) {\n      console.debug(\"Bokeh: BokehJS is being loaded, scheduling callback at\", now());\n      return null;\n    }\n    if (js_urls == null || js_urls.length === 0) {\n      run_callbacks();\n      return null;\n    }\n    console.debug(\"Bokeh: BokehJS not loaded, scheduling load and callback at\", now());\n    root._bokeh_is_loading = css_urls.length + js_urls.length;\n\n    function on_load() {\n      root._bokeh_is_loading--;\n      if (root._bokeh_is_loading === 0) {\n        console.debug(\"Bokeh: all BokehJS libraries/stylesheets loaded\");\n        run_callbacks()\n      }\n    }\n\n    function on_error() {\n      console.error(\"failed to load \" + url);\n    }\n\n    for (var i = 0; i < css_urls.length; i++) {\n      var url = css_urls[i];\n      const element = document.createElement(\"link\");\n      element.onload = on_load;\n      element.onerror = on_error;\n      element.rel = \"stylesheet\";\n      element.type = \"text/css\";\n      element.href = url;\n      console.debug(\"Bokeh: injecting link tag for BokehJS stylesheet: \", url);\n      document.body.appendChild(element);\n    }\n\n    const hashes = {\"https://cdn.bokeh.org/bokeh/release/bokeh-2.2.1.min.js\": \"qkRvDQVAIfzsJo40iRBbxt6sttt0hv4lh74DG7OK4MCHv4C5oohXYoHUM5W11uqS\", \"https://cdn.bokeh.org/bokeh/release/bokeh-widgets-2.2.1.min.js\": \"Sb7Mr06a9TNlet/GEBeKaf5xH3eb6AlCzwjtU82wNPyDrnfoiVl26qnvlKjmcAd+\", \"https://cdn.bokeh.org/bokeh/release/bokeh-tables-2.2.1.min.js\": \"HaJ15vgfmcfRtB4c4YBOI4f1MUujukqInOWVqZJZZGK7Q+ivud0OKGSTn/Vm2iso\"};\n\n    for (var i = 0; i < js_urls.length; i++) {\n      var url = js_urls[i];\n      var element = document.createElement('script');\n      element.onload = on_load;\n      element.onerror = on_error;\n      element.async = false;\n      element.src = url;\n      if (url in hashes) {\n        element.crossOrigin = \"anonymous\";\n        element.integrity = \"sha384-\" + hashes[url];\n      }\n      console.debug(\"Bokeh: injecting script tag for BokehJS library: \", url);\n      document.head.appendChild(element);\n    }\n  };\n\n  function inject_raw_css(css) {\n    const element = document.createElement(\"style\");\n    element.appendChild(document.createTextNode(css));\n    document.body.appendChild(element);\n  }\n\n  \n  var js_urls = [\"https://cdn.bokeh.org/bokeh/release/bokeh-2.2.1.min.js\", \"https://cdn.bokeh.org/bokeh/release/bokeh-widgets-2.2.1.min.js\", \"https://cdn.bokeh.org/bokeh/release/bokeh-tables-2.2.1.min.js\"];\n  var css_urls = [];\n  \n\n  var inline_js = [\n    function(Bokeh) {\n      Bokeh.set_log_level(\"info\");\n    },\n    function(Bokeh) {\n    \n    \n    }\n  ];\n\n  function run_inline_js() {\n    \n    if (root.Bokeh !== undefined || force === true) {\n      \n    for (var i = 0; i < inline_js.length; i++) {\n      inline_js[i].call(root, root.Bokeh);\n    }\n    if (force === true) {\n        display_loaded();\n      }} else if (Date.now() < root._bokeh_timeout) {\n      setTimeout(run_inline_js, 100);\n    } else if (!root._bokeh_failed_load) {\n      console.log(\"Bokeh: BokehJS failed to load within specified timeout.\");\n      root._bokeh_failed_load = true;\n    } else if (force !== true) {\n      var cell = $(document.getElementById(\"1090\")).parents('.cell').data().cell;\n      cell.output_area.append_execute_result(NB_LOAD_WARNING)\n    }\n\n  }\n\n  if (root._bokeh_is_loading === 0) {\n    console.debug(\"Bokeh: BokehJS loaded, going straight to plotting\");\n    run_inline_js();\n  } else {\n    load_libs(css_urls, js_urls, function() {\n      console.debug(\"Bokeh: BokehJS plotting callback run at\", now());\n      run_inline_js();\n    });\n  }\n}(window));"
     },
     "metadata": {},
     "output_type": "display_data"
    }
   ],
   "source": [
    "# Fancy plot\n",
    "from bokeh.plotting import figure, show, output_notebook\n",
    "from bokeh.models import HoverTool, ColumnDataSource, CategoricalColorMapper, Legend\n",
    "from bokeh.palettes import Spectral10, Category10\n",
    "import pandas as pd\n",
    "from io import BytesIO\n",
    "from PIL import Image\n",
    "import base64\n",
    "\n",
    "output_notebook()"
   ]
  },
  {
   "cell_type": "code",
   "execution_count": 38,
   "metadata": {},
   "outputs": [
    {
     "data": {
      "text/html": [
       "\n",
       "\n",
       "\n",
       "\n",
       "\n",
       "\n",
       "  <div class=\"bk-root\" id=\"52b64c0a-753d-46c8-86a5-f2ae15779fde\" data-root-id=\"1188\"></div>\n"
      ]
     },
     "metadata": {},
     "output_type": "display_data"
    },
    {
     "data": {
      "application/javascript": [
       "(function(root) {\n",
       "  function embed_document(root) {\n",
       "    \n",
       "  var docs_json = {\"f32553ca-2a9a-4279-8b57-933d1780090c\":{\"roots\":{\"references\":[{\"attributes\":{\"below\":[{\"id\":\"1199\"}],\"center\":[{\"id\":\"1202\"},{\"id\":\"1206\"}],\"left\":[{\"id\":\"1203\"}],\"outline_line_alpha\":0.8,\"outline_line_color\":\"gray\",\"outline_line_width\":2,\"plot_height\":400,\"renderers\":[{\"id\":\"1222\"}],\"right\":[{\"id\":\"1218\"}],\"title\":{\"id\":\"1189\"},\"toolbar\":{\"id\":\"1211\"},\"x_range\":{\"id\":\"1191\"},\"x_scale\":{\"id\":\"1195\"},\"y_range\":{\"id\":\"1193\"},\"y_scale\":{\"id\":\"1197\"}},\"id\":\"1188\",\"subtype\":\"Figure\",\"type\":\"Plot\"},{\"attributes\":{\"formatter\":{\"id\":\"1226\"},\"ticker\":{\"id\":\"1200\"},\"visible\":false},\"id\":\"1199\",\"type\":\"LinearAxis\"},{\"attributes\":{},\"id\":\"1191\",\"type\":\"DataRange1d\"},{\"attributes\":{\"label\":{\"field\":\"true_label\"},\"renderers\":[{\"id\":\"1222\"}]},\"id\":\"1231\",\"type\":\"LegendItem\"},{\"attributes\":{\"fill_alpha\":{\"value\":0.6},\"fill_color\":{\"field\":\"label\",\"transform\":{\"id\":\"1187\"}},\"line_alpha\":{\"value\":0.6},\"line_color\":{\"field\":\"label\",\"transform\":{\"id\":\"1187\"}},\"size\":{\"units\":\"screen\",\"value\":6},\"x\":{\"field\":\"x\"},\"y\":{\"field\":\"y\"}},\"id\":\"1220\",\"type\":\"Circle\"},{\"attributes\":{\"axis\":{\"id\":\"1203\"},\"dimension\":1,\"ticker\":null,\"visible\":false},\"id\":\"1206\",\"type\":\"Grid\"},{\"attributes\":{\"fill_alpha\":{\"value\":0.1},\"fill_color\":{\"field\":\"label\",\"transform\":{\"id\":\"1187\"}},\"line_alpha\":{\"value\":0.1},\"line_color\":{\"field\":\"label\",\"transform\":{\"id\":\"1187\"}},\"size\":{\"units\":\"screen\",\"value\":6},\"x\":{\"field\":\"x\"},\"y\":{\"field\":\"y\"}},\"id\":\"1221\",\"type\":\"Circle\"},{\"attributes\":{},\"id\":\"1230\",\"type\":\"Selection\"},{\"attributes\":{\"items\":[{\"id\":\"1231\"}],\"location\":\"center\",\"title\":\"True class\",\"title_text_font_size\":\"14px\",\"title_text_font_style\":\"bold\"},\"id\":\"1218\",\"type\":\"Legend\"},{\"attributes\":{\"formatter\":{\"id\":\"1228\"},\"ticker\":{\"id\":\"1204\"},\"visible\":false},\"id\":\"1203\",\"type\":\"LinearAxis\"},{\"attributes\":{\"text\":\"\"},\"id\":\"1189\",\"type\":\"Title\"},{\"attributes\":{},\"id\":\"1229\",\"type\":\"UnionRenderers\"},{\"attributes\":{\"source\":{\"id\":\"1186\"}},\"id\":\"1223\",\"type\":\"CDSView\"},{\"attributes\":{\"callback\":null,\"tooltips\":\"\\n<div>\\n    <div>\\n        <span style='font-size: 16px; color: #224499'>Label:</span>\\n        <span style='font-size: 18px'>@true_label</span>\\n    </div>\\n</div>\\n\"},\"id\":\"1216\",\"type\":\"HoverTool\"},{\"attributes\":{},\"id\":\"1195\",\"type\":\"LinearScale\"},{\"attributes\":{\"active_drag\":\"auto\",\"active_inspect\":\"auto\",\"active_multi\":null,\"active_scroll\":\"auto\",\"active_tap\":\"auto\",\"tools\":[{\"id\":\"1207\"},{\"id\":\"1208\"},{\"id\":\"1209\"},{\"id\":\"1210\"},{\"id\":\"1216\"}]},\"id\":\"1211\",\"type\":\"Toolbar\"},{\"attributes\":{\"data\":{\"index\":[0,1,2,3,4,5,6,7,8,9,10,11,12,13,14,15,16,17,18,19,20,21,22,23,24,25,26,27,28,29,30,31,32,33,34,35,36,37,38,39,40,41,42,43,44,45,46,47,48,49,50,51,52,53,54,55,56,57,58,59,60,61,62,63,64,65,66,67,68,69,70,71,72,73,74,75,76,77,78,79,80,81,82,83,84,85,86,87,88,89,90,91,92,93,94,95,96,97,98,99,100,101,102,103,104,105,106,107,108,109,110,111,112,113,114,115,116,117,118,119,120,121,122,123,124,125,126,127,128,129,130,131,132,133,134,135,136,137,138,139,140,141,142,143,144,145,146,147,148,149,150,151,152,153,154,155,156,157,158,159,160,161,162,163,164,165,166,167,168,169,170,171,172,173,174,175,176,177,178,179,180,181,182,183,184,185,186,187,188,189,190,191,192,193,194,195,196,197,198,199,200,201,202,203,204,205,206,207,208,209,210,211,212,213,214,215,216,217,218,219,220,221,222,223,224,225,226,227,228,229,230,231,232,233,234,235,236,237,238,239,240,241,242,243,244,245,246,247,248,249,250,251,252,253,254,255,256,257,258,259,260,261,262,263,264,265,266,267,268,269,270,271,272,273,274,275,276,277,278,279,280,281,282,283,284,285,286,287,288,289,290,291,292,293,294,295,296,297,298,299,300,301,302,303,304,305,306,307,308,309,310,311,312,313,314,315,316,317,318,319,320,321,322,323,324,325,326,327,328,329,330,331,332,333,334,335,336,337,338,339,340,341,342,343,344,345,346,347,348,349,350,351,352,353,354,355,356,357,358,359,360,361,362,363,364,365,366,367,368,369,370,371,372,373,374,375,376,377,378,379,380,381,382,383,384,385,386,387,388,389,390,391,392,393,394,395,396,397,398,399,400,401,402,403,404,405,406,407,408,409,410,411,412,413,414,415,416,417,418,419,420,421,422,423,424,425,426,427,428,429,430,431,432,433,434,435,436,437,438,439,440,441,442,443,444,445,446,447,448,449,450,451,452,453,454,455,456,457,458,459,460,461,462,463,464,465,466,467,468,469,470,471,472,473,474,475,476,477,478,479,480,481,482,483,484,485,486,487,488,489,490,491,492,493,494,495,496,497,498,499],\"label\":[\"0\",\"1\",\"2\",\"3\",\"4\",\"0\",\"5\",\"6\",\"7\",\"7\",\"4\",\"2\",\"5\",\"5\",\"0\",\"7\",\"2\",\"4\",\"7\",\"4\",\"1\",\"1\",\"6\",\"5\",\"4\",\"8\",\"2\",\"2\",\"5\",\"5\",\"6\",\"7\",\"9\",\"9\",\"9\",\"3\",\"1\",\"1\",\"2\",\"1\",\"1\",\"9\",\"8\",\"9\",\"3\",\"1\",\"5\",\"5\",\"4\",\"7\",\"1\",\"9\",\"1\",\"5\",\"1\",\"8\",\"4\",\"0\",\"2\",\"0\",\"7\",\"7\",\"7\",\"2\",\"9\",\"9\",\"6\",\"6\",\"6\",\"3\",\"1\",\"1\",\"4\",\"0\",\"5\",\"4\",\"5\",\"9\",\"6\",\"4\",\"5\",\"8\",\"8\",\"7\",\"9\",\"2\",\"2\",\"9\",\"0\",\"2\",\"1\",\"4\",\"8\",\"0\",\"2\",\"3\",\"2\",\"6\",\"4\",\"6\",\"2\",\"9\",\"8\",\"4\",\"4\",\"9\",\"7\",\"7\",\"8\",\"1\",\"6\",\"0\",\"7\",\"0\",\"6\",\"1\",\"3\",\"1\",\"5\",\"0\",\"5\",\"0\",\"3\",\"7\",\"5\",\"3\",\"3\",\"8\",\"3\",\"3\",\"1\",\"6\",\"7\",\"6\",\"5\",\"0\",\"5\",\"4\",\"1\",\"6\",\"0\",\"0\",\"0\",\"3\",\"2\",\"1\",\"8\",\"6\",\"0\",\"6\",\"8\",\"6\",\"5\",\"6\",\"0\",\"5\",\"4\",\"1\",\"3\",\"3\",\"6\",\"3\",\"0\",\"6\",\"4\",\"3\",\"0\",\"1\",\"2\",\"5\",\"3\",\"7\",\"9\",\"4\",\"2\",\"2\",\"3\",\"9\",\"2\",\"3\",\"3\",\"4\",\"0\",\"8\",\"7\",\"9\",\"9\",\"1\",\"4\",\"8\",\"4\",\"0\",\"0\",\"5\",\"8\",\"6\",\"0\",\"8\",\"5\",\"1\",\"8\",\"1\",\"5\",\"2\",\"5\",\"5\",\"1\",\"6\",\"1\",\"2\",\"8\",\"8\",\"8\",\"4\",\"8\",\"8\",\"7\",\"9\",\"3\",\"7\",\"7\",\"0\",\"3\",\"0\",\"2\",\"6\",\"2\",\"9\",\"6\",\"7\",\"6\",\"3\",\"8\",\"0\",\"5\",\"7\",\"2\",\"8\",\"3\",\"6\",\"3\",\"4\",\"2\",\"8\",\"2\",\"7\",\"3\",\"3\",\"0\",\"0\",\"8\",\"9\",\"9\",\"7\",\"2\",\"4\",\"8\",\"7\",\"7\",\"6\",\"8\",\"0\",\"7\",\"4\",\"2\",\"0\",\"3\",\"3\",\"5\",\"1\",\"7\",\"8\",\"7\",\"8\",\"4\",\"9\",\"0\",\"4\",\"8\",\"6\",\"9\",\"7\",\"5\",\"9\",\"2\",\"7\",\"0\",\"0\",\"8\",\"6\",\"0\",\"1\",\"4\",\"6\",\"1\",\"8\",\"7\",\"0\",\"3\",\"9\",\"5\",\"6\",\"7\",\"8\",\"8\",\"2\",\"3\",\"2\",\"3\",\"2\",\"6\",\"0\",\"3\",\"4\",\"9\",\"3\",\"1\",\"9\",\"9\",\"0\",\"1\",\"3\",\"4\",\"5\",\"6\",\"4\",\"3\",\"2\",\"6\",\"7\",\"9\",\"8\",\"8\",\"6\",\"1\",\"8\",\"8\",\"0\",\"6\",\"6\",\"6\",\"3\",\"2\",\"9\",\"2\",\"7\",\"4\",\"5\",\"6\",\"9\",\"8\",\"6\",\"4\",\"7\",\"9\",\"4\",\"1\",\"3\",\"5\",\"8\",\"7\",\"9\",\"4\",\"0\",\"6\",\"5\",\"5\",\"4\",\"0\",\"1\",\"1\",\"0\",\"2\",\"2\",\"7\",\"0\",\"0\",\"5\",\"7\",\"0\",\"2\",\"7\",\"3\",\"9\",\"7\",\"8\",\"8\",\"3\",\"9\",\"1\",\"8\",\"8\",\"2\",\"2\",\"2\",\"1\",\"5\",\"1\",\"1\",\"9\",\"1\",\"0\",\"4\",\"6\",\"1\",\"9\",\"5\",\"7\",\"0\",\"4\",\"4\",\"9\",\"5\",\"5\",\"3\",\"7\",\"2\",\"2\",\"5\",\"7\",\"1\",\"5\",\"9\",\"7\",\"1\",\"3\",\"3\",\"9\",\"4\",\"3\",\"5\",\"2\",\"2\",\"4\",\"9\",\"6\",\"9\",\"5\",\"7\",\"5\",\"6\",\"7\",\"4\",\"4\",\"8\",\"1\",\"3\",\"0\",\"9\",\"5\",\"4\",\"5\",\"3\",\"8\",\"0\",\"9\",\"4\",\"3\",\"8\",\"6\",\"2\",\"3\",\"5\",\"6\",\"1\",\"0\",\"3\",\"8\",\"1\",\"8\",\"9\",\"4\",\"6\",\"9\",\"6\",\"2\",\"7\",\"9\",\"4\",\"4\",\"3\",\"2\",\"7\",\"1\",\"5\",\"6\",\"1\",\"4\",\"9\",\"9\",\"7\",\"2\",\"8\",\"4\",\"6\",\"5\",\"9\",\"2\",\"1\",\"5\"],\"true_label\":[645,37,767,905,960,645,715,235,72,72,960,767,715,715,645,72,767,960,72,960,37,37,235,715,960,908,767,767,715,715,235,72,847,847,847,905,37,37,767,37,37,847,908,847,905,37,715,715,960,72,37,847,37,715,37,908,960,645,767,645,72,72,72,767,847,847,235,235,235,905,37,37,960,645,715,960,715,847,235,960,715,908,908,72,847,767,767,847,645,767,37,960,908,645,767,905,767,235,960,235,767,847,908,960,960,847,72,72,908,37,235,645,72,645,235,37,905,37,715,645,715,645,905,72,715,905,905,908,905,905,37,235,72,235,715,645,715,960,37,235,645,645,645,905,767,37,908,235,645,235,908,235,715,235,645,715,960,37,905,905,235,905,645,235,960,905,645,37,767,715,905,72,847,960,767,767,905,847,767,905,905,960,645,908,72,847,847,37,960,908,960,645,645,715,908,235,645,908,715,37,908,37,715,767,715,715,37,235,37,767,908,908,908,960,908,908,72,847,905,72,72,645,905,645,767,235,767,847,235,72,235,905,908,645,715,72,767,908,905,235,905,960,767,908,767,72,905,905,645,645,908,847,847,72,767,960,908,72,72,235,908,645,72,960,767,645,905,905,715,37,72,908,72,908,960,847,645,960,908,235,847,72,715,847,767,72,645,645,908,235,645,37,960,235,37,908,72,645,905,847,715,235,72,908,908,767,905,767,905,767,235,645,905,960,847,905,37,847,847,645,37,905,960,715,235,960,905,767,235,72,847,908,908,235,37,908,908,645,235,235,235,905,767,847,767,72,960,715,235,847,908,235,960,72,847,960,37,905,715,908,72,847,960,645,235,715,715,960,645,37,37,645,767,767,72,645,645,715,72,645,767,72,905,847,72,908,908,905,847,37,908,908,767,767,767,37,715,37,37,847,37,645,960,235,37,847,715,72,645,960,960,847,715,715,905,72,767,767,715,72,37,715,847,72,37,905,905,847,960,905,715,767,767,960,847,235,847,715,72,715,235,72,960,960,908,37,905,645,847,715,960,715,905,908,645,847,960,905,908,235,767,905,715,235,37,645,905,908,37,908,847,960,235,847,235,767,72,847,960,960,905,767,72,37,715,235,37,960,847,847,72,767,908,960,235,715,847,767,37,715],\"x\":{\"__ndarray__\":\"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\",\"dtype\":\"float32\",\"order\":\"little\",\"shape\":[500]},\"y\":{\"__ndarray__\":\"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\",\"dtype\":\"float32\",\"order\":\"little\",\"shape\":[500]}},\"selected\":{\"id\":\"1230\"},\"selection_policy\":{\"id\":\"1229\"}},\"id\":\"1186\",\"type\":\"ColumnDataSource\"},{\"attributes\":{},\"id\":\"1226\",\"type\":\"BasicTickFormatter\"},{\"attributes\":{},\"id\":\"1209\",\"type\":\"ResetTool\"},{\"attributes\":{},\"id\":\"1207\",\"type\":\"PanTool\"},{\"attributes\":{},\"id\":\"1208\",\"type\":\"WheelZoomTool\"},{\"attributes\":{\"factors\":[\"9\",\"8\",\"7\",\"6\",\"5\",\"4\",\"3\",\"2\",\"1\",\"0\"],\"palette\":[\"#1f77b4\",\"#ff7f0e\",\"#2ca02c\",\"#d62728\",\"#9467bd\",\"#8c564b\",\"#e377c2\",\"#7f7f7f\",\"#bcbd22\",\"#17becf\"]},\"id\":\"1187\",\"type\":\"CategoricalColorMapper\"},{\"attributes\":{},\"id\":\"1204\",\"type\":\"BasicTicker\"},{\"attributes\":{},\"id\":\"1193\",\"type\":\"DataRange1d\"},{\"attributes\":{\"axis\":{\"id\":\"1199\"},\"ticker\":null,\"visible\":false},\"id\":\"1202\",\"type\":\"Grid\"},{\"attributes\":{},\"id\":\"1210\",\"type\":\"SaveTool\"},{\"attributes\":{\"data_source\":{\"id\":\"1186\"},\"glyph\":{\"id\":\"1220\"},\"hover_glyph\":null,\"muted_glyph\":null,\"nonselection_glyph\":{\"id\":\"1221\"},\"selection_glyph\":null,\"view\":{\"id\":\"1223\"}},\"id\":\"1222\",\"type\":\"GlyphRenderer\"},{\"attributes\":{},\"id\":\"1228\",\"type\":\"BasicTickFormatter\"},{\"attributes\":{},\"id\":\"1197\",\"type\":\"LinearScale\"},{\"attributes\":{},\"id\":\"1200\",\"type\":\"BasicTicker\"}],\"root_ids\":[\"1188\"]},\"title\":\"Bokeh Application\",\"version\":\"2.2.1\"}};\n",
       "  var render_items = [{\"docid\":\"f32553ca-2a9a-4279-8b57-933d1780090c\",\"root_ids\":[\"1188\"],\"roots\":{\"1188\":\"52b64c0a-753d-46c8-86a5-f2ae15779fde\"}}];\n",
       "  root.Bokeh.embed.embed_items_notebook(docs_json, render_items);\n",
       "\n",
       "  }\n",
       "  if (root.Bokeh !== undefined) {\n",
       "    embed_document(root);\n",
       "  } else {\n",
       "    var attempts = 0;\n",
       "    var timer = setInterval(function(root) {\n",
       "      if (root.Bokeh !== undefined) {\n",
       "        clearInterval(timer);\n",
       "        embed_document(root);\n",
       "      } else {\n",
       "        attempts++;\n",
       "        if (attempts > 100) {\n",
       "          clearInterval(timer);\n",
       "          console.log(\"Bokeh: ERROR: Unable to run BokehJS code because BokehJS library is missing\");\n",
       "        }\n",
       "      }\n",
       "    }, 10, root)\n",
       "  }\n",
       "})(window);"
      ],
      "application/vnd.bokehjs_exec.v0+json": ""
     },
     "metadata": {
      "application/vnd.bokehjs_exec.v0+json": {
       "id": "1188"
      }
     },
     "output_type": "display_data"
    }
   ],
   "source": [
    "df = pd.DataFrame(embedding_adv, columns=('x', 'y'))\n",
    "df['label'] = [str(x) for x in mapped_labels]\n",
    "#df = pd.read_csv('df.csv', index_col=0)\n",
    "df['label'] = [str(x) for x in df.label]\n",
    "df['true_label'] = df['label'].values\n",
    "df['true_label'] = df['true_label'].astype(int).replace(inv_map_dict)\n",
    "\n",
    "datasource = ColumnDataSource(df)\n",
    "color_mapping = CategoricalColorMapper(factors=[str(9 - x) for x in [i for i in range(10)]],\n",
    "                                       palette=Category10[10])\n",
    "\n",
    "plot_figure = figure(\n",
    "    title='',\n",
    "    plot_width=600,\n",
    "    plot_height=400,\n",
    "    tools=('pan, wheel_zoom, reset, save')\n",
    ")\n",
    "\n",
    "plot_figure.add_tools(HoverTool(tooltips=\"\"\"\n",
    "<div>\n",
    "    <div>\n",
    "        <span style='font-size: 16px; color: #224499'>Label:</span>\n",
    "        <span style='font-size: 18px'>@true_label</span>\n",
    "    </div>\n",
    "</div>\n",
    "\"\"\"))\n",
    "\n",
    "plot_figure.add_layout(Legend(), 'right')\n",
    "\n",
    "plot_figure.circle(\n",
    "    'x',\n",
    "    'y',\n",
    "    source=datasource,\n",
    "    color=dict(field='label', transform=color_mapping),\n",
    "    line_alpha=0.6,\n",
    "    fill_alpha=0.6,\n",
    "    size=6,\n",
    "    legend_field='true_label'\n",
    ")\n",
    "\n",
    "plot_figure.xaxis.visible = False\n",
    "plot_figure.xgrid.visible = False\n",
    "plot_figure.yaxis.visible = False\n",
    "plot_figure.ygrid.visible = False\n",
    "\n",
    "plot_figure.outline_line_width = 2\n",
    "plot_figure.outline_line_alpha = 0.8\n",
    "plot_figure.outline_line_color = \"gray\"\n",
    "\n",
    "plot_figure.legend.location = \"center\"\n",
    "plot_figure.legend.title = 'True class'\n",
    "plot_figure.legend.title_text_font_style = \"bold\"\n",
    "plot_figure.legend.title_text_font_size = \"14px\"\n",
    "\n",
    "show(plot_figure)"
   ]
  },
  {
   "cell_type": "markdown",
   "metadata": {},
   "source": [
    "## Combined"
   ]
  },
  {
   "cell_type": "code",
   "execution_count": 25,
   "metadata": {},
   "outputs": [],
   "source": [
    "reducer = umap.UMAP(random_state=SEED, n_neighbors = 150, n_components=2)"
   ]
  },
  {
   "cell_type": "code",
   "execution_count": 26,
   "metadata": {},
   "outputs": [],
   "source": [
    "combined = torch.cat([result, org_result], 0)\n",
    "combined_labels = mapped_labels+org_mapped_labels"
   ]
  },
  {
   "cell_type": "code",
   "execution_count": 18,
   "metadata": {},
   "outputs": [
    {
     "data": {
      "text/plain": [
       "UMAP(n_neighbors=150, random_state=42, tqdm_kwds={'bar_format': '{desc}: {percentage:3.0f}%| {bar} {n_fmt}/{total_fmt} [{elapsed}]', 'desc': 'Epochs completed', 'disable': True})"
      ]
     },
     "execution_count": 18,
     "metadata": {},
     "output_type": "execute_result"
    }
   ],
   "source": [
    "reducer.fit(combined.cpu().numpy())"
   ]
  },
  {
   "cell_type": "code",
   "execution_count": 19,
   "metadata": {},
   "outputs": [],
   "source": [
    "embedding = reducer.transform(combined.cpu().numpy())"
   ]
  },
  {
   "cell_type": "code",
   "execution_count": 20,
   "metadata": {},
   "outputs": [],
   "source": [
    "#combined_labels = [0]*50 + [1]*50 + [2]*50 + [3]*50"
   ]
  },
  {
   "cell_type": "code",
   "execution_count": 27,
   "metadata": {},
   "outputs": [
    {
     "data": {
      "text/plain": [
       "<matplotlib.colorbar.Colorbar at 0x2b1058c9bd00>"
      ]
     },
     "execution_count": 27,
     "metadata": {},
     "output_type": "execute_result"
    },
    {
     "data": {
      "image/png": "[encoded data removed]",
      "text/plain": [
       "<Figure size 720x576 with 2 Axes>"
      ]
     },
     "metadata": {
      "needs_background": "light"
     },
     "output_type": "display_data"
    }
   ],
   "source": [
    "plt.rcParams[\"figure.figsize\"] = (10,8)\n",
    "plt.scatter(embedding[:, 0], embedding[:, 1], c=combined_labels, cmap='Spectral', s=20)\n",
    "plt.gca().set_aspect('equal', 'datalim')\n",
    "plt.colorbar()"
   ]
  },
  {
   "cell_type": "code",
   "execution_count": 28,
   "metadata": {},
   "outputs": [
    {
     "data": {
      "text/html": [
       "\n",
       "    <div class=\"bk-root\">\n",
       "        <a href=\"https://bokeh.org\" target=\"_blank\" class=\"bk-logo bk-logo-small bk-logo-notebook\"></a>\n",
       "        <span id=\"1002\">Loading BokehJS ...</span>\n",
       "    </div>"
      ]
     },
     "metadata": {},
     "output_type": "display_data"
    },
    {
     "data": {
      "application/javascript": [
       "\n",
       "(function(root) {\n",
       "  function now() {\n",
       "    return new Date();\n",
       "  }\n",
       "\n",
       "  var force = true;\n",
       "\n",
       "  if (typeof root._bokeh_onload_callbacks === \"undefined\" || force === true) {\n",
       "    root._bokeh_onload_callbacks = [];\n",
       "    root._bokeh_is_loading = undefined;\n",
       "  }\n",
       "\n",
       "  var JS_MIME_TYPE = 'application/javascript';\n",
       "  var HTML_MIME_TYPE = 'text/html';\n",
       "  var EXEC_MIME_TYPE = 'application/vnd.bokehjs_exec.v0+json';\n",
       "  var CLASS_NAME = 'output_bokeh rendered_html';\n",
       "\n",
       "  /**\n",
       "   * Render data to the DOM node\n",
       "   */\n",
       "  function render(props, node) {\n",
       "    var script = document.createElement(\"script\");\n",
       "    node.appendChild(script);\n",
       "  }\n",
       "\n",
       "  /**\n",
       "   * Handle when an output is cleared or removed\n",
       "   */\n",
       "  function handleClearOutput(event, handle) {\n",
       "    var cell = handle.cell;\n",
       "\n",
       "    var id = cell.output_area._bokeh_element_id;\n",
       "    var server_id = cell.output_area._bokeh_server_id;\n",
       "    // Clean up Bokeh references\n",
       "    if (id != null && id in Bokeh.index) {\n",
       "      Bokeh.index[id].model.document.clear();\n",
       "      delete Bokeh.index[id];\n",
       "    }\n",
       "\n",
       "    if (server_id !== undefined) {\n",
       "      // Clean up Bokeh references\n",
       "      var cmd = \"from bokeh.io.state import curstate; print(curstate().uuid_to_server['\" + server_id + \"'].get_sessions()[0].document.roots[0]._id)\";\n",
       "      cell.notebook.kernel.execute(cmd, {\n",
       "        iopub: {\n",
       "          output: function(msg) {\n",
       "            var id = msg.content.text.trim();\n",
       "            if (id in Bokeh.index) {\n",
       "              Bokeh.index[id].model.document.clear();\n",
       "              delete Bokeh.index[id];\n",
       "            }\n",
       "          }\n",
       "        }\n",
       "      });\n",
       "      // Destroy server and session\n",
       "      var cmd = \"import bokeh.io.notebook as ion; ion.destroy_server('\" + server_id + \"')\";\n",
       "      cell.notebook.kernel.execute(cmd);\n",
       "    }\n",
       "  }\n",
       "\n",
       "  /**\n",
       "   * Handle when a new output is added\n",
       "   */\n",
       "  function handleAddOutput(event, handle) {\n",
       "    var output_area = handle.output_area;\n",
       "    var output = handle.output;\n",
       "\n",
       "    // limit handleAddOutput to display_data with EXEC_MIME_TYPE content only\n",
       "    if ((output.output_type != \"display_data\") || (!output.data.hasOwnProperty(EXEC_MIME_TYPE))) {\n",
       "      return\n",
       "    }\n",
       "\n",
       "    var toinsert = output_area.element.find(\".\" + CLASS_NAME.split(' ')[0]);\n",
       "\n",
       "    if (output.metadata[EXEC_MIME_TYPE][\"id\"] !== undefined) {\n",
       "      toinsert[toinsert.length - 1].firstChild.textContent = output.data[JS_MIME_TYPE];\n",
       "      // store reference to embed id on output_area\n",
       "      output_area._bokeh_element_id = output.metadata[EXEC_MIME_TYPE][\"id\"];\n",
       "    }\n",
       "    if (output.metadata[EXEC_MIME_TYPE][\"server_id\"] !== undefined) {\n",
       "      var bk_div = document.createElement(\"div\");\n",
       "      bk_div.innerHTML = output.data[HTML_MIME_TYPE];\n",
       "      var script_attrs = bk_div.children[0].attributes;\n",
       "      for (var i = 0; i < script_attrs.length; i++) {\n",
       "        toinsert[toinsert.length - 1].firstChild.setAttribute(script_attrs[i].name, script_attrs[i].value);\n",
       "        toinsert[toinsert.length - 1].firstChild.textContent = bk_div.children[0].textContent\n",
       "      }\n",
       "      // store reference to server id on output_area\n",
       "      output_area._bokeh_server_id = output.metadata[EXEC_MIME_TYPE][\"server_id\"];\n",
       "    }\n",
       "  }\n",
       "\n",
       "  function register_renderer(events, OutputArea) {\n",
       "\n",
       "    function append_mime(data, metadata, element) {\n",
       "      // create a DOM node to render to\n",
       "      var toinsert = this.create_output_subarea(\n",
       "        metadata,\n",
       "        CLASS_NAME,\n",
       "        EXEC_MIME_TYPE\n",
       "      );\n",
       "      this.keyboard_manager.register_events(toinsert);\n",
       "      // Render to node\n",
       "      var props = {data: data, metadata: metadata[EXEC_MIME_TYPE]};\n",
       "      render(props, toinsert[toinsert.length - 1]);\n",
       "      element.append(toinsert);\n",
       "      return toinsert\n",
       "    }\n",
       "\n",
       "    /* Handle when an output is cleared or removed */\n",
       "    events.on('clear_output.CodeCell', handleClearOutput);\n",
       "    events.on('delete.Cell', handleClearOutput);\n",
       "\n",
       "    /* Handle when a new output is added */\n",
       "    events.on('output_added.OutputArea', handleAddOutput);\n",
       "\n",
       "    /**\n",
       "     * Register the mime type and append_mime function with output_area\n",
       "     */\n",
       "    OutputArea.prototype.register_mime_type(EXEC_MIME_TYPE, append_mime, {\n",
       "      /* Is output safe? */\n",
       "      safe: true,\n",
       "      /* Index of renderer in `output_area.display_order` */\n",
       "      index: 0\n",
       "    });\n",
       "  }\n",
       "\n",
       "  // register the mime type if in Jupyter Notebook environment and previously unregistered\n",
       "  if (root.Jupyter !== undefined) {\n",
       "    var events = require('base/js/events');\n",
       "    var OutputArea = require('notebook/js/outputarea').OutputArea;\n",
       "\n",
       "    if (OutputArea.prototype.mime_types().indexOf(EXEC_MIME_TYPE) == -1) {\n",
       "      register_renderer(events, OutputArea);\n",
       "    }\n",
       "  }\n",
       "\n",
       "  \n",
       "  if (typeof (root._bokeh_timeout) === \"undefined\" || force === true) {\n",
       "    root._bokeh_timeout = Date.now() + 5000;\n",
       "    root._bokeh_failed_load = false;\n",
       "  }\n",
       "\n",
       "  var NB_LOAD_WARNING = {'data': {'text/html':\n",
       "     \"<div style='background-color: #fdd'>\\n\"+\n",
       "     \"<p>\\n\"+\n",
       "     \"BokehJS does not appear to have successfully loaded. If loading BokehJS from CDN, this \\n\"+\n",
       "     \"may be due to a slow or bad network connection. Possible fixes:\\n\"+\n",
       "     \"</p>\\n\"+\n",
       "     \"<ul>\\n\"+\n",
       "     \"<li>re-rerun `output_notebook()` to attempt to load from CDN again, or</li>\\n\"+\n",
       "     \"<li>use INLINE resources instead, as so:</li>\\n\"+\n",
       "     \"</ul>\\n\"+\n",
       "     \"<code>\\n\"+\n",
       "     \"from bokeh.resources import INLINE\\n\"+\n",
       "     \"output_notebook(resources=INLINE)\\n\"+\n",
       "     \"</code>\\n\"+\n",
       "     \"</div>\"}};\n",
       "\n",
       "  function display_loaded() {\n",
       "    var el = document.getElementById(\"1002\");\n",
       "    if (el != null) {\n",
       "      el.textContent = \"BokehJS is loading...\";\n",
       "    }\n",
       "    if (root.Bokeh !== undefined) {\n",
       "      if (el != null) {\n",
       "        el.textContent = \"BokehJS \" + root.Bokeh.version + \" successfully loaded.\";\n",
       "      }\n",
       "    } else if (Date.now() < root._bokeh_timeout) {\n",
       "      setTimeout(display_loaded, 100)\n",
       "    }\n",
       "  }\n",
       "\n",
       "\n",
       "  function run_callbacks() {\n",
       "    try {\n",
       "      root._bokeh_onload_callbacks.forEach(function(callback) {\n",
       "        if (callback != null)\n",
       "          callback();\n",
       "      });\n",
       "    } finally {\n",
       "      delete root._bokeh_onload_callbacks\n",
       "    }\n",
       "    console.debug(\"Bokeh: all callbacks have finished\");\n",
       "  }\n",
       "\n",
       "  function load_libs(css_urls, js_urls, callback) {\n",
       "    if (css_urls == null) css_urls = [];\n",
       "    if (js_urls == null) js_urls = [];\n",
       "\n",
       "    root._bokeh_onload_callbacks.push(callback);\n",
       "    if (root._bokeh_is_loading > 0) {\n",
       "      console.debug(\"Bokeh: BokehJS is being loaded, scheduling callback at\", now());\n",
       "      return null;\n",
       "    }\n",
       "    if (js_urls == null || js_urls.length === 0) {\n",
       "      run_callbacks();\n",
       "      return null;\n",
       "    }\n",
       "    console.debug(\"Bokeh: BokehJS not loaded, scheduling load and callback at\", now());\n",
       "    root._bokeh_is_loading = css_urls.length + js_urls.length;\n",
       "\n",
       "    function on_load() {\n",
       "      root._bokeh_is_loading--;\n",
       "      if (root._bokeh_is_loading === 0) {\n",
       "        console.debug(\"Bokeh: all BokehJS libraries/stylesheets loaded\");\n",
       "        run_callbacks()\n",
       "      }\n",
       "    }\n",
       "\n",
       "    function on_error() {\n",
       "      console.error(\"failed to load \" + url);\n",
       "    }\n",
       "\n",
       "    for (var i = 0; i < css_urls.length; i++) {\n",
       "      var url = css_urls[i];\n",
       "      const element = document.createElement(\"link\");\n",
       "      element.onload = on_load;\n",
       "      element.onerror = on_error;\n",
       "      element.rel = \"stylesheet\";\n",
       "      element.type = \"text/css\";\n",
       "      element.href = url;\n",
       "      console.debug(\"Bokeh: injecting link tag for BokehJS stylesheet: \", url);\n",
       "      document.body.appendChild(element);\n",
       "    }\n",
       "\n",
       "    const hashes = {\"https://cdn.bokeh.org/bokeh/release/bokeh-2.2.1.min.js\": \"qkRvDQVAIfzsJo40iRBbxt6sttt0hv4lh74DG7OK4MCHv4C5oohXYoHUM5W11uqS\", \"https://cdn.bokeh.org/bokeh/release/bokeh-widgets-2.2.1.min.js\": \"Sb7Mr06a9TNlet/GEBeKaf5xH3eb6AlCzwjtU82wNPyDrnfoiVl26qnvlKjmcAd+\", \"https://cdn.bokeh.org/bokeh/release/bokeh-tables-2.2.1.min.js\": \"HaJ15vgfmcfRtB4c4YBOI4f1MUujukqInOWVqZJZZGK7Q+ivud0OKGSTn/Vm2iso\"};\n",
       "\n",
       "    for (var i = 0; i < js_urls.length; i++) {\n",
       "      var url = js_urls[i];\n",
       "      var element = document.createElement('script');\n",
       "      element.onload = on_load;\n",
       "      element.onerror = on_error;\n",
       "      element.async = false;\n",
       "      element.src = url;\n",
       "      if (url in hashes) {\n",
       "        element.crossOrigin = \"anonymous\";\n",
       "        element.integrity = \"sha384-\" + hashes[url];\n",
       "      }\n",
       "      console.debug(\"Bokeh: injecting script tag for BokehJS library: \", url);\n",
       "      document.head.appendChild(element);\n",
       "    }\n",
       "  };\n",
       "\n",
       "  function inject_raw_css(css) {\n",
       "    const element = document.createElement(\"style\");\n",
       "    element.appendChild(document.createTextNode(css));\n",
       "    document.body.appendChild(element);\n",
       "  }\n",
       "\n",
       "  \n",
       "  var js_urls = [\"https://cdn.bokeh.org/bokeh/release/bokeh-2.2.1.min.js\", \"https://cdn.bokeh.org/bokeh/release/bokeh-widgets-2.2.1.min.js\", \"https://cdn.bokeh.org/bokeh/release/bokeh-tables-2.2.1.min.js\"];\n",
       "  var css_urls = [];\n",
       "  \n",
       "\n",
       "  var inline_js = [\n",
       "    function(Bokeh) {\n",
       "      Bokeh.set_log_level(\"info\");\n",
       "    },\n",
       "    function(Bokeh) {\n",
       "    \n",
       "    \n",
       "    }\n",
       "  ];\n",
       "\n",
       "  function run_inline_js() {\n",
       "    \n",
       "    if (root.Bokeh !== undefined || force === true) {\n",
       "      \n",
       "    for (var i = 0; i < inline_js.length; i++) {\n",
       "      inline_js[i].call(root, root.Bokeh);\n",
       "    }\n",
       "    if (force === true) {\n",
       "        display_loaded();\n",
       "      }} else if (Date.now() < root._bokeh_timeout) {\n",
       "      setTimeout(run_inline_js, 100);\n",
       "    } else if (!root._bokeh_failed_load) {\n",
       "      console.log(\"Bokeh: BokehJS failed to load within specified timeout.\");\n",
       "      root._bokeh_failed_load = true;\n",
       "    } else if (force !== true) {\n",
       "      var cell = $(document.getElementById(\"1002\")).parents('.cell').data().cell;\n",
       "      cell.output_area.append_execute_result(NB_LOAD_WARNING)\n",
       "    }\n",
       "\n",
       "  }\n",
       "\n",
       "  if (root._bokeh_is_loading === 0) {\n",
       "    console.debug(\"Bokeh: BokehJS loaded, going straight to plotting\");\n",
       "    run_inline_js();\n",
       "  } else {\n",
       "    load_libs(css_urls, js_urls, function() {\n",
       "      console.debug(\"Bokeh: BokehJS plotting callback run at\", now());\n",
       "      run_inline_js();\n",
       "    });\n",
       "  }\n",
       "}(window));"
      ],
      "application/vnd.bokehjs_load.v0+json": "\n(function(root) {\n  function now() {\n    return new Date();\n  }\n\n  var force = true;\n\n  if (typeof root._bokeh_onload_callbacks === \"undefined\" || force === true) {\n    root._bokeh_onload_callbacks = [];\n    root._bokeh_is_loading = undefined;\n  }\n\n  \n\n  \n  if (typeof (root._bokeh_timeout) === \"undefined\" || force === true) {\n    root._bokeh_timeout = Date.now() + 5000;\n    root._bokeh_failed_load = false;\n  }\n\n  var NB_LOAD_WARNING = {'data': {'text/html':\n     \"<div style='background-color: #fdd'>\\n\"+\n     \"<p>\\n\"+\n     \"BokehJS does not appear to have successfully loaded. If loading BokehJS from CDN, this \\n\"+\n     \"may be due to a slow or bad network connection. Possible fixes:\\n\"+\n     \"</p>\\n\"+\n     \"<ul>\\n\"+\n     \"<li>re-rerun `output_notebook()` to attempt to load from CDN again, or</li>\\n\"+\n     \"<li>use INLINE resources instead, as so:</li>\\n\"+\n     \"</ul>\\n\"+\n     \"<code>\\n\"+\n     \"from bokeh.resources import INLINE\\n\"+\n     \"output_notebook(resources=INLINE)\\n\"+\n     \"</code>\\n\"+\n     \"</div>\"}};\n\n  function display_loaded() {\n    var el = document.getElementById(\"1002\");\n    if (el != null) {\n      el.textContent = \"BokehJS is loading...\";\n    }\n    if (root.Bokeh !== undefined) {\n      if (el != null) {\n        el.textContent = \"BokehJS \" + root.Bokeh.version + \" successfully loaded.\";\n      }\n    } else if (Date.now() < root._bokeh_timeout) {\n      setTimeout(display_loaded, 100)\n    }\n  }\n\n\n  function run_callbacks() {\n    try {\n      root._bokeh_onload_callbacks.forEach(function(callback) {\n        if (callback != null)\n          callback();\n      });\n    } finally {\n      delete root._bokeh_onload_callbacks\n    }\n    console.debug(\"Bokeh: all callbacks have finished\");\n  }\n\n  function load_libs(css_urls, js_urls, callback) {\n    if (css_urls == null) css_urls = [];\n    if (js_urls == null) js_urls = [];\n\n    root._bokeh_onload_callbacks.push(callback);\n    if (root._bokeh_is_loading > 0) {\n      console.debug(\"Bokeh: BokehJS is being loaded, scheduling callback at\", now());\n      return null;\n    }\n    if (js_urls == null || js_urls.length === 0) {\n      run_callbacks();\n      return null;\n    }\n    console.debug(\"Bokeh: BokehJS not loaded, scheduling load and callback at\", now());\n    root._bokeh_is_loading = css_urls.length + js_urls.length;\n\n    function on_load() {\n      root._bokeh_is_loading--;\n      if (root._bokeh_is_loading === 0) {\n        console.debug(\"Bokeh: all BokehJS libraries/stylesheets loaded\");\n        run_callbacks()\n      }\n    }\n\n    function on_error() {\n      console.error(\"failed to load \" + url);\n    }\n\n    for (var i = 0; i < css_urls.length; i++) {\n      var url = css_urls[i];\n      const element = document.createElement(\"link\");\n      element.onload = on_load;\n      element.onerror = on_error;\n      element.rel = \"stylesheet\";\n      element.type = \"text/css\";\n      element.href = url;\n      console.debug(\"Bokeh: injecting link tag for BokehJS stylesheet: \", url);\n      document.body.appendChild(element);\n    }\n\n    const hashes = {\"https://cdn.bokeh.org/bokeh/release/bokeh-2.2.1.min.js\": \"qkRvDQVAIfzsJo40iRBbxt6sttt0hv4lh74DG7OK4MCHv4C5oohXYoHUM5W11uqS\", \"https://cdn.bokeh.org/bokeh/release/bokeh-widgets-2.2.1.min.js\": \"Sb7Mr06a9TNlet/GEBeKaf5xH3eb6AlCzwjtU82wNPyDrnfoiVl26qnvlKjmcAd+\", \"https://cdn.bokeh.org/bokeh/release/bokeh-tables-2.2.1.min.js\": \"HaJ15vgfmcfRtB4c4YBOI4f1MUujukqInOWVqZJZZGK7Q+ivud0OKGSTn/Vm2iso\"};\n\n    for (var i = 0; i < js_urls.length; i++) {\n      var url = js_urls[i];\n      var element = document.createElement('script');\n      element.onload = on_load;\n      element.onerror = on_error;\n      element.async = false;\n      element.src = url;\n      if (url in hashes) {\n        element.crossOrigin = \"anonymous\";\n        element.integrity = \"sha384-\" + hashes[url];\n      }\n      console.debug(\"Bokeh: injecting script tag for BokehJS library: \", url);\n      document.head.appendChild(element);\n    }\n  };\n\n  function inject_raw_css(css) {\n    const element = document.createElement(\"style\");\n    element.appendChild(document.createTextNode(css));\n    document.body.appendChild(element);\n  }\n\n  \n  var js_urls = [\"https://cdn.bokeh.org/bokeh/release/bokeh-2.2.1.min.js\", \"https://cdn.bokeh.org/bokeh/release/bokeh-widgets-2.2.1.min.js\", \"https://cdn.bokeh.org/bokeh/release/bokeh-tables-2.2.1.min.js\"];\n  var css_urls = [];\n  \n\n  var inline_js = [\n    function(Bokeh) {\n      Bokeh.set_log_level(\"info\");\n    },\n    function(Bokeh) {\n    \n    \n    }\n  ];\n\n  function run_inline_js() {\n    \n    if (root.Bokeh !== undefined || force === true) {\n      \n    for (var i = 0; i < inline_js.length; i++) {\n      inline_js[i].call(root, root.Bokeh);\n    }\n    if (force === true) {\n        display_loaded();\n      }} else if (Date.now() < root._bokeh_timeout) {\n      setTimeout(run_inline_js, 100);\n    } else if (!root._bokeh_failed_load) {\n      console.log(\"Bokeh: BokehJS failed to load within specified timeout.\");\n      root._bokeh_failed_load = true;\n    } else if (force !== true) {\n      var cell = $(document.getElementById(\"1002\")).parents('.cell').data().cell;\n      cell.output_area.append_execute_result(NB_LOAD_WARNING)\n    }\n\n  }\n\n  if (root._bokeh_is_loading === 0) {\n    console.debug(\"Bokeh: BokehJS loaded, going straight to plotting\");\n    run_inline_js();\n  } else {\n    load_libs(css_urls, js_urls, function() {\n      console.debug(\"Bokeh: BokehJS plotting callback run at\", now());\n      run_inline_js();\n    });\n  }\n}(window));"
     },
     "metadata": {},
     "output_type": "display_data"
    }
   ],
   "source": [
    "# Fancy plot\n",
    "from bokeh.plotting import figure, show, output_notebook\n",
    "from bokeh.models import HoverTool, ColumnDataSource, CategoricalColorMapper, Legend\n",
    "from bokeh.palettes import Spectral10, Category10\n",
    "import pandas as pd\n",
    "from io import BytesIO\n",
    "from PIL import Image\n",
    "import base64\n",
    "\n",
    "output_notebook()"
   ]
  },
  {
   "cell_type": "code",
   "execution_count": 48,
   "metadata": {},
   "outputs": [
    {
     "data": {
      "text/html": [
       "\n",
       "\n",
       "\n",
       "\n",
       "\n",
       "\n",
       "  <div class=\"bk-root\" id=\"137be823-0ad2-4dfa-bb06-59cd1e289b44\" data-root-id=\"3200\"></div>\n"
      ]
     },
     "metadata": {},
     "output_type": "display_data"
    },
    {
     "data": {
      "application/javascript": [
       "(function(root) {\n",
       "  function embed_document(root) {\n",
       "    \n",
       "  var docs_json = {\"c90f6a38-d0fd-49d6-8904-fe654ac02a1e\":{\"roots\":{\"references\":[{\"attributes\":{\"below\":[{\"id\":\"3211\"}],\"center\":[{\"id\":\"3214\"},{\"id\":\"3218\"}],\"left\":[{\"id\":\"3215\"}],\"outline_line_alpha\":0.8,\"outline_line_color\":\"gray\",\"outline_line_width\":2,\"plot_height\":400,\"renderers\":[{\"id\":\"3234\"}],\"right\":[{\"id\":\"3230\"}],\"title\":{\"id\":\"3201\"},\"toolbar\":{\"id\":\"3223\"},\"x_range\":{\"id\":\"3203\"},\"x_scale\":{\"id\":\"3207\"},\"y_range\":{\"id\":\"3205\"},\"y_scale\":{\"id\":\"3209\"}},\"id\":\"3200\",\"subtype\":\"Figure\",\"type\":\"Plot\"},{\"attributes\":{},\"id\":\"3221\",\"type\":\"ResetTool\"},{\"attributes\":{\"data_source\":{\"id\":\"3198\"},\"glyph\":{\"id\":\"3232\"},\"hover_glyph\":null,\"muted_glyph\":null,\"nonselection_glyph\":{\"id\":\"3233\"},\"selection_glyph\":null,\"view\":{\"id\":\"3235\"}},\"id\":\"3234\",\"type\":\"GlyphRenderer\"},{\"attributes\":{\"data\":{\"index\":[0,1,2,3,4,5,6,7,8,9,10,11,12,13,14,15,16,17,18,19,20,21,22,23,24,25,26,27,28,29,30,31,32,33,34,35,36,37,38,39,40,41,42,43,44,45,46,47,48,49,50,51,52,53,54,55,56,57,58,59,60,61,62,63,64,65,66,67,68,69,70,71,72,73,74,75,76,77,78,79,80,81,82,83,84,85,86,87,88,89,90,91,92,93,94,95,96,97,98,99,100,101,102,103,104,105,106,107,108,109,110,111,112,113,114,115,116,117,118,119,120,121,122,123,124,125,126,127,128,129,130,131,132,133,134,135,136,137,138,139,140,141,142,143,144,145,146,147,148,149,150,151,152,153,154,155,156,157,158,159,160,161,162,163,164,165,166,167,168,169,170,171,172,173,174,175,176,177,178,179,180,181,182,183,184,185,186,187,188,189,190,191,192,193,194,195,196,197,198,199,200,201,202,203,204,205,206,207,208,209,210,211,212,213,214,215,216,217,218,219,220,221,222,223,224,225,226,227,228,229,230,231,232,233,234,235,236,237,238,239,240,241,242,243,244,245,246,247,248,249,250,251,252,253,254,255,256,257,258,259,260,261,262,263,264,265,266,267,268,269,270,271,272,273,274,275,276,277,278,279,280,281,282,283,284,285,286,287,288,289,290,291,292,293,294,295,296,297,298,299],\"label\":[\"3\",\"4\",\"3\",\"3\",\"4\",\"5\",\"4\",\"3\",\"3\",\"3\",\"3\",\"5\",\"3\",\"3\",\"3\",\"3\",\"5\",\"4\",\"4\",\"4\",\"3\",\"3\",\"4\",\"5\",\"5\",\"3\",\"5\",\"4\",\"4\",\"5\",\"5\",\"3\",\"4\",\"4\",\"3\",\"3\",\"5\",\"3\",\"4\",\"4\",\"3\",\"4\",\"3\",\"5\",\"4\",\"4\",\"5\",\"4\",\"4\",\"3\",\"4\",\"4\",\"3\",\"5\",\"3\",\"5\",\"5\",\"4\",\"5\",\"3\",\"5\",\"3\",\"3\",\"4\",\"3\",\"5\",\"5\",\"5\",\"5\",\"5\",\"4\",\"4\",\"4\",\"5\",\"5\",\"4\",\"5\",\"5\",\"5\",\"4\",\"5\",\"3\",\"5\",\"5\",\"5\",\"4\",\"5\",\"4\",\"3\",\"4\",\"3\",\"5\",\"4\",\"5\",\"5\",\"4\",\"3\",\"3\",\"4\",\"4\",\"5\",\"5\",\"4\",\"3\",\"5\",\"5\",\"4\",\"4\",\"4\",\"4\",\"5\",\"4\",\"3\",\"5\",\"4\",\"3\",\"3\",\"5\",\"5\",\"3\",\"5\",\"5\",\"3\",\"3\",\"3\",\"3\",\"4\",\"3\",\"3\",\"3\",\"4\",\"4\",\"5\",\"3\",\"5\",\"5\",\"4\",\"4\",\"3\",\"5\",\"3\",\"5\",\"4\",\"4\",\"3\",\"4\",\"3\",\"5\",\"4\",\"3\",\"0\",\"1\",\"0\",\"0\",\"1\",\"2\",\"1\",\"0\",\"0\",\"0\",\"0\",\"2\",\"0\",\"0\",\"0\",\"0\",\"2\",\"1\",\"1\",\"1\",\"0\",\"0\",\"1\",\"2\",\"2\",\"0\",\"2\",\"1\",\"1\",\"2\",\"2\",\"0\",\"1\",\"1\",\"0\",\"0\",\"2\",\"0\",\"1\",\"1\",\"0\",\"1\",\"0\",\"2\",\"1\",\"1\",\"2\",\"1\",\"1\",\"0\",\"1\",\"1\",\"0\",\"2\",\"0\",\"2\",\"2\",\"1\",\"2\",\"0\",\"2\",\"0\",\"0\",\"1\",\"0\",\"2\",\"2\",\"2\",\"2\",\"2\",\"1\",\"1\",\"1\",\"2\",\"2\",\"1\",\"2\",\"2\",\"2\",\"1\",\"2\",\"0\",\"2\",\"2\",\"2\",\"1\",\"2\",\"1\",\"0\",\"1\",\"0\",\"2\",\"1\",\"2\",\"2\",\"1\",\"0\",\"0\",\"1\",\"1\",\"2\",\"2\",\"1\",\"0\",\"2\",\"2\",\"1\",\"1\",\"1\",\"1\",\"2\",\"1\",\"0\",\"2\",\"1\",\"0\",\"0\",\"2\",\"2\",\"0\",\"2\",\"2\",\"0\",\"0\",\"0\",\"0\",\"1\",\"0\",\"0\",\"0\",\"1\",\"1\",\"2\",\"0\",\"2\",\"2\",\"1\",\"1\",\"0\",\"2\",\"0\",\"2\",\"1\",\"1\",\"0\",\"1\",\"0\",\"2\",\"1\",\"0\"],\"true_label\":[\"Class 0 (Adv.)\",\"Class 1 (Adv.)\",\"Class 0 (Adv.)\",\"Class 0 (Adv.)\",\"Class 1 (Adv.)\",\"Class 2 (Adv.)\",\"Class 1 (Adv.)\",\"Class 0 (Adv.)\",\"Class 0 (Adv.)\",\"Class 0 (Adv.)\",\"Class 0 (Adv.)\",\"Class 2 (Adv.)\",\"Class 0 (Adv.)\",\"Class 0 (Adv.)\",\"Class 0 (Adv.)\",\"Class 0 (Adv.)\",\"Class 2 (Adv.)\",\"Class 1 (Adv.)\",\"Class 1 (Adv.)\",\"Class 1 (Adv.)\",\"Class 0 (Adv.)\",\"Class 0 (Adv.)\",\"Class 1 (Adv.)\",\"Class 2 (Adv.)\",\"Class 2 (Adv.)\",\"Class 0 (Adv.)\",\"Class 2 (Adv.)\",\"Class 1 (Adv.)\",\"Class 1 (Adv.)\",\"Class 2 (Adv.)\",\"Class 2 (Adv.)\",\"Class 0 (Adv.)\",\"Class 1 (Adv.)\",\"Class 1 (Adv.)\",\"Class 0 (Adv.)\",\"Class 0 (Adv.)\",\"Class 2 (Adv.)\",\"Class 0 (Adv.)\",\"Class 1 (Adv.)\",\"Class 1 (Adv.)\",\"Class 0 (Adv.)\",\"Class 1 (Adv.)\",\"Class 0 (Adv.)\",\"Class 2 (Adv.)\",\"Class 1 (Adv.)\",\"Class 1 (Adv.)\",\"Class 2 (Adv.)\",\"Class 1 (Adv.)\",\"Class 1 (Adv.)\",\"Class 0 (Adv.)\",\"Class 1 (Adv.)\",\"Class 1 (Adv.)\",\"Class 0 (Adv.)\",\"Class 2 (Adv.)\",\"Class 0 (Adv.)\",\"Class 2 (Adv.)\",\"Class 2 (Adv.)\",\"Class 1 (Adv.)\",\"Class 2 (Adv.)\",\"Class 0 (Adv.)\",\"Class 2 (Adv.)\",\"Class 0 (Adv.)\",\"Class 0 (Adv.)\",\"Class 1 (Adv.)\",\"Class 0 (Adv.)\",\"Class 2 (Adv.)\",\"Class 2 (Adv.)\",\"Class 2 (Adv.)\",\"Class 2 (Adv.)\",\"Class 2 (Adv.)\",\"Class 1 (Adv.)\",\"Class 1 (Adv.)\",\"Class 1 (Adv.)\",\"Class 2 (Adv.)\",\"Class 2 (Adv.)\",\"Class 1 (Adv.)\",\"Class 2 (Adv.)\",\"Class 2 (Adv.)\",\"Class 2 (Adv.)\",\"Class 1 (Adv.)\",\"Class 2 (Adv.)\",\"Class 0 (Adv.)\",\"Class 2 (Adv.)\",\"Class 2 (Adv.)\",\"Class 2 (Adv.)\",\"Class 1 (Adv.)\",\"Class 2 (Adv.)\",\"Class 1 (Adv.)\",\"Class 0 (Adv.)\",\"Class 1 (Adv.)\",\"Class 0 (Adv.)\",\"Class 2 (Adv.)\",\"Class 1 (Adv.)\",\"Class 2 (Adv.)\",\"Class 2 (Adv.)\",\"Class 1 (Adv.)\",\"Class 0 (Adv.)\",\"Class 0 (Adv.)\",\"Class 1 (Adv.)\",\"Class 1 (Adv.)\",\"Class 2 (Adv.)\",\"Class 2 (Adv.)\",\"Class 1 (Adv.)\",\"Class 0 (Adv.)\",\"Class 2 (Adv.)\",\"Class 2 (Adv.)\",\"Class 1 (Adv.)\",\"Class 1 (Adv.)\",\"Class 1 (Adv.)\",\"Class 1 (Adv.)\",\"Class 2 (Adv.)\",\"Class 1 (Adv.)\",\"Class 0 (Adv.)\",\"Class 2 (Adv.)\",\"Class 1 (Adv.)\",\"Class 0 (Adv.)\",\"Class 0 (Adv.)\",\"Class 2 (Adv.)\",\"Class 2 (Adv.)\",\"Class 0 (Adv.)\",\"Class 2 (Adv.)\",\"Class 2 (Adv.)\",\"Class 0 (Adv.)\",\"Class 0 (Adv.)\",\"Class 0 (Adv.)\",\"Class 0 (Adv.)\",\"Class 1 (Adv.)\",\"Class 0 (Adv.)\",\"Class 0 (Adv.)\",\"Class 0 (Adv.)\",\"Class 1 (Adv.)\",\"Class 1 (Adv.)\",\"Class 2 (Adv.)\",\"Class 0 (Adv.)\",\"Class 2 (Adv.)\",\"Class 2 (Adv.)\",\"Class 1 (Adv.)\",\"Class 1 (Adv.)\",\"Class 0 (Adv.)\",\"Class 2 (Adv.)\",\"Class 0 (Adv.)\",\"Class 2 (Adv.)\",\"Class 1 (Adv.)\",\"Class 1 (Adv.)\",\"Class 0 (Adv.)\",\"Class 1 (Adv.)\",\"Class 0 (Adv.)\",\"Class 2 (Adv.)\",\"Class 1 (Adv.)\",\"Class 0 (Adv.)\",\"Class 0 (Orig.)\",\"Class 1 (Orig.)\",\"Class 0 (Orig.)\",\"Class 0 (Orig.)\",\"Class 1 (Orig.)\",\"Class 2 (Orig.)\",\"Class 1 (Orig.)\",\"Class 0 (Orig.)\",\"Class 0 (Orig.)\",\"Class 0 (Orig.)\",\"Class 0 (Orig.)\",\"Class 2 (Orig.)\",\"Class 0 (Orig.)\",\"Class 0 (Orig.)\",\"Class 0 (Orig.)\",\"Class 0 (Orig.)\",\"Class 2 (Orig.)\",\"Class 1 (Orig.)\",\"Class 1 (Orig.)\",\"Class 1 (Orig.)\",\"Class 0 (Orig.)\",\"Class 0 (Orig.)\",\"Class 1 (Orig.)\",\"Class 2 (Orig.)\",\"Class 2 (Orig.)\",\"Class 0 (Orig.)\",\"Class 2 (Orig.)\",\"Class 1 (Orig.)\",\"Class 1 (Orig.)\",\"Class 2 (Orig.)\",\"Class 2 (Orig.)\",\"Class 0 (Orig.)\",\"Class 1 (Orig.)\",\"Class 1 (Orig.)\",\"Class 0 (Orig.)\",\"Class 0 (Orig.)\",\"Class 2 (Orig.)\",\"Class 0 (Orig.)\",\"Class 1 (Orig.)\",\"Class 1 (Orig.)\",\"Class 0 (Orig.)\",\"Class 1 (Orig.)\",\"Class 0 (Orig.)\",\"Class 2 (Orig.)\",\"Class 1 (Orig.)\",\"Class 1 (Orig.)\",\"Class 2 (Orig.)\",\"Class 1 (Orig.)\",\"Class 1 (Orig.)\",\"Class 0 (Orig.)\",\"Class 1 (Orig.)\",\"Class 1 (Orig.)\",\"Class 0 (Orig.)\",\"Class 2 (Orig.)\",\"Class 0 (Orig.)\",\"Class 2 (Orig.)\",\"Class 2 (Orig.)\",\"Class 1 (Orig.)\",\"Class 2 (Orig.)\",\"Class 0 (Orig.)\",\"Class 2 (Orig.)\",\"Class 0 (Orig.)\",\"Class 0 (Orig.)\",\"Class 1 (Orig.)\",\"Class 0 (Orig.)\",\"Class 2 (Orig.)\",\"Class 2 (Orig.)\",\"Class 2 (Orig.)\",\"Class 2 (Orig.)\",\"Class 2 (Orig.)\",\"Class 1 (Orig.)\",\"Class 1 (Orig.)\",\"Class 1 (Orig.)\",\"Class 2 (Orig.)\",\"Class 2 (Orig.)\",\"Class 1 (Orig.)\",\"Class 2 (Orig.)\",\"Class 2 (Orig.)\",\"Class 2 (Orig.)\",\"Class 1 (Orig.)\",\"Class 2 (Orig.)\",\"Class 0 (Orig.)\",\"Class 2 (Orig.)\",\"Class 2 (Orig.)\",\"Class 2 (Orig.)\",\"Class 1 (Orig.)\",\"Class 2 (Orig.)\",\"Class 1 (Orig.)\",\"Class 0 (Orig.)\",\"Class 1 (Orig.)\",\"Class 0 (Orig.)\",\"Class 2 (Orig.)\",\"Class 1 (Orig.)\",\"Class 2 (Orig.)\",\"Class 2 (Orig.)\",\"Class 1 (Orig.)\",\"Class 0 (Orig.)\",\"Class 0 (Orig.)\",\"Class 1 (Orig.)\",\"Class 1 (Orig.)\",\"Class 2 (Orig.)\",\"Class 2 (Orig.)\",\"Class 1 (Orig.)\",\"Class 0 (Orig.)\",\"Class 2 (Orig.)\",\"Class 2 (Orig.)\",\"Class 1 (Orig.)\",\"Class 1 (Orig.)\",\"Class 1 (Orig.)\",\"Class 1 (Orig.)\",\"Class 2 (Orig.)\",\"Class 1 (Orig.)\",\"Class 0 (Orig.)\",\"Class 2 (Orig.)\",\"Class 1 (Orig.)\",\"Class 0 (Orig.)\",\"Class 0 (Orig.)\",\"Class 2 (Orig.)\",\"Class 2 (Orig.)\",\"Class 0 (Orig.)\",\"Class 2 (Orig.)\",\"Class 2 (Orig.)\",\"Class 0 (Orig.)\",\"Class 0 (Orig.)\",\"Class 0 (Orig.)\",\"Class 0 (Orig.)\",\"Class 1 (Orig.)\",\"Class 0 (Orig.)\",\"Class 0 (Orig.)\",\"Class 0 (Orig.)\",\"Class 1 (Orig.)\",\"Class 1 (Orig.)\",\"Class 2 (Orig.)\",\"Class 0 (Orig.)\",\"Class 2 (Orig.)\",\"Class 2 (Orig.)\",\"Class 1 (Orig.)\",\"Class 1 (Orig.)\",\"Class 0 (Orig.)\",\"Class 2 (Orig.)\",\"Class 0 (Orig.)\",\"Class 2 (Orig.)\",\"Class 1 (Orig.)\",\"Class 1 (Orig.)\",\"Class 0 (Orig.)\",\"Class 1 (Orig.)\",\"Class 0 (Orig.)\",\"Class 2 (Orig.)\",\"Class 1 (Orig.)\",\"Class 0 (Orig.)\"],\"x\":{\"__ndarray__\":\"tRkeQdLCrkB7ighBOpAiQetYxUAsNuNA7YjAQP1YGEF++QFB+XwUQX8OG0EEH+pAiX0KQQf2AEE0MRxByaIkQZp6zkAqarFAZnWoQD1jtkBiegpBDQkVQbXmokALp91AVS37QNrqC0F6SvhA4WmhQOmqmkA4PdNA4FnQQMJeDUHAuJ5AxQutQDHNF0EFOxtB3WTGQLeFFUEcg6FAI0C0QIrOB0FwH7VAN3oXQVGqxEDZ/K1AQXyQQEZvxUCFqrtAAGSqQKScDUG/37tAvLWVQPmJFEHGqMdAX00WQTm39UBWkcxAN5axQBM75UDpqAlBwHjmQLEFFEGr+xtB0XfAQONaFkEvX8tAHsX6QNXF/EB58/5AkIPyQJvFskD/abpA88bBQFxt+EDTEsRAF43TQPDeAUGIVc1AlpjYQJInokCBQtdAVO8RQUzu9kBWl+ZAdLP5QLqylEAFnc1AyZ+iQIZNHEEQ2KdAGiULQdfex0DRRJ9AyhPLQE3WzkBLtXdARI8RQUioEEFGVbJAapWYQA8Z3EC1ufVAsYelQF3eIkHj6NZA9g/cQBTzr0BY5qBApryaQJLRtUDMsNFAp5itQD3TBkGGtP5AfIiaQJOcB0ElQgpB9hDKQI4w3UDbZgtBeOLVQD3W0EBECRVBMwwdQSATEkFR3RZBZIekQJruCEH3+A9BZlsaQYKInUDKkapAtzrLQC3PHEFpYeZAJ2/3QPjBp0AXGaFARbsTQdwc3kAv+BpBVNTRQAfCmUD4d5lAc/4HQeQtl0BwvQxBjNHQQMsKrEBQIh9B5GQqQTnlcEAxLB1BtbElQbdwjUCYqOtAQASzQJY8G0FhEidB1KwnQUx5IkENg+VA3Z0jQSLBA0HpiyNBkHwkQWSsv0DK2IJA5lCPQMYHi0BvTiJB+QgiQVcXi0CIDtpATFgDQdfBJEGGOgVBDR2LQJ4ClEDJlNFAwK3CQFlSHkEpepdAE6WDQHaaLUEpAShBeOvJQHDrKUEIQY1AEw2CQObEJkEMF6NAoF0qQT5iv0BjNotAIYuMQBaPyED8kLFAlViEQNo3IkFeH3ZAc4R3QJbcGUHl8tFAd1UdQWIuA0Fy1btAP4WgQKmZ30CqryhBzRDlQBxUGEHIhClBYxmlQLBSIkEGecVA8t0AQbnoAkFJ5wFBL4sBQbuohEAS941Ak+u6QKVYAEHLVsBAEimBQG93AkGPQc9AHkbcQL4hiEDRUt9A1m8nQdEPAkHsx/ZAEEAAQRMyfECACMZAIX2YQEkKJ0EQpJdAU+0cQTXPxEA58pJATsTIQHQy1EDuUYRALcUfQZZNJkFdfKZAUeR3QJDp10D/TgRB0/qfQBC6JUG9KsdA7BXZQJ3ChkAouoNA6eKNQPRylUCc3MZAJtaBQLZ7FEFHMgRBkNuEQGkYJkFLdiZBQO/QQCfl3kDqcSJBhdLMQITJzECDJSdB/q4mQUeyF0Fgvh5BqxeWQABCHkGfiB9BVywoQU+ljkBoUY9ASB7SQKCRJUFQkPFALCMAQa32hkCf3pVAukYjQey84EDOSCVB/j/KQN8EhUA+wotAFNcjQZbVjEB00xFBbf3SQMZIhUBYjSNB\",\"dtype\":\"float32\",\"order\":\"little\",\"shape\":[300]},\"y\":{\"__ndarray__\":\"mUwOPiCqA8BK0QA/sbgxPq7Mir9vxf0/jsUXvwy/ab/L3sk+9TWPPSpgd720BSRAPaT4PdMYDb9gyZS/QrQNvnsGCkCjd4i/Qkxkv5MQsb/dhBK/vqtmPk12CcBNdhJANaYIQD+Mu75S79I/LSPsv6gxub/q/tc/roIFQHPKHL2H1rK/26YXwK9atb5KmMW+cekTQL9YGD50VBjA6pmkv7LuCL6/h+q/wmrivoAi5z8655W//2aCvz6j/T/jGHi+IDcNwAqE0j5p8r+/AYf7v2u94j3pPxBA4XQov5YQKUAqN5Q/2jC1v+F/mj/YPJ4+4HHhP/RuAr91IAE9ps43v9+8TL9ASPs/3KusP08J8z/LWQRA6tbuP/Sg2L+qusS/gIKav5aEE0BImxFAhy4mPr/iHEBHtR5ANRPAPyGYhb8ukydAlAcJv5ZvEUCvo8w/9rYgQLYPG8CCWQxAlvXVvwAlij1gwKG/wmtjvydV9T9duQbA+ZQ7QCdY3z+QwPW/j5OevS2rAz4LHfy/8Qj7v4DOK0DcRfU/KLcUv93jYb5qpcM/jhIbQOvb078QA4W/xanyv9VXF7/BYxRADHPXvwOCgr6BvhFAHbmUvyBlL74oMqi+e5sqQEq3MUCEQWs+8pXrP+M0MkAkSEe+nuO3vgdT2r44J8y8TqyKv4lilj7u4Ta+2FyzvVEJXL87k0i/yKgHQBul/74cDitA4/rsP+pvdb+bUQjAFOievmaWMkCA5LK9Ep80QNHI978Sw6y/7aOHPjThEcCF9ky/zCUmQMCe6L+1/Zm+j/APvwBHBMD5kpi/0CZyvi+1478Ngx5AIDY1v9JIg78G+pe/Q3y2v7kqLL/cokZAZt9rvyUBHL8W1K+/5ELXvoQnWUAmuZ2/FI/Hv2M5q7//Ps6/6xuQvsXuF8DnfVFAsFxBQLo8W7/E1TZAQSDXvxCrAcA12UNA7ktdQIa7oL9FBai/xjoQwL/dS7991Bm/uu9PQKsCNr+dpBLA9SgAwHhYxL/r79i/F4yDvwx5TEALVgPATj6rv+TNY0ACdaC+LzIDwMKAjr9VDwDA4QEEwFcJqb5M+l9APqgtv+JxNUDiYiRAbvLMvw30G0D2Bq6/yQ8QQAyzhL/0jGq/Toa7v+m4v786t1lA4CoiQB4fO0Ar6EJAEcwvQCyCEcBS/ru/AkSOv3iNO0D860VAQhKqv50BP0D9EVBAa20UQNrTzL+ruUdAIiuNv7SjMUA/VjhABTo9QA5N1r/h0jpAZELMv29wPb/fXNu/roo/vzvqVkCubu6/BvBPQEWSRkCkbuu/k9gmv2T0jL8jhgPAds+6v0RiV0B26i9AdZEkv64oZL/lazVAZmVYQCNOBcAN2s6/bszlv0uRg7/V001AbuPovxNufL9c6EBAFoG3vycPvr+ujrC/3e1TQLPRREBhmKG/Qh5hQK/YSECKWz2/k8gRv05jhL90z0e/KlmsvzjZk79sY5+/QrUCvxq6jb+InJ6/k2hfQIZXK78iWjZAABE7QE5A7r/biA7AgE3AvrkOTkCO//u+W2JdQJz1378+w9K/u7Icv592479xhXG/JLhRQK4T/7+s7IO/\",\"dtype\":\"float32\",\"order\":\"little\",\"shape\":[300]}},\"selected\":{\"id\":\"3242\"},\"selection_policy\":{\"id\":\"3241\"}},\"id\":\"3198\",\"type\":\"ColumnDataSource\"},{\"attributes\":{\"formatter\":{\"id\":\"3237\"},\"ticker\":{\"id\":\"3216\"},\"visible\":false},\"id\":\"3215\",\"type\":\"LinearAxis\"},{\"attributes\":{},\"id\":\"3216\",\"type\":\"BasicTicker\"},{\"attributes\":{},\"id\":\"3203\",\"type\":\"DataRange1d\"},{\"attributes\":{\"text\":\"\"},\"id\":\"3201\",\"type\":\"Title\"},{\"attributes\":{\"formatter\":{\"id\":\"3239\"},\"ticker\":{\"id\":\"3212\"},\"visible\":false},\"id\":\"3211\",\"type\":\"LinearAxis\"},{\"attributes\":{\"source\":{\"id\":\"3198\"}},\"id\":\"3235\",\"type\":\"CDSView\"},{\"attributes\":{\"axis\":{\"id\":\"3215\"},\"dimension\":1,\"ticker\":null,\"visible\":false},\"id\":\"3218\",\"type\":\"Grid\"},{\"attributes\":{},\"id\":\"3242\",\"type\":\"Selection\"},{\"attributes\":{},\"id\":\"3241\",\"type\":\"UnionRenderers\"},{\"attributes\":{},\"id\":\"3212\",\"type\":\"BasicTicker\"},{\"attributes\":{},\"id\":\"3220\",\"type\":\"WheelZoomTool\"},{\"attributes\":{},\"id\":\"3237\",\"type\":\"BasicTickFormatter\"},{\"attributes\":{\"label\":{\"field\":\"true_label\"},\"renderers\":[{\"id\":\"3234\"}]},\"id\":\"3243\",\"type\":\"LegendItem\"},{\"attributes\":{\"axis\":{\"id\":\"3211\"},\"ticker\":null,\"visible\":false},\"id\":\"3214\",\"type\":\"Grid\"},{\"attributes\":{\"items\":[{\"id\":\"3243\"}],\"location\":\"center\",\"title\":\"\",\"title_text_font_size\":\"14px\",\"title_text_font_style\":\"bold\"},\"id\":\"3230\",\"type\":\"Legend\"},{\"attributes\":{\"active_drag\":\"auto\",\"active_inspect\":\"auto\",\"active_multi\":null,\"active_scroll\":\"auto\",\"active_tap\":\"auto\",\"tools\":[{\"id\":\"3219\"},{\"id\":\"3220\"},{\"id\":\"3221\"},{\"id\":\"3222\"},{\"id\":\"3228\"}]},\"id\":\"3223\",\"type\":\"Toolbar\"},{\"attributes\":{\"factors\":[\"6\",\"5\",\"4\",\"3\",\"2\",\"1\"],\"palette\":[\"#1f77b4\",\"#ff7f0e\",\"#2ca02c\",\"#d62728\",\"#9467bd\",\"#8c564b\"]},\"id\":\"3199\",\"type\":\"CategoricalColorMapper\"},{\"attributes\":{\"callback\":null,\"tooltips\":\"\\n<div>\\n    <div>\\n        <span style='font-size: 16px; color: #224499'>Label:</span>\\n        <span style='font-size: 18px'>@true_label</span>\\n    </div>\\n</div>\\n\"},\"id\":\"3228\",\"type\":\"HoverTool\"},{\"attributes\":{},\"id\":\"3239\",\"type\":\"BasicTickFormatter\"},{\"attributes\":{},\"id\":\"3205\",\"type\":\"DataRange1d\"},{\"attributes\":{},\"id\":\"3222\",\"type\":\"SaveTool\"},{\"attributes\":{\"fill_alpha\":{\"value\":0.6},\"fill_color\":{\"field\":\"label\",\"transform\":{\"id\":\"3199\"}},\"line_alpha\":{\"value\":0.6},\"line_color\":{\"field\":\"label\",\"transform\":{\"id\":\"3199\"}},\"size\":{\"units\":\"screen\",\"value\":6},\"x\":{\"field\":\"x\"},\"y\":{\"field\":\"y\"}},\"id\":\"3232\",\"type\":\"Circle\"},{\"attributes\":{\"fill_alpha\":{\"value\":0.1},\"fill_color\":{\"field\":\"label\",\"transform\":{\"id\":\"3199\"}},\"line_alpha\":{\"value\":0.1},\"line_color\":{\"field\":\"label\",\"transform\":{\"id\":\"3199\"}},\"size\":{\"units\":\"screen\",\"value\":6},\"x\":{\"field\":\"x\"},\"y\":{\"field\":\"y\"}},\"id\":\"3233\",\"type\":\"Circle\"},{\"attributes\":{},\"id\":\"3209\",\"type\":\"LinearScale\"},{\"attributes\":{},\"id\":\"3207\",\"type\":\"LinearScale\"},{\"attributes\":{},\"id\":\"3219\",\"type\":\"PanTool\"}],\"root_ids\":[\"3200\"]},\"title\":\"Bokeh Application\",\"version\":\"2.2.1\"}};\n",
       "  var render_items = [{\"docid\":\"c90f6a38-d0fd-49d6-8904-fe654ac02a1e\",\"root_ids\":[\"3200\"],\"roots\":{\"3200\":\"137be823-0ad2-4dfa-bb06-59cd1e289b44\"}}];\n",
       "  root.Bokeh.embed.embed_items_notebook(docs_json, render_items);\n",
       "\n",
       "  }\n",
       "  if (root.Bokeh !== undefined) {\n",
       "    embed_document(root);\n",
       "  } else {\n",
       "    var attempts = 0;\n",
       "    var timer = setInterval(function(root) {\n",
       "      if (root.Bokeh !== undefined) {\n",
       "        clearInterval(timer);\n",
       "        embed_document(root);\n",
       "      } else {\n",
       "        attempts++;\n",
       "        if (attempts > 100) {\n",
       "          clearInterval(timer);\n",
       "          console.log(\"Bokeh: ERROR: Unable to run BokehJS code because BokehJS library is missing\");\n",
       "        }\n",
       "      }\n",
       "    }, 10, root)\n",
       "  }\n",
       "})(window);"
      ],
      "application/vnd.bokehjs_exec.v0+json": ""
     },
     "metadata": {
      "application/vnd.bokehjs_exec.v0+json": {
       "id": "3200"
      }
     },
     "output_type": "display_data"
    }
   ],
   "source": [
    "df = pd.DataFrame(embedding, columns=('x', 'y'))\n",
    "df['label'] = [str(x) for x in combined_labels]\n",
    "#df = pd.read_csv('df.csv', index_col=0)\n",
    "df['label'] = [str(x) for x in df.label]\n",
    "df['true_label'] = combined_labels\n",
    "df['true_label'] = df['true_label'].replace({0: \"Class 0 (Orig.)\", 1: \"Class 1 (Orig.)\", 2: \"Class 2 (Orig.)\", 3: \"Class 0 (Adv.)\", 4: \"Class 1 (Adv.)\", 5: \"Class 2 (Adv.)\"})\n",
    "\n",
    "datasource = ColumnDataSource(df)\n",
    "color_mapping = CategoricalColorMapper(factors=[str(6 - x) for x in [i for i in range(6)]],\n",
    "                                       palette=Category10[6])\n",
    "\n",
    "plot_figure = figure(\n",
    "    title='',\n",
    "    plot_width=600,\n",
    "    plot_height=400,\n",
    "    tools=('pan, wheel_zoom, reset, save')\n",
    ")\n",
    "\n",
    "plot_figure.add_tools(HoverTool(tooltips=\"\"\"\n",
    "<div>\n",
    "    <div>\n",
    "        <span style='font-size: 16px; color: #224499'>Label:</span>\n",
    "        <span style='font-size: 18px'>@true_label</span>\n",
    "    </div>\n",
    "</div>\n",
    "\"\"\"))\n",
    "\n",
    "plot_figure.add_layout(Legend(), 'right')\n",
    "\n",
    "plot_figure.circle(\n",
    "    'x',\n",
    "    'y',\n",
    "    source=datasource,\n",
    "    color=dict(field='label', transform=color_mapping),\n",
    "    line_alpha=0.6,\n",
    "    fill_alpha=0.6,\n",
    "    size=6,\n",
    "    legend_field='true_label'\n",
    ")\n",
    "\n",
    "plot_figure.xaxis.visible = False\n",
    "plot_figure.xgrid.visible = False\n",
    "plot_figure.yaxis.visible = False\n",
    "plot_figure.ygrid.visible = False\n",
    "\n",
    "plot_figure.outline_line_width = 2\n",
    "plot_figure.outline_line_alpha = 0.8\n",
    "plot_figure.outline_line_color = \"gray\"\n",
    "\n",
    "plot_figure.legend.location = \"center\"\n",
    "plot_figure.legend.title = \"\"\n",
    "plot_figure.legend.title_text_font_style = \"bold\"\n",
    "plot_figure.legend.title_text_font_size = \"14px\"\n",
    "\n",
    "show(plot_figure);"
   ]
  },
  {
   "cell_type": "code",
   "execution_count": null,
   "metadata": {},
   "outputs": [],
   "source": []
  }
 ],
 "metadata": {
  "kernelspec": {
   "display_name": "Python 3",
   "language": "python",
   "name": "python3"
  },
  "language_info": {
   "codemirror_mode": {
    "name": "ipython",
    "version": 3
   },
   "file_extension": ".py",
   "mimetype": "text/x-python",
   "name": "python",
   "nbconvert_exporter": "python",
   "pygments_lexer": "ipython3",
   "version": "3.8.5"
  },
  "toc-autonumbering": false,
  "toc-showcode": false,
  "toc-showmarkdowntxt": false,
  "toc-showtags": true
 },
 "nbformat": 4,
 "nbformat_minor": 4
}
