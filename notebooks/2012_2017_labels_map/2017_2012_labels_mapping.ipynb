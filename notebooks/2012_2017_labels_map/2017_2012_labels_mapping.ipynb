{
 "cells": [
  {
   "cell_type": "markdown",
   "metadata": {},
   "source": [
    "# Labels map from 2017 dataset to 2012\n",
    "\n",
    "At several points, we found out that labelling across datasets was incosistent. Some of them used the ImageNet 2017 numbering while others used the 2012 labels. We found out that the labels remained the same and only the numbering was modified. This notebooks generates a mapping between both."
   ]
  },
  {
   "cell_type": "code",
   "execution_count": 1,
   "metadata": {},
   "outputs": [],
   "source": [
    "import json\n",
    "import pandas as pd"
   ]
  },
  {
   "cell_type": "markdown",
   "metadata": {},
   "source": [
    "### Load 2012 labels"
   ]
  },
  {
   "cell_type": "code",
   "execution_count": 3,
   "metadata": {},
   "outputs": [],
   "source": [
    "labels_2012 = {}\n",
    "\n",
    "with open('2012_imagenet1000_clsidx_to_labels.txt', 'r') as f:\n",
    "    for line in f:\n",
    "        if line in [\"{\\n\", \"}\"]:\n",
    "            continue\n",
    "        else:\n",
    "            # Parse line content\n",
    "            content = line.split(\": \")\n",
    "            class_n = int(content[0].strip())\n",
    "            class_names = [n.strip() for n in content[1].replace('\"', '').replace('\\n', '').split(',') if n!= \"\"]\n",
    "\n",
    "            labels_2012[class_n] = class_names"
   ]
  },
  {
   "cell_type": "code",
   "execution_count": 4,
   "metadata": {},
   "outputs": [
    {
     "data": {
      "text/plain": [
       "['Persian cat']"
      ]
     },
     "execution_count": 4,
     "metadata": {},
     "output_type": "execute_result"
    }
   ],
   "source": [
    "labels_2012[283]"
   ]
  },
  {
   "cell_type": "code",
   "execution_count": 5,
   "metadata": {},
   "outputs": [],
   "source": [
    "# Dump 2012 labels to a json file\n",
    "with open('2012_labels.json', 'w') as json_file:\n",
    "    json.dump(labels_2012, json_file)"
   ]
  },
  {
   "cell_type": "markdown",
   "metadata": {},
   "source": [
    "### Load 2017 labels"
   ]
  },
  {
   "cell_type": "code",
   "execution_count": 7,
   "metadata": {},
   "outputs": [],
   "source": [
    "labels_2017 = {}\n",
    "\n",
    "with open('2017_map_clsloc.txt', 'r') as f:\n",
    "  for line in f:\n",
    "    # Parse line content\n",
    "    content = line.split(\" \")\n",
    "    class_n = int(content[1])\n",
    "    class_name = content[2].replace('\\n', '').replace('_', ' ').strip()\n",
    "\n",
    "    labels_2017[class_n] = class_name"
   ]
  },
  {
   "cell_type": "code",
   "execution_count": 8,
   "metadata": {},
   "outputs": [
    {
     "data": {
      "text/plain": [
       "'Persian cat'"
      ]
     },
     "execution_count": 8,
     "metadata": {},
     "output_type": "execute_result"
    }
   ],
   "source": [
    "labels_2017[10]"
   ]
  },
  {
   "cell_type": "code",
   "execution_count": 9,
   "metadata": {},
   "outputs": [],
   "source": [
    "# Dump 2017 labels to json file\n",
    "with open('2017_labels.json', 'w') as json_file:\n",
    "    json.dump(labels_2017, json_file)"
   ]
  },
  {
   "cell_type": "markdown",
   "metadata": {},
   "source": [
    "### Map labels"
   ]
  },
  {
   "cell_type": "code",
   "execution_count": 10,
   "metadata": {},
   "outputs": [],
   "source": [
    "map_2012_to_2017 = {}\n",
    "map_2017_to_2012 = {}\n",
    "\n",
    "for num, name in labels_2017.items():\n",
    "  for num_2, name_2 in labels_2012.items():\n",
    "    if name in name_2:\n",
    "      map_2012_to_2017[num_2] = num\n",
    "      map_2017_to_2012[num] = num_2\n",
    "  if num not in map_2012_to_2017.values():\n",
    "    print(\"Could not find map for {}\".format(name))"
   ]
  },
  {
   "cell_type": "code",
   "execution_count": 11,
   "metadata": {},
   "outputs": [],
   "source": [
    "# Dump mappings\n",
    "with open('map_2017_to_2012.json', 'w') as json_file:\n",
    "    json.dump(map_2017_to_2012, json_file)\n",
    "\n",
    "with open('map_2012_to_2017.json', 'w') as json_file:\n",
    "    json.dump(map_2012_to_2017, json_file)"
   ]
  }
 ],
 "metadata": {
  "kernelspec": {
   "display_name": "Python 3",
   "language": "python",
   "name": "python3"
  },
  "language_info": {
   "codemirror_mode": {
    "name": "ipython",
    "version": 3
   },
   "file_extension": ".py",
   "mimetype": "text/x-python",
   "name": "python",
   "nbconvert_exporter": "python",
   "pygments_lexer": "ipython3",
   "version": "3.8.5"
  }
 },
 "nbformat": 4,
 "nbformat_minor": 4
}
