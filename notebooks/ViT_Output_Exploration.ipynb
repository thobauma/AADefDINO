{
 "cells": [
  {
   "cell_type": "code",
   "execution_count": null,
   "id": "577ff3ed-395f-4c90-856f-5e3728be42cc",
   "metadata": {
    "id": "577ff3ed-395f-4c90-856f-5e3728be42cc"
   },
   "outputs": [],
   "source": [
    "import os\n",
    "import pandas as pd\n",
    "import numpy as np\n",
    "import json\n",
    "import torch\n",
    "from typing import List, Callable\n",
    "import random\n",
    "\n",
    "import random\n",
    "import colorsys\n",
    "import requests\n",
    "from io import BytesIO\n",
    "\n",
    "import skimage.io\n",
    "from skimage.measure import find_contours\n",
    "import matplotlib.pyplot as plt\n",
    "from matplotlib.patches import Polygon\n",
    "import torch.nn as nn\n",
    "import torchvision\n",
    "from torchvision import transforms as pth_transforms\n",
    "from PIL import Image\n",
    "\n",
    "# seed\n",
    "SEED = 42\n",
    "random.seed(SEED)\n",
    "torch.manual_seed(SEED)\n",
    "np.random.seed(SEED)"
   ]
  },
  {
   "cell_type": "code",
   "execution_count": null,
   "id": "1451d769-8b70-4ce7-8add-50d8dd396213",
   "metadata": {
    "id": "1451d769-8b70-4ce7-8add-50d8dd396213"
   },
   "outputs": [],
   "source": [
    "# attention paths\n",
    "ORG_OUT_PATH = '/Users/javi/org_out/'\n",
    "ADV_OUT_PATH ='/Users/javi/adv_out/'"
   ]
  },
  {
   "cell_type": "markdown",
   "id": "25d6e12f-c9cc-4d72-b16b-a3a16f9076f2",
   "metadata": {
    "id": "25d6e12f-c9cc-4d72-b16b-a3a16f9076f2",
    "tags": []
   },
   "source": [
    "# Statistical analysis"
   ]
  },
  {
   "cell_type": "code",
   "execution_count": null,
   "id": "d29f3154-d0ce-49a1-85cc-16aaff65c9f8",
   "metadata": {
    "id": "d29f3154-d0ce-49a1-85cc-16aaff65c9f8"
   },
   "outputs": [],
   "source": [
    "org_data = None"
   ]
  },
  {
   "cell_type": "code",
   "execution_count": null,
   "id": "7c1a13f1-188a-4a74-88e3-a0c9218f8a72",
   "metadata": {
    "id": "7c1a13f1-188a-4a74-88e3-a0c9218f8a72"
   },
   "outputs": [],
   "source": [
    "# Load data\n",
    "for file in os.listdir(ORG_OUT_PATH):\n",
    "    if file.startswith('.'):\n",
    "        continue\n",
    "    temp = torch.load(os.path.join(ORG_OUT_PATH, file), map_location=torch.device('cpu'))\n",
    "    \n",
    "    if org_data is None:\n",
    "        org_data = torch.clone(temp)\n",
    "    else:\n",
    "        org_data = torch.cat((org_data, temp), 0)"
   ]
  },
  {
   "cell_type": "code",
   "execution_count": null,
   "id": "dc18f0df-051b-4ab6-ab6d-76a1b54429a8",
   "metadata": {
    "id": "dc18f0df-051b-4ab6-ab6d-76a1b54429a8"
   },
   "outputs": [],
   "source": [
    "org_data.shape"
   ]
  },
  {
   "cell_type": "code",
   "execution_count": null,
   "id": "318d501a-561a-4f11-b30b-2eb106a7bd9a",
   "metadata": {
    "id": "318d501a-561a-4f11-b30b-2eb106a7bd9a"
   },
   "outputs": [],
   "source": [
    "adv_data = None"
   ]
  },
  {
   "cell_type": "code",
   "execution_count": null,
   "id": "c4224b8e-ecbc-4f79-991b-361a718ef65d",
   "metadata": {
    "id": "c4224b8e-ecbc-4f79-991b-361a718ef65d"
   },
   "outputs": [],
   "source": [
    "# Load data\n",
    "for file in os.listdir(ADV_OUT_PATH):\n",
    "    if file.startswith('.'):\n",
    "        continue\n",
    "    temp = torch.load(os.path.join(ADV_OUT_PATH, file), map_location=torch.device('cpu'))\n",
    "    \n",
    "    if adv_data is None:\n",
    "        adv_data = torch.clone(temp)\n",
    "    else:\n",
    "        adv_data = torch.cat((adv_data, temp), 0)"
   ]
  },
  {
   "cell_type": "code",
   "execution_count": null,
   "id": "dc214aff-183f-4717-ac80-233e1d7b859a",
   "metadata": {
    "id": "dc214aff-183f-4717-ac80-233e1d7b859a",
    "outputId": "c9e25a3a-6ab4-4354-faaf-67858ce9e519"
   },
   "outputs": [
    {
     "data": {
      "text/plain": [
       "torch.Size([283, 1536])"
      ]
     },
     "execution_count": 20,
     "metadata": {},
     "output_type": "execute_result"
    }
   ],
   "source": [
    "adv_data.shape"
   ]
  },
  {
   "cell_type": "markdown",
   "id": "37a5043a-ba3b-41c0-8d3e-d46c067ed781",
   "metadata": {
    "id": "37a5043a-ba3b-41c0-8d3e-d46c067ed781"
   },
   "source": [
    "## Clustering with CVAE"
   ]
  },
  {
   "cell_type": "code",
   "execution_count": null,
   "id": "d88702de-3690-47b8-b2f3-9ace99c7c72d",
   "metadata": {
    "id": "d88702de-3690-47b8-b2f3-9ace99c7c72d",
    "outputId": "f4176157-d0ef-416a-e294-ca89ee3137a8"
   },
   "outputs": [
    {
     "data": {
      "text/plain": [
       "torch.Size([272, 1536])"
      ]
     },
     "execution_count": 47,
     "metadata": {},
     "output_type": "execute_result"
    }
   ],
   "source": [
    "org_data.shape"
   ]
  },
  {
   "cell_type": "code",
   "execution_count": null,
   "id": "476fc41d-1211-4d51-baeb-d82173aebd91",
   "metadata": {
    "id": "476fc41d-1211-4d51-baeb-d82173aebd91",
    "outputId": "453f4dcd-78c6-4492-ace8-53c3a8755508"
   },
   "outputs": [
    {
     "data": {
      "text/plain": [
       "torch.Size([283, 1536])"
      ]
     },
     "execution_count": 48,
     "metadata": {},
     "output_type": "execute_result"
    }
   ],
   "source": [
    "adv_data.shape"
   ]
  },
  {
   "cell_type": "code",
   "execution_count": null,
   "id": "12729f4a-ed5e-4129-8965-f56622a2de0b",
   "metadata": {
    "id": "12729f4a-ed5e-4129-8965-f56622a2de0b",
    "outputId": "cbb5f4e9-0fea-47ff-abb6-361ae04996e2"
   },
   "outputs": [
    {
     "data": {
      "text/plain": [
       "torch.Size([555, 1536])"
      ]
     },
     "execution_count": 49,
     "metadata": {},
     "output_type": "execute_result"
    }
   ],
   "source": [
    "input_data = torch.cat((org_data, adv_data), 0)\n",
    "input_data.shape"
   ]
  },
  {
   "cell_type": "code",
   "execution_count": null,
   "id": "e08c3a8e-cf10-44af-9b13-687970fa5e5d",
   "metadata": {
    "id": "e08c3a8e-cf10-44af-9b13-687970fa5e5d"
   },
   "outputs": [],
   "source": [
    "X = input_data.detach().numpy()"
   ]
  },
  {
   "cell_type": "code",
   "execution_count": null,
   "id": "bebf20e6-e8d8-4523-b249-52eebddf23a5",
   "metadata": {
    "id": "bebf20e6-e8d8-4523-b249-52eebddf23a5"
   },
   "outputs": [],
   "source": [
    "from cvae import cvae\n",
    "embedder = cvae.CompressionVAE(X)\n",
    "embedder.train()"
   ]
  },
  {
   "cell_type": "code",
   "execution_count": null,
   "id": "57abde12-03bc-4021-82a6-d089ecedb0f0",
   "metadata": {
    "id": "57abde12-03bc-4021-82a6-d089ecedb0f0"
   },
   "outputs": [],
   "source": [
    "z = embedder.embed(X)"
   ]
  },
  {
   "cell_type": "code",
   "execution_count": null,
   "id": "03c949fb-81b3-4636-a474-939601b29488",
   "metadata": {
    "id": "03c949fb-81b3-4636-a474-939601b29488"
   },
   "outputs": [],
   "source": [
    "labels = [0]*org_data.shape[0] + [1]*adv_data.shape[0]"
   ]
  },
  {
   "cell_type": "code",
   "execution_count": null,
   "id": "6a9bf4a7-1620-4935-8401-48a1ec3cfecb",
   "metadata": {
    "id": "6a9bf4a7-1620-4935-8401-48a1ec3cfecb"
   },
   "outputs": [],
   "source": [
    "embedder.visualize(z, labels=labels)"
   ]
  },
  {
   "cell_type": "markdown",
   "id": "725a134e-77e9-49d0-bf03-f8fe65db3063",
   "metadata": {
    "id": "725a134e-77e9-49d0-bf03-f8fe65db3063"
   },
   "source": [
    "# Simple classifier"
   ]
  },
  {
   "cell_type": "code",
   "execution_count": null,
   "id": "305cf232-c523-4b78-adac-339a9c822524",
   "metadata": {
    "id": "305cf232-c523-4b78-adac-339a9c822524"
   },
   "outputs": [],
   "source": [
    "import torch\n",
    "import torch.nn as nn\n",
    "import torch.nn.functional as F\n",
    "import torch.optim as optim"
   ]
  },
  {
   "cell_type": "code",
   "execution_count": null,
   "id": "43dbe14a-290a-4727-8a30-1095ce12a83f",
   "metadata": {
    "id": "43dbe14a-290a-4727-8a30-1095ce12a83f",
    "outputId": "ff8db286-a2af-4144-807c-7df7f5b40db3"
   },
   "outputs": [
    {
     "data": {
      "text/plain": [
       "(555, 1536)"
      ]
     },
     "execution_count": 57,
     "metadata": {},
     "output_type": "execute_result"
    }
   ],
   "source": [
    "X.shape"
   ]
  },
  {
   "cell_type": "code",
   "execution_count": null,
   "id": "713fe1b5-25e7-4db4-aa5e-5f079c57cf47",
   "metadata": {
    "id": "713fe1b5-25e7-4db4-aa5e-5f079c57cf47",
    "outputId": "eb6ba9bb-0a9c-4403-8932-b30ec1b622ca"
   },
   "outputs": [
    {
     "data": {
      "text/html": [
       "<div>\n",
       "<style scoped>\n",
       "    .dataframe tbody tr th:only-of-type {\n",
       "        vertical-align: middle;\n",
       "    }\n",
       "\n",
       "    .dataframe tbody tr th {\n",
       "        vertical-align: top;\n",
       "    }\n",
       "\n",
       "    .dataframe thead th {\n",
       "        text-align: right;\n",
       "    }\n",
       "</style>\n",
       "<table border=\"1\" class=\"dataframe\">\n",
       "  <thead>\n",
       "    <tr style=\"text-align: right;\">\n",
       "      <th></th>\n",
       "      <th>0</th>\n",
       "      <th>1</th>\n",
       "      <th>2</th>\n",
       "      <th>3</th>\n",
       "      <th>4</th>\n",
       "      <th>5</th>\n",
       "      <th>6</th>\n",
       "      <th>7</th>\n",
       "      <th>8</th>\n",
       "      <th>9</th>\n",
       "      <th>...</th>\n",
       "      <th>1526</th>\n",
       "      <th>1527</th>\n",
       "      <th>1528</th>\n",
       "      <th>1529</th>\n",
       "      <th>1530</th>\n",
       "      <th>1531</th>\n",
       "      <th>1532</th>\n",
       "      <th>1533</th>\n",
       "      <th>1534</th>\n",
       "      <th>1535</th>\n",
       "    </tr>\n",
       "  </thead>\n",
       "  <tbody>\n",
       "    <tr>\n",
       "      <th>0</th>\n",
       "      <td>-4.443730</td>\n",
       "      <td>-1.983228</td>\n",
       "      <td>1.775634</td>\n",
       "      <td>-0.969847</td>\n",
       "      <td>-0.628211</td>\n",
       "      <td>-0.883600</td>\n",
       "      <td>0.346246</td>\n",
       "      <td>-1.110690</td>\n",
       "      <td>-1.480357</td>\n",
       "      <td>1.032114</td>\n",
       "      <td>...</td>\n",
       "      <td>5.839600</td>\n",
       "      <td>-3.684886</td>\n",
       "      <td>-0.070223</td>\n",
       "      <td>-3.682222</td>\n",
       "      <td>0.516357</td>\n",
       "      <td>0.660955</td>\n",
       "      <td>1.670559</td>\n",
       "      <td>1.786071</td>\n",
       "      <td>-0.645031</td>\n",
       "      <td>-5.189120</td>\n",
       "    </tr>\n",
       "    <tr>\n",
       "      <th>1</th>\n",
       "      <td>-2.103292</td>\n",
       "      <td>-0.078532</td>\n",
       "      <td>3.644679</td>\n",
       "      <td>-0.117950</td>\n",
       "      <td>1.350030</td>\n",
       "      <td>-0.315393</td>\n",
       "      <td>-0.976455</td>\n",
       "      <td>-0.142835</td>\n",
       "      <td>0.195763</td>\n",
       "      <td>2.347682</td>\n",
       "      <td>...</td>\n",
       "      <td>-8.155170</td>\n",
       "      <td>6.137487</td>\n",
       "      <td>-6.130633</td>\n",
       "      <td>-2.527758</td>\n",
       "      <td>-1.492658</td>\n",
       "      <td>-2.970686</td>\n",
       "      <td>1.371391</td>\n",
       "      <td>0.624259</td>\n",
       "      <td>6.785526</td>\n",
       "      <td>4.020866</td>\n",
       "    </tr>\n",
       "    <tr>\n",
       "      <th>2</th>\n",
       "      <td>1.464693</td>\n",
       "      <td>2.133696</td>\n",
       "      <td>0.297278</td>\n",
       "      <td>0.965885</td>\n",
       "      <td>1.295629</td>\n",
       "      <td>-1.763362</td>\n",
       "      <td>-2.298384</td>\n",
       "      <td>-0.262742</td>\n",
       "      <td>2.247479</td>\n",
       "      <td>1.352898</td>\n",
       "      <td>...</td>\n",
       "      <td>-0.258738</td>\n",
       "      <td>1.174659</td>\n",
       "      <td>2.371411</td>\n",
       "      <td>-1.062720</td>\n",
       "      <td>-7.890429</td>\n",
       "      <td>1.641481</td>\n",
       "      <td>3.431002</td>\n",
       "      <td>4.541310</td>\n",
       "      <td>-4.137976</td>\n",
       "      <td>-2.710490</td>\n",
       "    </tr>\n",
       "    <tr>\n",
       "      <th>3</th>\n",
       "      <td>-1.533385</td>\n",
       "      <td>-1.428680</td>\n",
       "      <td>-0.478766</td>\n",
       "      <td>0.566976</td>\n",
       "      <td>1.367670</td>\n",
       "      <td>-0.428659</td>\n",
       "      <td>-0.273903</td>\n",
       "      <td>0.159301</td>\n",
       "      <td>1.068214</td>\n",
       "      <td>0.450773</td>\n",
       "      <td>...</td>\n",
       "      <td>9.034399</td>\n",
       "      <td>-6.691250</td>\n",
       "      <td>-2.153956</td>\n",
       "      <td>-2.569039</td>\n",
       "      <td>0.388034</td>\n",
       "      <td>-1.723981</td>\n",
       "      <td>2.461914</td>\n",
       "      <td>-2.094007</td>\n",
       "      <td>2.179620</td>\n",
       "      <td>3.091781</td>\n",
       "    </tr>\n",
       "    <tr>\n",
       "      <th>4</th>\n",
       "      <td>-1.935284</td>\n",
       "      <td>-0.204915</td>\n",
       "      <td>0.752658</td>\n",
       "      <td>-0.588209</td>\n",
       "      <td>-2.514683</td>\n",
       "      <td>-0.457104</td>\n",
       "      <td>1.622655</td>\n",
       "      <td>0.779358</td>\n",
       "      <td>-1.414814</td>\n",
       "      <td>2.069527</td>\n",
       "      <td>...</td>\n",
       "      <td>3.488628</td>\n",
       "      <td>8.411485</td>\n",
       "      <td>-0.350613</td>\n",
       "      <td>-6.746727</td>\n",
       "      <td>4.078449</td>\n",
       "      <td>-1.466261</td>\n",
       "      <td>2.307746</td>\n",
       "      <td>1.600232</td>\n",
       "      <td>4.396266</td>\n",
       "      <td>-0.329207</td>\n",
       "    </tr>\n",
       "  </tbody>\n",
       "</table>\n",
       "<p>5 rows × 1536 columns</p>\n",
       "</div>"
      ],
      "text/plain": [
       "       0         1         2         3         4         5         6     \\\n",
       "0 -4.443730 -1.983228  1.775634 -0.969847 -0.628211 -0.883600  0.346246   \n",
       "1 -2.103292 -0.078532  3.644679 -0.117950  1.350030 -0.315393 -0.976455   \n",
       "2  1.464693  2.133696  0.297278  0.965885  1.295629 -1.763362 -2.298384   \n",
       "3 -1.533385 -1.428680 -0.478766  0.566976  1.367670 -0.428659 -0.273903   \n",
       "4 -1.935284 -0.204915  0.752658 -0.588209 -2.514683 -0.457104  1.622655   \n",
       "\n",
       "       7         8         9     ...      1526      1527      1528      1529  \\\n",
       "0 -1.110690 -1.480357  1.032114  ...  5.839600 -3.684886 -0.070223 -3.682222   \n",
       "1 -0.142835  0.195763  2.347682  ... -8.155170  6.137487 -6.130633 -2.527758   \n",
       "2 -0.262742  2.247479  1.352898  ... -0.258738  1.174659  2.371411 -1.062720   \n",
       "3  0.159301  1.068214  0.450773  ...  9.034399 -6.691250 -2.153956 -2.569039   \n",
       "4  0.779358 -1.414814  2.069527  ...  3.488628  8.411485 -0.350613 -6.746727   \n",
       "\n",
       "       1530      1531      1532      1533      1534      1535  \n",
       "0  0.516357  0.660955  1.670559  1.786071 -0.645031 -5.189120  \n",
       "1 -1.492658 -2.970686  1.371391  0.624259  6.785526  4.020866  \n",
       "2 -7.890429  1.641481  3.431002  4.541310 -4.137976 -2.710490  \n",
       "3  0.388034 -1.723981  2.461914 -2.094007  2.179620  3.091781  \n",
       "4  4.078449 -1.466261  2.307746  1.600232  4.396266 -0.329207  \n",
       "\n",
       "[5 rows x 1536 columns]"
      ]
     },
     "execution_count": 64,
     "metadata": {},
     "output_type": "execute_result"
    }
   ],
   "source": [
    "import pandas as pd\n",
    "\n",
    "org_data_df = pd.DataFrame(org_data.detach().numpy())\n",
    "adv_data_df = pd.DataFrame(adv_data.detach().numpy())\n",
    "org_data_df.head()"
   ]
  },
  {
   "cell_type": "code",
   "execution_count": null,
   "id": "2f7748c6-b466-45a8-ac74-b26161d42437",
   "metadata": {
    "id": "2f7748c6-b466-45a8-ac74-b26161d42437"
   },
   "outputs": [],
   "source": [
    "org_data_df['target'] = 0\n",
    "adv_data_df['target'] = 1"
   ]
  },
  {
   "cell_type": "code",
   "execution_count": null,
   "id": "2c0231fe-c89f-408a-8123-4897d991eb0c",
   "metadata": {
    "id": "2c0231fe-c89f-408a-8123-4897d991eb0c",
    "outputId": "d09da5f5-66b5-467a-8cba-e9c355936cb4"
   },
   "outputs": [
    {
     "data": {
      "text/html": [
       "<div>\n",
       "<style scoped>\n",
       "    .dataframe tbody tr th:only-of-type {\n",
       "        vertical-align: middle;\n",
       "    }\n",
       "\n",
       "    .dataframe tbody tr th {\n",
       "        vertical-align: top;\n",
       "    }\n",
       "\n",
       "    .dataframe thead th {\n",
       "        text-align: right;\n",
       "    }\n",
       "</style>\n",
       "<table border=\"1\" class=\"dataframe\">\n",
       "  <thead>\n",
       "    <tr style=\"text-align: right;\">\n",
       "      <th></th>\n",
       "      <th>0</th>\n",
       "      <th>1</th>\n",
       "      <th>2</th>\n",
       "      <th>3</th>\n",
       "      <th>4</th>\n",
       "      <th>5</th>\n",
       "      <th>6</th>\n",
       "      <th>7</th>\n",
       "      <th>8</th>\n",
       "      <th>9</th>\n",
       "      <th>...</th>\n",
       "      <th>1527</th>\n",
       "      <th>1528</th>\n",
       "      <th>1529</th>\n",
       "      <th>1530</th>\n",
       "      <th>1531</th>\n",
       "      <th>1532</th>\n",
       "      <th>1533</th>\n",
       "      <th>1534</th>\n",
       "      <th>1535</th>\n",
       "      <th>target</th>\n",
       "    </tr>\n",
       "  </thead>\n",
       "  <tbody>\n",
       "    <tr>\n",
       "      <th>0</th>\n",
       "      <td>-4.443730</td>\n",
       "      <td>-1.983228</td>\n",
       "      <td>1.775634</td>\n",
       "      <td>-0.969847</td>\n",
       "      <td>-0.628211</td>\n",
       "      <td>-0.883600</td>\n",
       "      <td>0.346246</td>\n",
       "      <td>-1.110690</td>\n",
       "      <td>-1.480357</td>\n",
       "      <td>1.032114</td>\n",
       "      <td>...</td>\n",
       "      <td>-3.684886</td>\n",
       "      <td>-0.070223</td>\n",
       "      <td>-3.682222</td>\n",
       "      <td>0.516357</td>\n",
       "      <td>0.660955</td>\n",
       "      <td>1.670559</td>\n",
       "      <td>1.786071</td>\n",
       "      <td>-0.645031</td>\n",
       "      <td>-5.189120</td>\n",
       "      <td>0</td>\n",
       "    </tr>\n",
       "    <tr>\n",
       "      <th>1</th>\n",
       "      <td>-2.103292</td>\n",
       "      <td>-0.078532</td>\n",
       "      <td>3.644679</td>\n",
       "      <td>-0.117950</td>\n",
       "      <td>1.350030</td>\n",
       "      <td>-0.315393</td>\n",
       "      <td>-0.976455</td>\n",
       "      <td>-0.142835</td>\n",
       "      <td>0.195763</td>\n",
       "      <td>2.347682</td>\n",
       "      <td>...</td>\n",
       "      <td>6.137487</td>\n",
       "      <td>-6.130633</td>\n",
       "      <td>-2.527758</td>\n",
       "      <td>-1.492658</td>\n",
       "      <td>-2.970686</td>\n",
       "      <td>1.371391</td>\n",
       "      <td>0.624259</td>\n",
       "      <td>6.785526</td>\n",
       "      <td>4.020866</td>\n",
       "      <td>0</td>\n",
       "    </tr>\n",
       "    <tr>\n",
       "      <th>2</th>\n",
       "      <td>1.464693</td>\n",
       "      <td>2.133696</td>\n",
       "      <td>0.297278</td>\n",
       "      <td>0.965885</td>\n",
       "      <td>1.295629</td>\n",
       "      <td>-1.763362</td>\n",
       "      <td>-2.298384</td>\n",
       "      <td>-0.262742</td>\n",
       "      <td>2.247479</td>\n",
       "      <td>1.352898</td>\n",
       "      <td>...</td>\n",
       "      <td>1.174659</td>\n",
       "      <td>2.371411</td>\n",
       "      <td>-1.062720</td>\n",
       "      <td>-7.890429</td>\n",
       "      <td>1.641481</td>\n",
       "      <td>3.431002</td>\n",
       "      <td>4.541310</td>\n",
       "      <td>-4.137976</td>\n",
       "      <td>-2.710490</td>\n",
       "      <td>0</td>\n",
       "    </tr>\n",
       "  </tbody>\n",
       "</table>\n",
       "<p>3 rows × 1537 columns</p>\n",
       "</div>"
      ],
      "text/plain": [
       "          0         1         2         3         4         5         6  \\\n",
       "0 -4.443730 -1.983228  1.775634 -0.969847 -0.628211 -0.883600  0.346246   \n",
       "1 -2.103292 -0.078532  3.644679 -0.117950  1.350030 -0.315393 -0.976455   \n",
       "2  1.464693  2.133696  0.297278  0.965885  1.295629 -1.763362 -2.298384   \n",
       "\n",
       "          7         8         9  ...      1527      1528      1529      1530  \\\n",
       "0 -1.110690 -1.480357  1.032114  ... -3.684886 -0.070223 -3.682222  0.516357   \n",
       "1 -0.142835  0.195763  2.347682  ...  6.137487 -6.130633 -2.527758 -1.492658   \n",
       "2 -0.262742  2.247479  1.352898  ...  1.174659  2.371411 -1.062720 -7.890429   \n",
       "\n",
       "       1531      1532      1533      1534      1535  target  \n",
       "0  0.660955  1.670559  1.786071 -0.645031 -5.189120       0  \n",
       "1 -2.970686  1.371391  0.624259  6.785526  4.020866       0  \n",
       "2  1.641481  3.431002  4.541310 -4.137976 -2.710490       0  \n",
       "\n",
       "[3 rows x 1537 columns]"
      ]
     },
     "execution_count": 67,
     "metadata": {},
     "output_type": "execute_result"
    }
   ],
   "source": [
    "org_data_df.head(3)"
   ]
  },
  {
   "cell_type": "code",
   "execution_count": null,
   "id": "c8a2e2ed-fb89-40f1-9b95-982164ba0109",
   "metadata": {
    "id": "c8a2e2ed-fb89-40f1-9b95-982164ba0109",
    "outputId": "5f290be0-4b6a-4aa8-d98d-f540273bcf38"
   },
   "outputs": [
    {
     "data": {
      "text/plain": [
       "(555, 1537)"
      ]
     },
     "execution_count": 70,
     "metadata": {},
     "output_type": "execute_result"
    }
   ],
   "source": [
    "data = pd.concat([org_data_df, adv_data_df])\n",
    "data.shape"
   ]
  },
  {
   "cell_type": "code",
   "execution_count": null,
   "id": "31d5111c-bfae-4dfc-a495-0a5141d1d97b",
   "metadata": {
    "id": "31d5111c-bfae-4dfc-a495-0a5141d1d97b"
   },
   "outputs": [],
   "source": [
    "from sklearn.model_selection import train_test_split\n",
    "train, test = train_test_split(data, test_size=0.3)"
   ]
  },
  {
   "cell_type": "code",
   "execution_count": null,
   "id": "6e7b21ab-d759-47e2-9891-55a0197482de",
   "metadata": {
    "id": "6e7b21ab-d759-47e2-9891-55a0197482de",
    "outputId": "89a48185-83e3-4b82-8ce4-04b3a8373433"
   },
   "outputs": [
    {
     "data": {
      "text/html": [
       "<div>\n",
       "<style scoped>\n",
       "    .dataframe tbody tr th:only-of-type {\n",
       "        vertical-align: middle;\n",
       "    }\n",
       "\n",
       "    .dataframe tbody tr th {\n",
       "        vertical-align: top;\n",
       "    }\n",
       "\n",
       "    .dataframe thead th {\n",
       "        text-align: right;\n",
       "    }\n",
       "</style>\n",
       "<table border=\"1\" class=\"dataframe\">\n",
       "  <thead>\n",
       "    <tr style=\"text-align: right;\">\n",
       "      <th></th>\n",
       "      <th>0</th>\n",
       "      <th>1</th>\n",
       "      <th>2</th>\n",
       "      <th>3</th>\n",
       "      <th>4</th>\n",
       "      <th>5</th>\n",
       "      <th>6</th>\n",
       "      <th>7</th>\n",
       "      <th>8</th>\n",
       "      <th>9</th>\n",
       "      <th>...</th>\n",
       "      <th>1527</th>\n",
       "      <th>1528</th>\n",
       "      <th>1529</th>\n",
       "      <th>1530</th>\n",
       "      <th>1531</th>\n",
       "      <th>1532</th>\n",
       "      <th>1533</th>\n",
       "      <th>1534</th>\n",
       "      <th>1535</th>\n",
       "      <th>target</th>\n",
       "    </tr>\n",
       "  </thead>\n",
       "  <tbody>\n",
       "    <tr>\n",
       "      <th>185</th>\n",
       "      <td>1.273176</td>\n",
       "      <td>0.128338</td>\n",
       "      <td>0.856010</td>\n",
       "      <td>5.027805</td>\n",
       "      <td>0.004976</td>\n",
       "      <td>-1.149979</td>\n",
       "      <td>0.606810</td>\n",
       "      <td>-0.394169</td>\n",
       "      <td>0.961845</td>\n",
       "      <td>1.119682</td>\n",
       "      <td>...</td>\n",
       "      <td>-0.976023</td>\n",
       "      <td>1.577306</td>\n",
       "      <td>-2.998958</td>\n",
       "      <td>-0.284316</td>\n",
       "      <td>6.886778</td>\n",
       "      <td>1.255800</td>\n",
       "      <td>-0.043122</td>\n",
       "      <td>3.206200</td>\n",
       "      <td>-4.859666</td>\n",
       "      <td>0</td>\n",
       "    </tr>\n",
       "    <tr>\n",
       "      <th>61</th>\n",
       "      <td>-3.335111</td>\n",
       "      <td>-0.380675</td>\n",
       "      <td>0.061883</td>\n",
       "      <td>0.255133</td>\n",
       "      <td>0.003526</td>\n",
       "      <td>-0.047229</td>\n",
       "      <td>-1.035961</td>\n",
       "      <td>-0.147918</td>\n",
       "      <td>-1.620440</td>\n",
       "      <td>-1.915376</td>\n",
       "      <td>...</td>\n",
       "      <td>1.697186</td>\n",
       "      <td>4.313850</td>\n",
       "      <td>-4.441945</td>\n",
       "      <td>-0.160180</td>\n",
       "      <td>2.591147</td>\n",
       "      <td>3.232965</td>\n",
       "      <td>-0.882461</td>\n",
       "      <td>-4.944693</td>\n",
       "      <td>-2.482625</td>\n",
       "      <td>0</td>\n",
       "    </tr>\n",
       "    <tr>\n",
       "      <th>125</th>\n",
       "      <td>-4.224346</td>\n",
       "      <td>0.032413</td>\n",
       "      <td>1.458087</td>\n",
       "      <td>1.504792</td>\n",
       "      <td>-0.739043</td>\n",
       "      <td>-1.412148</td>\n",
       "      <td>-0.426359</td>\n",
       "      <td>0.952828</td>\n",
       "      <td>0.269689</td>\n",
       "      <td>-1.651418</td>\n",
       "      <td>...</td>\n",
       "      <td>3.545424</td>\n",
       "      <td>5.841618</td>\n",
       "      <td>-5.915909</td>\n",
       "      <td>3.786183</td>\n",
       "      <td>2.452273</td>\n",
       "      <td>4.080591</td>\n",
       "      <td>-0.014846</td>\n",
       "      <td>-5.053046</td>\n",
       "      <td>-3.731267</td>\n",
       "      <td>1</td>\n",
       "    </tr>\n",
       "    <tr>\n",
       "      <th>146</th>\n",
       "      <td>-2.222119</td>\n",
       "      <td>-1.366386</td>\n",
       "      <td>0.933432</td>\n",
       "      <td>1.631109</td>\n",
       "      <td>0.434984</td>\n",
       "      <td>-1.088873</td>\n",
       "      <td>-0.403271</td>\n",
       "      <td>0.186893</td>\n",
       "      <td>-2.116196</td>\n",
       "      <td>-0.421047</td>\n",
       "      <td>...</td>\n",
       "      <td>-5.103269</td>\n",
       "      <td>5.028584</td>\n",
       "      <td>-4.025279</td>\n",
       "      <td>-0.135963</td>\n",
       "      <td>4.709066</td>\n",
       "      <td>-2.214010</td>\n",
       "      <td>-1.356852</td>\n",
       "      <td>3.690621</td>\n",
       "      <td>5.493515</td>\n",
       "      <td>1</td>\n",
       "    </tr>\n",
       "    <tr>\n",
       "      <th>172</th>\n",
       "      <td>-0.236359</td>\n",
       "      <td>-0.022697</td>\n",
       "      <td>0.097689</td>\n",
       "      <td>-3.042265</td>\n",
       "      <td>-0.886717</td>\n",
       "      <td>-0.270007</td>\n",
       "      <td>1.299148</td>\n",
       "      <td>-2.246553</td>\n",
       "      <td>-1.467036</td>\n",
       "      <td>-0.000446</td>\n",
       "      <td>...</td>\n",
       "      <td>-3.192858</td>\n",
       "      <td>-1.373758</td>\n",
       "      <td>-5.352683</td>\n",
       "      <td>-1.284639</td>\n",
       "      <td>0.198801</td>\n",
       "      <td>-3.473937</td>\n",
       "      <td>2.068084</td>\n",
       "      <td>-2.944398</td>\n",
       "      <td>2.142596</td>\n",
       "      <td>1</td>\n",
       "    </tr>\n",
       "    <tr>\n",
       "      <th>...</th>\n",
       "      <td>...</td>\n",
       "      <td>...</td>\n",
       "      <td>...</td>\n",
       "      <td>...</td>\n",
       "      <td>...</td>\n",
       "      <td>...</td>\n",
       "      <td>...</td>\n",
       "      <td>...</td>\n",
       "      <td>...</td>\n",
       "      <td>...</td>\n",
       "      <td>...</td>\n",
       "      <td>...</td>\n",
       "      <td>...</td>\n",
       "      <td>...</td>\n",
       "      <td>...</td>\n",
       "      <td>...</td>\n",
       "      <td>...</td>\n",
       "      <td>...</td>\n",
       "      <td>...</td>\n",
       "      <td>...</td>\n",
       "      <td>...</td>\n",
       "    </tr>\n",
       "    <tr>\n",
       "      <th>10</th>\n",
       "      <td>0.275501</td>\n",
       "      <td>1.035690</td>\n",
       "      <td>1.624897</td>\n",
       "      <td>0.166092</td>\n",
       "      <td>-0.014164</td>\n",
       "      <td>-0.744959</td>\n",
       "      <td>0.326784</td>\n",
       "      <td>-0.278091</td>\n",
       "      <td>-0.582315</td>\n",
       "      <td>0.239541</td>\n",
       "      <td>...</td>\n",
       "      <td>0.006588</td>\n",
       "      <td>-3.695614</td>\n",
       "      <td>-5.753434</td>\n",
       "      <td>-0.510481</td>\n",
       "      <td>5.326731</td>\n",
       "      <td>-0.714983</td>\n",
       "      <td>4.476257</td>\n",
       "      <td>-2.258754</td>\n",
       "      <td>3.409911</td>\n",
       "      <td>0</td>\n",
       "    </tr>\n",
       "    <tr>\n",
       "      <th>68</th>\n",
       "      <td>-4.027798</td>\n",
       "      <td>-0.459433</td>\n",
       "      <td>0.449201</td>\n",
       "      <td>1.460362</td>\n",
       "      <td>1.693533</td>\n",
       "      <td>-0.526300</td>\n",
       "      <td>-0.220770</td>\n",
       "      <td>-3.119596</td>\n",
       "      <td>-1.355093</td>\n",
       "      <td>0.371345</td>\n",
       "      <td>...</td>\n",
       "      <td>1.052677</td>\n",
       "      <td>-1.485413</td>\n",
       "      <td>-3.858641</td>\n",
       "      <td>-0.381075</td>\n",
       "      <td>0.653798</td>\n",
       "      <td>-5.311978</td>\n",
       "      <td>3.968304</td>\n",
       "      <td>0.062128</td>\n",
       "      <td>5.579256</td>\n",
       "      <td>0</td>\n",
       "    </tr>\n",
       "    <tr>\n",
       "      <th>10</th>\n",
       "      <td>-1.639204</td>\n",
       "      <td>-0.074866</td>\n",
       "      <td>0.683072</td>\n",
       "      <td>-0.433916</td>\n",
       "      <td>0.414590</td>\n",
       "      <td>-0.438611</td>\n",
       "      <td>0.413173</td>\n",
       "      <td>0.315742</td>\n",
       "      <td>-0.491801</td>\n",
       "      <td>0.192002</td>\n",
       "      <td>...</td>\n",
       "      <td>1.761547</td>\n",
       "      <td>-1.366699</td>\n",
       "      <td>-4.906579</td>\n",
       "      <td>-0.920463</td>\n",
       "      <td>1.440296</td>\n",
       "      <td>-2.707350</td>\n",
       "      <td>3.382739</td>\n",
       "      <td>-3.669101</td>\n",
       "      <td>0.585613</td>\n",
       "      <td>1</td>\n",
       "    </tr>\n",
       "    <tr>\n",
       "      <th>19</th>\n",
       "      <td>-2.130597</td>\n",
       "      <td>0.164450</td>\n",
       "      <td>-1.247337</td>\n",
       "      <td>0.302727</td>\n",
       "      <td>0.714773</td>\n",
       "      <td>-0.248148</td>\n",
       "      <td>0.195578</td>\n",
       "      <td>-0.561176</td>\n",
       "      <td>-2.721044</td>\n",
       "      <td>-0.006302</td>\n",
       "      <td>...</td>\n",
       "      <td>-4.243730</td>\n",
       "      <td>-2.908430</td>\n",
       "      <td>-7.217159</td>\n",
       "      <td>4.719939</td>\n",
       "      <td>-4.546128</td>\n",
       "      <td>1.274457</td>\n",
       "      <td>2.032944</td>\n",
       "      <td>-3.278334</td>\n",
       "      <td>3.827728</td>\n",
       "      <td>1</td>\n",
       "    </tr>\n",
       "    <tr>\n",
       "      <th>94</th>\n",
       "      <td>-0.347295</td>\n",
       "      <td>-0.061543</td>\n",
       "      <td>-2.078395</td>\n",
       "      <td>-0.970128</td>\n",
       "      <td>-4.786514</td>\n",
       "      <td>-2.952102</td>\n",
       "      <td>-4.455570</td>\n",
       "      <td>0.816193</td>\n",
       "      <td>0.302727</td>\n",
       "      <td>-3.083830</td>\n",
       "      <td>...</td>\n",
       "      <td>-1.879218</td>\n",
       "      <td>6.152213</td>\n",
       "      <td>-2.918219</td>\n",
       "      <td>5.401683</td>\n",
       "      <td>0.883601</td>\n",
       "      <td>-4.038890</td>\n",
       "      <td>-1.902209</td>\n",
       "      <td>-2.488022</td>\n",
       "      <td>0.829799</td>\n",
       "      <td>0</td>\n",
       "    </tr>\n",
       "  </tbody>\n",
       "</table>\n",
       "<p>388 rows × 1537 columns</p>\n",
       "</div>"
      ],
      "text/plain": [
       "            0         1         2         3         4         5         6  \\\n",
       "185  1.273176  0.128338  0.856010  5.027805  0.004976 -1.149979  0.606810   \n",
       "61  -3.335111 -0.380675  0.061883  0.255133  0.003526 -0.047229 -1.035961   \n",
       "125 -4.224346  0.032413  1.458087  1.504792 -0.739043 -1.412148 -0.426359   \n",
       "146 -2.222119 -1.366386  0.933432  1.631109  0.434984 -1.088873 -0.403271   \n",
       "172 -0.236359 -0.022697  0.097689 -3.042265 -0.886717 -0.270007  1.299148   \n",
       "..        ...       ...       ...       ...       ...       ...       ...   \n",
       "10   0.275501  1.035690  1.624897  0.166092 -0.014164 -0.744959  0.326784   \n",
       "68  -4.027798 -0.459433  0.449201  1.460362  1.693533 -0.526300 -0.220770   \n",
       "10  -1.639204 -0.074866  0.683072 -0.433916  0.414590 -0.438611  0.413173   \n",
       "19  -2.130597  0.164450 -1.247337  0.302727  0.714773 -0.248148  0.195578   \n",
       "94  -0.347295 -0.061543 -2.078395 -0.970128 -4.786514 -2.952102 -4.455570   \n",
       "\n",
       "            7         8         9  ...      1527      1528      1529  \\\n",
       "185 -0.394169  0.961845  1.119682  ... -0.976023  1.577306 -2.998958   \n",
       "61  -0.147918 -1.620440 -1.915376  ...  1.697186  4.313850 -4.441945   \n",
       "125  0.952828  0.269689 -1.651418  ...  3.545424  5.841618 -5.915909   \n",
       "146  0.186893 -2.116196 -0.421047  ... -5.103269  5.028584 -4.025279   \n",
       "172 -2.246553 -1.467036 -0.000446  ... -3.192858 -1.373758 -5.352683   \n",
       "..        ...       ...       ...  ...       ...       ...       ...   \n",
       "10  -0.278091 -0.582315  0.239541  ...  0.006588 -3.695614 -5.753434   \n",
       "68  -3.119596 -1.355093  0.371345  ...  1.052677 -1.485413 -3.858641   \n",
       "10   0.315742 -0.491801  0.192002  ...  1.761547 -1.366699 -4.906579   \n",
       "19  -0.561176 -2.721044 -0.006302  ... -4.243730 -2.908430 -7.217159   \n",
       "94   0.816193  0.302727 -3.083830  ... -1.879218  6.152213 -2.918219   \n",
       "\n",
       "         1530      1531      1532      1533      1534      1535  target  \n",
       "185 -0.284316  6.886778  1.255800 -0.043122  3.206200 -4.859666       0  \n",
       "61  -0.160180  2.591147  3.232965 -0.882461 -4.944693 -2.482625       0  \n",
       "125  3.786183  2.452273  4.080591 -0.014846 -5.053046 -3.731267       1  \n",
       "146 -0.135963  4.709066 -2.214010 -1.356852  3.690621  5.493515       1  \n",
       "172 -1.284639  0.198801 -3.473937  2.068084 -2.944398  2.142596       1  \n",
       "..        ...       ...       ...       ...       ...       ...     ...  \n",
       "10  -0.510481  5.326731 -0.714983  4.476257 -2.258754  3.409911       0  \n",
       "68  -0.381075  0.653798 -5.311978  3.968304  0.062128  5.579256       0  \n",
       "10  -0.920463  1.440296 -2.707350  3.382739 -3.669101  0.585613       1  \n",
       "19   4.719939 -4.546128  1.274457  2.032944 -3.278334  3.827728       1  \n",
       "94   5.401683  0.883601 -4.038890 -1.902209 -2.488022  0.829799       0  \n",
       "\n",
       "[388 rows x 1537 columns]"
      ]
     },
     "execution_count": 84,
     "metadata": {},
     "output_type": "execute_result"
    }
   ],
   "source": [
    "train"
   ]
  },
  {
   "cell_type": "code",
   "execution_count": null,
   "id": "307ecd4d-4a32-4a0c-92c3-9a4b42b54077",
   "metadata": {
    "id": "307ecd4d-4a32-4a0c-92c3-9a4b42b54077",
    "outputId": "7c8da279-d917-493e-be90-5d38541271b7"
   },
   "outputs": [
    {
     "data": {
      "text/plain": [
       "array([0, 0, 1, 1, 1, 0, 1, 0, 1, 0, 0, 1, 1, 0, 1, 0, 1, 0, 0, 1, 1, 1,\n",
       "       0, 1, 1, 0, 0, 0, 0, 1, 0, 0, 1, 1, 0, 1, 1, 1, 0, 0, 0, 0, 1, 1,\n",
       "       0, 0, 1, 1, 0, 0, 1, 1, 1, 1, 0, 1, 0, 0, 0, 1, 1, 0, 0, 0, 0, 1,\n",
       "       0, 0, 1, 0, 1, 1, 0, 0, 0, 1, 0, 0, 1, 0, 1, 1, 1, 1, 1, 1, 1, 0,\n",
       "       0, 0, 1, 0, 1, 0, 0, 0, 0, 0, 0, 1, 1, 0, 1, 1, 0, 0, 0, 0, 1, 1,\n",
       "       0, 1, 1, 1, 1, 1, 1, 1, 0, 1, 1, 1, 0, 1, 1, 0, 0, 0, 1, 0, 1, 1,\n",
       "       0, 0, 1, 1, 1, 0, 0, 0, 0, 0, 0, 0, 0, 1, 1, 0, 1, 0, 0, 1, 1, 1,\n",
       "       0, 1, 1, 0, 0, 1, 1, 0, 0, 0, 1, 0, 1, 1, 1, 1, 0, 0, 1, 1, 0, 0,\n",
       "       1, 0, 0, 1, 0, 0, 0, 0, 1, 0, 0, 1, 1, 1, 0, 1, 1, 1, 0, 1, 1, 1,\n",
       "       1, 0, 0, 1, 0, 1, 0, 0, 0, 0, 0, 1, 0, 1, 0, 0, 0, 1, 0, 1, 0, 0,\n",
       "       0, 0, 1, 0, 1, 0, 1, 0, 1, 0, 1, 0, 1, 1, 0, 0, 1, 1, 0, 0, 1, 0,\n",
       "       0, 0, 0, 0, 1, 0, 1, 0, 1, 1, 0, 1, 1, 0, 1, 1, 0, 1, 0, 1, 0, 1,\n",
       "       0, 1, 0, 1, 0, 1, 0, 1, 1, 0, 0, 0, 0, 0, 0, 1, 0, 1, 0, 0, 1, 0,\n",
       "       1, 1, 1, 1, 0, 0, 1, 0, 1, 1, 1, 0, 1, 0, 0, 1, 1, 1, 0, 1, 1, 0,\n",
       "       0, 1, 1, 0, 1, 1, 0, 1, 1, 0, 0, 0, 0, 1, 0, 0, 1, 0, 0, 1, 0, 0,\n",
       "       1, 0, 0, 1, 1, 1, 0, 0, 1, 1, 1, 1, 1, 1, 1, 0, 0, 0, 1, 1, 0, 0,\n",
       "       1, 1, 1, 0, 0, 1, 1, 1, 1, 1, 1, 1, 0, 0, 1, 0, 0, 0, 1, 1, 1, 0,\n",
       "       0, 0, 1, 1, 1, 1, 0, 0, 0, 0, 0, 1, 1, 0])"
      ]
     },
     "execution_count": 85,
     "metadata": {},
     "output_type": "execute_result"
    }
   ],
   "source": [
    "train['target'].values"
   ]
  },
  {
   "cell_type": "code",
   "execution_count": null,
   "id": "7d2f8bc9-f5b6-43db-a3a9-35eedcdf347f",
   "metadata": {
    "id": "7d2f8bc9-f5b6-43db-a3a9-35eedcdf347f"
   },
   "outputs": [],
   "source": [
    "from torch.utils.data import Dataset, DataLoader, TensorDataset\n",
    "\n",
    "train_target = torch.tensor(train['target'].values.flatten()).float()\n",
    "train_data = torch.tensor(train.drop(columns=['target']).values) \n",
    "train_tensor = TensorDataset(train_data, train_target) \n",
    "train_loader = DataLoader(dataset = train_tensor, batch_size = 8, shuffle = True)"
   ]
  },
  {
   "cell_type": "code",
   "execution_count": null,
   "id": "059872c3-2e65-4982-9627-943a247924a6",
   "metadata": {
    "id": "059872c3-2e65-4982-9627-943a247924a6"
   },
   "outputs": [],
   "source": [
    "test_target = torch.tensor(test['target'].values.flatten()).float()\n",
    "test_data = torch.tensor(test.drop(columns=['target']).values) \n",
    "test_tensor = TensorDataset(test_data, test_target) \n",
    "test_loader = DataLoader(dataset = test_tensor, batch_size = 8, shuffle = True)"
   ]
  },
  {
   "cell_type": "code",
   "execution_count": null,
   "id": "9f0abbfa-9559-48f7-8529-fb4da0deda61",
   "metadata": {
    "id": "9f0abbfa-9559-48f7-8529-fb4da0deda61",
    "outputId": "6db92ed2-01e9-45bc-f5b1-7a15636a16ab"
   },
   "outputs": [
    {
     "name": "stdout",
     "output_type": "stream",
     "text": [
      "tensor([[ 2.7434, -0.6738,  3.3175,  ..., -1.0318, -1.8172,  1.3734],\n",
      "        [-2.7580,  0.1491,  0.5382,  ...,  1.7862, -2.5029,  0.4886],\n",
      "        [-3.7594, -1.2402,  0.4604,  ...,  1.3356, -3.9356,  2.6007],\n",
      "        ...,\n",
      "        [ 0.0966, -0.0332, -0.1303,  ...,  2.7631, -8.0143,  0.2929],\n",
      "        [-0.3452, -3.8300,  3.5155,  ...,  4.0115, -2.7983, -0.9762],\n",
      "        [-0.2364, -0.0227,  0.0977,  ...,  2.0681, -2.9444,  2.1426]])\n"
     ]
    }
   ],
   "source": [
    "for i, t in train_loader:\n",
    "    print(i)\n",
    "    break"
   ]
  },
  {
   "cell_type": "code",
   "execution_count": null,
   "id": "d933864f-ee40-48e1-b28c-9b5f37b6bed6",
   "metadata": {
    "id": "d933864f-ee40-48e1-b28c-9b5f37b6bed6"
   },
   "outputs": [],
   "source": [
    "# Simple Binary Classifier Network\n",
    "class SimpleBC(nn.Module):\n",
    "    def __init__(self,input_shape):\n",
    "        super(SimpleBC,self).__init__()\n",
    "        self.fc1 = nn.Linear(input_shape,64)\n",
    "        self.fc2 = nn.Linear(64,32)\n",
    "        self.fc3 = nn.Linear(32,1)\n",
    "\n",
    "    def forward(self,x):\n",
    "        x = torch.relu(self.fc1(x))\n",
    "        x = torch.relu(self.fc2(x))\n",
    "        x = torch.sigmoid(self.fc3(x))\n",
    "        return x"
   ]
  },
  {
   "cell_type": "code",
   "execution_count": null,
   "id": "4e78e80b-0367-4f2a-9c80-f303f461aad7",
   "metadata": {
    "id": "4e78e80b-0367-4f2a-9c80-f303f461aad7",
    "outputId": "75f2be95-c3ad-47a4-cc2f-dd29b2387750"
   },
   "outputs": [
    {
     "name": "stderr",
     "output_type": "stream",
     "text": [
      "Ep: 9\t Tr. Loss: 0.0002\t Tr. Acc: 1.0000\t T. Loss: 1.7565\t T. Acc: 1.0000: 100%|██████████| 10/10 [00:01<00:00,  8.31it/s]"
     ]
    },
    {
     "name": "stdout",
     "output_type": "stream",
     "text": [
      "Finished Training\n"
     ]
    },
    {
     "name": "stderr",
     "output_type": "stream",
     "text": [
      "\n"
     ]
    }
   ],
   "source": [
    "from tqdm import tqdm\n",
    "\n",
    "# Hyperparameters\n",
    "EPOCHS = 10\n",
    "\n",
    "# Initialise network\n",
    "net = SimpleBC(1536)\n",
    "\n",
    "# Select device\n",
    "use_cuda = torch.cuda.is_available()\n",
    "device = torch.device(\"cuda\" if use_cuda else \"cpu\")\n",
    "net.to(device)\n",
    "\n",
    "# Set model to train\n",
    "net.train()\n",
    "\n",
    "# define loss, optimizer, and scheduler\n",
    "criterion = nn.BCELoss()\n",
    "# optimizer = optim.Adam(net.parameters(), lr=0.001)\n",
    "optimizer = optim.Adagrad(net.parameters(), lr=0.01, lr_decay=1e-08, weight_decay=0)\n",
    "# scheduler = MultiStepLR(optimizer, milestones=[30,80], gamma=0.1)\n",
    "\n",
    "losses = []\n",
    "accur = []\n",
    "\n",
    "# Train network\n",
    "pbar = tqdm(range(EPOCHS))\n",
    "for epoch in pbar:  # loop over the dataset multiple times\n",
    "\n",
    "    # Metrics\n",
    "    train_running_loss = 0.0\n",
    "    train_running_loss_mean = 0.0\n",
    "    train_acc = 0.0\n",
    "    train_acc_mean = 0.0\n",
    "    test_running_loss = 0.0\n",
    "    test_acc = 0.0\n",
    "\n",
    "    for i, (inputs, labels) in enumerate(train_loader, start=0):\n",
    "        inputs = inputs.to(device)\n",
    "        labels = labels.to(device).float()\n",
    "\n",
    "        # Forward Pass\n",
    "        outputs = net(inputs).float()\n",
    "        outputs = outputs.reshape(-1)\n",
    "\n",
    "        # Backpropagation\n",
    "        optimizer.zero_grad() # Reset the gradient\n",
    "        loss = criterion(outputs, labels)\n",
    "        loss.backward()\n",
    "        optimizer.step()\n",
    "\n",
    "        # loss train\n",
    "        train_running_loss += loss.item()\n",
    "        train_running_loss_mean = train_running_loss / (i+1)\n",
    "\n",
    "        # accuracy train\n",
    "        predicted = net(inputs).reshape(-1).detach().cpu().numpy().round()\n",
    "        acc_labels = labels\n",
    "        acc_labels = acc_labels.detach().cpu().numpy()\n",
    "        inter = np.equal(predicted, acc_labels)\n",
    "        train_acc += inter.mean()\n",
    "        train_acc_mean = train_acc / (i+1)\n",
    "    \n",
    "    with torch.set_grad_enabled(False):\n",
    "        for inputs, labels in test_loader:\n",
    "            try:\n",
    "                # get the inputs; data is a list of [inputs, labels] and write to device\n",
    "                inputs = inputs.to(device)\n",
    "                labels = labels.to(device).float()\n",
    "\n",
    "                # Forward Pass\n",
    "                outputs = net(inputs).float()\n",
    "                outputs = outputs.reshape(-1)\n",
    "\n",
    "                # loss test\n",
    "                loss = criterion(outputs, labels)\n",
    "                test_running_loss += loss.item()\n",
    "\n",
    "                # accuracy test\n",
    "                outputs = outputs.detach().cpu().numpy().round()\n",
    "                comparison = np.equal(labels.detach().cpu().numpy(), outputs)\n",
    "                test_acc = comparison.mean()\n",
    "\n",
    "            except Exception as e:\n",
    "                print(\"Error: {}\".format(e))\n",
    "                pass\n",
    "\n",
    "    losses.append(train_running_loss_mean)\n",
    "    accur.append(train_acc_mean)\n",
    "    pbar.set_description(\"Ep: {}\\t Tr. Loss: {:.4f}\\t Tr. Acc: {:.4f}\\t T. Loss: {:.4f}\\t T. Acc: {:.4f}\".format(epoch, \n",
    "                                                                            train_running_loss_mean, \n",
    "                                                                            train_acc_mean, \n",
    "                                                                            test_running_loss, \n",
    "                                                                            test_acc))\n",
    "\n",
    "print('Finished Training')"
   ]
  },
  {
   "cell_type": "code",
   "execution_count": null,
   "id": "29f3c6b6-80df-466a-8ec8-d8cd1cfc8041",
   "metadata": {
    "id": "29f3c6b6-80df-466a-8ec8-d8cd1cfc8041",
    "outputId": "0dcb4b13-fed4-4b35-f9b8-4b35db245d29"
   },
   "outputs": [
    {
     "data": {
      "text/plain": [
       "[0.18091017289600353,\n",
       " 0.00503055152423295,\n",
       " 0.022716290308640703,\n",
       " 0.001703856683220971,\n",
       " 0.0005561071259447145,\n",
       " 0.00042190250396557455,\n",
       " 0.00034765338197609465,\n",
       " 0.0002921576867210002,\n",
       " 0.0002480224234111992,\n",
       " 0.0002142114412333972]"
      ]
     },
     "execution_count": 111,
     "metadata": {},
     "output_type": "execute_result"
    }
   ],
   "source": [
    "losses"
   ]
  },
  {
   "cell_type": "code",
   "execution_count": null,
   "id": "b6eb2829-b08c-4f95-ab95-cb4b68ea72ca",
   "metadata": {
    "id": "b6eb2829-b08c-4f95-ab95-cb4b68ea72ca",
    "outputId": "e18c30e3-8639-42b7-c5ed-e83fb980610a"
   },
   "outputs": [
    {
     "data": {
      "text/plain": [
       "[0.9872448979591837, 1.0, 1.0, 1.0, 1.0, 1.0, 1.0, 1.0, 1.0, 1.0]"
      ]
     },
     "execution_count": 112,
     "metadata": {},
     "output_type": "execute_result"
    }
   ],
   "source": [
    "accur"
   ]
  },
  {
   "cell_type": "code",
   "execution_count": null,
   "id": "31684da7-d7d2-471e-88a8-dd9ead05bb54",
   "metadata": {
    "id": "31684da7-d7d2-471e-88a8-dd9ead05bb54",
    "outputId": "cc398811-3bb4-4929-ae5d-4172fafe79e1"
   },
   "outputs": [
    {
     "data": {
      "text/plain": [
       "tensor([[ 1.8633,  0.1913,  4.3046,  ..., -1.4936, -0.8046,  1.1557],\n",
       "        [-4.1269, -0.7618, -0.3790,  ..., -0.8424, -6.1853,  2.7702],\n",
       "        [-0.1989,  0.8450, -0.4997,  ...,  2.6226,  1.2345, -4.7090],\n",
       "        ...,\n",
       "        [-0.4454, -1.6838,  1.0380,  ...,  0.1693,  2.8023, -3.1618],\n",
       "        [ 0.1402, -1.1714, -2.3445,  ..., -2.9566, -0.2286, -1.6700],\n",
       "        [-2.6589,  1.3423,  2.1238,  ...,  6.3238,  4.8756, -3.2321]])"
      ]
     },
     "execution_count": 113,
     "metadata": {},
     "output_type": "execute_result"
    }
   ],
   "source": [
    "test_data"
   ]
  },
  {
   "cell_type": "code",
   "execution_count": null,
   "id": "5284df75-88cd-4326-89a8-83bbc61f8f19",
   "metadata": {
    "id": "5284df75-88cd-4326-89a8-83bbc61f8f19"
   },
   "outputs": [],
   "source": [
    "preds = net(test_data)"
   ]
  },
  {
   "cell_type": "code",
   "execution_count": null,
   "id": "3905f594-2c34-4d7c-9e7f-7a9fa7085859",
   "metadata": {
    "id": "3905f594-2c34-4d7c-9e7f-7a9fa7085859",
    "outputId": "1d14e80d-9abc-4e74-b7ce-b669fb886567"
   },
   "outputs": [
    {
     "data": {
      "text/plain": [
       "tensor([0., 1., 0., 0., 1., 0., 0., 1., 0., 0., 1., 1., 1., 0., 1., 1., 1., 0.,\n",
       "        0., 1., 1., 0., 0., 1., 1., 1., 1., 1., 0., 0., 1., 1., 1., 1., 0., 0.,\n",
       "        0., 1., 1., 1., 1., 1., 0., 1., 1., 1., 1., 1., 0., 1., 0., 1., 1., 1.,\n",
       "        1., 1., 0., 0., 1., 0., 1., 0., 1., 1., 1., 1., 0., 1., 0., 0., 0., 1.,\n",
       "        0., 0., 0., 0., 1., 1., 1., 0., 1., 1., 0., 0., 1., 1., 0., 0., 1., 1.,\n",
       "        0., 0., 0., 1., 0., 0., 1., 1., 0., 1., 1., 0., 0., 0., 0., 1., 1., 1.,\n",
       "        0., 1., 1., 1., 1., 1., 1., 0., 0., 0., 1., 1., 0., 0., 1., 0., 0., 0.,\n",
       "        0., 1., 0., 1., 1., 1., 1., 1., 0., 0., 0., 0., 1., 1., 1., 1., 0., 0.,\n",
       "        1., 0., 0., 1., 0., 1., 0., 1., 1., 0., 1., 0., 0., 0., 0., 0., 1., 1.,\n",
       "        1., 1., 1., 1., 0.])"
      ]
     },
     "execution_count": 117,
     "metadata": {},
     "output_type": "execute_result"
    }
   ],
   "source": [
    "test_target"
   ]
  },
  {
   "cell_type": "code",
   "execution_count": null,
   "id": "e45724f1-d891-4302-927a-67097e731855",
   "metadata": {
    "id": "e45724f1-d891-4302-927a-67097e731855",
    "outputId": "f16cc83d-cfbb-40a3-a28d-963a8633dbe3"
   },
   "outputs": [
    {
     "data": {
      "text/plain": [
       "tensor([0., 1., 0., 0., 1., 0., 0., 1., 0., 0., 1., 1., 1., 0., 1., 1., 1., 0.,\n",
       "        0., 1., 1., 0., 0., 1., 1., 1., 1., 1., 0., 0., 1., 1., 1., 1., 0., 0.,\n",
       "        0., 1., 1., 1., 1., 1., 0., 1., 1., 1., 1., 1., 0., 1., 0., 1., 1., 1.,\n",
       "        1., 1., 0., 0., 1., 0., 1., 0., 1., 1., 1., 1., 0., 1., 0., 0., 0., 1.,\n",
       "        0., 0., 0., 0., 1., 1., 1., 1., 1., 1., 0., 0., 1., 1., 0., 0., 1., 1.,\n",
       "        0., 0., 0., 1., 0., 0., 1., 1., 0., 1., 1., 0., 0., 0., 0., 1., 1., 1.,\n",
       "        0., 1., 1., 1., 1., 1., 1., 0., 1., 1., 1., 1., 1., 0., 1., 0., 0., 1.,\n",
       "        0., 1., 0., 1., 1., 1., 1., 1., 0., 0., 0., 0., 1., 1., 1., 1., 0., 0.,\n",
       "        1., 0., 0., 1., 0., 1., 1., 1., 1., 0., 1., 0., 0., 1., 0., 0., 1., 1.,\n",
       "        1., 1., 1., 1., 0.], grad_fn=<ViewBackward>)"
      ]
     },
     "execution_count": 118,
     "metadata": {},
     "output_type": "execute_result"
    }
   ],
   "source": [
    "preds.round().flatten()"
   ]
  },
  {
   "cell_type": "code",
   "execution_count": null,
   "id": "e7ef0a97-2522-4e79-a35a-c71008c127b0",
   "metadata": {
    "id": "e7ef0a97-2522-4e79-a35a-c71008c127b0",
    "outputId": "9bf09ce0-d14b-4ae5-c3d6-b55bfa0d15a5"
   },
   "outputs": [
    {
     "data": {
      "text/plain": [
       "tensor(0.9581)"
      ]
     },
     "execution_count": 122,
     "metadata": {},
     "output_type": "execute_result"
    }
   ],
   "source": [
    "torch.eq(preds.round().flatten(), test_target).sum()/len(test_target)"
   ]
  },
  {
   "cell_type": "code",
   "execution_count": null,
   "id": "aa4be65f-e16c-43f4-bc10-38eeef39692e",
   "metadata": {
    "id": "aa4be65f-e16c-43f4-bc10-38eeef39692e"
   },
   "outputs": [],
   "source": []
  }
 ],
 "metadata": {
  "colab": {
   "collapsed_sections": [],
   "name": "ViT_Output_Exploration.ipynb",
   "provenance": []
  },
  "kernelspec": {
   "display_name": "Python 3",
   "language": "python",
   "name": "python3"
  },
  "language_info": {
   "codemirror_mode": {
    "name": "ipython",
    "version": 3
   },
   "file_extension": ".py",
   "mimetype": "text/x-python",
   "name": "python",
   "nbconvert_exporter": "python",
   "pygments_lexer": "ipython3",
   "version": "3.8.5"
  }
 },
 "nbformat": 4,
 "nbformat_minor": 5
}
