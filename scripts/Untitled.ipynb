{
 "cells": [
  {
   "cell_type": "code",
   "execution_count": 1,
   "metadata": {},
   "outputs": [
    {
     "name": "stdout",
     "output_type": "stream",
     "text": [
      "Please use the `--pretrained_weights` argument to indicate the path of the checkpoint to evaluate.\n",
      "Since no pretrained weights have been provided, we load the reference pretrained DINO weights.\n",
      "Model vit_small built.\n",
      "Embed dim 1536\n",
      "We load the reference pretrained linear weights.\n",
      "----------------------------------------------------------------------\n",
      "CW(model_name=ViTWrapper, device=cuda:0, c=50, kappa=0, steps=30, lr=0.0031, attack_mode=default, return_type=float)\n",
      "train set\n",
      "100%|█████████████████████████████████████████| 503/503 [47:33<00:00,  5.67s/it]\n",
      "Total elapsed time (sec): 2853.71\n",
      "Accuracy against attack: 0.11 %\n",
      "Validation set\n",
      "100%|███████████████████████████████████████████| 20/20 [01:52<00:00,  5.64s/it]\n",
      "Total elapsed time (sec): 112.82\n",
      "Accuracy against attack: 0.08 %\n"
     ]
    }
   ],
   "source": [
    "!python adversarialDatasetGeneration.py"
   ]
  },
  {
   "cell_type": "code",
   "execution_count": null,
   "metadata": {},
   "outputs": [],
   "source": []
  }
 ],
 "metadata": {
  "kernelspec": {
   "display_name": "Python 3",
   "language": "python",
   "name": "python3"
  },
  "language_info": {
   "codemirror_mode": {
    "name": "ipython",
    "version": 3
   },
   "file_extension": ".py",
   "mimetype": "text/x-python",
   "name": "python",
   "nbconvert_exporter": "python",
   "pygments_lexer": "ipython3",
   "version": "3.8.5"
  }
 },
 "nbformat": 4,
 "nbformat_minor": 4
}
